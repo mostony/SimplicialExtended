{
 "cells": [
  {
   "cell_type": "code",
   "execution_count": 1,
   "metadata": {},
   "outputs": [],
   "source": [
    "import sys\n",
    "sys.path.append('../../build')"
   ]
  },
  {
   "cell_type": "code",
   "execution_count": 2,
   "metadata": {},
   "outputs": [],
   "source": [
    "import simpl"
   ]
  },
  {
   "cell_type": "code",
   "execution_count": 3,
   "metadata": {},
   "outputs": [],
   "source": [
    "# read hyperedges\n",
    "# dataset from https://www.cs.cornell.edu/~arb/data/contact-high-school-labeled/\n",
    "edges = []\n",
    "with open(\"./hyperedges-contact-high-school.txt\", 'r') as file:\n",
    "    for line in file:\n",
    "        edge = list(map(int, line[:-1].split(',')))\n",
    "        edge.sort()\n",
    "        edges.append(edge)"
   ]
  },
  {
   "cell_type": "code",
   "execution_count": 4,
   "metadata": {},
   "outputs": [
    {
     "data": {
      "text/plain": [
       "[[205, 258, 292],\n",
       " [3, 7, 42, 47],\n",
       " [65, 117],\n",
       " [292, 303],\n",
       " [9, 269],\n",
       " [9, 285],\n",
       " [170, 195],\n",
       " [203, 208, 256],\n",
       " [59, 99],\n",
       " [51, 196, 314]]"
      ]
     },
     "execution_count": 4,
     "metadata": {},
     "output_type": "execute_result"
    }
   ],
   "source": [
    "edges[:10]"
   ]
  },
  {
   "cell_type": "code",
   "execution_count": 28,
   "metadata": {},
   "outputs": [],
   "source": [
    "D = 5 # max dimension"
   ]
  },
  {
   "cell_type": "markdown",
   "metadata": {},
   "source": [
    "Hypergraph"
   ]
  },
  {
   "cell_type": "code",
   "execution_count": 30,
   "metadata": {},
   "outputs": [],
   "source": [
    "H = simpl.HyperGraph()\n",
    "for edge in edges:\n",
    "  H.AddEdge(edge)"
   ]
  },
  {
   "cell_type": "code",
   "execution_count": 31,
   "metadata": {},
   "outputs": [
    {
     "name": "stdout",
     "output_type": "stream",
     "text": [
      "0 0\n",
      "1 7491\n",
      "2 0\n",
      "3 0\n",
      "4 0\n",
      "5 0\n"
     ]
    }
   ],
   "source": [
    "for i in range(D+1):\n",
    "  print(i, H.BettiNumber(i))\n",
    "  "
   ]
  },
  {
   "cell_type": "code",
   "execution_count": 40,
   "metadata": {},
   "outputs": [],
   "source": [
    "h_betw = H.BetweennessAll(0, 1, False)\n",
    "h_betw = sorted(h_betw, key=lambda x: x[1], reverse=True)"
   ]
  },
  {
   "cell_type": "code",
   "execution_count": 41,
   "metadata": {},
   "outputs": [
    {
     "data": {
      "text/plain": [
       "[([60], 0.03007035321281539),\n",
       " ([107], 0.025993014808097202),\n",
       " ([72], 0.0251478966530357),\n",
       " ([75], 0.020958569559180126),\n",
       " ([9], 0.020712402645143478),\n",
       " ([122], 0.01902272095282774),\n",
       " ([49], 0.01758591425170141),\n",
       " ([51], 0.016253558897382996),\n",
       " ([108], 0.015169898951567385),\n",
       " ([287], 0.0150962789503482)]"
      ]
     },
     "execution_count": 41,
     "metadata": {},
     "output_type": "execute_result"
    }
   ],
   "source": [
    "h_betw[:10]"
   ]
  },
  {
   "cell_type": "markdown",
   "metadata": {},
   "source": [
    "Graph"
   ]
  },
  {
   "cell_type": "code",
   "execution_count": 17,
   "metadata": {},
   "outputs": [],
   "source": [
    "G = simpl.Graph()\n",
    "for edge in edges:\n",
    "  for v in edge:\n",
    "    for u in edge:\n",
    "      if v != u:\n",
    "        G.AddEdge(v, u)"
   ]
  },
  {
   "cell_type": "code",
   "execution_count": 23,
   "metadata": {},
   "outputs": [
    {
     "name": "stdout",
     "output_type": "stream",
     "text": [
      "0 1\n",
      "1 5492\n",
      "2 0\n",
      "3 0\n",
      "4 0\n",
      "5 0\n"
     ]
    }
   ],
   "source": [
    "for i in range(D+1):\n",
    "  print(i, G.BettiNumber(i))\n",
    "  "
   ]
  },
  {
   "cell_type": "code",
   "execution_count": 42,
   "metadata": {},
   "outputs": [],
   "source": [
    "g_betw = G.BetweennessAll(0, 1, False)\n",
    "g_betw = sorted(g_betw, key=lambda x: x[1], reverse=True)"
   ]
  },
  {
   "cell_type": "code",
   "execution_count": 43,
   "metadata": {},
   "outputs": [
    {
     "data": {
      "text/plain": [
       "[([60], 0.03007035321281538),\n",
       " ([107], 0.02599301480809721),\n",
       " ([72], 0.025147896653035694),\n",
       " ([75], 0.020958569559180133),\n",
       " ([9], 0.020712402645143447),\n",
       " ([122], 0.01902272095282774),\n",
       " ([49], 0.01758591425170141),\n",
       " ([51], 0.016253558897383),\n",
       " ([108], 0.015169898951567388),\n",
       " ([287], 0.015096278950348195)]"
      ]
     },
     "execution_count": 43,
     "metadata": {},
     "output_type": "execute_result"
    }
   ],
   "source": [
    "g_betw[:10]"
   ]
  },
  {
   "cell_type": "markdown",
   "metadata": {},
   "source": [
    "Comb complex\n"
   ]
  },
  {
   "cell_type": "code",
   "execution_count": null,
   "metadata": {},
   "outputs": [],
   "source": [
    "# ???"
   ]
  },
  {
   "cell_type": "markdown",
   "metadata": {},
   "source": [
    "Simpl complex"
   ]
  },
  {
   "cell_type": "code",
   "execution_count": 44,
   "metadata": {},
   "outputs": [],
   "source": [
    "S = simpl.SimplicialComplex()\n",
    "for edge in edges:\n",
    "  S.AddSimplex(edge)"
   ]
  },
  {
   "cell_type": "code",
   "execution_count": 45,
   "metadata": {},
   "outputs": [
    {
     "name": "stdout",
     "output_type": "stream",
     "text": [
      "0 1\n",
      "1 3510\n",
      "2 157\n",
      "3 0\n",
      "4 0\n",
      "5 0\n"
     ]
    }
   ],
   "source": [
    "for i in range(D+1):\n",
    "  print(i, S.BettiNumber(i))\n",
    "  "
   ]
  },
  {
   "cell_type": "code",
   "execution_count": 48,
   "metadata": {},
   "outputs": [],
   "source": [
    "s_betw = S.BetweennessAll(1, 2, False)\n",
    "s_betw = sorted(s_betw, key=lambda x: x[1], reverse=True)"
   ]
  },
  {
   "cell_type": "code",
   "execution_count": 49,
   "metadata": {},
   "outputs": [
    {
     "data": {
      "text/plain": [
       "[([107, 108], 0.06880666729252498),\n",
       " ([126, 177], 0.061100278079633225),\n",
       " ([9, 316], 0.05734207266902302),\n",
       " ([126, 316], 0.054534311433509716),\n",
       " ([107, 126], 0.03692703941522376),\n",
       " ([13, 259], 0.027276619712004364),\n",
       " ([13, 108], 0.026759085847098716),\n",
       " ([49, 187], 0.025834513150904518),\n",
       " ([47, 80], 0.024921766052642597),\n",
       " ([72, 80], 0.024796149986627655)]"
      ]
     },
     "execution_count": 49,
     "metadata": {},
     "output_type": "execute_result"
    }
   ],
   "source": [
    "s_betw[:10]"
   ]
  }
 ],
 "metadata": {
  "kernelspec": {
   "display_name": "Python 3",
   "language": "python",
   "name": "python3"
  },
  "language_info": {
   "codemirror_mode": {
    "name": "ipython",
    "version": 3
   },
   "file_extension": ".py",
   "mimetype": "text/x-python",
   "name": "python",
   "nbconvert_exporter": "python",
   "pygments_lexer": "ipython3",
   "version": "3.12.3"
  }
 },
 "nbformat": 4,
 "nbformat_minor": 2
}
