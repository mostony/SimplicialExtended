{
 "cells": [
  {
   "cell_type": "code",
   "execution_count": 1,
   "metadata": {},
   "outputs": [],
   "source": [
    "import sys\n",
    "sys.path.append('../../build')"
   ]
  },
  {
   "cell_type": "code",
   "execution_count": 67,
   "metadata": {},
   "outputs": [],
   "source": [
    "import matplotlib.pyplot as plt\n",
    "import numpy as np"
   ]
  },
  {
   "cell_type": "code",
   "execution_count": 2,
   "metadata": {},
   "outputs": [],
   "source": [
    "import simpl\n"
   ]
  },
  {
   "cell_type": "code",
   "execution_count": 3,
   "metadata": {},
   "outputs": [],
   "source": [
    "# read hyperedges\n",
    "# dataset from https://www.cs.cornell.edu/~arb/data/contact-high-school-labeled/\n",
    "edges = []\n",
    "with open(\"./hyperedges-contact-high-school.txt\", 'r') as file:\n",
    "    for line in file:\n",
    "        edge = list(map(int, line[:-1].split(',')))\n",
    "        edge.sort()\n",
    "        edges.append(edge)"
   ]
  },
  {
   "cell_type": "code",
   "execution_count": 4,
   "metadata": {},
   "outputs": [],
   "source": [
    "labels = []\n",
    "with open(\"./node-labels-contact-high-school.txt\", 'r') as file:\n",
    "    for line in file:\n",
    "        labels.append(int(line))"
   ]
  },
  {
   "cell_type": "code",
   "execution_count": 5,
   "metadata": {},
   "outputs": [
    {
     "data": {
      "text/plain": [
       "[[205, 258, 292],\n",
       " [3, 7, 42, 47],\n",
       " [65, 117],\n",
       " [292, 303],\n",
       " [9, 269],\n",
       " [9, 285],\n",
       " [170, 195],\n",
       " [203, 208, 256],\n",
       " [59, 99],\n",
       " [51, 196, 314]]"
      ]
     },
     "execution_count": 5,
     "metadata": {},
     "output_type": "execute_result"
    }
   ],
   "source": [
    "edges[:10]"
   ]
  },
  {
   "cell_type": "code",
   "execution_count": 6,
   "metadata": {},
   "outputs": [
    {
     "data": {
      "text/plain": [
       "[9, 9, 3, 3, 8, 8, 3, 3, 7, 7]"
      ]
     },
     "execution_count": 6,
     "metadata": {},
     "output_type": "execute_result"
    }
   ],
   "source": [
    "labels[:10]"
   ]
  },
  {
   "cell_type": "code",
   "execution_count": 33,
   "metadata": {},
   "outputs": [],
   "source": [
    "labeled_edges = list(map(lambda row: list(map(lambda x: labels[x-1], row)), edges))"
   ]
  },
  {
   "cell_type": "code",
   "execution_count": 34,
   "metadata": {},
   "outputs": [
    {
     "data": {
      "text/plain": [
       "[[7, 7, 7],\n",
       " [3, 3, 3, 3],\n",
       " [3, 3],\n",
       " [7, 7],\n",
       " [7, 7],\n",
       " [7, 7],\n",
       " [5, 5],\n",
       " [6, 6, 6],\n",
       " [5, 5],\n",
       " [4, 5, 4]]"
      ]
     },
     "execution_count": 34,
     "metadata": {},
     "output_type": "execute_result"
    }
   ],
   "source": [
    "labeled_edges[:10]"
   ]
  },
  {
   "cell_type": "code",
   "execution_count": 7,
   "metadata": {},
   "outputs": [],
   "source": [
    "D = 5 # max dimension"
   ]
  },
  {
   "cell_type": "markdown",
   "metadata": {},
   "source": [
    "Hypergraph"
   ]
  },
  {
   "cell_type": "code",
   "execution_count": 8,
   "metadata": {},
   "outputs": [],
   "source": [
    "H = simpl.HyperGraph()\n",
    "for edge in edges:\n",
    "  H.AddEdge(edge)"
   ]
  },
  {
   "cell_type": "code",
   "execution_count": 9,
   "metadata": {},
   "outputs": [
    {
     "name": "stdout",
     "output_type": "stream",
     "text": [
      "0 0\n",
      "1 7491\n",
      "2 0\n",
      "3 0\n",
      "4 0\n",
      "5 0\n"
     ]
    }
   ],
   "source": [
    "for i in range(D+1):\n",
    "  print(i, H.BettiNumber(i))\n",
    "  "
   ]
  },
  {
   "cell_type": "code",
   "execution_count": 10,
   "metadata": {},
   "outputs": [],
   "source": [
    "h_betw = H.BetweennessAll(0, 1, False)\n",
    "h_betw = sorted(h_betw, key=lambda x: x[1], reverse=True)"
   ]
  },
  {
   "cell_type": "code",
   "execution_count": 11,
   "metadata": {},
   "outputs": [
    {
     "data": {
      "text/plain": [
       "[([60], 0.03007035321281539),\n",
       " ([107], 0.025993014808097226),\n",
       " ([72], 0.025147896653035712),\n",
       " ([75], 0.02095856955918012),\n",
       " ([9], 0.020712402645143454),\n",
       " ([122], 0.019022720952827744),\n",
       " ([49], 0.017585914251701407),\n",
       " ([51], 0.016253558897382996),\n",
       " ([108], 0.01516989895156739),\n",
       " ([287], 0.015096278950348195)]"
      ]
     },
     "execution_count": 11,
     "metadata": {},
     "output_type": "execute_result"
    }
   ],
   "source": [
    "h_betw[:10]"
   ]
  },
  {
   "cell_type": "code",
   "execution_count": 65,
   "metadata": {},
   "outputs": [
    {
     "data": {
      "text/plain": [
       "[168.2912502544276,\n",
       " 138.97308516316693,\n",
       " 136.85874502438318,\n",
       " 132.85140992013723,\n",
       " 132.52188027527308,\n",
       " 129.8017669631052,\n",
       " 126.81015355262612,\n",
       " 125.08837239326932,\n",
       " 120.52122518455128,\n",
       " 119.75928803509578,\n",
       " 119.17807781772423,\n",
       " 117.6726444605161,\n",
       " 117.16871262102276,\n",
       " 116.44100621869794,\n",
       " 115.35182635550657,\n",
       " 114.06791311907337,\n",
       " 113.22055959481484,\n",
       " 111.23296997671447,\n",
       " 110.1584801223838,\n",
       " 109.58573761780787,\n",
       " 107.56119205240272,\n",
       " 107.33556430678686,\n",
       " 106.09837815107726,\n",
       " 105.94399642834155,\n",
       " 104.43672390257285,\n",
       " 104.2394911180194,\n",
       " 103.62446007432686,\n",
       " 102.58224294284886,\n",
       " 102.15102228689243,\n",
       " 101.20044365589467,\n",
       " 100.40479048718275,\n",
       " 99.8659044313875,\n",
       " 99.04809465568522,\n",
       " 98.59882308335321,\n",
       " 98.4646049753108,\n",
       " 96.54497931127348,\n",
       " 95.6033263290991,\n",
       " 95.23815340381748,\n",
       " 94.87095830042549,\n",
       " 94.73726078443669,\n",
       " 93.94290059979949,\n",
       " 93.15646641449321,\n",
       " 92.56598881095947,\n",
       " 92.1856410488201,\n",
       " 91.41949112043888,\n",
       " 90.71351007253689,\n",
       " 89.96925122721372,\n",
       " 89.60009397374209,\n",
       " 89.41494188618829,\n",
       " 89.20388612019603,\n",
       " 89.09632879645395,\n",
       " 87.59949596604747,\n",
       " 87.36211698560044,\n",
       " 86.67439322009217,\n",
       " 86.33701602058908,\n",
       " 86.24940937835625,\n",
       " 85.65719375651861,\n",
       " 84.50658470875712,\n",
       " 83.58829996577249,\n",
       " 83.11037787913676,\n",
       " 82.60660733374338,\n",
       " 81.62074905813813,\n",
       " 81.60348057321308,\n",
       " 81.22094731298617,\n",
       " 80.72002831388619,\n",
       " 80.27246256498132,\n",
       " 80.06685301469963,\n",
       " 79.66422558875418,\n",
       " 79.1882873754726,\n",
       " 79.15445715382577,\n",
       " 78.8465884000241,\n",
       " 78.39182929036745,\n",
       " 77.91995616296536,\n",
       " 77.65962635632049,\n",
       " 77.35930986461351,\n",
       " 77.05168916229067,\n",
       " 77.00400463487694,\n",
       " 76.75958705683294,\n",
       " 76.260305282581,\n",
       " 75.86897832650199,\n",
       " 75.05496571816795,\n",
       " 74.88235109125432,\n",
       " 73.22106125638881,\n",
       " 73.09389876907252,\n",
       " 72.99102705805956,\n",
       " 72.35922007425361,\n",
       " 72.04627392968085,\n",
       " 71.9290515354446,\n",
       " 71.71479067122795,\n",
       " 71.22767932604373,\n",
       " 70.95393748764187,\n",
       " 70.6980523017121,\n",
       " 70.60290949143004,\n",
       " 70.22760542287912,\n",
       " 70.04403878280739,\n",
       " 69.78082412180433,\n",
       " 69.25021200565646,\n",
       " 68.87032863204695,\n",
       " 68.80300412717511,\n",
       " 68.5474298120437]"
      ]
     },
     "execution_count": 65,
     "metadata": {},
     "output_type": "execute_result"
    }
   ],
   "source": [
    "h_eigs = H.EigenValues(1, 0, 2, False, 100)\n",
    "h_eigs"
   ]
  },
  {
   "cell_type": "markdown",
   "metadata": {},
   "source": [
    "Graph"
   ]
  },
  {
   "cell_type": "code",
   "execution_count": 12,
   "metadata": {},
   "outputs": [],
   "source": [
    "G = simpl.Graph()\n",
    "for edge in edges:\n",
    "  for v in edge:\n",
    "    for u in edge:\n",
    "      if v != u:\n",
    "        G.AddEdge(v, u)"
   ]
  },
  {
   "cell_type": "code",
   "execution_count": 13,
   "metadata": {},
   "outputs": [
    {
     "name": "stdout",
     "output_type": "stream",
     "text": [
      "0 1\n",
      "1 5492\n",
      "2 0\n",
      "3 0\n",
      "4 0\n",
      "5 0\n"
     ]
    }
   ],
   "source": [
    "for i in range(D+1):\n",
    "  print(i, G.BettiNumber(i))\n",
    "  "
   ]
  },
  {
   "cell_type": "code",
   "execution_count": 14,
   "metadata": {},
   "outputs": [],
   "source": [
    "g_betw = G.BetweennessAll(0, 1, False)\n",
    "g_betw = sorted(g_betw, key=lambda x: x[1], reverse=True)"
   ]
  },
  {
   "cell_type": "code",
   "execution_count": 15,
   "metadata": {},
   "outputs": [
    {
     "data": {
      "text/plain": [
       "[([60], 0.030070353212815374),\n",
       " ([107], 0.0259930148080972),\n",
       " ([72], 0.025147896653035705),\n",
       " ([75], 0.02095856955918014),\n",
       " ([9], 0.020712402645143454),\n",
       " ([122], 0.019022720952827747),\n",
       " ([49], 0.0175859142517014),\n",
       " ([51], 0.016253558897382996),\n",
       " ([108], 0.015169898951567383),\n",
       " ([287], 0.015096278950348195)]"
      ]
     },
     "execution_count": 15,
     "metadata": {},
     "output_type": "execute_result"
    }
   ],
   "source": [
    "g_betw[:10]"
   ]
  },
  {
   "cell_type": "code",
   "execution_count": 62,
   "metadata": {},
   "outputs": [],
   "source": [
    "g_eigs = G.EigenValues(1, 0, 2, False, 100)"
   ]
  },
  {
   "cell_type": "markdown",
   "metadata": {},
   "source": [
    "Comb complex\n"
   ]
  },
  {
   "cell_type": "code",
   "execution_count": 44,
   "metadata": {},
   "outputs": [],
   "source": [
    "ranks = []\n",
    "def getDiversity(x):\n",
    "  return len(set(x))\n",
    "\n",
    "for edge in labeled_edges:\n",
    "  ranks.append(getDiversity(edge))\n",
    "  \n",
    "C = simpl.CombinatorialComplex()\n",
    "\n",
    "C.BuildWithRank(edges, ranks)"
   ]
  },
  {
   "cell_type": "code",
   "execution_count": 45,
   "metadata": {},
   "outputs": [
    {
     "name": "stdout",
     "output_type": "stream",
     "text": [
      "0 0\n",
      "1 -271\n",
      "2 1693\n",
      "3 0\n",
      "4 0\n",
      "5 0\n"
     ]
    }
   ],
   "source": [
    "for i in range(D+1):\n",
    "  print(i, C.BettiNumber(i))"
   ]
  },
  {
   "cell_type": "code",
   "execution_count": 48,
   "metadata": {},
   "outputs": [],
   "source": [
    "c_betw = C.BetweennessAll(2, 3, False)\n",
    "c_betw = sorted(c_betw, key=lambda x: x[1], reverse=True)"
   ]
  },
  {
   "cell_type": "code",
   "execution_count": 49,
   "metadata": {},
   "outputs": [
    {
     "data": {
      "text/plain": [
       "[([127, 163], 0.00023258806420207485),\n",
       " ([77, 127], 0.0001553824228489853),\n",
       " ([127, 135], 0.00013207505942163748),\n",
       " ([127, 186], 5.863258612192179e-05),\n",
       " ([72, 80], 2.427850357015395e-05),\n",
       " ([124, 127], 2.330736342734777e-05),\n",
       " ([124, 175], 2.330736342734777e-05),\n",
       " ([127, 175], 2.330736342734777e-05),\n",
       " ([47, 80], 2.1365083141735477e-05),\n",
       " ([83, 127], 2.0636728034630856e-05)]"
      ]
     },
     "execution_count": 49,
     "metadata": {},
     "output_type": "execute_result"
    }
   ],
   "source": [
    "c_betw[:10]"
   ]
  },
  {
   "cell_type": "code",
   "execution_count": 63,
   "metadata": {},
   "outputs": [
    {
     "data": {
      "text/plain": [
       "[11.12310562561766,\n",
       " 10.906002678080641,\n",
       " 9.18929037441738,\n",
       " 8.002546732493071,\n",
       " 7.294174394482122,\n",
       " 6.806103083364447,\n",
       " 6.654438936368631,\n",
       " 6.46445956215664,\n",
       " 6.2360679774997925,\n",
       " 6.156325174658668,\n",
       " 6.0000000000000036,\n",
       " 5.999999999999999,\n",
       " 5.980936588101819,\n",
       " 5.732050807568876,\n",
       " 5.30526547667743,\n",
       " 5.302775637731994,\n",
       " 5.23606797749979,\n",
       " 5.23606797749979,\n",
       " 5.155867092540634,\n",
       " 4.999999999999998,\n",
       " 4.999999999999995,\n",
       " 4.732050807568878,\n",
       " 4.618033988749897,\n",
       " 4.561552812808831,\n",
       " 4.4261170945500075,\n",
       " 4.414213562373093,\n",
       " 4.302775637731994,\n",
       " 4.302775637731994,\n",
       " 4.302775637731993,\n",
       " 4.295553694802742,\n",
       " 4.041954751952713,\n",
       " 4.000000000000002,\n",
       " 3.9999999999999996,\n",
       " 3.9716890105101856,\n",
       " 3.7697657835889937,\n",
       " 3.6251730544397733,\n",
       " 3.6180339887498936,\n",
       " 3.4142135623730976,\n",
       " 3.1052316383286644,\n",
       " 3.089617697838161,\n",
       " 3.042124107309026,\n",
       " 3.0000000000000013,\n",
       " 3.0,\n",
       " 3.0,\n",
       " 2.9999999999999987,\n",
       " 2.9999999999999987,\n",
       " 2.999999999999998,\n",
       " 2.977643681720696,\n",
       " 2.8768943743823385,\n",
       " 2.7456712445299676,\n",
       " 2.6180339887498945,\n",
       " 2.618033988749894,\n",
       " 2.6180339887498936,\n",
       " 2.618033988749893,\n",
       " 2.534252730264067,\n",
       " 2.3819660112501078,\n",
       " 2.3287773276063293,\n",
       " 2.293799489204811,\n",
       " 2.267949192431123,\n",
       " 2.0000000000000036,\n",
       " 2.000000000000003,\n",
       " 2.0000000000000027,\n",
       " 2.0000000000000027,\n",
       " 2.0000000000000013,\n",
       " 2.000000000000001,\n",
       " 2.000000000000001,\n",
       " 2.000000000000001,\n",
       " 2.0000000000000004,\n",
       " 2.0000000000000004,\n",
       " 2.0000000000000004,\n",
       " 2.0,\n",
       " 2.0,\n",
       " 2.0,\n",
       " 2.0,\n",
       " 2.0,\n",
       " 1.9999999999999998,\n",
       " 1.9999999999999996,\n",
       " 1.9999999999999996,\n",
       " 1.9999999999999996,\n",
       " 1.9999999999999993,\n",
       " 1.9999999999999991,\n",
       " 1.999999999999999,\n",
       " 1.9999999999999987,\n",
       " 1.9999999999999984,\n",
       " 1.9999999999999982,\n",
       " 1.9999999999999982,\n",
       " 1.999999999999998,\n",
       " 1.9999999999999971,\n",
       " 1.999999999999997,\n",
       " 1.9999999999999967,\n",
       " 1.9999999999999964,\n",
       " 1.9999999999999927,\n",
       " 1.9914040824711192,\n",
       " 1.7639320225002102,\n",
       " 1.7530340384957268,\n",
       " 1.7018305717640732,\n",
       " 1.6972243622680065,\n",
       " 1.5857864376269084,\n",
       " 1.4629170336078485,\n",
       " 1.4372074313375158]"
      ]
     },
     "execution_count": 63,
     "metadata": {},
     "output_type": "execute_result"
    }
   ],
   "source": [
    "c_eigs = C.EigenValues(1, 0, 2, False, 100)\n",
    "c_eigs"
   ]
  },
  {
   "cell_type": "markdown",
   "metadata": {},
   "source": [
    "Simpl complex"
   ]
  },
  {
   "cell_type": "code",
   "execution_count": 56,
   "metadata": {},
   "outputs": [],
   "source": [
    "S = simpl.SimplicialComplex()\n",
    "for edge in edges:\n",
    "  S.AddSimplex(edge)"
   ]
  },
  {
   "cell_type": "code",
   "execution_count": 57,
   "metadata": {},
   "outputs": [
    {
     "name": "stdout",
     "output_type": "stream",
     "text": [
      "0 1\n",
      "1 3510\n",
      "2 157\n",
      "3 0\n",
      "4 0\n",
      "5 0\n"
     ]
    }
   ],
   "source": [
    "for i in range(D+1):\n",
    "  print(i, S.BettiNumber(i))\n",
    "  "
   ]
  },
  {
   "cell_type": "code",
   "execution_count": 58,
   "metadata": {},
   "outputs": [],
   "source": [
    "s_betw = S.BetweennessAll(1, 2, False)\n",
    "s_betw = sorted(s_betw, key=lambda x: x[1], reverse=True)"
   ]
  },
  {
   "cell_type": "code",
   "execution_count": 59,
   "metadata": {},
   "outputs": [
    {
     "data": {
      "text/plain": [
       "[([107, 108], 0.06880666729252481),\n",
       " ([126, 177], 0.06110027807963311),\n",
       " ([9, 316], 0.057342072669023),\n",
       " ([126, 316], 0.05453431143350969),\n",
       " ([107, 126], 0.036927039415223774),\n",
       " ([13, 259], 0.027276619712004395),\n",
       " ([13, 108], 0.026759085847098688),\n",
       " ([49, 187], 0.025834513150904508),\n",
       " ([47, 80], 0.0249217660526426),\n",
       " ([72, 80], 0.024796149986627596)]"
      ]
     },
     "execution_count": 59,
     "metadata": {},
     "output_type": "execute_result"
    }
   ],
   "source": [
    "s_betw[:10]"
   ]
  },
  {
   "cell_type": "code",
   "execution_count": 64,
   "metadata": {},
   "outputs": [
    {
     "data": {
      "text/plain": [
       "[88.41639369624913,\n",
       " 85.4577539145092,\n",
       " 78.68583729283495,\n",
       " 77.50056044259198,\n",
       " 73.75792966485442,\n",
       " 70.81332148974444,\n",
       " 70.36898036396498,\n",
       " 69.56612159145094,\n",
       " 68.851327502759,\n",
       " 68.47445883841665,\n",
       " 64.30268049049833,\n",
       " 63.06898472425596,\n",
       " 62.48995556393186,\n",
       " 61.73533394085643,\n",
       " 60.77476777288053,\n",
       " 60.03243254911047,\n",
       " 59.28018259580813,\n",
       " 58.80010518689867,\n",
       " 58.549937150882975,\n",
       " 58.185514995546455,\n",
       " 57.89971757660558,\n",
       " 57.643571962299916,\n",
       " 57.343645323872074,\n",
       " 57.10447025719637,\n",
       " 56.593441253082744,\n",
       " 56.33525891273063,\n",
       " 55.72356269824026,\n",
       " 55.052505023927964,\n",
       " 54.86804105638315,\n",
       " 54.799232164206465,\n",
       " 54.39518180573436,\n",
       " 54.13838727009465,\n",
       " 54.042749910322186,\n",
       " 53.691256069992846,\n",
       " 53.29126362384025,\n",
       " 53.017445952788314,\n",
       " 52.682160129634696,\n",
       " 52.36841296524049,\n",
       " 52.08885712475304,\n",
       " 51.96824042959356,\n",
       " 51.795499057497636,\n",
       " 51.359912691117565,\n",
       " 51.14528354077874,\n",
       " 50.80193166368907,\n",
       " 50.79182793211407,\n",
       " 50.39190706764535,\n",
       " 50.1933927344324,\n",
       " 49.74373797781568,\n",
       " 49.55232107386035,\n",
       " 49.47823524706895,\n",
       " 49.245879145882256,\n",
       " 49.12598909934006,\n",
       " 48.84291624549975,\n",
       " 48.696846506201275,\n",
       " 48.344746042994394,\n",
       " 48.06074947170043,\n",
       " 47.78649611141438,\n",
       " 47.57410061122634,\n",
       " 47.38124310693959,\n",
       " 46.979434826758634,\n",
       " 46.87894344046865,\n",
       " 46.83629720189517,\n",
       " 46.69825907146751,\n",
       " 46.649805397501844,\n",
       " 46.41509574732345,\n",
       " 46.32928043786225,\n",
       " 46.02889033153176,\n",
       " 45.91090120315805,\n",
       " 45.72662969098205,\n",
       " 45.628472752551836,\n",
       " 45.525885942084244,\n",
       " 45.41953881308243,\n",
       " 45.29383716541427,\n",
       " 45.139312694842886,\n",
       " 44.917613576395006,\n",
       " 44.800171508019645,\n",
       " 44.70736338989634,\n",
       " 44.57752141227587,\n",
       " 44.460466783825694,\n",
       " 44.30264737657586,\n",
       " 44.2663960367759,\n",
       " 44.116310473694845,\n",
       " 43.915812636943805,\n",
       " 43.62682588368746,\n",
       " 43.60261235526529,\n",
       " 43.401566411637994,\n",
       " 43.36539943769952,\n",
       " 43.174553744603614,\n",
       " 43.1174661755862,\n",
       " 42.99380690769738,\n",
       " 42.85838714141908,\n",
       " 42.786551360938475,\n",
       " 42.74457003302747,\n",
       " 42.72539408717812,\n",
       " 42.652966071030846,\n",
       " 42.53340689658596,\n",
       " 42.504475382116624,\n",
       " 42.41299228254591,\n",
       " 42.35824225239253,\n",
       " 42.20014097176789]"
      ]
     },
     "execution_count": 64,
     "metadata": {},
     "output_type": "execute_result"
    }
   ],
   "source": [
    "s_eigs = S.EigenValues(1, 0, 2, False, 100)\n",
    "s_eigs"
   ]
  },
  {
   "cell_type": "code",
   "execution_count": 71,
   "metadata": {},
   "outputs": [],
   "source": [
    "x = np.arange(start=1, stop=101)"
   ]
  },
  {
   "cell_type": "code",
   "execution_count": 72,
   "metadata": {},
   "outputs": [
    {
     "data": {
      "image/png": "[encoded data removed]",
      "text/plain": [
       "<Figure size 1000x800 with 1 Axes>"
      ]
     },
     "metadata": {},
     "output_type": "display_data"
    }
   ],
   "source": [
    "plt.figure(figsize=(10, 8))\n",
    "plt.plot(x, h_eigs, label ='Hypergraph')\n",
    "plt.plot(x, g_eigs, label ='Graph')\n",
    "plt.plot(x, s_eigs, label ='Simplical Complex')\n",
    "plt.plot(x, c_eigs, label ='Combinatorial Complex')\n",
    "\n",
    "plt.xlabel(\"номер собственного\")\n",
    "plt.ylabel(\"значение собственного\")\n",
    "plt.legend()\n",
    "plt.title('Наибольшие 100 собственных для Лапласина при k=1,p=0,q=2,w=0')\n",
    "\n",
    "plt.show()\n"
   ]
  },
  {
   "cell_type": "code",
   "execution_count": null,
   "metadata": {},
   "outputs": [],
   "source": []
  }
 ],
 "metadata": {
  "kernelspec": {
   "display_name": "Python 3",
   "language": "python",
   "name": "python3"
  },
  "language_info": {
   "codemirror_mode": {
    "name": "ipython",
    "version": 3
   },
   "file_extension": ".py",
   "mimetype": "text/x-python",
   "name": "python",
   "nbconvert_exporter": "python",
   "pygments_lexer": "ipython3",
   "version": "3.12.3"
  }
 },
 "nbformat": 4,
 "nbformat_minor": 2
}
