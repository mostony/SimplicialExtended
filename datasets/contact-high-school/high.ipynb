{
 "cells": [
  {
   "cell_type": "code",
   "execution_count": 1,
   "metadata": {},
   "outputs": [],
   "source": [
    "import sys\n",
    "sys.path.append('../../build')"
   ]
  },
  {
   "cell_type": "code",
   "execution_count": 2,
   "metadata": {},
   "outputs": [],
   "source": [
    "import simpl"
   ]
  },
  {
   "cell_type": "code",
   "execution_count": 3,
   "metadata": {},
   "outputs": [],
   "source": [
    "# read hyperedges\n",
    "# dataset from https://www.cs.cornell.edu/~arb/data/contact-high-school-labeled/\n",
    "edges = []\n",
    "with open(\"./hyperedges-contact-high-school.txt\", 'r') as file:\n",
    "    for line in file:\n",
    "        edge = list(map(int, line[:-1].split(',')))\n",
    "        edge.sort()\n",
    "        edges.append(edge)"
   ]
  },
  {
   "cell_type": "code",
   "execution_count": 4,
   "metadata": {},
   "outputs": [],
   "source": [
    "labels = []\n",
    "with open(\"./node-labels-contact-high-school.txt\", 'r') as file:\n",
    "    for line in file:\n",
    "        labels.append(int(line))"
   ]
  },
  {
   "cell_type": "code",
   "execution_count": 5,
   "metadata": {},
   "outputs": [
    {
     "data": {
      "text/plain": [
       "[[205, 258, 292],\n",
       " [3, 7, 42, 47],\n",
       " [65, 117],\n",
       " [292, 303],\n",
       " [9, 269],\n",
       " [9, 285],\n",
       " [170, 195],\n",
       " [203, 208, 256],\n",
       " [59, 99],\n",
       " [51, 196, 314]]"
      ]
     },
     "execution_count": 5,
     "metadata": {},
     "output_type": "execute_result"
    }
   ],
   "source": [
    "edges[:10]"
   ]
  },
  {
   "cell_type": "code",
   "execution_count": 6,
   "metadata": {},
   "outputs": [
    {
     "data": {
      "text/plain": [
       "[9, 9, 3, 3, 8, 8, 3, 3, 7, 7]"
      ]
     },
     "execution_count": 6,
     "metadata": {},
     "output_type": "execute_result"
    }
   ],
   "source": [
    "labels[:10]"
   ]
  },
  {
   "cell_type": "code",
   "execution_count": 33,
   "metadata": {},
   "outputs": [],
   "source": [
    "labeled_edges = list(map(lambda row: list(map(lambda x: labels[x-1], row)), edges))"
   ]
  },
  {
   "cell_type": "code",
   "execution_count": 34,
   "metadata": {},
   "outputs": [
    {
     "data": {
      "text/plain": [
       "[[7, 7, 7],\n",
       " [3, 3, 3, 3],\n",
       " [3, 3],\n",
       " [7, 7],\n",
       " [7, 7],\n",
       " [7, 7],\n",
       " [5, 5],\n",
       " [6, 6, 6],\n",
       " [5, 5],\n",
       " [4, 5, 4]]"
      ]
     },
     "execution_count": 34,
     "metadata": {},
     "output_type": "execute_result"
    }
   ],
   "source": [
    "labeled_edges[:10]"
   ]
  },
  {
   "cell_type": "code",
   "execution_count": 7,
   "metadata": {},
   "outputs": [],
   "source": [
    "D = 5 # max dimension"
   ]
  },
  {
   "cell_type": "markdown",
   "metadata": {},
   "source": [
    "Hypergraph"
   ]
  },
  {
   "cell_type": "code",
   "execution_count": 8,
   "metadata": {},
   "outputs": [],
   "source": [
    "H = simpl.HyperGraph()\n",
    "for edge in edges:\n",
    "  H.AddEdge(edge)"
   ]
  },
  {
   "cell_type": "code",
   "execution_count": 9,
   "metadata": {},
   "outputs": [
    {
     "name": "stdout",
     "output_type": "stream",
     "text": [
      "0 0\n",
      "1 7491\n",
      "2 0\n",
      "3 0\n",
      "4 0\n",
      "5 0\n"
     ]
    }
   ],
   "source": [
    "for i in range(D+1):\n",
    "  print(i, H.BettiNumber(i))\n",
    "  "
   ]
  },
  {
   "cell_type": "code",
   "execution_count": 10,
   "metadata": {},
   "outputs": [],
   "source": [
    "h_betw = H.BetweennessAll(0, 1, False)\n",
    "h_betw = sorted(h_betw, key=lambda x: x[1], reverse=True)"
   ]
  },
  {
   "cell_type": "code",
   "execution_count": 11,
   "metadata": {},
   "outputs": [
    {
     "data": {
      "text/plain": [
       "[([60], 0.03007035321281539),\n",
       " ([107], 0.025993014808097226),\n",
       " ([72], 0.025147896653035712),\n",
       " ([75], 0.02095856955918012),\n",
       " ([9], 0.020712402645143454),\n",
       " ([122], 0.019022720952827744),\n",
       " ([49], 0.017585914251701407),\n",
       " ([51], 0.016253558897382996),\n",
       " ([108], 0.01516989895156739),\n",
       " ([287], 0.015096278950348195)]"
      ]
     },
     "execution_count": 11,
     "metadata": {},
     "output_type": "execute_result"
    }
   ],
   "source": [
    "h_betw[:10]"
   ]
  },
  {
   "cell_type": "markdown",
   "metadata": {},
   "source": [
    "Graph"
   ]
  },
  {
   "cell_type": "code",
   "execution_count": 12,
   "metadata": {},
   "outputs": [],
   "source": [
    "G = simpl.Graph()\n",
    "for edge in edges:\n",
    "  for v in edge:\n",
    "    for u in edge:\n",
    "      if v != u:\n",
    "        G.AddEdge(v, u)"
   ]
  },
  {
   "cell_type": "code",
   "execution_count": 13,
   "metadata": {},
   "outputs": [
    {
     "name": "stdout",
     "output_type": "stream",
     "text": [
      "0 1\n",
      "1 5492\n",
      "2 0\n",
      "3 0\n",
      "4 0\n",
      "5 0\n"
     ]
    }
   ],
   "source": [
    "for i in range(D+1):\n",
    "  print(i, G.BettiNumber(i))\n",
    "  "
   ]
  },
  {
   "cell_type": "code",
   "execution_count": 14,
   "metadata": {},
   "outputs": [],
   "source": [
    "g_betw = G.BetweennessAll(0, 1, False)\n",
    "g_betw = sorted(g_betw, key=lambda x: x[1], reverse=True)"
   ]
  },
  {
   "cell_type": "code",
   "execution_count": 15,
   "metadata": {},
   "outputs": [
    {
     "data": {
      "text/plain": [
       "[([60], 0.030070353212815374),\n",
       " ([107], 0.0259930148080972),\n",
       " ([72], 0.025147896653035705),\n",
       " ([75], 0.02095856955918014),\n",
       " ([9], 0.020712402645143454),\n",
       " ([122], 0.019022720952827747),\n",
       " ([49], 0.0175859142517014),\n",
       " ([51], 0.016253558897382996),\n",
       " ([108], 0.015169898951567383),\n",
       " ([287], 0.015096278950348195)]"
      ]
     },
     "execution_count": 15,
     "metadata": {},
     "output_type": "execute_result"
    }
   ],
   "source": [
    "g_betw[:10]"
   ]
  },
  {
   "cell_type": "markdown",
   "metadata": {},
   "source": [
    "Comb complex\n"
   ]
  },
  {
   "cell_type": "code",
   "execution_count": 38,
   "metadata": {},
   "outputs": [],
   "source": [
    "ranks = []\n",
    "def getDiversity(x):\n",
    "  return len(set(x))\n",
    "\n",
    "for edge in labeled_edges:\n",
    "  ranks.append(getDiversity(edge))\n",
    "  \n",
    "C = simpl.CombinatorialComplex()\n",
    "\n",
    "C.BuildWithRank(edges, ranks)"
   ]
  },
  {
   "cell_type": "code",
   "execution_count": 39,
   "metadata": {},
   "outputs": [
    {
     "name": "stdout",
     "output_type": "stream",
     "text": [
      "0 0\n",
      "1 -271\n",
      "2 1693\n",
      "3 0\n",
      "4 0\n",
      "5 0\n"
     ]
    }
   ],
   "source": [
    "for i in range(D+1):\n",
    "  print(i, C.BettiNumber(i))"
   ]
  },
  {
   "cell_type": "code",
   "execution_count": 42,
   "metadata": {},
   "outputs": [],
   "source": [
    "c_betw = C.BetweennessAll(1, 2, False)\n",
    "c_betw = sorted(c_betw, key=lambda x: x[1], reverse=True)"
   ]
  },
  {
   "cell_type": "code",
   "execution_count": 43,
   "metadata": {},
   "outputs": [
    {
     "data": {
      "text/plain": [
       "[([82, 83], 2.324070749361752e-06),\n",
       " ([163, 186], 1.8959524534266926e-06),\n",
       " ([30, 58], 1.467834157491633e-06),\n",
       " ([77, 163], 9.173963484322705e-07),\n",
       " ([124, 135], 9.173963484322705e-07),\n",
       " ([14, 124], 7.339170787458165e-07),\n",
       " ([111, 277], 5.504378090593623e-07),\n",
       " ([1, 22], 3.6695853937290826e-07),\n",
       " ([142, 268], 3.6695853937290826e-07),\n",
       " ([35, 244], 2.4463902624860545e-07)]"
      ]
     },
     "execution_count": 43,
     "metadata": {},
     "output_type": "execute_result"
    }
   ],
   "source": [
    "c_betw[:10]"
   ]
  },
  {
   "cell_type": "markdown",
   "metadata": {},
   "source": [
    "Simpl complex"
   ]
  },
  {
   "cell_type": "code",
   "execution_count": 44,
   "metadata": {},
   "outputs": [],
   "source": [
    "S = simpl.SimplicialComplex()\n",
    "for edge in edges:\n",
    "  S.AddSimplex(edge)"
   ]
  },
  {
   "cell_type": "code",
   "execution_count": 45,
   "metadata": {},
   "outputs": [
    {
     "name": "stdout",
     "output_type": "stream",
     "text": [
      "0 1\n",
      "1 3510\n",
      "2 157\n",
      "3 0\n",
      "4 0\n",
      "5 0\n"
     ]
    }
   ],
   "source": [
    "for i in range(D+1):\n",
    "  print(i, S.BettiNumber(i))\n",
    "  "
   ]
  },
  {
   "cell_type": "code",
   "execution_count": 48,
   "metadata": {},
   "outputs": [],
   "source": [
    "s_betw = S.BetweennessAll(1, 2, False)\n",
    "s_betw = sorted(s_betw, key=lambda x: x[1], reverse=True)"
   ]
  },
  {
   "cell_type": "code",
   "execution_count": 49,
   "metadata": {},
   "outputs": [
    {
     "data": {
      "text/plain": [
       "[([107, 108], 0.06880666729252498),\n",
       " ([126, 177], 0.061100278079633225),\n",
       " ([9, 316], 0.05734207266902302),\n",
       " ([126, 316], 0.054534311433509716),\n",
       " ([107, 126], 0.03692703941522376),\n",
       " ([13, 259], 0.027276619712004364),\n",
       " ([13, 108], 0.026759085847098716),\n",
       " ([49, 187], 0.025834513150904518),\n",
       " ([47, 80], 0.024921766052642597),\n",
       " ([72, 80], 0.024796149986627655)]"
      ]
     },
     "execution_count": 49,
     "metadata": {},
     "output_type": "execute_result"
    }
   ],
   "source": [
    "s_betw[:10]"
   ]
  }
 ],
 "metadata": {
  "kernelspec": {
   "display_name": "Python 3",
   "language": "python",
   "name": "python3"
  },
  "language_info": {
   "codemirror_mode": {
    "name": "ipython",
    "version": 3
   },
   "file_extension": ".py",
   "mimetype": "text/x-python",
   "name": "python",
   "nbconvert_exporter": "python",
   "pygments_lexer": "ipython3",
   "version": "3.12.3"
  }
 },
 "nbformat": 4,
 "nbformat_minor": 2
}
