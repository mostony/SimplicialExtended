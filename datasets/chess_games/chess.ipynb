{
 "cells": [
  {
   "cell_type": "code",
   "execution_count": 1,
   "metadata": {},
   "outputs": [],
   "source": [
    "import sys\n",
    "sys.path.append('../../build')"
   ]
  },
  {
   "cell_type": "code",
   "execution_count": 2,
   "metadata": {},
   "outputs": [],
   "source": [
    "import time"
   ]
  },
  {
   "cell_type": "code",
   "execution_count": 3,
   "metadata": {},
   "outputs": [],
   "source": [
    "import numpy as np\n",
    "import simpl as MySimplex\n",
    "from simplicialx.simplicial import SimplicialComplex"
   ]
  },
  {
   "cell_type": "code",
   "execution_count": 4,
   "metadata": {},
   "outputs": [],
   "source": [
    "games = []\n",
    "\n",
    "with open(\"ten_games_bin_matrices.txt\", \"r\") as file:\n",
    "  games = []\n",
    "  while True:\n",
    "    description = file.readline()\n",
    "    if description == \"\":\n",
    "      break\n",
    "    game = []\n",
    "    while True:\n",
    "      move = []\n",
    "      while True:\n",
    "        line = file.readline()\n",
    "        if line == \"Next turn\\n\":\n",
    "          break\n",
    "        move.append(list(map(int, line.split())))\n",
    "      game.append(move)\n",
    "      next = file.readline()\n",
    "      if next == \"End\\n\":\n",
    "        break\n",
    "    games.append(game)"
   ]
  },
  {
   "cell_type": "code",
   "execution_count": 5,
   "metadata": {},
   "outputs": [],
   "source": [
    "my_simpl = MySimplex.SimplicialComplex()\n",
    "other_simpl = SimplicialComplex()"
   ]
  },
  {
   "cell_type": "code",
   "execution_count": 6,
   "metadata": {},
   "outputs": [],
   "source": [
    "def AddMineSimplex(my_simpl, simplex):\n",
    "  my_simpl.AddSimplex(simplex)\n",
    "      \n",
    "def AddOtherSimplex(other_simpl, simplex):\n",
    "  other_simpl.add(simplex)\n",
    "  \n",
    "def AddMineGame(game_index=0):\n",
    "  my_simpl = MySimplex.SimplicialComplex()\n",
    "  \n",
    "  first_game = games[game_index]\n",
    "  for move in first_game:\n",
    "    for figure in move:\n",
    "      indices = [i for i, x in enumerate(figure) if x == 1]\n",
    "      if indices != []:\n",
    "        AddMineSimplex(my_simpl, indices)\n",
    "  return my_simpl\n",
    "  \n",
    "def AddOtherGame(game_index=0):\n",
    "  other_simpl = SimplicialComplex()\n",
    "  \n",
    "  first_game = games[game_index]\n",
    "  for move in first_game:\n",
    "    for figure in move:\n",
    "      indices = [i for i, x in enumerate(figure) if x == 1]\n",
    "      if indices != []:\n",
    "        AddOtherSimplex(other_simpl, indices)\n",
    "  return other_simpl\n",
    "     "
   ]
  },
  {
   "cell_type": "code",
   "execution_count": 7,
   "metadata": {},
   "outputs": [
    {
     "name": "stdout",
     "output_type": "stream",
     "text": [
      "Number of moves in 0th, game: 37\n",
      "Number of moves in 1th, game: 72\n",
      "Number of moves in 2th, game: 65\n",
      "Number of moves in 3th, game: 102\n",
      "Number of moves in 4th, game: 60\n",
      "Number of moves in 5th, game: 41\n",
      "Number of moves in 6th, game: 151\n",
      "Number of moves in 7th, game: 149\n",
      "Number of moves in 8th, game: 63\n",
      "Number of moves in 9th, game: 59\n"
     ]
    }
   ],
   "source": [
    "for i, game in enumerate(games):\n",
    "  print(f\"Number of moves in {i}th, game: {len(game)}\")"
   ]
  },
  {
   "cell_type": "code",
   "execution_count": 8,
   "metadata": {},
   "outputs": [
    {
     "name": "stdout",
     "output_type": "stream",
     "text": [
      "CPU times: user 604 ms, sys: 8.59 ms, total: 612 ms\n",
      "Wall time: 613 ms\n"
     ]
    }
   ],
   "source": [
    "%%time\n",
    "my_simpl = AddMineGame(0)"
   ]
  },
  {
   "cell_type": "code",
   "execution_count": 9,
   "metadata": {},
   "outputs": [
    {
     "name": "stdout",
     "output_type": "stream",
     "text": [
      "CPU times: user 15 s, sys: 27 ms, total: 15 s\n",
      "Wall time: 15.1 s\n"
     ]
    }
   ],
   "source": [
    "%%time\n",
    "other_simpl = AddOtherGame(0)"
   ]
  },
  {
   "cell_type": "code",
   "execution_count": 10,
   "metadata": {},
   "outputs": [
    {
     "data": {
      "text/plain": [
       "[(0, 56),\n",
       " (1, 600),\n",
       " (2, 2131),\n",
       " (3, 4994),\n",
       " (4, 9333),\n",
       " (5, 14221),\n",
       " (6, 17635),\n",
       " (7, 17730),\n",
       " (8, 14390),\n",
       " (9, 9362),\n",
       " (10, 4822),\n",
       " (11, 1925),\n",
       " (12, 575),\n",
       " (13, 121),\n",
       " (14, 16),\n",
       " (15, 1)]"
      ]
     },
     "execution_count": 10,
     "metadata": {},
     "output_type": "execute_result"
    }
   ],
   "source": [
    "my_simpl.FVector()"
   ]
  },
  {
   "cell_type": "code",
   "execution_count": 11,
   "metadata": {},
   "outputs": [
    {
     "data": {
      "text/plain": [
       "array([   56,   600,  2131,  4994,  9333, 14221, 17635, 17730, 14390,\n",
       "        9362,  4822,  1925,   575,   121,    16,     1])"
      ]
     },
     "execution_count": 11,
     "metadata": {},
     "output_type": "execute_result"
    }
   ],
   "source": [
    "other_simpl.f_vector"
   ]
  },
  {
   "cell_type": "markdown",
   "metadata": {},
   "source": [
    "Числа Бетти"
   ]
  },
  {
   "cell_type": "code",
   "execution_count": 12,
   "metadata": {},
   "outputs": [],
   "source": [
    "my_simpl = AddMineGame(0)"
   ]
  },
  {
   "cell_type": "code",
   "execution_count": 13,
   "metadata": {},
   "outputs": [
    {
     "name": "stdout",
     "output_type": "stream",
     "text": [
      "CPU times: user 23.8 ms, sys: 1.35 ms, total: 25.2 ms\n",
      "Wall time: 25.1 ms\n"
     ]
    },
    {
     "data": {
      "text/plain": [
       "8"
      ]
     },
     "execution_count": 13,
     "metadata": {},
     "output_type": "execute_result"
    }
   ],
   "source": [
    "%%time\n",
    "my_simpl.BettiNumber(1)\n"
   ]
  },
  {
   "cell_type": "code",
   "execution_count": 14,
   "metadata": {},
   "outputs": [],
   "source": [
    "my_simpl = AddMineGame(0)"
   ]
  },
  {
   "cell_type": "code",
   "execution_count": 15,
   "metadata": {},
   "outputs": [
    {
     "name": "stdout",
     "output_type": "stream",
     "text": [
      "CPU times: user 1.13 s, sys: 13.8 ms, total: 1.15 s\n",
      "Wall time: 1.15 s\n"
     ]
    },
    {
     "data": {
      "text/plain": [
       "11"
      ]
     },
     "execution_count": 15,
     "metadata": {},
     "output_type": "execute_result"
    }
   ],
   "source": [
    "%%time\n",
    "my_simpl.BettiNumber(2)\n"
   ]
  },
  {
   "cell_type": "code",
   "execution_count": 16,
   "metadata": {},
   "outputs": [],
   "source": [
    "my_simpl = AddMineGame(0)"
   ]
  },
  {
   "cell_type": "code",
   "execution_count": 17,
   "metadata": {},
   "outputs": [
    {
     "name": "stdout",
     "output_type": "stream",
     "text": [
      "CPU times: user 14.7 s, sys: 145 ms, total: 14.9 s\n",
      "Wall time: 14.9 s\n"
     ]
    },
    {
     "data": {
      "text/plain": [
       "0"
      ]
     },
     "execution_count": 17,
     "metadata": {},
     "output_type": "execute_result"
    }
   ],
   "source": [
    "%%time\n",
    "my_simpl.BettiNumber(3)"
   ]
  },
  {
   "cell_type": "code",
   "execution_count": 18,
   "metadata": {},
   "outputs": [],
   "source": [
    "other_simpl = AddOtherGame(0)"
   ]
  },
  {
   "cell_type": "code",
   "execution_count": 19,
   "metadata": {},
   "outputs": [
    {
     "name": "stdout",
     "output_type": "stream",
     "text": [
      "CPU times: user 2.77 s, sys: 6.6 ms, total: 2.78 s\n",
      "Wall time: 2.79 s\n"
     ]
    },
    {
     "data": {
      "text/plain": [
       "8"
      ]
     },
     "execution_count": 19,
     "metadata": {},
     "output_type": "execute_result"
    }
   ],
   "source": [
    "%%time\n",
    "other_simpl.betti_number(1)"
   ]
  },
  {
   "cell_type": "code",
   "execution_count": 20,
   "metadata": {},
   "outputs": [],
   "source": [
    "other_simpl = AddOtherGame(0)"
   ]
  },
  {
   "cell_type": "code",
   "execution_count": 21,
   "metadata": {},
   "outputs": [
    {
     "name": "stdout",
     "output_type": "stream",
     "text": [
      "CPU times: user 2min 50s, sys: 98.8 ms, total: 2min 50s\n",
      "Wall time: 2min 51s\n"
     ]
    },
    {
     "data": {
      "text/plain": [
       "11"
      ]
     },
     "execution_count": 21,
     "metadata": {},
     "output_type": "execute_result"
    }
   ],
   "source": [
    "%%time\n",
    "other_simpl.betti_number(2)"
   ]
  },
  {
   "cell_type": "code",
   "execution_count": 22,
   "metadata": {},
   "outputs": [],
   "source": [
    "other_simpl = AddOtherGame(0)"
   ]
  },
  {
   "cell_type": "code",
   "execution_count": 24,
   "metadata": {},
   "outputs": [],
   "source": [
    "sys.setrecursionlimit(1000000000)"
   ]
  },
  {
   "cell_type": "code",
   "execution_count": 25,
   "metadata": {},
   "outputs": [
    {
     "name": "stdout",
     "output_type": "stream",
     "text": [
      "CPU times: user 37min 7s, sys: 3.81 s, total: 37min 11s\n",
      "Wall time: 37min 22s\n"
     ]
    },
    {
     "data": {
      "text/plain": [
       "0"
      ]
     },
     "execution_count": 25,
     "metadata": {},
     "output_type": "execute_result"
    }
   ],
   "source": [
    "%%time\n",
    "other_simpl.betti_number(3)"
   ]
  },
  {
   "cell_type": "markdown",
   "metadata": {},
   "source": [
    "Лаплас"
   ]
  },
  {
   "cell_type": "markdown",
   "metadata": {},
   "source": [
    "k=1"
   ]
  },
  {
   "cell_type": "code",
   "execution_count": 26,
   "metadata": {},
   "outputs": [],
   "source": [
    "my_simpl = AddMineGame(0)"
   ]
  },
  {
   "cell_type": "code",
   "execution_count": 27,
   "metadata": {},
   "outputs": [
    {
     "name": "stdout",
     "output_type": "stream",
     "text": [
      "CPU times: user 114 ms, sys: 8.78 ms, total: 123 ms\n",
      "Wall time: 36 ms\n"
     ]
    }
   ],
   "source": [
    "%%time \n",
    "S = my_simpl.LaplacianMatrix(1, 0, 2, False)"
   ]
  },
  {
   "cell_type": "code",
   "execution_count": 28,
   "metadata": {},
   "outputs": [],
   "source": [
    "other_simpl = AddOtherGame(0)"
   ]
  },
  {
   "cell_type": "code",
   "execution_count": 29,
   "metadata": {},
   "outputs": [
    {
     "name": "stdout",
     "output_type": "stream",
     "text": [
      "CPU times: user 189 ms, sys: 7.1 ms, total: 196 ms\n",
      "Wall time: 90.7 ms\n"
     ]
    },
    {
     "data": {
      "text/plain": [
       "(600, 600)"
      ]
     },
     "execution_count": 29,
     "metadata": {},
     "output_type": "execute_result"
    }
   ],
   "source": [
    "%%time \n",
    "other_simpl.laplace_matrix(1).shape"
   ]
  },
  {
   "cell_type": "markdown",
   "metadata": {},
   "source": [
    "k=2"
   ]
  },
  {
   "cell_type": "code",
   "execution_count": 30,
   "metadata": {},
   "outputs": [],
   "source": [
    "my_simpl = AddMineGame(0)"
   ]
  },
  {
   "cell_type": "code",
   "execution_count": 31,
   "metadata": {},
   "outputs": [
    {
     "name": "stdout",
     "output_type": "stream",
     "text": [
      "CPU times: user 2.5 s, sys: 49.1 ms, total: 2.55 s\n",
      "Wall time: 433 ms\n"
     ]
    }
   ],
   "source": [
    "%%time \n",
    "S = my_simpl.LaplacianMatrix(2, 1, 3, False)"
   ]
  },
  {
   "cell_type": "code",
   "execution_count": 32,
   "metadata": {},
   "outputs": [],
   "source": [
    "other_simpl = AddOtherGame(0)"
   ]
  },
  {
   "cell_type": "code",
   "execution_count": 33,
   "metadata": {},
   "outputs": [
    {
     "name": "stdout",
     "output_type": "stream",
     "text": [
      "CPU times: user 1.86 s, sys: 53.5 ms, total: 1.91 s\n",
      "Wall time: 776 ms\n"
     ]
    },
    {
     "data": {
      "text/plain": [
       "(2131, 2131)"
      ]
     },
     "execution_count": 33,
     "metadata": {},
     "output_type": "execute_result"
    }
   ],
   "source": [
    "%%time \n",
    "other_simpl.laplace_matrix(2).shape"
   ]
  },
  {
   "cell_type": "markdown",
   "metadata": {},
   "source": [
    "k=3"
   ]
  },
  {
   "cell_type": "code",
   "execution_count": 34,
   "metadata": {},
   "outputs": [],
   "source": [
    "my_simpl = AddMineGame(0)"
   ]
  },
  {
   "cell_type": "code",
   "execution_count": 35,
   "metadata": {},
   "outputs": [
    {
     "name": "stdout",
     "output_type": "stream",
     "text": [
      "CPU times: user 16 s, sys: 425 ms, total: 16.4 s\n",
      "Wall time: 2.77 s\n"
     ]
    }
   ],
   "source": [
    "%%time \n",
    "S = my_simpl.LaplacianMatrix(3, 2, 4, False)"
   ]
  },
  {
   "cell_type": "code",
   "execution_count": 36,
   "metadata": {},
   "outputs": [],
   "source": [
    "other_simpl = AddOtherGame(0)"
   ]
  },
  {
   "cell_type": "code",
   "execution_count": 37,
   "metadata": {},
   "outputs": [
    {
     "name": "stdout",
     "output_type": "stream",
     "text": [
      "CPU times: user 14.6 s, sys: 303 ms, total: 14.9 s\n",
      "Wall time: 5.04 s\n"
     ]
    },
    {
     "data": {
      "text/plain": [
       "(4994, 4994)"
      ]
     },
     "execution_count": 37,
     "metadata": {},
     "output_type": "execute_result"
    }
   ],
   "source": [
    "%%time \n",
    "other_simpl.laplace_matrix(3).shape"
   ]
  },
  {
   "cell_type": "markdown",
   "metadata": {},
   "source": [
    "k=3, p=1, q=5"
   ]
  },
  {
   "cell_type": "code",
   "execution_count": 38,
   "metadata": {},
   "outputs": [],
   "source": [
    "my_simpl = AddMineGame(0)"
   ]
  },
  {
   "cell_type": "code",
   "execution_count": 39,
   "metadata": {},
   "outputs": [
    {
     "name": "stdout",
     "output_type": "stream",
     "text": [
      "CPU times: user 20.2 s, sys: 597 ms, total: 20.8 s\n",
      "Wall time: 3.58 s\n"
     ]
    }
   ],
   "source": [
    "%%time \n",
    "S = my_simpl.LaplacianMatrix(3, 1, 5, False)"
   ]
  },
  {
   "cell_type": "code",
   "execution_count": 40,
   "metadata": {},
   "outputs": [],
   "source": [
    "other_simpl = AddOtherGame(0)"
   ]
  },
  {
   "cell_type": "code",
   "execution_count": 41,
   "metadata": {},
   "outputs": [
    {
     "name": "stdout",
     "output_type": "stream",
     "text": [
      "CPU times: user 34.5 s, sys: 401 ms, total: 34.9 s\n",
      "Wall time: 22.7 s\n"
     ]
    },
    {
     "data": {
      "text/plain": [
       "(4994, 4994)"
      ]
     },
     "execution_count": 41,
     "metadata": {},
     "output_type": "execute_result"
    }
   ],
   "source": [
    "%%time \n",
    "other_simpl.laplace_matrix(k=3, p=2, q=2).shape"
   ]
  },
  {
   "cell_type": "markdown",
   "metadata": {},
   "source": [
    "k=5, p=3, q=7"
   ]
  },
  {
   "cell_type": "code",
   "execution_count": 42,
   "metadata": {},
   "outputs": [],
   "source": [
    "my_simpl = AddMineGame(0)"
   ]
  },
  {
   "cell_type": "code",
   "execution_count": 43,
   "metadata": {},
   "outputs": [
    {
     "name": "stdout",
     "output_type": "stream",
     "text": [
      "CPU times: user 2min 53s, sys: 5.55 s, total: 2min 58s\n",
      "Wall time: 29.7 s\n"
     ]
    }
   ],
   "source": [
    "%%time \n",
    "S = my_simpl.LaplacianMatrix(5, 3, 7, False)"
   ]
  },
  {
   "cell_type": "code",
   "execution_count": null,
   "metadata": {},
   "outputs": [],
   "source": [
    "other_simpl = AddOtherGame(0)"
   ]
  },
  {
   "cell_type": "code",
   "execution_count": null,
   "metadata": {},
   "outputs": [],
   "source": [
    "%%time \n",
    "other_simpl.laplace_matrix(k=5, p=2, q=2).shape"
   ]
  },
  {
   "cell_type": "markdown",
   "metadata": {},
   "source": [
    "k=11, p=5, q=13"
   ]
  },
  {
   "cell_type": "code",
   "execution_count": 44,
   "metadata": {},
   "outputs": [],
   "source": [
    "my_simpl = AddMineGame(0)"
   ]
  },
  {
   "cell_type": "code",
   "execution_count": 45,
   "metadata": {},
   "outputs": [
    {
     "name": "stdout",
     "output_type": "stream",
     "text": [
      "CPU times: user 7.06 s, sys: 1.33 s, total: 8.39 s\n",
      "Wall time: 4.14 s\n"
     ]
    }
   ],
   "source": [
    "%%time \n",
    "S = my_simpl.LaplacianMatrix(11, 5, 13, False)"
   ]
  },
  {
   "cell_type": "code",
   "execution_count": null,
   "metadata": {},
   "outputs": [],
   "source": [
    "other_simpl = AddOtherGame(0)"
   ]
  },
  {
   "cell_type": "code",
   "execution_count": null,
   "metadata": {},
   "outputs": [],
   "source": [
    "%%time \n",
    "other_simpl.laplace_matrix(k=11, p=6, q=2).shape"
   ]
  },
  {
   "cell_type": "markdown",
   "metadata": {},
   "source": [
    "k=11, p=10, q=12"
   ]
  },
  {
   "cell_type": "code",
   "execution_count": 46,
   "metadata": {},
   "outputs": [],
   "source": [
    "my_simpl = AddMineGame(0)"
   ]
  },
  {
   "cell_type": "code",
   "execution_count": 47,
   "metadata": {},
   "outputs": [
    {
     "name": "stdout",
     "output_type": "stream",
     "text": [
      "CPU times: user 2.65 s, sys: 45.7 ms, total: 2.7 s\n",
      "Wall time: 447 ms\n"
     ]
    }
   ],
   "source": [
    "%%time \n",
    "S = my_simpl.LaplacianMatrix(11, 10, 12, False)"
   ]
  },
  {
   "cell_type": "code",
   "execution_count": null,
   "metadata": {},
   "outputs": [],
   "source": [
    "len(S)"
   ]
  },
  {
   "cell_type": "code",
   "execution_count": null,
   "metadata": {},
   "outputs": [],
   "source": [
    "other_simpl = AddOtherGame(0)"
   ]
  },
  {
   "cell_type": "code",
   "execution_count": null,
   "metadata": {},
   "outputs": [],
   "source": [
    "%%time \n",
    "other_simpl.laplace_matrix(k=11, p=1, q=1).shape"
   ]
  },
  {
   "cell_type": "markdown",
   "metadata": {},
   "source": [
    "Boundary"
   ]
  },
  {
   "cell_type": "markdown",
   "metadata": {},
   "source": [
    "k=6, p=5"
   ]
  },
  {
   "cell_type": "code",
   "execution_count": 48,
   "metadata": {},
   "outputs": [],
   "source": [
    "my_simpl = AddMineGame(0)"
   ]
  },
  {
   "cell_type": "code",
   "execution_count": 49,
   "metadata": {},
   "outputs": [
    {
     "name": "stdout",
     "output_type": "stream",
     "text": [
      "CPU times: user 8.32 s, sys: 953 ms, total: 9.27 s\n",
      "Wall time: 9.54 s\n"
     ]
    },
    {
     "data": {
      "text/plain": [
       "(14221, 17635)"
      ]
     },
     "execution_count": 49,
     "metadata": {},
     "output_type": "execute_result"
    }
   ],
   "source": [
    "%%time\n",
    "tmp = np.array(my_simpl.BoundaryMatrix(6, 5))\n",
    "tmp.shape"
   ]
  },
  {
   "cell_type": "code",
   "execution_count": 28,
   "metadata": {},
   "outputs": [],
   "source": [
    "other_simpl = AddOtherGame(0)"
   ]
  },
  {
   "cell_type": "code",
   "execution_count": 29,
   "metadata": {},
   "outputs": [
    {
     "name": "stdout",
     "output_type": "stream",
     "text": [
      "CPU times: user 23.2 s, sys: 3.16 s, total: 26.4 s\n",
      "Wall time: 27.9 s\n"
     ]
    },
    {
     "data": {
      "text/plain": [
       "(14221, 17635)"
      ]
     },
     "execution_count": 29,
     "metadata": {},
     "output_type": "execute_result"
    }
   ],
   "source": [
    "%%time\n",
    "tmp = np.array(other_simpl.boundary_operator_matrix(6, 1))\n",
    "tmp.shape\n"
   ]
  },
  {
   "cell_type": "markdown",
   "metadata": {},
   "source": [
    "k=8, p=4"
   ]
  },
  {
   "cell_type": "code",
   "execution_count": 50,
   "metadata": {},
   "outputs": [],
   "source": [
    "my_simpl = AddMineGame(0)"
   ]
  },
  {
   "cell_type": "code",
   "execution_count": 51,
   "metadata": {},
   "outputs": [
    {
     "name": "stdout",
     "output_type": "stream",
     "text": [
      "CPU times: user 4.93 s, sys: 418 ms, total: 5.35 s\n",
      "Wall time: 5.46 s\n"
     ]
    },
    {
     "data": {
      "text/plain": [
       "(9333, 14390)"
      ]
     },
     "execution_count": 51,
     "metadata": {},
     "output_type": "execute_result"
    }
   ],
   "source": [
    "%%time\n",
    "tmp = np.array(my_simpl.BoundaryMatrix(8, 4))\n",
    "tmp.shape"
   ]
  },
  {
   "cell_type": "code",
   "execution_count": null,
   "metadata": {},
   "outputs": [],
   "source": [
    "other_simpl = AddOtherGame(0)"
   ]
  },
  {
   "cell_type": "code",
   "execution_count": null,
   "metadata": {},
   "outputs": [],
   "source": [
    "%%time\n",
    "tmp = np.array(other_simpl.boundary_operator_matrix(8, 4))\n",
    "tmp.shape\n"
   ]
  },
  {
   "cell_type": "markdown",
   "metadata": {},
   "source": [
    "Betweenness\n"
   ]
  },
  {
   "cell_type": "markdown",
   "metadata": {},
   "source": [
    "k=1, q=2 (vertices=2d, edge=3d)"
   ]
  },
  {
   "cell_type": "code",
   "execution_count": 52,
   "metadata": {},
   "outputs": [],
   "source": [
    "my_simpl = AddMineGame(0)"
   ]
  },
  {
   "cell_type": "code",
   "execution_count": 53,
   "metadata": {},
   "outputs": [
    {
     "name": "stdout",
     "output_type": "stream",
     "text": [
      "CPU times: user 2min 18s, sys: 236 ms, total: 2min 18s\n",
      "Wall time: 15 s\n"
     ]
    }
   ],
   "source": [
    "%%time\n",
    "U=my_simpl.BetweennessAll(1, 2, True)"
   ]
  },
  {
   "cell_type": "code",
   "execution_count": 36,
   "metadata": {},
   "outputs": [],
   "source": [
    "other_simpl = AddOtherGame(0)"
   ]
  },
  {
   "cell_type": "code",
   "execution_count": 37,
   "metadata": {},
   "outputs": [
    {
     "name": "stdout",
     "output_type": "stream",
     "text": [
      "CPU times: user 29.4 s, sys: 37.6 ms, total: 29.4 s\n",
      "Wall time: 29.7 s\n"
     ]
    }
   ],
   "source": [
    "%%time\n",
    "V = other_simpl.simplex_betweenness_centrality(p=1, q=2, weighted=True)"
   ]
  },
  {
   "cell_type": "markdown",
   "metadata": {},
   "source": [
    "k=1, q=2 (vertices=2d, edge=3d), not weighted"
   ]
  },
  {
   "cell_type": "code",
   "execution_count": 23,
   "metadata": {},
   "outputs": [],
   "source": [
    "my_simpl = AddMineGame(0)"
   ]
  },
  {
   "cell_type": "code",
   "execution_count": 24,
   "metadata": {},
   "outputs": [
    {
     "name": "stdout",
     "output_type": "stream",
     "text": [
      "CPU times: user 2min 5s, sys: 248 ms, total: 2min 5s\n",
      "Wall time: 13.9 s\n"
     ]
    }
   ],
   "source": [
    "%%time\n",
    "V=my_simpl.BetweennessAll(1, 2, False)"
   ]
  },
  {
   "cell_type": "code",
   "execution_count": 25,
   "metadata": {},
   "outputs": [],
   "source": [
    "other_simpl = AddOtherGame(0)"
   ]
  },
  {
   "cell_type": "code",
   "execution_count": 26,
   "metadata": {},
   "outputs": [
    {
     "name": "stdout",
     "output_type": "stream",
     "text": [
      "CPU times: user 1.87 s, sys: 4.1 ms, total: 1.87 s\n",
      "Wall time: 1.82 s\n"
     ]
    }
   ],
   "source": [
    "%%time\n",
    "V = other_simpl.simplex_betweenness_centrality(p=1, q=2, weighted=False)"
   ]
  },
  {
   "cell_type": "markdown",
   "metadata": {},
   "source": [
    "Closeness"
   ]
  },
  {
   "cell_type": "code",
   "execution_count": 24,
   "metadata": {},
   "outputs": [],
   "source": [
    "my_simpl = AddMineGame(0)"
   ]
  },
  {
   "cell_type": "code",
   "execution_count": 27,
   "metadata": {},
   "outputs": [
    {
     "name": "stdout",
     "output_type": "stream",
     "text": [
      "CPU times: user 9.97 s, sys: 26.9 ms, total: 10 s\n",
      "Wall time: 1.12 s\n"
     ]
    }
   ],
   "source": [
    "%%time\n",
    "S=my_simpl.ClosenessAll(2, 4, True)"
   ]
  },
  {
   "cell_type": "code",
   "execution_count": 21,
   "metadata": {},
   "outputs": [],
   "source": [
    "other_simpl = AddOtherGame(0)"
   ]
  },
  {
   "cell_type": "code",
   "execution_count": 23,
   "metadata": {},
   "outputs": [
    {
     "name": "stdout",
     "output_type": "stream",
     "text": [
      "CPU times: user 1min, sys: 121 ms, total: 1min\n",
      "Wall time: 59.3 s\n"
     ]
    }
   ],
   "source": [
    "%%time\n",
    "V = other_simpl.simplex_closeness_centrality(p=2, q=4, weighted=False)"
   ]
  },
  {
   "cell_type": "markdown",
   "metadata": {},
   "source": [
    "asdf\n"
   ]
  },
  {
   "cell_type": "code",
   "execution_count": null,
   "metadata": {},
   "outputs": [],
   "source": []
  },
  {
   "cell_type": "code",
   "execution_count": 8,
   "metadata": {},
   "outputs": [],
   "source": [
    "def LaplMine(k, p, q, w):\n",
    "  my_simpl = AddMineGame(0)\n",
    "  start = time.time()\n",
    "  my_simpl.LaplacianMatrix(k, p, q, w)\n",
    "  end = time.time()\n",
    "  return end - start"
   ]
  },
  {
   "cell_type": "code",
   "execution_count": 9,
   "metadata": {},
   "outputs": [],
   "source": [
    "def LaplOther(k, p, q, w):\n",
    "  other_simpl = AddOtherGame(0)\n",
    "  start = time.time()\n",
    "  if w == False:\n",
    "    other_simpl.laplace_matrix(k, p, q)\n",
    "  else:\n",
    "    other_simpl.laplace_matrix_weighted(k, p, q)\n",
    "  end = time.time()\n",
    "  return end - start"
   ]
  },
  {
   "cell_type": "code",
   "execution_count": 10,
   "metadata": {},
   "outputs": [],
   "source": [
    "x = np.arange(start=3, stop=14)"
   ]
  },
  {
   "cell_type": "code",
   "execution_count": 11,
   "metadata": {},
   "outputs": [],
   "source": [
    "y1 = []\n",
    "y2 = []"
   ]
  },
  {
   "cell_type": "code",
   "execution_count": 12,
   "metadata": {},
   "outputs": [
    {
     "name": "stdout",
     "output_type": "stream",
     "text": [
      "3 3.1110541820526123\n",
      "4 11.586480140686035\n",
      "5 29.381788969039917\n",
      "6 48.69130182266235\n",
      "7 48.12745118141174\n",
      "8 29.2378830909729\n",
      "9 11.560977935791016\n",
      "10 2.6106879711151123\n",
      "11 0.49315619468688965\n",
      "12 0.033798933029174805\n",
      "13 0.004458189010620117\n"
     ]
    }
   ],
   "source": [
    "for k in x:\n",
    "  cur_time = LaplMine(k, k - 2, k + 2, False)\n",
    "  print(k, cur_time)\n",
    "  y1.append(cur_time)\n",
    "  "
   ]
  },
  {
   "cell_type": "code",
   "execution_count": 14,
   "metadata": {},
   "outputs": [
    {
     "name": "stdout",
     "output_type": "stream",
     "text": [
      "3 22.11212706565857\n",
      "4 74.0863950252533\n",
      "5 141.93740606307983\n",
      "6 244.08216619491577\n",
      "7 415.97249364852905\n",
      "8 230.6967008113861\n",
      "9 114.43729901313782\n",
      "10 54.59015679359436\n",
      "11 34.30890607833862\n",
      "12 4.283010005950928\n",
      "13 0.630958080291748\n"
     ]
    }
   ],
   "source": [
    "for k in x:\n",
    "  cur_time = LaplOther(k, 2, 2, False)\n",
    "  print(k, cur_time)\n",
    "  y2.append(cur_time)\n",
    "  "
   ]
  },
  {
   "cell_type": "code",
   "execution_count": 15,
   "metadata": {},
   "outputs": [],
   "source": [
    "import matplotlib.pyplot as plt\n"
   ]
  },
  {
   "cell_type": "code",
   "execution_count": 16,
   "metadata": {},
   "outputs": [],
   "source": [
    "y1 = [3.1110541820526123, 11.586480140686035, 29.381788969039917, 48.69130182266235, 48.12745118141174, 29.2378830909729, 11.560977935791016, 2.6106879711151123, 0.49315619468688965, 0.033798933029174805, 0.004458189010620117]\n",
    "y2 = [22.11212706565857, 74.0863950252533, 141.93740606307983, 244.08216619491577, 415.97249364852905, 230.6967008113861, 114.43729901313782, 54.59015679359436, 34.30890607833862, 4.283010005950928, 0.630958080291748]"
   ]
  },
  {
   "cell_type": "code",
   "execution_count": 17,
   "metadata": {},
   "outputs": [
    {
     "data": {
      "image/png": "[encoded data removed]",
      "text/plain": [
       "<Figure size 1000x800 with 1 Axes>"
      ]
     },
     "metadata": {},
     "output_type": "display_data"
    }
   ],
   "source": [
    "plt.figure(figsize=(10, 8))\n",
    "plt.plot(x, y1, label ='C++')\n",
    "plt.plot(x, y2, label ='Python')\n",
    "\n",
    "plt.xlabel(\"k\")\n",
    "plt.ylabel(\"Время (s)\")\n",
    "plt.legend()\n",
    "plt.title('Зависимость времени построения Лапласина от k, при p=k-2, q=k+2, weighted=False')\n",
    "plt.show()\n"
   ]
  },
  {
   "cell_type": "code",
   "execution_count": 18,
   "metadata": {},
   "outputs": [],
   "source": [
    "y1 = []\n",
    "y2 = []"
   ]
  },
  {
   "cell_type": "code",
   "execution_count": 19,
   "metadata": {},
   "outputs": [
    {
     "name": "stdout",
     "output_type": "stream",
     "text": [
      "3 5.423238039016724\n",
      "4 19.25728988647461\n",
      "5 48.09516978263855\n",
      "6 77.63880181312561\n",
      "7 74.74710988998413\n",
      "8 47.38878083229065\n",
      "9 19.341917037963867\n",
      "10 4.155861139297485\n",
      "11 0.722775936126709\n",
      "12 0.05752086639404297\n",
      "13 0.005347251892089844\n"
     ]
    }
   ],
   "source": [
    "for k in x:\n",
    "  cur_time = LaplMine(k, k - 2, k + 2, True)\n",
    "  print(k, cur_time)\n",
    "  y1.append(cur_time)\n",
    "  "
   ]
  },
  {
   "cell_type": "code",
   "execution_count": 25,
   "metadata": {},
   "outputs": [
    {
     "name": "stdout",
     "output_type": "stream",
     "text": [
      "3 36.27970790863037\n",
      "4 133.46775579452515\n",
      "5 282.0338008403778\n",
      "6 411.0457830429077\n",
      "7 395.2436089515686\n",
      "8 383.86784529685974\n",
      "9 201.51124596595764\n",
      "10 89.13411712646484\n",
      "11 31.353326082229614\n",
      "12 6.321484088897705\n",
      "13 0.8035547733306885\n"
     ]
    }
   ],
   "source": [
    "for k in x:\n",
    "  cur_time = LaplOther(k, 2, 2, True)\n",
    "  print(k, cur_time)\n",
    "  y2.append(cur_time)\n",
    "  "
   ]
  },
  {
   "cell_type": "code",
   "execution_count": 23,
   "metadata": {},
   "outputs": [],
   "source": [
    "y1=[5.423238039016724,\n",
    " 19.25728988647461,\n",
    " 48.09516978263855,\n",
    " 77.63880181312561,\n",
    " 74.74710988998413,\n",
    " 47.38878083229065,\n",
    " 19.341917037963867,\n",
    " 4.155861139297485,\n",
    " 0.722775936126709,\n",
    " 0.05752086639404297,\n",
    " 0.005347251892089844]"
   ]
  },
  {
   "cell_type": "code",
   "execution_count": 24,
   "metadata": {},
   "outputs": [],
   "source": [
    "y2=[36.27970790863037,\n",
    " 133.46775579452515,\n",
    " 282.0338008403778,\n",
    " 411.0457830429077,\n",
    " 395.2436089515686,\n",
    " 383.86784529685974,\n",
    " 201.51124596595764,\n",
    " 89.13411712646484,\n",
    " 31.353326082229614,\n",
    " 6.321484088897705,\n",
    " 0.8035547733306885]"
   ]
  },
  {
   "cell_type": "code",
   "execution_count": 25,
   "metadata": {},
   "outputs": [
    {
     "data": {
      "image/png": "[encoded data removed]",
      "text/plain": [
       "<Figure size 1000x800 with 1 Axes>"
      ]
     },
     "metadata": {},
     "output_type": "display_data"
    }
   ],
   "source": [
    "plt.figure(figsize=(10, 8))\n",
    "plt.plot(x, y1, label ='C++')\n",
    "plt.plot(x, y2, label ='Python')\n",
    "\n",
    "plt.xlabel(\"k\")\n",
    "plt.ylabel(\"Время (s)\")\n",
    "plt.legend()\n",
    "plt.title('Зависимость времени построения Лапласина от k, при p=k-2, q=k+2, weighted=True')\n",
    "plt.show()\n"
   ]
  },
  {
   "cell_type": "markdown",
   "metadata": {},
   "source": [
    "Boundary\n"
   ]
  },
  {
   "cell_type": "code",
   "execution_count": 17,
   "metadata": {},
   "outputs": [],
   "source": [
    "x = np.arange(start=2, stop=16)\n"
   ]
  },
  {
   "cell_type": "code",
   "execution_count": 18,
   "metadata": {},
   "outputs": [],
   "source": [
    "def BoundMine(k, p):\n",
    "  my_simpl = AddMineGame(0)\n",
    "  start = time.time()\n",
    "  my_simpl.BoundaryMatrix(k, p)\n",
    "  end = time.time()\n",
    "  return end - start"
   ]
  },
  {
   "cell_type": "code",
   "execution_count": 19,
   "metadata": {},
   "outputs": [],
   "source": [
    "def BoundOther(k, p):\n",
    "  other_simpl = AddOtherGame(0)\n",
    "  start = time.time()\n",
    "  other_simpl.boundary_operator_matrix(k, p)\n",
    "  end = time.time()\n",
    "  return end - start"
   ]
  },
  {
   "cell_type": "code",
   "execution_count": 20,
   "metadata": {},
   "outputs": [
    {
     "name": "stdout",
     "output_type": "stream",
     "text": [
      "2 0.001889944076538086\n",
      "3 0.025484085083007812\n",
      "4 0.21400117874145508\n",
      "5 0.8769898414611816\n",
      "6 2.169235944747925\n",
      "7 3.165086030960083\n",
      "8 3.1581718921661377\n",
      "9 2.081207036972046\n",
      "10 0.9234681129455566\n",
      "11 0.19566798210144043\n",
      "12 0.03374481201171875\n",
      "13 0.00521397590637207\n",
      "14 0.002524137496948242\n",
      "15 9.393692016601562e-05\n"
     ]
    }
   ],
   "source": [
    "for k in x:\n",
    "  cur_time = BoundMine(k, k - 2)\n",
    "  print(k, cur_time)\n",
    "  y1.append(cur_time)\n",
    "  "
   ]
  },
  {
   "cell_type": "code",
   "execution_count": 21,
   "metadata": {},
   "outputs": [
    {
     "name": "stdout",
     "output_type": "stream",
     "text": [
      "2 0.16742515563964844\n",
      "3 0.9801530838012695\n",
      "4 4.622835874557495\n",
      "5 19.47725200653076\n",
      "6 66.19969367980957\n",
      "7 118.82330918312073\n",
      "8 176.69122195243835\n",
      "9 96.88126492500305\n",
      "10 53.33071303367615\n",
      "11 19.85325002670288\n",
      "12 4.0754852294921875\n",
      "13 0.6295428276062012\n",
      "14 0.0748140811920166\n",
      "15 0.004664897918701172\n"
     ]
    }
   ],
   "source": [
    "for k in x:\n",
    "  cur_time = BoundOther(k, 2)\n",
    "  print(k, cur_time)\n",
    "  y2.append(cur_time)\n",
    "  "
   ]
  },
  {
   "cell_type": "code",
   "execution_count": 25,
   "metadata": {},
   "outputs": [
    {
     "data": {
      "image/png": "[encoded data removed]",
      "text/plain": [
       "<Figure size 1000x800 with 1 Axes>"
      ]
     },
     "metadata": {},
     "output_type": "display_data"
    }
   ],
   "source": [
    "plt.figure(figsize=(10, 8))\n",
    "plt.plot(x, y1, label ='C++')\n",
    "plt.plot(x, y2, label ='Python')\n",
    "\n",
    "plt.xlabel(\"k\")\n",
    "plt.ylabel(\"Время (s)\")\n",
    "plt.legend()\n",
    "plt.title('Зависимость времени построения Граничного от k, при p=k-2')\n",
    "plt.show()\n"
   ]
  },
  {
   "cell_type": "markdown",
   "metadata": {},
   "source": [
    "Betweness"
   ]
  },
  {
   "cell_type": "code",
   "execution_count": 30,
   "metadata": {},
   "outputs": [],
   "source": [
    "def BetwMine(p, q, w):\n",
    "  my_simpl = AddMineGame(0)\n",
    "  start = time.time()\n",
    "  my_simpl.BetweennessAll(p, q, w)\n",
    "  end = time.time()\n",
    "  return end - start"
   ]
  },
  {
   "cell_type": "code",
   "execution_count": 31,
   "metadata": {},
   "outputs": [],
   "source": [
    "def BetwOther(p, q, w):\n",
    "  other_simpl = AddOtherGame(0)\n",
    "  start = time.time()\n",
    "  other_simpl.simplex_betweenness_centrality(p, q, w)\n",
    "  end = time.time()\n",
    "  return end - start"
   ]
  },
  {
   "cell_type": "code",
   "execution_count": 44,
   "metadata": {},
   "outputs": [],
   "source": [
    "x = np.arange(start=0, stop=13)"
   ]
  },
  {
   "cell_type": "code",
   "execution_count": 45,
   "metadata": {},
   "outputs": [],
   "source": [
    "y1 = []\n",
    "y2 = []"
   ]
  },
  {
   "cell_type": "code",
   "execution_count": 11,
   "metadata": {},
   "outputs": [
    {
     "data": {
      "text/plain": [
       "[(0, 56),\n",
       " (1, 600),\n",
       " (2, 2131),\n",
       " (3, 4994),\n",
       " (4, 9333),\n",
       " (5, 14221),\n",
       " (6, 17635),\n",
       " (7, 17730),\n",
       " (8, 14390),\n",
       " (9, 9362),\n",
       " (10, 4822),\n",
       " (11, 1925),\n",
       " (12, 575),\n",
       " (13, 121),\n",
       " (14, 16),\n",
       " (15, 1)]"
      ]
     },
     "execution_count": 11,
     "metadata": {},
     "output_type": "execute_result"
    }
   ],
   "source": [
    "my_simpl.FVector()"
   ]
  },
  {
   "cell_type": "code",
   "execution_count": 15,
   "metadata": {},
   "outputs": [
    {
     "data": {
      "text/plain": [
       "426630.0"
      ]
     },
     "execution_count": 15,
     "metadata": {},
     "output_type": "execute_result"
    }
   ],
   "source": [
    "sum(my_simpl.DegreeAll(4, 5))"
   ]
  },
  {
   "cell_type": "code",
   "execution_count": 46,
   "metadata": {},
   "outputs": [
    {
     "name": "stdout",
     "output_type": "stream",
     "text": [
      "0 0.005983829498291016\n"
     ]
    }
   ],
   "source": [
    "for k in x:\n",
    "  cur_time = BetwMine(k, k+1, False)\n",
    "  print(k, cur_time)\n",
    "  y1.append(cur_time)\n",
    "  "
   ]
  },
  {
   "cell_type": "code",
   "execution_count": null,
   "metadata": {},
   "outputs": [],
   "source": [
    "for k in x:\n",
    "  cur_time = BetwOther(k, k+1, False)\n",
    "  print(k, cur_time)\n",
    "  y2.append(cur_time)\n",
    "  "
   ]
  },
  {
   "cell_type": "code",
   "execution_count": null,
   "metadata": {},
   "outputs": [],
   "source": [
    "y1"
   ]
  },
  {
   "cell_type": "code",
   "execution_count": null,
   "metadata": {},
   "outputs": [],
   "source": [
    "y2"
   ]
  },
  {
   "cell_type": "code",
   "execution_count": null,
   "metadata": {},
   "outputs": [],
   "source": [
    "plt.figure(figsize=(10, 8))\n",
    "plt.plot(x, y1, label ='C++')\n",
    "plt.plot(x, y2, label ='Python')\n",
    "\n",
    "plt.xlabel(\"k\")\n",
    "plt.ylabel(\"Время (s)\")\n",
    "plt.legend()\n",
    "plt.title('Зависимость времени подсчёта betweenness от k, при q=k+1')\n",
    "plt.show()\n"
   ]
  },
  {
   "cell_type": "code",
   "execution_count": null,
   "metadata": {},
   "outputs": [],
   "source": []
  },
  {
   "cell_type": "code",
   "execution_count": null,
   "metadata": {},
   "outputs": [],
   "source": [
    "LaplMine(6, 4, 8, True)"
   ]
  },
  {
   "cell_type": "code",
   "execution_count": null,
   "metadata": {},
   "outputs": [],
   "source": []
  }
 ],
 "metadata": {
  "kernelspec": {
   "display_name": "Python 3",
   "language": "python",
   "name": "python3"
  },
  "language_info": {
   "codemirror_mode": {
    "name": "ipython",
    "version": 3
   },
   "file_extension": ".py",
   "mimetype": "text/x-python",
   "name": "python",
   "nbconvert_exporter": "python",
   "pygments_lexer": "ipython3",
   "version": "3.12.2"
  }
 },
 "nbformat": 4,
 "nbformat_minor": 2
}
