{
 "cells": [
  {
   "cell_type": "code",
   "execution_count": 1,
   "metadata": {},
   "outputs": [],
   "source": [
    "import sys\n",
    "sys.path.append('../../build')"
   ]
  },
  {
   "cell_type": "code",
   "execution_count": 2,
   "metadata": {},
   "outputs": [],
   "source": [
    "import time"
   ]
  },
  {
   "cell_type": "code",
   "execution_count": 3,
   "metadata": {},
   "outputs": [],
   "source": [
    "import numpy as np\n",
    "import scipy.sparse as sp\n",
    "import simpl as MySimplex\n",
    "from simplicialx.simplicial import SimplicialComplex"
   ]
  },
  {
   "cell_type": "code",
   "execution_count": 4,
   "metadata": {},
   "outputs": [],
   "source": [
    "games = []\n",
    "\n",
    "with open(\"ten_games_bin_matrices.txt\", \"r\") as file:\n",
    "  games = []\n",
    "  while True:\n",
    "    description = file.readline()\n",
    "    if description == \"\":\n",
    "      break\n",
    "    game = []\n",
    "    while True:\n",
    "      move = []\n",
    "      while True:\n",
    "        line = file.readline()\n",
    "        if line == \"Next turn\\n\":\n",
    "          break\n",
    "        move.append(list(map(int, line.split())))\n",
    "      game.append(move)\n",
    "      next = file.readline()\n",
    "      if next == \"End\\n\":\n",
    "        break\n",
    "    games.append(game)"
   ]
  },
  {
   "cell_type": "code",
   "execution_count": 5,
   "metadata": {},
   "outputs": [],
   "source": [
    "my_simpl = MySimplex.SimplicialComplex()\n",
    "other_simpl = SimplicialComplex()"
   ]
  },
  {
   "cell_type": "code",
   "execution_count": 6,
   "metadata": {},
   "outputs": [],
   "source": [
    "def AddMineSimplex(my_simpl, simplex):\n",
    "  my_simpl.AddSimplex(simplex)\n",
    "      \n",
    "def AddOtherSimplex(other_simpl, simplex):\n",
    "  other_simpl.add(simplex)\n",
    "  \n",
    "def AddMineGame(game_index=0):\n",
    "  my_simpl = MySimplex.SimplicialComplex()\n",
    "  \n",
    "  first_game = games[game_index]\n",
    "  for move in first_game:\n",
    "    for figure in move:\n",
    "      indices = [i for i, x in enumerate(figure) if x == 1]\n",
    "      if indices != []:\n",
    "        AddMineSimplex(my_simpl, indices)\n",
    "  return my_simpl\n",
    "  \n",
    "def AddOtherGame(game_index=0):\n",
    "  other_simpl = SimplicialComplex()\n",
    "  \n",
    "  first_game = games[game_index]\n",
    "  for move in first_game:\n",
    "    for figure in move:\n",
    "      indices = [i for i, x in enumerate(figure) if x == 1]\n",
    "      if indices != []:\n",
    "        AddOtherSimplex(other_simpl, indices)\n",
    "  return other_simpl\n",
    "     "
   ]
  },
  {
   "cell_type": "code",
   "execution_count": 7,
   "metadata": {},
   "outputs": [
    {
     "name": "stdout",
     "output_type": "stream",
     "text": [
      "Number of moves in 0th, game: 37\n",
      "Number of moves in 1th, game: 72\n",
      "Number of moves in 2th, game: 65\n",
      "Number of moves in 3th, game: 102\n",
      "Number of moves in 4th, game: 60\n",
      "Number of moves in 5th, game: 41\n",
      "Number of moves in 6th, game: 151\n",
      "Number of moves in 7th, game: 149\n",
      "Number of moves in 8th, game: 63\n",
      "Number of moves in 9th, game: 59\n"
     ]
    }
   ],
   "source": [
    "for i, game in enumerate(games):\n",
    "  print(f\"Number of moves in {i}th, game: {len(game)}\")"
   ]
  },
  {
   "cell_type": "code",
   "execution_count": 8,
   "metadata": {},
   "outputs": [
    {
     "name": "stdout",
     "output_type": "stream",
     "text": [
      "CPU times: user 13.2 s, sys: 29.7 ms, total: 13.2 s\n",
      "Wall time: 13.2 s\n"
     ]
    }
   ],
   "source": [
    "%%time\n",
    "my_simpl = AddMineGame(0)"
   ]
  },
  {
   "cell_type": "code",
   "execution_count": 9,
   "metadata": {},
   "outputs": [
    {
     "name": "stdout",
     "output_type": "stream",
     "text": [
      "CPU times: user 15.7 s, sys: 72.2 ms, total: 15.8 s\n",
      "Wall time: 16 s\n"
     ]
    }
   ],
   "source": [
    "%%time\n",
    "other_simpl = AddOtherGame(0)"
   ]
  },
  {
   "cell_type": "code",
   "execution_count": 10,
   "metadata": {},
   "outputs": [
    {
     "data": {
      "text/plain": [
       "[(0, 56),\n",
       " (1, 600),\n",
       " (2, 2131),\n",
       " (3, 4994),\n",
       " (4, 9333),\n",
       " (5, 14221),\n",
       " (6, 17635),\n",
       " (7, 17730),\n",
       " (8, 14390),\n",
       " (9, 9362),\n",
       " (10, 4822),\n",
       " (11, 1925),\n",
       " (12, 575),\n",
       " (13, 121),\n",
       " (14, 16),\n",
       " (15, 1)]"
      ]
     },
     "execution_count": 10,
     "metadata": {},
     "output_type": "execute_result"
    }
   ],
   "source": [
    "my_simpl.FVector()"
   ]
  },
  {
   "cell_type": "code",
   "execution_count": 11,
   "metadata": {},
   "outputs": [
    {
     "data": {
      "text/plain": [
       "array([   56,   600,  2131,  4994,  9333, 14221, 17635, 17730, 14390,\n",
       "        9362,  4822,  1925,   575,   121,    16,     1])"
      ]
     },
     "execution_count": 11,
     "metadata": {},
     "output_type": "execute_result"
    }
   ],
   "source": [
    "other_simpl.f_vector"
   ]
  },
  {
   "cell_type": "markdown",
   "metadata": {},
   "source": [
    "### Числа Бетти"
   ]
  },
  {
   "cell_type": "markdown",
   "metadata": {},
   "source": [
    "С++"
   ]
  },
  {
   "cell_type": "code",
   "execution_count": 8,
   "metadata": {},
   "outputs": [],
   "source": [
    "my_simpl = AddMineGame(0)"
   ]
  },
  {
   "cell_type": "code",
   "execution_count": 9,
   "metadata": {},
   "outputs": [
    {
     "name": "stdout",
     "output_type": "stream",
     "text": [
      "CPU times: user 1.2 ms, sys: 98 µs, total: 1.3 ms\n",
      "Wall time: 1.31 ms\n"
     ]
    },
    {
     "data": {
      "text/plain": [
       "1"
      ]
     },
     "execution_count": 9,
     "metadata": {},
     "output_type": "execute_result"
    }
   ],
   "source": [
    "%%time\n",
    "my_simpl.BettiNumber(0)"
   ]
  },
  {
   "cell_type": "code",
   "execution_count": 16,
   "metadata": {},
   "outputs": [],
   "source": [
    "my_simpl = AddMineGame(0)"
   ]
  },
  {
   "cell_type": "code",
   "execution_count": 17,
   "metadata": {},
   "outputs": [
    {
     "name": "stdout",
     "output_type": "stream",
     "text": [
      "CPU times: user 24 ms, sys: 1.33 ms, total: 25.3 ms\n",
      "Wall time: 25.1 ms\n"
     ]
    },
    {
     "data": {
      "text/plain": [
       "8"
      ]
     },
     "execution_count": 17,
     "metadata": {},
     "output_type": "execute_result"
    }
   ],
   "source": [
    "%%time\n",
    "my_simpl.BettiNumber(1)\n"
   ]
  },
  {
   "cell_type": "code",
   "execution_count": 18,
   "metadata": {},
   "outputs": [],
   "source": [
    "my_simpl = AddMineGame(0)"
   ]
  },
  {
   "cell_type": "code",
   "execution_count": 19,
   "metadata": {},
   "outputs": [
    {
     "name": "stdout",
     "output_type": "stream",
     "text": [
      "CPU times: user 1.13 s, sys: 13.8 ms, total: 1.15 s\n",
      "Wall time: 1.15 s\n"
     ]
    },
    {
     "data": {
      "text/plain": [
       "11"
      ]
     },
     "execution_count": 19,
     "metadata": {},
     "output_type": "execute_result"
    }
   ],
   "source": [
    "%%time\n",
    "my_simpl.BettiNumber(2)\n"
   ]
  },
  {
   "cell_type": "code",
   "execution_count": null,
   "metadata": {},
   "outputs": [],
   "source": [
    "my_simpl = AddMineGame(0)"
   ]
  },
  {
   "cell_type": "code",
   "execution_count": null,
   "metadata": {},
   "outputs": [],
   "source": [
    "%%time\n",
    "my_simpl.BettiNumber(3)"
   ]
  },
  {
   "cell_type": "markdown",
   "metadata": {},
   "source": [
    "Питон"
   ]
  },
  {
   "cell_type": "code",
   "execution_count": 22,
   "metadata": {},
   "outputs": [],
   "source": [
    "other_simpl = AddOtherGame(0)"
   ]
  },
  {
   "cell_type": "code",
   "execution_count": 23,
   "metadata": {},
   "outputs": [
    {
     "name": "stdout",
     "output_type": "stream",
     "text": [
      "CPU times: user 14.6 ms, sys: 1.49 ms, total: 16.1 ms\n",
      "Wall time: 15 ms\n"
     ]
    },
    {
     "data": {
      "text/plain": [
       "1"
      ]
     },
     "execution_count": 23,
     "metadata": {},
     "output_type": "execute_result"
    }
   ],
   "source": [
    "%%time \n",
    "other_simpl.betti_number(0)"
   ]
  },
  {
   "cell_type": "code",
   "execution_count": 24,
   "metadata": {},
   "outputs": [],
   "source": [
    "other_simpl = AddOtherGame(0)"
   ]
  },
  {
   "cell_type": "code",
   "execution_count": 25,
   "metadata": {},
   "outputs": [
    {
     "name": "stdout",
     "output_type": "stream",
     "text": [
      "CPU times: user 2.77 s, sys: 9.85 ms, total: 2.78 s\n",
      "Wall time: 2.8 s\n"
     ]
    },
    {
     "data": {
      "text/plain": [
       "8"
      ]
     },
     "execution_count": 25,
     "metadata": {},
     "output_type": "execute_result"
    }
   ],
   "source": [
    "%%time\n",
    "other_simpl.betti_number(1)"
   ]
  },
  {
   "cell_type": "code",
   "execution_count": null,
   "metadata": {},
   "outputs": [],
   "source": [
    "other_simpl = AddOtherGame(0)"
   ]
  },
  {
   "cell_type": "code",
   "execution_count": 15,
   "metadata": {},
   "outputs": [
    {
     "name": "stdout",
     "output_type": "stream",
     "text": [
      "CPU times: user 2min 49s, sys: 268 ms, total: 2min 50s\n",
      "Wall time: 2min 51s\n"
     ]
    },
    {
     "data": {
      "text/plain": [
       "11"
      ]
     },
     "execution_count": 15,
     "metadata": {},
     "output_type": "execute_result"
    }
   ],
   "source": [
    "%%time\n",
    "other_simpl.betti_number(2)"
   ]
  },
  {
   "cell_type": "code",
   "execution_count": null,
   "metadata": {},
   "outputs": [],
   "source": [
    "other_simpl = AddOtherGame(0)"
   ]
  },
  {
   "cell_type": "code",
   "execution_count": null,
   "metadata": {},
   "outputs": [],
   "source": [
    "sys.setrecursionlimit(1000000000)"
   ]
  },
  {
   "cell_type": "code",
   "execution_count": null,
   "metadata": {},
   "outputs": [],
   "source": [
    "%%time\n",
    "other_simpl.betti_number(3)"
   ]
  },
  {
   "cell_type": "markdown",
   "metadata": {},
   "source": [
    "Лапласиан"
   ]
  },
  {
   "cell_type": "markdown",
   "metadata": {},
   "source": [
    "k=1"
   ]
  },
  {
   "cell_type": "code",
   "execution_count": 8,
   "metadata": {},
   "outputs": [],
   "source": [
    "my_simpl = AddMineGame(0)"
   ]
  },
  {
   "cell_type": "code",
   "execution_count": 9,
   "metadata": {},
   "outputs": [
    {
     "name": "stdout",
     "output_type": "stream",
     "text": [
      "CPU times: user 4.99 ms, sys: 912 µs, total: 5.9 ms\n",
      "Wall time: 5.93 ms\n"
     ]
    }
   ],
   "source": [
    "%%time \n",
    "S = my_simpl.LaplacianMatrix(1, 0, 2, False)"
   ]
  },
  {
   "cell_type": "code",
   "execution_count": 28,
   "metadata": {},
   "outputs": [],
   "source": [
    "other_simpl = AddOtherGame(0)"
   ]
  },
  {
   "cell_type": "code",
   "execution_count": 29,
   "metadata": {},
   "outputs": [
    {
     "name": "stdout",
     "output_type": "stream",
     "text": [
      "CPU times: user 318 ms, sys: 6.18 ms, total: 324 ms\n",
      "Wall time: 105 ms\n"
     ]
    },
    {
     "data": {
      "text/plain": [
       "(600, 600)"
      ]
     },
     "execution_count": 29,
     "metadata": {},
     "output_type": "execute_result"
    }
   ],
   "source": [
    "%%time \n",
    "other_simpl.laplace_matrix(1).shape"
   ]
  },
  {
   "cell_type": "markdown",
   "metadata": {},
   "source": [
    "k=2"
   ]
  },
  {
   "cell_type": "code",
   "execution_count": 30,
   "metadata": {},
   "outputs": [],
   "source": [
    "my_simpl = AddMineGame(0)"
   ]
  },
  {
   "cell_type": "code",
   "execution_count": 32,
   "metadata": {},
   "outputs": [
    {
     "name": "stdout",
     "output_type": "stream",
     "text": [
      "CPU times: user 11 ms, sys: 435 µs, total: 11.4 ms\n",
      "Wall time: 11.3 ms\n"
     ]
    }
   ],
   "source": [
    "%%time \n",
    "S = my_simpl.LaplacianMatrix(2, 1, 3, False)"
   ]
  },
  {
   "cell_type": "code",
   "execution_count": 33,
   "metadata": {},
   "outputs": [],
   "source": [
    "other_simpl = AddOtherGame(0)"
   ]
  },
  {
   "cell_type": "code",
   "execution_count": 34,
   "metadata": {},
   "outputs": [
    {
     "name": "stdout",
     "output_type": "stream",
     "text": [
      "CPU times: user 2.18 s, sys: 52.8 ms, total: 2.23 s\n",
      "Wall time: 790 ms\n"
     ]
    },
    {
     "data": {
      "text/plain": [
       "(2131, 2131)"
      ]
     },
     "execution_count": 34,
     "metadata": {},
     "output_type": "execute_result"
    }
   ],
   "source": [
    "%%time \n",
    "other_simpl.laplace_matrix(2).shape"
   ]
  },
  {
   "cell_type": "markdown",
   "metadata": {},
   "source": [
    "k=3"
   ]
  },
  {
   "cell_type": "code",
   "execution_count": 10,
   "metadata": {},
   "outputs": [],
   "source": [
    "my_simpl = AddMineGame(0)"
   ]
  },
  {
   "cell_type": "code",
   "execution_count": 11,
   "metadata": {},
   "outputs": [
    {
     "name": "stdout",
     "output_type": "stream",
     "text": [
      "CPU times: user 20.1 ms, sys: 1.08 ms, total: 21.2 ms\n",
      "Wall time: 21.2 ms\n"
     ]
    }
   ],
   "source": [
    "%%time \n",
    "S = my_simpl.LaplacianMatrix(3, 2, 4, False)"
   ]
  },
  {
   "cell_type": "code",
   "execution_count": 10,
   "metadata": {},
   "outputs": [],
   "source": [
    "other_simpl = AddOtherGame(0)"
   ]
  },
  {
   "cell_type": "code",
   "execution_count": 11,
   "metadata": {},
   "outputs": [
    {
     "name": "stdout",
     "output_type": "stream",
     "text": [
      "CPU times: user 14 s, sys: 299 ms, total: 14.2 s\n",
      "Wall time: 5.21 s\n"
     ]
    },
    {
     "data": {
      "text/plain": [
       "(4994, 4994)"
      ]
     },
     "execution_count": 11,
     "metadata": {},
     "output_type": "execute_result"
    }
   ],
   "source": [
    "%%time \n",
    "other_simpl.laplace_matrix(3).shape"
   ]
  },
  {
   "cell_type": "markdown",
   "metadata": {},
   "source": [
    "eigen k = 3"
   ]
  },
  {
   "cell_type": "code",
   "execution_count": 15,
   "metadata": {},
   "outputs": [],
   "source": [
    "my_simpl = AddMineGame(0)"
   ]
  },
  {
   "cell_type": "code",
   "execution_count": 16,
   "metadata": {},
   "outputs": [
    {
     "name": "stdout",
     "output_type": "stream",
     "text": [
      "CPU times: user 3min 6s, sys: 3.71 s, total: 3min 10s\n",
      "Wall time: 29.8 s\n"
     ]
    }
   ],
   "source": [
    "%%time \n",
    "b = my_simpl.EigenValues(3, 2, 4, False, 4993)"
   ]
  },
  {
   "cell_type": "code",
   "execution_count": 17,
   "metadata": {},
   "outputs": [],
   "source": [
    "my_simpl = AddMineGame(0)"
   ]
  },
  {
   "cell_type": "code",
   "execution_count": 18,
   "metadata": {},
   "outputs": [
    {
     "name": "stdout",
     "output_type": "stream",
     "text": [
      "CPU times: user 49.5 s, sys: 1.5 s, total: 51 s\n",
      "Wall time: 7.82 s\n"
     ]
    }
   ],
   "source": [
    "%%time\n",
    "c = my_simpl.EigenValuesAll(3, 2, 4, False)"
   ]
  },
  {
   "cell_type": "code",
   "execution_count": 19,
   "metadata": {},
   "outputs": [],
   "source": [
    "other_simpl = AddOtherGame(0)"
   ]
  },
  {
   "cell_type": "code",
   "execution_count": 20,
   "metadata": {},
   "outputs": [
    {
     "name": "stdout",
     "output_type": "stream",
     "text": [
      "CPU times: user 1min 3s, sys: 1.81 s, total: 1min 4s\n",
      "Wall time: 13.6 s\n"
     ]
    }
   ],
   "source": [
    "%%time \n",
    "a=other_simpl.laplacian_spectra(k=3)"
   ]
  },
  {
   "cell_type": "markdown",
   "metadata": {},
   "source": [
    "k=3, p=1, q=5, w=0"
   ]
  },
  {
   "cell_type": "code",
   "execution_count": 38,
   "metadata": {},
   "outputs": [],
   "source": [
    "my_simpl = AddMineGame(0)"
   ]
  },
  {
   "cell_type": "code",
   "execution_count": 41,
   "metadata": {},
   "outputs": [
    {
     "name": "stdout",
     "output_type": "stream",
     "text": [
      "CPU times: user 95.3 ms, sys: 17.2 ms, total: 112 ms\n",
      "Wall time: 111 ms\n"
     ]
    }
   ],
   "source": [
    "%%time \n",
    "S = my_simpl.LaplacianMatrix(3, 1, 5, False)"
   ]
  },
  {
   "cell_type": "code",
   "execution_count": 10,
   "metadata": {},
   "outputs": [],
   "source": [
    "other_simpl = AddOtherGame(0)"
   ]
  },
  {
   "cell_type": "code",
   "execution_count": 11,
   "metadata": {},
   "outputs": [
    {
     "name": "stdout",
     "output_type": "stream",
     "text": [
      "CPU times: user 34.2 s, sys: 344 ms, total: 34.6 s\n",
      "Wall time: 22.8 s\n"
     ]
    }
   ],
   "source": [
    "%%time \n",
    "T = other_simpl.laplace_matrix(k=3, p=2, q=2)"
   ]
  },
  {
   "cell_type": "markdown",
   "metadata": {},
   "source": [
    "k=3, p=1, q=5, w=1"
   ]
  },
  {
   "cell_type": "code",
   "execution_count": 12,
   "metadata": {},
   "outputs": [],
   "source": [
    "my_simpl = AddMineGame(0)"
   ]
  },
  {
   "cell_type": "code",
   "execution_count": 13,
   "metadata": {},
   "outputs": [
    {
     "name": "stdout",
     "output_type": "stream",
     "text": [
      "CPU times: user 106 ms, sys: 30.3 ms, total: 136 ms\n",
      "Wall time: 144 ms\n"
     ]
    },
    {
     "data": {
      "text/plain": [
       "array([16., -1.,  1., ...,  1., -1., 12.])"
      ]
     },
     "execution_count": 13,
     "metadata": {},
     "output_type": "execute_result"
    }
   ],
   "source": [
    "%%time \n",
    "S = my_simpl.LaplacianMatrix(3, 1, 5, True)\n",
    "S.data"
   ]
  },
  {
   "cell_type": "code",
   "execution_count": 74,
   "metadata": {},
   "outputs": [],
   "source": [
    "other_simpl = AddOtherGame(0)"
   ]
  },
  {
   "cell_type": "code",
   "execution_count": 75,
   "metadata": {},
   "outputs": [
    {
     "name": "stdout",
     "output_type": "stream",
     "text": [
      "CPU times: user 2min 24s, sys: 2.91 s, total: 2min 27s\n",
      "Wall time: 36.3 s\n"
     ]
    }
   ],
   "source": [
    "%%time \n",
    "T = other_simpl.laplace_matrix_weighted(k=3, p=2, q=2)"
   ]
  },
  {
   "cell_type": "markdown",
   "metadata": {},
   "source": [
    "k=5, p=3, q=7"
   ]
  },
  {
   "cell_type": "code",
   "execution_count": 47,
   "metadata": {},
   "outputs": [],
   "source": [
    "my_simpl = AddMineGame(0)"
   ]
  },
  {
   "cell_type": "code",
   "execution_count": 48,
   "metadata": {},
   "outputs": [
    {
     "name": "stdout",
     "output_type": "stream",
     "text": [
      "CPU times: user 330 ms, sys: 109 ms, total: 439 ms\n",
      "Wall time: 487 ms\n"
     ]
    }
   ],
   "source": [
    "%%time \n",
    "S = my_simpl.LaplacianMatrix(5, 3, 7, False)"
   ]
  },
  {
   "cell_type": "code",
   "execution_count": null,
   "metadata": {},
   "outputs": [],
   "source": [
    "other_simpl = AddOtherGame(0)"
   ]
  },
  {
   "cell_type": "code",
   "execution_count": null,
   "metadata": {},
   "outputs": [],
   "source": [
    "%%time \n",
    "other_simpl.laplace_matrix(k=5, p=2, q=2).shape"
   ]
  },
  {
   "cell_type": "markdown",
   "metadata": {},
   "source": [
    "k=11, p=5, q=13"
   ]
  },
  {
   "cell_type": "code",
   "execution_count": 54,
   "metadata": {},
   "outputs": [],
   "source": [
    "my_simpl = AddMineGame(0)"
   ]
  },
  {
   "cell_type": "code",
   "execution_count": 55,
   "metadata": {},
   "outputs": [
    {
     "name": "stdout",
     "output_type": "stream",
     "text": [
      "CPU times: user 1.31 s, sys: 36.3 ms, total: 1.34 s\n",
      "Wall time: 1.36 s\n"
     ]
    }
   ],
   "source": [
    "%%time \n",
    "S = my_simpl.LaplacianMatrix(11, 5, 13, False)"
   ]
  },
  {
   "cell_type": "code",
   "execution_count": null,
   "metadata": {},
   "outputs": [],
   "source": [
    "other_simpl = AddOtherGame(0)"
   ]
  },
  {
   "cell_type": "code",
   "execution_count": null,
   "metadata": {},
   "outputs": [],
   "source": [
    "%%time \n",
    "other_simpl.laplace_matrix(k=11, p=6, q=2).shape"
   ]
  },
  {
   "cell_type": "markdown",
   "metadata": {},
   "source": [
    "k=11, p=10, q=12, w=0"
   ]
  },
  {
   "cell_type": "code",
   "execution_count": 8,
   "metadata": {},
   "outputs": [],
   "source": [
    "my_simpl = AddMineGame(0)"
   ]
  },
  {
   "cell_type": "code",
   "execution_count": 9,
   "metadata": {},
   "outputs": [
    {
     "name": "stdout",
     "output_type": "stream",
     "text": [
      "CPU times: user 14.6 ms, sys: 1.04 ms, total: 15.7 ms\n",
      "Wall time: 15.4 ms\n"
     ]
    }
   ],
   "source": [
    "%%time \n",
    "S = my_simpl.LaplacianMatrix(11, 10, 12, False)"
   ]
  },
  {
   "cell_type": "code",
   "execution_count": 52,
   "metadata": {},
   "outputs": [],
   "source": [
    "other_simpl = AddOtherGame(0)"
   ]
  },
  {
   "cell_type": "code",
   "execution_count": 53,
   "metadata": {},
   "outputs": [
    {
     "name": "stdout",
     "output_type": "stream",
     "text": [
      "CPU times: user 2.74 s, sys: 64.2 ms, total: 2.8 s\n",
      "Wall time: 1.71 s\n"
     ]
    },
    {
     "data": {
      "text/plain": [
       "(1925, 1925)"
      ]
     },
     "execution_count": 53,
     "metadata": {},
     "output_type": "execute_result"
    }
   ],
   "source": [
    "%%time \n",
    "other_simpl.laplace_matrix(k=11, p=1, q=1).shape"
   ]
  },
  {
   "cell_type": "markdown",
   "metadata": {},
   "source": [
    "Boundary"
   ]
  },
  {
   "cell_type": "markdown",
   "metadata": {},
   "source": [
    "k=6, p=5"
   ]
  },
  {
   "cell_type": "code",
   "execution_count": 76,
   "metadata": {},
   "outputs": [],
   "source": [
    "my_simpl = AddMineGame(0)"
   ]
  },
  {
   "cell_type": "code",
   "execution_count": 78,
   "metadata": {},
   "outputs": [
    {
     "name": "stdout",
     "output_type": "stream",
     "text": [
      "CPU times: user 42.9 ms, sys: 1.47 ms, total: 44.3 ms\n",
      "Wall time: 44 ms\n"
     ]
    },
    {
     "data": {
      "text/plain": [
       "array(<14221x17635 sparse matrix of type '<class 'numpy.int32'>'\n",
       "\twith 123445 stored elements in Compressed Sparse Row format>,\n",
       "      dtype=object)"
      ]
     },
     "execution_count": 78,
     "metadata": {},
     "output_type": "execute_result"
    }
   ],
   "source": [
    "%%time\n",
    "tmp = np.array(my_simpl.BoundaryMatrix(6, 5))\n",
    "tmp"
   ]
  },
  {
   "cell_type": "code",
   "execution_count": 79,
   "metadata": {},
   "outputs": [],
   "source": [
    "other_simpl = AddOtherGame(0)"
   ]
  },
  {
   "cell_type": "code",
   "execution_count": 80,
   "metadata": {},
   "outputs": [
    {
     "name": "stdout",
     "output_type": "stream",
     "text": [
      "CPU times: user 25 s, sys: 933 ms, total: 25.9 s\n",
      "Wall time: 26.8 s\n"
     ]
    },
    {
     "data": {
      "text/plain": [
       "(14221, 17635)"
      ]
     },
     "execution_count": 80,
     "metadata": {},
     "output_type": "execute_result"
    }
   ],
   "source": [
    "%%time\n",
    "tmp = np.array(other_simpl.boundary_operator_matrix(6, 1))\n",
    "tmp.shape\n"
   ]
  },
  {
   "cell_type": "markdown",
   "metadata": {},
   "source": [
    "k=8, p=4"
   ]
  },
  {
   "cell_type": "code",
   "execution_count": 83,
   "metadata": {},
   "outputs": [],
   "source": [
    "my_simpl = AddMineGame(0)"
   ]
  },
  {
   "cell_type": "code",
   "execution_count": 84,
   "metadata": {},
   "outputs": [
    {
     "name": "stdout",
     "output_type": "stream",
     "text": [
      "CPU times: user 537 ms, sys: 13.7 ms, total: 551 ms\n",
      "Wall time: 553 ms\n"
     ]
    },
    {
     "data": {
      "text/plain": [
       "array(<9333x14390 sparse matrix of type '<class 'numpy.int32'>'\n",
       "\twith 1813140 stored elements in Compressed Sparse Row format>,\n",
       "      dtype=object)"
      ]
     },
     "execution_count": 84,
     "metadata": {},
     "output_type": "execute_result"
    }
   ],
   "source": [
    "%%time\n",
    "tmp = np.array(my_simpl.BoundaryMatrix(8, 4))\n",
    "tmp"
   ]
  },
  {
   "cell_type": "code",
   "execution_count": 86,
   "metadata": {},
   "outputs": [],
   "source": [
    "other_simpl = AddOtherGame(0)"
   ]
  },
  {
   "cell_type": "code",
   "execution_count": null,
   "metadata": {},
   "outputs": [],
   "source": [
    "%%time\n",
    "tmp = np.array(other_simpl.boundary_operator_matrix(8, 4))\n",
    "tmp.shape\n"
   ]
  },
  {
   "cell_type": "markdown",
   "metadata": {},
   "source": [
    "Betweenness\n"
   ]
  },
  {
   "cell_type": "markdown",
   "metadata": {},
   "source": [
    "k=1, q=2 (vertices=2d, edge=3d)"
   ]
  },
  {
   "cell_type": "code",
   "execution_count": 87,
   "metadata": {},
   "outputs": [],
   "source": [
    "my_simpl = AddMineGame(0)"
   ]
  },
  {
   "cell_type": "code",
   "execution_count": 88,
   "metadata": {},
   "outputs": [
    {
     "name": "stdout",
     "output_type": "stream",
     "text": [
      "CPU times: user 2min 18s, sys: 222 ms, total: 2min 19s\n",
      "Wall time: 15 s\n"
     ]
    }
   ],
   "source": [
    "%%time\n",
    "U=my_simpl.BetweennessAll(1, 2, True)"
   ]
  },
  {
   "cell_type": "code",
   "execution_count": 89,
   "metadata": {},
   "outputs": [],
   "source": [
    "other_simpl = AddOtherGame(0)"
   ]
  },
  {
   "cell_type": "code",
   "execution_count": 90,
   "metadata": {},
   "outputs": [
    {
     "name": "stdout",
     "output_type": "stream",
     "text": [
      "CPU times: user 29.4 s, sys: 68.7 ms, total: 29.5 s\n",
      "Wall time: 29.7 s\n"
     ]
    }
   ],
   "source": [
    "%%time\n",
    "V = other_simpl.simplex_betweenness_centrality(p=1, q=2, weighted=True)"
   ]
  },
  {
   "cell_type": "markdown",
   "metadata": {},
   "source": [
    "k=1, q=2 (vertices=2d, edge=3d), not weighted"
   ]
  },
  {
   "cell_type": "code",
   "execution_count": 97,
   "metadata": {},
   "outputs": [],
   "source": [
    "my_simpl = AddMineGame(0)"
   ]
  },
  {
   "cell_type": "code",
   "execution_count": 98,
   "metadata": {},
   "outputs": [
    {
     "name": "stdout",
     "output_type": "stream",
     "text": [
      "CPU times: user 2min 1s, sys: 240 ms, total: 2min 1s\n",
      "Wall time: 14.3 s\n"
     ]
    }
   ],
   "source": [
    "%%time\n",
    "U=my_simpl.BetweennessAll(1, 2, False)"
   ]
  },
  {
   "cell_type": "code",
   "execution_count": 95,
   "metadata": {},
   "outputs": [],
   "source": [
    "other_simpl = AddOtherGame(0)"
   ]
  },
  {
   "cell_type": "code",
   "execution_count": 103,
   "metadata": {},
   "outputs": [
    {
     "name": "stdout",
     "output_type": "stream",
     "text": [
      "CPU times: user 1.7 s, sys: 2.33 ms, total: 1.71 s\n",
      "Wall time: 1.72 s\n"
     ]
    }
   ],
   "source": [
    "%%time\n",
    "V = other_simpl.simplex_betweenness_centrality(p=1, q=2, weighted=False)"
   ]
  },
  {
   "cell_type": "markdown",
   "metadata": {},
   "source": [
    "Closeness"
   ]
  },
  {
   "cell_type": "code",
   "execution_count": null,
   "metadata": {},
   "outputs": [],
   "source": [
    "my_simpl = AddMineGame(0)"
   ]
  },
  {
   "cell_type": "code",
   "execution_count": null,
   "metadata": {},
   "outputs": [],
   "source": [
    "%%time\n",
    "S=my_simpl.ClosenessAll(2, 4, True)"
   ]
  },
  {
   "cell_type": "code",
   "execution_count": null,
   "metadata": {},
   "outputs": [],
   "source": [
    "other_simpl = AddOtherGame(0)"
   ]
  },
  {
   "cell_type": "code",
   "execution_count": null,
   "metadata": {},
   "outputs": [],
   "source": [
    "%%time\n",
    "V = other_simpl.simplex_closeness_centrality(p=2, q=4, weighted=False)"
   ]
  },
  {
   "cell_type": "markdown",
   "metadata": {},
   "source": [
    "### Графики\n"
   ]
  },
  {
   "cell_type": "code",
   "execution_count": 8,
   "metadata": {},
   "outputs": [],
   "source": [
    "import scipy.sparse as sp"
   ]
  },
  {
   "cell_type": "code",
   "execution_count": 9,
   "metadata": {},
   "outputs": [],
   "source": [
    "def LaplMine(k, p, q, w):\n",
    "  my_simpl = AddMineGame(0)\n",
    "  start = time.time()\n",
    "  L = my_simpl.LaplacianMatrix(k, p, q, w)\n",
    "  end = time.time()\n",
    "  return end - start"
   ]
  },
  {
   "cell_type": "code",
   "execution_count": 10,
   "metadata": {},
   "outputs": [],
   "source": [
    "def LaplOther(k, p, q, w):\n",
    "  other_simpl = AddOtherGame(0)\n",
    "  start = time.time()\n",
    "  if w == False:\n",
    "    other_simpl.laplace_matrix(k, p, q)\n",
    "  else:\n",
    "    other_simpl.laplace_matrix_weighted(k, p, q)\n",
    "  end = time.time()\n",
    "  return end - start"
   ]
  },
  {
   "cell_type": "code",
   "execution_count": 12,
   "metadata": {},
   "outputs": [],
   "source": [
    "x = np.arange(start=3, stop=14)"
   ]
  },
  {
   "cell_type": "code",
   "execution_count": 13,
   "metadata": {},
   "outputs": [],
   "source": [
    "y1 = []\n",
    "y2 = []"
   ]
  },
  {
   "cell_type": "code",
   "execution_count": 14,
   "metadata": {},
   "outputs": [
    {
     "name": "stdout",
     "output_type": "stream",
     "text": [
      "3 0.12456107139587402\n",
      "4 0.2295548915863037\n",
      "5 0.41983914375305176\n",
      "6 0.529212236404419\n",
      "7 0.5528988838195801\n",
      "8 0.46732211112976074\n",
      "9 0.29843878746032715\n",
      "10 0.14205574989318848\n",
      "11 0.055963993072509766\n",
      "12 0.0169830322265625\n",
      "13 0.00404810905456543\n"
     ]
    }
   ],
   "source": [
    "for k in x:\n",
    "  cur_time = LaplMine(k, k - 2, k + 2, False)\n",
    "  print(k, cur_time)\n",
    "  y1.append(cur_time)\n",
    "  "
   ]
  },
  {
   "cell_type": "code",
   "execution_count": 17,
   "metadata": {},
   "outputs": [
    {
     "name": "stdout",
     "output_type": "stream",
     "text": [
      "3 22.045618295669556\n"
     ]
    },
    {
     "ename": "NameError",
     "evalue": "name 'y2' is not defined",
     "output_type": "error",
     "traceback": [
      "\u001b[0;31m---------------------------------------------------------------------------\u001b[0m",
      "\u001b[0;31mNameError\u001b[0m                                 Traceback (most recent call last)",
      "Cell \u001b[0;32mIn[17], line 4\u001b[0m\n\u001b[1;32m      2\u001b[0m cur_time \u001b[38;5;241m=\u001b[39m LaplOther(k, \u001b[38;5;241m2\u001b[39m, \u001b[38;5;241m2\u001b[39m, \u001b[38;5;28;01mFalse\u001b[39;00m)\n\u001b[1;32m      3\u001b[0m \u001b[38;5;28mprint\u001b[39m(k, cur_time)\n\u001b[0;32m----> 4\u001b[0m \u001b[43my2\u001b[49m\u001b[38;5;241m.\u001b[39mappend(cur_time)\n",
      "\u001b[0;31mNameError\u001b[0m: name 'y2' is not defined"
     ]
    }
   ],
   "source": [
    "for k in x:\n",
    "  cur_time = LaplOther(k, 2, 2, False)\n",
    "  print(k, cur_time)\n",
    "  y2.append(cur_time)\n",
    "  "
   ]
  },
  {
   "cell_type": "code",
   "execution_count": 24,
   "metadata": {},
   "outputs": [],
   "source": [
    "import matplotlib.pyplot as plt\n"
   ]
  },
  {
   "cell_type": "code",
   "execution_count": 19,
   "metadata": {},
   "outputs": [],
   "source": [
    "y1= [0.12456107139587402,\n",
    " 0.2295548915863037,\n",
    " 0.41983914375305176,\n",
    " 0.529212236404419,\n",
    " 0.5528988838195801,\n",
    " 0.46732211112976074,\n",
    " 0.29843878746032715,\n",
    " 0.14205574989318848,\n",
    " 0.055963993072509766,\n",
    " 0.0169830322265625,\n",
    " 0.00404810905456543]\n",
    "\n",
    "y2 = [22.11212706565857, 74.0863950252533, 141.93740606307983, 244.08216619491577, 415.97249364852905, 230.6967008113861, 114.43729901313782, 54.59015679359436, 34.30890607833862, 4.283010005950928, 0.630958080291748]"
   ]
  },
  {
   "cell_type": "code",
   "execution_count": 28,
   "metadata": {},
   "outputs": [
    {
     "data": {
      "image/png": "[encoded data removed]",
      "text/plain": [
       "<Figure size 1000x800 with 1 Axes>"
      ]
     },
     "metadata": {},
     "output_type": "display_data"
    }
   ],
   "source": [
    "plt.figure(figsize=(10, 8))\n",
    "plt.plot(x, y1, label ='C++')\n",
    "plt.plot(x, y2, label ='Python')\n",
    "\n",
    "plt.xlabel(\"k\")\n",
    "plt.ylabel(\"Время (s)\")\n",
    "plt.legend()\n",
    "plt.title('Зависимость времени построения Лапласина от k, при p=k-2, q=k+2, weighted=False')\n",
    "plt.semilogy () \n",
    "\n",
    "plt.show()\n"
   ]
  },
  {
   "cell_type": "markdown",
   "metadata": {},
   "source": [
    "Eigen"
   ]
  },
  {
   "cell_type": "code",
   "execution_count": 27,
   "metadata": {},
   "outputs": [],
   "source": [
    "def EigenMine(k, p, q, w):\n",
    "  my_simpl = AddMineGame(0)\n",
    "  start = time.time()\n",
    "  my_simpl.EigenValuesAll(k, p, q, w)\n",
    "  end = time.time()\n",
    "  return end - start"
   ]
  },
  {
   "cell_type": "code",
   "execution_count": 28,
   "metadata": {},
   "outputs": [],
   "source": [
    "def EigenOther(k, p, q, w):\n",
    "  other_simpl = AddOtherGame(0)\n",
    "  start = time.time()\n",
    "  other_simpl.laplacian_spectra(k, p, q, w)\n",
    "  end = time.time()\n",
    "  return end - start"
   ]
  },
  {
   "cell_type": "code",
   "execution_count": 29,
   "metadata": {},
   "outputs": [],
   "source": [
    "x = np.arange(start=3, stop=14)"
   ]
  },
  {
   "cell_type": "code",
   "execution_count": 30,
   "metadata": {},
   "outputs": [],
   "source": [
    "y1 = []\n",
    "y2 = []"
   ]
  },
  {
   "cell_type": "code",
   "execution_count": 31,
   "metadata": {},
   "outputs": [
    {
     "name": "stdout",
     "output_type": "stream",
     "text": [
      "3 9.865232944488525\n",
      "4 52.64215087890625\n",
      "5 160.19155097007751\n",
      "6 271.61303210258484\n",
      "7 249.77519297599792\n",
      "8 154.88919496536255\n",
      "9 45.297911167144775\n",
      "10 7.556091785430908\n",
      "11 0.7389161586761475\n",
      "12 0.17828893661499023\n",
      "13 0.01155996322631836\n"
     ]
    }
   ],
   "source": [
    "for k in x:\n",
    "  cur_time = EigenMine(k, k - 2, k + 2, False)\n",
    "  print(k, cur_time)\n",
    "  y1.append(cur_time)\n",
    "  "
   ]
  },
  {
   "cell_type": "code",
   "execution_count": 32,
   "metadata": {},
   "outputs": [
    {
     "name": "stdout",
     "output_type": "stream",
     "text": [
      "3 32.32259774208069\n",
      "4 113.438236951828\n",
      "5 293.3335280418396\n",
      "6 498.9896421432495\n",
      "7 493.1916489601135\n",
      "8 364.4898991584778\n",
      "9 156.04356217384338\n",
      "10 320.5011909008026\n",
      "11 18.41832971572876\n",
      "12 4.149945974349976\n",
      "13 0.6393489837646484\n"
     ]
    }
   ],
   "source": [
    "for k in x:\n",
    "  cur_time = EigenOther(k, 2, 2, False)\n",
    "  print(k, cur_time)\n",
    "  y2.append(cur_time)\n",
    "  "
   ]
  },
  {
   "cell_type": "code",
   "execution_count": 33,
   "metadata": {},
   "outputs": [
    {
     "data": {
      "text/plain": [
       "[9.865232944488525,\n",
       " 52.64215087890625,\n",
       " 160.19155097007751,\n",
       " 271.61303210258484,\n",
       " 249.77519297599792,\n",
       " 154.88919496536255,\n",
       " 45.297911167144775,\n",
       " 7.556091785430908,\n",
       " 0.7389161586761475,\n",
       " 0.17828893661499023,\n",
       " 0.01155996322631836]"
      ]
     },
     "execution_count": 33,
     "metadata": {},
     "output_type": "execute_result"
    }
   ],
   "source": [
    "y1"
   ]
  },
  {
   "cell_type": "code",
   "execution_count": 34,
   "metadata": {},
   "outputs": [
    {
     "data": {
      "text/plain": [
       "[32.32259774208069,\n",
       " 113.438236951828,\n",
       " 293.3335280418396,\n",
       " 498.9896421432495,\n",
       " 493.1916489601135,\n",
       " 364.4898991584778,\n",
       " 156.04356217384338,\n",
       " 320.5011909008026,\n",
       " 18.41832971572876,\n",
       " 4.149945974349976,\n",
       " 0.6393489837646484]"
      ]
     },
     "execution_count": 34,
     "metadata": {},
     "output_type": "execute_result"
    }
   ],
   "source": [
    "y2"
   ]
  },
  {
   "cell_type": "code",
   "execution_count": 36,
   "metadata": {},
   "outputs": [
    {
     "data": {
      "image/png": "[encoded data removed]",
      "text/plain": [
       "<Figure size 1000x800 with 1 Axes>"
      ]
     },
     "metadata": {},
     "output_type": "display_data"
    }
   ],
   "source": [
    "plt.figure(figsize=(10, 8))\n",
    "plt.plot(x, y1, label ='C++')\n",
    "plt.plot(x, y2, label ='Python')\n",
    "\n",
    "plt.xlabel(\"k\")\n",
    "plt.ylabel(\"Время (s)\")\n",
    "plt.legend()\n",
    "plt.title('Зависимость времени поиска собственных Лапласина от k, при p=k-2, q=k+2, weighted=False')\n",
    "plt.semilogy () \n",
    "\n",
    "plt.show()\n"
   ]
  },
  {
   "cell_type": "code",
   "execution_count": 37,
   "metadata": {},
   "outputs": [
    {
     "data": {
      "image/png": "[encoded data removed]",
      "text/plain": [
       "<Figure size 1000x800 with 1 Axes>"
      ]
     },
     "metadata": {},
     "output_type": "display_data"
    }
   ],
   "source": [
    "plt.figure(figsize=(10, 8))\n",
    "plt.plot(x, y1, label ='C++')\n",
    "plt.plot(x, y2, label ='Python')\n",
    "\n",
    "plt.xlabel(\"k\")\n",
    "plt.ylabel(\"Время (s)\")\n",
    "plt.legend()\n",
    "plt.title('Зависимость времени поиска собственных Лапласина от k, при p=k-2, q=k+2, weighted=False')\n",
    "\n",
    "plt.show()\n"
   ]
  },
  {
   "cell_type": "code",
   "execution_count": null,
   "metadata": {},
   "outputs": [],
   "source": []
  },
  {
   "cell_type": "code",
   "execution_count": 23,
   "metadata": {},
   "outputs": [],
   "source": [
    "y1 = []\n",
    "y2 = []"
   ]
  },
  {
   "cell_type": "code",
   "execution_count": 24,
   "metadata": {},
   "outputs": [
    {
     "name": "stdout",
     "output_type": "stream",
     "text": [
      "3 0.14080500602722168\n",
      "4 0.2894930839538574\n",
      "5 0.8098361492156982\n",
      "6 0.7491729259490967\n",
      "7 0.7368972301483154\n",
      "8 0.5965919494628906\n",
      "9 0.3850851058959961\n",
      "10 0.18867802619934082\n",
      "11 0.06738924980163574\n",
      "12 0.019346952438354492\n",
      "13 0.004348039627075195\n"
     ]
    }
   ],
   "source": [
    "for k in x:\n",
    "  cur_time = LaplMine(k, k - 2, k + 2, True)\n",
    "  print(k, cur_time)\n",
    "  y1.append(cur_time)\n",
    "  "
   ]
  },
  {
   "cell_type": "code",
   "execution_count": 19,
   "metadata": {},
   "outputs": [
    {
     "name": "stdout",
     "output_type": "stream",
     "text": [
      "3 33.89631915092468\n"
     ]
    },
    {
     "ename": "KeyboardInterrupt",
     "evalue": "",
     "output_type": "error",
     "traceback": [
      "\u001b[0;31m---------------------------------------------------------------------------\u001b[0m",
      "\u001b[0;31mKeyboardInterrupt\u001b[0m                         Traceback (most recent call last)",
      "Cell \u001b[0;32mIn[19], line 2\u001b[0m\n\u001b[1;32m      1\u001b[0m \u001b[38;5;28;01mfor\u001b[39;00m k \u001b[38;5;129;01min\u001b[39;00m x:\n\u001b[0;32m----> 2\u001b[0m   cur_time \u001b[38;5;241m=\u001b[39m \u001b[43mLaplOther\u001b[49m\u001b[43m(\u001b[49m\u001b[43mk\u001b[49m\u001b[43m,\u001b[49m\u001b[43m \u001b[49m\u001b[38;5;241;43m2\u001b[39;49m\u001b[43m,\u001b[49m\u001b[43m \u001b[49m\u001b[38;5;241;43m2\u001b[39;49m\u001b[43m,\u001b[49m\u001b[43m \u001b[49m\u001b[38;5;28;43;01mTrue\u001b[39;49;00m\u001b[43m)\u001b[49m\n\u001b[1;32m      3\u001b[0m   \u001b[38;5;28mprint\u001b[39m(k, cur_time)\n\u001b[1;32m      4\u001b[0m   y2\u001b[38;5;241m.\u001b[39mappend(cur_time)\n",
      "Cell \u001b[0;32mIn[15], line 2\u001b[0m, in \u001b[0;36mLaplOther\u001b[0;34m(k, p, q, w)\u001b[0m\n\u001b[1;32m      1\u001b[0m \u001b[38;5;28;01mdef\u001b[39;00m \u001b[38;5;21mLaplOther\u001b[39m(k, p, q, w):\n\u001b[0;32m----> 2\u001b[0m   other_simpl \u001b[38;5;241m=\u001b[39m \u001b[43mAddOtherGame\u001b[49m\u001b[43m(\u001b[49m\u001b[38;5;241;43m0\u001b[39;49m\u001b[43m)\u001b[49m\n\u001b[1;32m      3\u001b[0m   start \u001b[38;5;241m=\u001b[39m time\u001b[38;5;241m.\u001b[39mtime()\n\u001b[1;32m      4\u001b[0m   \u001b[38;5;28;01mif\u001b[39;00m w \u001b[38;5;241m==\u001b[39m \u001b[38;5;28;01mFalse\u001b[39;00m:\n",
      "Cell \u001b[0;32mIn[6], line 26\u001b[0m, in \u001b[0;36mAddOtherGame\u001b[0;34m(game_index)\u001b[0m\n\u001b[1;32m     24\u001b[0m     indices \u001b[38;5;241m=\u001b[39m [i \u001b[38;5;28;01mfor\u001b[39;00m i, x \u001b[38;5;129;01min\u001b[39;00m \u001b[38;5;28menumerate\u001b[39m(figure) \u001b[38;5;28;01mif\u001b[39;00m x \u001b[38;5;241m==\u001b[39m \u001b[38;5;241m1\u001b[39m]\n\u001b[1;32m     25\u001b[0m     \u001b[38;5;28;01mif\u001b[39;00m indices \u001b[38;5;241m!=\u001b[39m []:\n\u001b[0;32m---> 26\u001b[0m       \u001b[43mAddOtherSimplex\u001b[49m\u001b[43m(\u001b[49m\u001b[43mother_simpl\u001b[49m\u001b[43m,\u001b[49m\u001b[43m \u001b[49m\u001b[43mindices\u001b[49m\u001b[43m)\u001b[49m\n\u001b[1;32m     27\u001b[0m \u001b[38;5;28;01mreturn\u001b[39;00m other_simpl\n",
      "Cell \u001b[0;32mIn[6], line 5\u001b[0m, in \u001b[0;36mAddOtherSimplex\u001b[0;34m(other_simpl, simplex)\u001b[0m\n\u001b[1;32m      4\u001b[0m \u001b[38;5;28;01mdef\u001b[39;00m \u001b[38;5;21mAddOtherSimplex\u001b[39m(other_simpl, simplex):\n\u001b[0;32m----> 5\u001b[0m   \u001b[43mother_simpl\u001b[49m\u001b[38;5;241;43m.\u001b[39;49m\u001b[43madd\u001b[49m\u001b[43m(\u001b[49m\u001b[43msimplex\u001b[49m\u001b[43m)\u001b[49m\n",
      "File \u001b[0;32m~/Documents/simpl/datasets/chess_games/simplicialx/simplicial.py:282\u001b[0m, in \u001b[0;36mSimplicialComplex.add\u001b[0;34m(self, simplex, weight)\u001b[0m\n\u001b[1;32m    279\u001b[0m     \u001b[38;5;28;01mcontinue\u001b[39;00m\n\u001b[1;32m    281\u001b[0m \u001b[38;5;28mself\u001b[39m\u001b[38;5;241m.\u001b[39m_simplices[i]\u001b[38;5;241m.\u001b[39mappend(sub_s)\n\u001b[0;32m--> 282\u001b[0m \u001b[38;5;28mself\u001b[39m\u001b[38;5;241m.\u001b[39m_weights[\u001b[38;5;28;43mtuple\u001b[39;49m\u001b[43m(\u001b[49m\u001b[43msub_s\u001b[49m\u001b[43m)\u001b[49m] \u001b[38;5;241m=\u001b[39m \u001b[38;5;241m1.0\u001b[39m\n\u001b[1;32m    284\u001b[0m \u001b[38;5;66;03m# TODO: ???\u001b[39;00m\n\u001b[1;32m    285\u001b[0m \u001b[38;5;250m\u001b[39m\u001b[38;5;124;03m\"\"\"\u001b[39;00m\n\u001b[1;32m    286\u001b[0m \u001b[38;5;124;03mif self._hasse is not None:\u001b[39;00m\n\u001b[1;32m    287\u001b[0m \u001b[38;5;124;03m    self._add_hasse(sub_s, i-1)\u001b[39;00m\n\u001b[1;32m    288\u001b[0m \u001b[38;5;124;03m\"\"\"\u001b[39;00m\n",
      "\u001b[0;31mKeyboardInterrupt\u001b[0m: "
     ]
    }
   ],
   "source": [
    "for k in x:\n",
    "  cur_time = LaplOther(k, 2, 2, True)\n",
    "  print(k, cur_time)\n",
    "  y2.append(cur_time)\n",
    "  "
   ]
  },
  {
   "cell_type": "code",
   "execution_count": 26,
   "metadata": {},
   "outputs": [],
   "source": [
    "y1= [0.14080500602722168,\n",
    " 0.2894930839538574,\n",
    " 0.8098361492156982,\n",
    " 0.7491729259490967,\n",
    " 0.7368972301483154,\n",
    " 0.5965919494628906,\n",
    " 0.3850851058959961,\n",
    " 0.18867802619934082,\n",
    " 0.06738924980163574,\n",
    " 0.019346952438354492,\n",
    " 0.004348039627075195]"
   ]
  },
  {
   "cell_type": "code",
   "execution_count": 27,
   "metadata": {},
   "outputs": [],
   "source": [
    "y2=[36.27970790863037,\n",
    " 133.46775579452515,\n",
    " 282.0338008403778,\n",
    " 411.0457830429077,\n",
    " 395.2436089515686,\n",
    " 383.86784529685974,\n",
    " 201.51124596595764,\n",
    " 89.13411712646484,\n",
    " 31.353326082229614,\n",
    " 6.321484088897705,\n",
    " 0.8035547733306885]"
   ]
  },
  {
   "cell_type": "code",
   "execution_count": 29,
   "metadata": {},
   "outputs": [
    {
     "data": {
      "image/png": "[encoded data removed]",
      "text/plain": [
       "<Figure size 1000x800 with 1 Axes>"
      ]
     },
     "metadata": {},
     "output_type": "display_data"
    }
   ],
   "source": [
    "plt.figure(figsize=(10, 8))\n",
    "plt.plot(x, y1, label ='C++')\n",
    "plt.plot(x, y2, label ='Python')\n",
    "\n",
    "plt.xlabel(\"k\")\n",
    "plt.ylabel(\"Время (s)\")\n",
    "plt.legend()\n",
    "plt.title('Зависимость времени построения Лапласина от k, при p=k-2, q=k+2, weighted=True')\n",
    "plt.semilogy () \n",
    "plt.show()\n"
   ]
  },
  {
   "cell_type": "markdown",
   "metadata": {},
   "source": [
    "Boundary\n"
   ]
  },
  {
   "cell_type": "code",
   "execution_count": 30,
   "metadata": {},
   "outputs": [],
   "source": [
    "x = np.arange(start=2, stop=16)\n"
   ]
  },
  {
   "cell_type": "code",
   "execution_count": 36,
   "metadata": {},
   "outputs": [],
   "source": [
    "y1=[]\n",
    "y2=[]"
   ]
  },
  {
   "cell_type": "code",
   "execution_count": 31,
   "metadata": {},
   "outputs": [],
   "source": [
    "def BoundMine(k, p):\n",
    "  my_simpl = AddMineGame(0)\n",
    "  start = time.time()\n",
    "  my_simpl.BoundaryMatrix(k, p)\n",
    "  end = time.time()\n",
    "  return end - start"
   ]
  },
  {
   "cell_type": "code",
   "execution_count": 32,
   "metadata": {},
   "outputs": [],
   "source": [
    "def BoundOther(k, p):\n",
    "  other_simpl = AddOtherGame(0)\n",
    "  start = time.time()\n",
    "  other_simpl.boundary_operator_matrix(k, p)\n",
    "  end = time.time()\n",
    "  return end - start"
   ]
  },
  {
   "cell_type": "code",
   "execution_count": 37,
   "metadata": {},
   "outputs": [
    {
     "name": "stdout",
     "output_type": "stream",
     "text": [
      "2 0.0023641586303710938\n",
      "3 0.0075359344482421875\n",
      "4 0.021979808807373047\n",
      "5 0.04330015182495117\n",
      "6 0.07771182060241699\n",
      "7 0.10388302803039551\n",
      "8 0.10843181610107422\n",
      "9 0.08853721618652344\n",
      "10 0.05943894386291504\n",
      "11 0.03130602836608887\n",
      "12 0.0125732421875\n",
      "13 0.0030493736267089844\n",
      "14 0.0007338523864746094\n",
      "15 0.0001990795135498047\n"
     ]
    }
   ],
   "source": [
    "for k in x:\n",
    "  cur_time = BoundMine(k, k - 2)\n",
    "  print(k, cur_time)\n",
    "  y1.append(cur_time)\n",
    "  "
   ]
  },
  {
   "cell_type": "code",
   "execution_count": null,
   "metadata": {},
   "outputs": [],
   "source": [
    "for k in x:\n",
    "  cur_time = BoundOther(k, 2)\n",
    "  print(k, cur_time)\n",
    "  y2.append(cur_time)\n",
    "  "
   ]
  },
  {
   "cell_type": "code",
   "execution_count": 39,
   "metadata": {},
   "outputs": [],
   "source": [
    "y1=[0.0023641586303710938,\n",
    " 0.0075359344482421875,\n",
    " 0.021979808807373047,\n",
    " 0.04330015182495117,\n",
    " 0.07771182060241699,\n",
    " 0.10388302803039551,\n",
    " 0.10843181610107422,\n",
    " 0.08853721618652344,\n",
    " 0.05943894386291504,\n",
    " 0.03130602836608887,\n",
    " 0.0125732421875,\n",
    " 0.0030493736267089844,\n",
    " 0.0007338523864746094,\n",
    " 0.0001990795135498047]"
   ]
  },
  {
   "cell_type": "code",
   "execution_count": 42,
   "metadata": {},
   "outputs": [],
   "source": [
    "y2=[0.16742515563964844, 0.9801530838012695, \n",
    "    4.62283587455749, 19.47725200653076,\n",
    "    66.19969367980957, 118.82330918312073,\n",
    "    176.69122195243835, 96.88126492500305,\n",
    " 53.33071303367615,\n",
    " 19.85325002670288,\n",
    " 4.0754852294921875,\n",
    " 0.6295428276062012,\n",
    " 0.0748140811920166,\n",
    " 0.004664897918701172,\n",
    "]"
   ]
  },
  {
   "cell_type": "code",
   "execution_count": 45,
   "metadata": {},
   "outputs": [
    {
     "data": {
      "image/png": "[encoded data removed]",
      "text/plain": [
       "<Figure size 1000x800 with 1 Axes>"
      ]
     },
     "metadata": {},
     "output_type": "display_data"
    }
   ],
   "source": [
    "plt.figure(figsize=(10, 8))\n",
    "plt.plot(x, y1, label ='C++')\n",
    "plt.plot(x, y2, label ='Python')\n",
    "\n",
    "plt.xlabel(\"k\")\n",
    "plt.ylabel(\"Время (s)\")\n",
    "plt.legend()\n",
    "plt.title('Зависимость времени построения Граничного от k, при p=k-2')\n",
    "plt.semilogy () \n",
    "plt.show()\n"
   ]
  },
  {
   "cell_type": "markdown",
   "metadata": {},
   "source": [
    "Betweness"
   ]
  },
  {
   "cell_type": "code",
   "execution_count": 8,
   "metadata": {},
   "outputs": [],
   "source": [
    "def ClosMine(p, q, w):\n",
    "  my_simpl = AddMineGame(0)\n",
    "  start = time.time()\n",
    "  my_simpl.ClosenessAll(p, q, w)\n",
    "  end = time.time()\n",
    "  return end - start"
   ]
  },
  {
   "cell_type": "code",
   "execution_count": 9,
   "metadata": {},
   "outputs": [],
   "source": [
    "def ClosOther(p, q, w):\n",
    "  other_simpl = AddOtherGame(0)\n",
    "  start = time.time()\n",
    "  other_simpl.simplex_closeness_centrality(p, q, w)\n",
    "  end = time.time()\n",
    "  return end - start"
   ]
  },
  {
   "cell_type": "code",
   "execution_count": 14,
   "metadata": {},
   "outputs": [],
   "source": [
    "x = np.arange(start=0, stop=13)"
   ]
  },
  {
   "cell_type": "code",
   "execution_count": 15,
   "metadata": {},
   "outputs": [],
   "source": [
    "y1 = []\n",
    "y2 = []"
   ]
  }
 ],
 "metadata": {
  "kernelspec": {
   "display_name": "Python 3",
   "language": "python",
   "name": "python3"
  },
  "language_info": {
   "codemirror_mode": {
    "name": "ipython",
    "version": 3
   },
   "file_extension": ".py",
   "mimetype": "text/x-python",
   "name": "python",
   "nbconvert_exporter": "python",
   "pygments_lexer": "ipython3",
   "version": "3.12.3"
  }
 },
 "nbformat": 4,
 "nbformat_minor": 2
}
