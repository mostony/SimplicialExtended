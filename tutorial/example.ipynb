{
 "cells": [
  {
   "cell_type": "markdown",
   "metadata": {},
   "source": [
    "### Пример работы библиотки"
   ]
  },
  {
   "cell_type": "code",
   "execution_count": 1,
   "metadata": {},
   "outputs": [],
   "source": [
    "# Для начала нужно загрузить библиотеку\n",
    "# Для этого нужно добавить её в путь поиска импортов в питоне\n",
    "import sys"
   ]
  },
  {
   "cell_type": "code",
   "execution_count": 2,
   "metadata": {},
   "outputs": [],
   "source": [
    "sys.path.append('../build/Debug')\n"
   ]
  },
  {
   "cell_type": "code",
   "execution_count": 3,
   "metadata": {},
   "outputs": [],
   "source": [
    "# теперь можно импортировать\n",
    "import simpl\n",
    "import numpy as np"
   ]
  },
  {
   "cell_type": "code",
   "execution_count": 4,
   "metadata": {},
   "outputs": [],
   "source": [
    "# Создание симплициального комплекса\n",
    "K = simpl.SimplicialComplex()"
   ]
  },
  {
   "cell_type": "markdown",
   "metadata": {},
   "source": [
    "Добавление симплексов"
   ]
  },
  {
   "cell_type": "code",
   "execution_count": 5,
   "metadata": {},
   "outputs": [],
   "source": [
    "K.AddSimplex([1, 2, 3])\n",
    "K.AddSimplex([3, 4])\n",
    "K.AddSimplex([4, 5, 6])\n",
    "K.AddSimplex([4, 5, 7])\n",
    "K.AddSimplex([6, 7])\n",
    "K.AddSimplex([2, 7])"
   ]
  },
  {
   "cell_type": "markdown",
   "metadata": {},
   "source": [
    "Получение списка максимальных симплексов"
   ]
  },
  {
   "cell_type": "code",
   "execution_count": 6,
   "metadata": {},
   "outputs": [
    {
     "data": {
      "text/plain": [
       "[[1, 2, 3], [2, 7], [3, 4], [4, 5, 6], [4, 5, 7], [6, 7]]"
      ]
     },
     "execution_count": 6,
     "metadata": {},
     "output_type": "execute_result"
    }
   ],
   "source": [
    "K.GetMaxSimplices()"
   ]
  },
  {
   "cell_type": "markdown",
   "metadata": {},
   "source": [
    "Удаление симплекса"
   ]
  },
  {
   "cell_type": "code",
   "execution_count": 7,
   "metadata": {},
   "outputs": [],
   "source": [
    "K.RemoveSimplex([1, 2])"
   ]
  },
  {
   "cell_type": "code",
   "execution_count": 8,
   "metadata": {},
   "outputs": [
    {
     "data": {
      "text/plain": [
       "[[1, 3], [2, 3], [2, 7], [3, 4], [4, 5, 6], [4, 5, 7], [6, 7]]"
      ]
     },
     "execution_count": 8,
     "metadata": {},
     "output_type": "execute_result"
    }
   ],
   "source": [
    "K.GetMaxSimplices()"
   ]
  },
  {
   "cell_type": "markdown",
   "metadata": {},
   "source": [
    "Получение всех симплексов"
   ]
  },
  {
   "cell_type": "code",
   "execution_count": 9,
   "metadata": {},
   "outputs": [
    {
     "data": {
      "text/plain": [
       "[[],\n",
       " [1],\n",
       " [2],\n",
       " [3],\n",
       " [4],\n",
       " [5],\n",
       " [6],\n",
       " [7],\n",
       " [1, 3],\n",
       " [2, 3],\n",
       " [2, 7],\n",
       " [3, 4],\n",
       " [4, 5],\n",
       " [4, 6],\n",
       " [4, 7],\n",
       " [5, 6],\n",
       " [5, 7],\n",
       " [6, 7],\n",
       " [4, 5, 6],\n",
       " [4, 5, 7]]"
      ]
     },
     "execution_count": 9,
     "metadata": {},
     "output_type": "execute_result"
    }
   ],
   "source": [
    "K.GetAllSimplices()"
   ]
  },
  {
   "cell_type": "markdown",
   "metadata": {},
   "source": [
    "Fvector "
   ]
  },
  {
   "cell_type": "code",
   "execution_count": 10,
   "metadata": {},
   "outputs": [
    {
     "data": {
      "text/plain": [
       "[(0, 7), (1, 10), (2, 2)]"
      ]
     },
     "execution_count": 10,
     "metadata": {},
     "output_type": "execute_result"
    }
   ],
   "source": [
    "K.FVector()"
   ]
  },
  {
   "cell_type": "markdown",
   "metadata": {},
   "source": [
    "Числа Бетти и Эйлерова характеристика"
   ]
  },
  {
   "cell_type": "code",
   "execution_count": 11,
   "metadata": {},
   "outputs": [
    {
     "data": {
      "text/plain": [
       "1"
      ]
     },
     "execution_count": 11,
     "metadata": {},
     "output_type": "execute_result"
    }
   ],
   "source": [
    "K.BettiNumber(0)"
   ]
  },
  {
   "cell_type": "code",
   "execution_count": 12,
   "metadata": {},
   "outputs": [
    {
     "data": {
      "text/plain": [
       "2"
      ]
     },
     "execution_count": 12,
     "metadata": {},
     "output_type": "execute_result"
    }
   ],
   "source": [
    "K.BettiNumber(1)"
   ]
  },
  {
   "cell_type": "code",
   "execution_count": 13,
   "metadata": {},
   "outputs": [
    {
     "data": {
      "text/plain": [
       "0"
      ]
     },
     "execution_count": 13,
     "metadata": {},
     "output_type": "execute_result"
    }
   ],
   "source": [
    "K.BettiNumber(2)"
   ]
  },
  {
   "cell_type": "code",
   "execution_count": 14,
   "metadata": {},
   "outputs": [
    {
     "data": {
      "text/plain": [
       "-1"
      ]
     },
     "execution_count": 14,
     "metadata": {},
     "output_type": "execute_result"
    }
   ],
   "source": [
    "K.EulerCharacteristic()"
   ]
  },
  {
   "cell_type": "markdown",
   "metadata": {},
   "source": [
    "Граничный оператор"
   ]
  },
  {
   "cell_type": "code",
   "execution_count": 15,
   "metadata": {},
   "outputs": [
    {
     "data": {
      "text/plain": [
       "matrix([[ 1,  0,  0,  0,  0,  0,  0,  0,  0,  0],\n",
       "        [ 0,  1,  1,  0,  0,  0,  0,  0,  0,  0],\n",
       "        [-1, -1,  0,  1,  0,  0,  0,  0,  0,  0],\n",
       "        [ 0,  0,  0, -1,  1,  1,  1,  0,  0,  0],\n",
       "        [ 0,  0,  0,  0, -1,  0,  0,  1,  1,  0],\n",
       "        [ 0,  0,  0,  0,  0, -1,  0, -1,  0,  1],\n",
       "        [ 0,  0, -1,  0,  0,  0, -1,  0, -1, -1]], dtype=int32)"
      ]
     },
     "execution_count": 15,
     "metadata": {},
     "output_type": "execute_result"
    }
   ],
   "source": [
    "# по умолчанию возвращается в разреженном виде\n",
    "B1 = K.BoundaryMatrix(1, 0)\n",
    "B1.todense()"
   ]
  },
  {
   "cell_type": "code",
   "execution_count": 16,
   "metadata": {},
   "outputs": [
    {
     "data": {
      "text/plain": [
       "matrix([[ 0,  0],\n",
       "        [ 0,  0],\n",
       "        [ 0,  0],\n",
       "        [ 0,  0],\n",
       "        [ 1,  1],\n",
       "        [-1,  0],\n",
       "        [ 0, -1],\n",
       "        [ 1,  0],\n",
       "        [ 0,  1],\n",
       "        [ 0,  0]], dtype=int32)"
      ]
     },
     "execution_count": 16,
     "metadata": {},
     "output_type": "execute_result"
    }
   ],
   "source": [
    "B2 = K.BoundaryMatrix(2, 1)\n",
    "B2.todense()"
   ]
  },
  {
   "cell_type": "code",
   "execution_count": 17,
   "metadata": {},
   "outputs": [
    {
     "data": {
      "text/plain": [
       "matrix([[ 0,  0],\n",
       "        [ 0,  0],\n",
       "        [ 0,  0],\n",
       "        [ 1,  1],\n",
       "        [-1, -1],\n",
       "        [ 1,  0],\n",
       "        [ 0,  1]], dtype=int32)"
      ]
     },
     "execution_count": 17,
     "metadata": {},
     "output_type": "execute_result"
    }
   ],
   "source": [
    "B3 = K.BoundaryMatrix(2, 0)\n",
    "B3.todense()"
   ]
  },
  {
   "cell_type": "markdown",
   "metadata": {},
   "source": [
    "Лапласиан"
   ]
  },
  {
   "cell_type": "code",
   "execution_count": 18,
   "metadata": {},
   "outputs": [
    {
     "data": {
      "text/plain": [
       "matrix([[ 2.,  1.,  0., -1.,  0.,  0.,  0.,  0.,  0.,  0.],\n",
       "        [ 1.,  2.,  1., -1.,  0.,  0.,  0.,  0.,  0.,  0.],\n",
       "        [ 0.,  1.,  2.,  0.,  0.,  0.,  1.,  0.,  1.,  1.],\n",
       "        [-1., -1.,  0.,  2., -1., -1., -1.,  0.,  0.,  0.],\n",
       "        [ 0.,  0.,  0., -1.,  4.,  0.,  0.,  0.,  0.,  0.],\n",
       "        [ 0.,  0.,  0., -1.,  0.,  3.,  1.,  0.,  0., -1.],\n",
       "        [ 0.,  0.,  1., -1.,  0.,  1.,  3.,  0.,  0.,  1.],\n",
       "        [ 0.,  0.,  0.,  0.,  0.,  0.,  0.,  3.,  1., -1.],\n",
       "        [ 0.,  0.,  1.,  0.,  0.,  0.,  0.,  1.,  3.,  1.],\n",
       "        [ 0.,  0.,  1.,  0.,  0., -1.,  1., -1.,  1.,  2.]])"
      ]
     },
     "execution_count": 18,
     "metadata": {},
     "output_type": "execute_result"
    }
   ],
   "source": [
    "K.LaplacianMatrix(1, 0, 2, 0).todense()"
   ]
  },
  {
   "cell_type": "code",
   "execution_count": 19,
   "metadata": {},
   "outputs": [
    {
     "data": {
      "text/plain": [
       "matrix([[ 2.,  1.,  0., -1.,  0.,  0.,  0.,  0.,  0.,  0.],\n",
       "        [ 1.,  2.,  1., -1.,  0.,  0.,  0.,  0.,  0.,  0.],\n",
       "        [ 0.,  1.,  2.,  0.,  0.,  0.,  1.,  0.,  1.,  1.],\n",
       "        [-1., -1.,  0.,  2., -1., -1., -1.,  0.,  0.,  0.],\n",
       "        [ 0.,  0.,  0., -1.,  4.,  0.,  0.,  0.,  0.,  0.],\n",
       "        [ 0.,  0.,  0., -1.,  0.,  3.,  1.,  0.,  0., -1.],\n",
       "        [ 0.,  0.,  1., -1.,  0.,  1.,  3.,  0.,  0.,  1.],\n",
       "        [ 0.,  0.,  0.,  0.,  0.,  0.,  0.,  3.,  1., -1.],\n",
       "        [ 0.,  0.,  1.,  0.,  0.,  0.,  0.,  1.,  3.,  1.],\n",
       "        [ 0.,  0.,  1.,  0.,  0., -1.,  1., -1.,  1.,  2.]])"
      ]
     },
     "execution_count": 19,
     "metadata": {},
     "output_type": "execute_result"
    }
   ],
   "source": [
    "K.LaplacianMatrix(1, 0, 2, 1).todense()"
   ]
  },
  {
   "cell_type": "code",
   "execution_count": 20,
   "metadata": {},
   "outputs": [
    {
     "data": {
      "text/plain": [
       "matrix([[ 2.,  1.,  0., -1.,  0.,  0.,  0.,  0.,  0.,  0.],\n",
       "        [ 1.,  2.,  1., -1.,  0.,  0.,  0.,  0.,  0.,  0.],\n",
       "        [ 0.,  1.,  2.,  0.,  0.,  0.,  1.,  0.,  1.,  1.],\n",
       "        [-1., -1.,  0.,  2., -1., -1., -1.,  0.,  0.,  0.],\n",
       "        [ 0.,  0.,  0., -1.,  4.,  0.,  0.,  0.,  0.,  0.],\n",
       "        [ 0.,  0.,  0., -1.,  0.,  3.,  1.,  0.,  0., -1.],\n",
       "        [ 0.,  0.,  1., -1.,  0.,  1.,  3.,  0.,  0.,  1.],\n",
       "        [ 0.,  0.,  0.,  0.,  0.,  0.,  0.,  3.,  1., -1.],\n",
       "        [ 0.,  0.,  1.,  0.,  0.,  0.,  0.,  1.,  3.,  1.],\n",
       "        [ 0.,  0.,  1.,  0.,  0., -1.,  1., -1.,  1.,  2.]])"
      ]
     },
     "execution_count": 20,
     "metadata": {},
     "output_type": "execute_result"
    }
   ],
   "source": [
    "K.LaplacianMatrix(1, 0, 2, True, False).todense()"
   ]
  },
  {
   "cell_type": "code",
   "execution_count": 21,
   "metadata": {},
   "outputs": [
    {
     "data": {
      "text/plain": [
       "([-1.3325095189673759e-15, -4.941914443518075e-17],\n",
       " [[-4.823249453060881e-16, 1.662269569590115e-16],\n",
       "  [-0.06008203812773589, -0.5311350434764245],\n",
       "  [0.060082038127736596, 0.5311350434764243],\n",
       "  [-0.06008203812773612, -0.5311350434764242],\n",
       "  [-0.015020509531934153, -0.13278376086910604],\n",
       "  [-0.36633331893945836, -0.09304322808213336],\n",
       "  [0.32127179034365627, -0.3053080545251848],\n",
       "  [-0.35131280940752474, 0.03974053278697269],\n",
       "  [0.3362922998755905, -0.1725242936560788],\n",
       "  [-0.7176461283469832, -0.053302695295160706]])"
      ]
     },
     "execution_count": 21,
     "metadata": {},
     "output_type": "execute_result"
    }
   ],
   "source": [
    "# Нахождение собственных чисел лапласиана.\n",
    "K.EigenValues(1, 0, 2, True, False, 2, \"sm\")"
   ]
  },
  {
   "cell_type": "code",
   "execution_count": 22,
   "metadata": {},
   "outputs": [
    {
     "data": {
      "text/plain": [
       "([2.676783379767847e-16,\n",
       "  5.016714911204086e-16,\n",
       "  0.6424303018152311,\n",
       "  1.611022500038123,\n",
       "  2.0,\n",
       "  2.216945176373858,\n",
       "  3.436171484685268,\n",
       "  4.000000000000001,\n",
       "  4.639837264122522,\n",
       "  5.453593272964995],\n",
       " [[5.912521690044935e-17,\n",
       "   1.001342947996102e-16,\n",
       "   0.6208390602189252,\n",
       "   0.5019682794882838,\n",
       "   -2.44689909166216e-16,\n",
       "   0.0973775050739883,\n",
       "   0.5358033179373778,\n",
       "   -3.190697258334709e-16,\n",
       "   -0.1609842969225086,\n",
       "   -0.20025780841525992],\n",
       "  [0.40377314409129467,\n",
       "   0.34302915691905206,\n",
       "   -0.3127878589193908,\n",
       "   -0.39100462744345577,\n",
       "   6.916759832302315e-17,\n",
       "   0.28406152290219816,\n",
       "   0.5446663001965883,\n",
       "   -1.3135929970982112e-16,\n",
       "   -0.0777930408481207,\n",
       "   -0.29184464647601394],\n",
       "  [-0.4037731440912947,\n",
       "   -0.3430291569190521,\n",
       "   0.333836695693462,\n",
       "   -0.5456265380597419,\n",
       "   -1.3877787807814457e-16,\n",
       "   0.22718421500213212,\n",
       "   0.021591744649160874,\n",
       "   3.1553600361991144e-16,\n",
       "   0.30280263390871565,\n",
       "   -0.40789052587950836],\n",
       "  [0.4037731440912946,\n",
       "   0.3430291569190522,\n",
       "   0.5300444366833307,\n",
       "   -0.19575026102793858,\n",
       "   4.5290608482369354e-17,\n",
       "   0.26293594288907585,\n",
       "   -0.2248391464248271,\n",
       "   2.4262249914422977e-16,\n",
       "   0.3471793051064825,\n",
       "   0.3997643735256405],\n",
       "  [0.14275536412398354,\n",
       "   0.12127912150108301,\n",
       "   0.27608012760607215,\n",
       "   -0.3558466415292875,\n",
       "   -4.506990447438916e-16,\n",
       "   -0.8570081683408532,\n",
       "   0.11070076714970543,\n",
       "   -1.8375811844808656e-16,\n",
       "   -0.09299544493324235,\n",
       "   -0.08184985232904624],\n",
       "  [-0.12796603592424174,\n",
       "   0.35520213020047936,\n",
       "   0.15786550521047835,\n",
       "   -0.08193893037128332,\n",
       "   0.5000000000000003,\n",
       "   0.14746374559271871,\n",
       "   -0.3987722158736864,\n",
       "   0.15811388300841994,\n",
       "   -0.542605635172882,\n",
       "   -0.27501804043865224],\n",
       "  [0.43079589399271284,\n",
       "   -0.09793026251119011,\n",
       "   0.05843742904159121,\n",
       "   0.1464544044627408,\n",
       "   -0.4999999999999998,\n",
       "   0.02005082929207805,\n",
       "   -0.43706709465807764,\n",
       "   -0.15811388300841886,\n",
       "   -0.06935618427698911,\n",
       "   -0.555626470228305],\n",
       "  [-0.22890932194706526,\n",
       "   0.26944484097071636,\n",
       "   -3.127489956347741e-16,\n",
       "   3.793396957399929e-16,\n",
       "   -0.5,\n",
       "   2.815939229330286e-17,\n",
       "   2.3041877110933277e-16,\n",
       "   0.7905694150420948,\n",
       "   4.664112254850793e-16,\n",
       "   -2.4544870100002873e-16],\n",
       "  [0.32985260796988913,\n",
       "   -0.18368755174095353,\n",
       "   -0.09942807616888699,\n",
       "   0.22839333483402385,\n",
       "   0.5,\n",
       "   -0.12741291630064158,\n",
       "   -0.03829487878439007,\n",
       "   0.47434164902525655,\n",
       "   0.47324945089589365,\n",
       "   -0.2806084297896522],\n",
       "  [-0.35687535787130725,\n",
       "   0.624646971171196,\n",
       "   -0.09942807616888699,\n",
       "   0.22839333483402363,\n",
       "   1.8721569026477663e-16,\n",
       "   -0.12741291630064105,\n",
       "   -0.03829487878439073,\n",
       "   -0.31622776601683844,\n",
       "   0.4732494508958935,\n",
       "   -0.28060842978965267]])"
      ]
     },
     "execution_count": 22,
     "metadata": {},
     "output_type": "execute_result"
    }
   ],
   "source": [
    "# нахождение всех собственных чисел лапласиана.\n",
    "K.EigenValuesAll(k=1, p=0, q=2, weighted=True, normalize=True)"
   ]
  },
  {
   "cell_type": "markdown",
   "metadata": {},
   "source": [
    "Очищение объекта"
   ]
  },
  {
   "cell_type": "code",
   "execution_count": 23,
   "metadata": {},
   "outputs": [],
   "source": [
    "K.Clear()"
   ]
  },
  {
   "cell_type": "markdown",
   "metadata": {},
   "source": [
    "#### Центральность"
   ]
  },
  {
   "cell_type": "code",
   "execution_count": 24,
   "metadata": {},
   "outputs": [],
   "source": [
    "K.AddSimplex([1, 2, 3, 4])\n",
    "K.AddSimplex([1, 5, 6])"
   ]
  },
  {
   "cell_type": "markdown",
   "metadata": {},
   "source": [
    "У симплексов можно обновлять веса"
   ]
  },
  {
   "cell_type": "code",
   "execution_count": 25,
   "metadata": {},
   "outputs": [],
   "source": [
    "K.UpdateWeight([1, 5, 6], 100)\n",
    "K.UpdateWeight([1, 2, 3], 34)\n",
    "K.UpdateWeight([1, 2, 4], 89)\n",
    "K.UpdateWeight([2, 3, 4], 52)\n"
   ]
  },
  {
   "cell_type": "markdown",
   "metadata": {},
   "source": [
    "Получение матрицы весов для фиксированного ранга"
   ]
  },
  {
   "cell_type": "code",
   "execution_count": 26,
   "metadata": {},
   "outputs": [
    {
     "data": {
      "text/plain": [
       "array([[ 34.,   0.,   0.,   0.,   0.],\n",
       "       [  0.,  89.,   0.,   0.,   0.],\n",
       "       [  0.,   0.,   1.,   0.,   0.],\n",
       "       [  0.,   0.,   0., 100.,   0.],\n",
       "       [  0.,   0.,   0.,   0.,  52.]])"
      ]
     },
     "execution_count": 26,
     "metadata": {},
     "output_type": "execute_result"
    }
   ],
   "source": [
    "K.Weights(2)"
   ]
  },
  {
   "cell_type": "code",
   "execution_count": 27,
   "metadata": {},
   "outputs": [
    {
     "data": {
      "text/plain": [
       "[[1, 2], [1, 3], [1, 4], [1, 5], [1, 6], [2, 3], [2, 4], [3, 4], [5, 6]]"
      ]
     },
     "execution_count": 27,
     "metadata": {},
     "output_type": "execute_result"
    }
   ],
   "source": [
    "K.GetSimplicesWithDimension(1)"
   ]
  },
  {
   "cell_type": "code",
   "execution_count": 28,
   "metadata": {},
   "outputs": [
    {
     "data": {
      "text/plain": [
       "[[0.0, 0.0, 0.0, 1.0, 1.0, 0.0, 0.0, 0.0, 0.0],\n",
       " [0.0, 0.0, 0.0, 1.0, 1.0, 0.0, 0.0, 0.0, 0.0],\n",
       " [0.0, 0.0, 0.0, 1.0, 1.0, 0.0, 0.0, 0.0, 0.0],\n",
       " [1.0, 1.0, 1.0, 0.0, 0.0, 0.0, 0.0, 0.0, 0.0],\n",
       " [1.0, 1.0, 1.0, 0.0, 0.0, 0.0, 0.0, 0.0, 0.0],\n",
       " [0.0, 0.0, 0.0, 0.0, 0.0, 0.0, 0.0, 0.0, 0.0],\n",
       " [0.0, 0.0, 0.0, 0.0, 0.0, 0.0, 0.0, 0.0, 0.0],\n",
       " [0.0, 0.0, 0.0, 0.0, 0.0, 0.0, 0.0, 0.0, 0.0],\n",
       " [0.0, 0.0, 0.0, 0.0, 0.0, 0.0, 0.0, 0.0, 0.0]]"
      ]
     },
     "execution_count": 28,
     "metadata": {},
     "output_type": "execute_result"
    }
   ],
   "source": [
    "K.AdjacencyMatrix(1, 0, 2, False)"
   ]
  },
  {
   "cell_type": "markdown",
   "metadata": {},
   "source": [
    "Вычисление невзвешенной closeness"
   ]
  },
  {
   "cell_type": "code",
   "execution_count": 29,
   "metadata": {},
   "outputs": [
    {
     "data": {
      "text/plain": [
       "[([1, 2], 0.3333333333333333),\n",
       " ([1, 3], 0.3333333333333333),\n",
       " ([1, 4], 0.3333333333333333),\n",
       " ([1, 5], 0.4),\n",
       " ([1, 6], 0.4),\n",
       " ([2, 3], 0.0),\n",
       " ([2, 4], 0.0),\n",
       " ([3, 4], 0.0),\n",
       " ([5, 6], 0.0)]"
      ]
     },
     "execution_count": 29,
     "metadata": {},
     "output_type": "execute_result"
    }
   ],
   "source": [
    "K.ClosenessAll(1, 2, False)"
   ]
  },
  {
   "cell_type": "markdown",
   "metadata": {},
   "source": [
    "Вычисление взвешенной closeness"
   ]
  },
  {
   "cell_type": "code",
   "execution_count": 30,
   "metadata": {},
   "outputs": [
    {
     "data": {
      "text/plain": [
       "[([1, 2], 0.3333333333333333),\n",
       " ([1, 3], 0.3333333333333333),\n",
       " ([1, 4], 0.3333333333333333),\n",
       " ([1, 5], 0.4),\n",
       " ([1, 6], 0.4),\n",
       " ([2, 3], 0.0),\n",
       " ([2, 4], 0.0),\n",
       " ([3, 4], 0.0),\n",
       " ([5, 6], 0.0)]"
      ]
     },
     "execution_count": 30,
     "metadata": {},
     "output_type": "execute_result"
    }
   ],
   "source": [
    "K.ClosenessAll(k=1, q=2, weighted=True)"
   ]
  },
  {
   "cell_type": "code",
   "execution_count": 31,
   "metadata": {},
   "outputs": [
    {
     "data": {
      "text/plain": [
       "[([1, 2], 0.011904761904761904),\n",
       " ([1, 3], 0.011904761904761904),\n",
       " ([1, 4], 0.011904761904761904),\n",
       " ([1, 5], 0.05357142857142857),\n",
       " ([1, 6], 0.05357142857142857),\n",
       " ([2, 3], 0.0),\n",
       " ([2, 4], 0.0),\n",
       " ([3, 4], 0.0),\n",
       " ([5, 6], 0.0)]"
      ]
     },
     "execution_count": 31,
     "metadata": {},
     "output_type": "execute_result"
    }
   ],
   "source": [
    "K.BetweennessAll(1, 2, False)"
   ]
  },
  {
   "cell_type": "code",
   "execution_count": 32,
   "metadata": {},
   "outputs": [
    {
     "data": {
      "text/plain": [
       "[([1, 2], 0.011904761904761904),\n",
       " ([1, 3], 0.011904761904761904),\n",
       " ([1, 4], 0.011904761904761904),\n",
       " ([1, 5], 0.05357142857142857),\n",
       " ([1, 6], 0.05357142857142857),\n",
       " ([2, 3], 0.0),\n",
       " ([2, 4], 0.0),\n",
       " ([3, 4], 0.0),\n",
       " ([5, 6], 0.0)]"
      ]
     },
     "execution_count": 32,
     "metadata": {},
     "output_type": "execute_result"
    }
   ],
   "source": [
    "K.BetweennessAll(1, 2, True)"
   ]
  },
  {
   "cell_type": "markdown",
   "metadata": {},
   "source": [
    "Степень"
   ]
  },
  {
   "cell_type": "code",
   "execution_count": 33,
   "metadata": {},
   "outputs": [
    {
     "data": {
      "text/plain": [
       "[1.0, 1.0, 1.0, 0.0, 1.0]"
      ]
     },
     "execution_count": 33,
     "metadata": {},
     "output_type": "execute_result"
    }
   ],
   "source": [
    "K.DegreeAll(2, 3, False)"
   ]
  },
  {
   "cell_type": "code",
   "execution_count": 34,
   "metadata": {},
   "outputs": [
    {
     "data": {
      "text/plain": [
       "[1.0, 1.0, 1.0, 0.0, 1.0]"
      ]
     },
     "execution_count": 34,
     "metadata": {},
     "output_type": "execute_result"
    }
   ],
   "source": [
    "K.DegreeAll(2, 3, True)"
   ]
  },
  {
   "cell_type": "markdown",
   "metadata": {},
   "source": [
    "Комбинаторный комплекс:"
   ]
  },
  {
   "cell_type": "code",
   "execution_count": 35,
   "metadata": {},
   "outputs": [],
   "source": [
    "comb = simpl.CombinatorialComplex()\n",
    "\n",
    "comb.Build([[1], [2], [3], [4], [1, 2], [1, 4], [1, 2, 3], [2, 3, 4]])"
   ]
  },
  {
   "cell_type": "markdown",
   "metadata": {},
   "source": [
    "Инцидентность"
   ]
  },
  {
   "cell_type": "code",
   "execution_count": 36,
   "metadata": {},
   "outputs": [
    {
     "name": "stdout",
     "output_type": "stream",
     "text": [
      "[[1, 2], [1, 4]]\n",
      "[[1, 2, 3]]\n",
      "[]\n"
     ]
    }
   ],
   "source": [
    "print(comb.Incidence([1], 1))\n",
    "print(comb.Incidence([1], 2))\n",
    "print(comb.Incidence([1], 3))\n"
   ]
  },
  {
   "cell_type": "markdown",
   "metadata": {},
   "source": [
    "Смежность и степень"
   ]
  },
  {
   "cell_type": "code",
   "execution_count": 37,
   "metadata": {},
   "outputs": [
    {
     "name": "stdout",
     "output_type": "stream",
     "text": [
      "[[2], [4]]\n",
      "[[2], [3]]\n",
      "[]\n",
      "2.0\n",
      "1.0\n",
      "0.0\n",
      "[2.0, 1.0, 0.0, 1.0]\n",
      "[1.0, 2.0, 2.0, 1.0]\n",
      "[0.0, 0.0, 0.0, 0.0]\n"
     ]
    }
   ],
   "source": [
    "print(comb.Adjacency([1], 1))\n",
    "print(comb.Adjacency([1], 2))\n",
    "print(comb.Adjacency([1], 3))\n",
    "\n",
    "print(comb.Degree([1], 1, False))\n",
    "print(comb.Degree([1], 2, False))\n",
    "print(comb.Degree([1], 3, False))\n",
    "\n",
    "print(comb.DegreeAll(0, 1, False))\n",
    "print(comb.DegreeAll(0, 2, False))\n",
    "print(comb.DegreeAll(0, 3, False))"
   ]
  },
  {
   "cell_type": "markdown",
   "metadata": {},
   "source": [
    "Количество объектов в комплексе"
   ]
  },
  {
   "cell_type": "code",
   "execution_count": 38,
   "metadata": {},
   "outputs": [
    {
     "data": {
      "text/plain": [
       "8"
      ]
     },
     "execution_count": 38,
     "metadata": {},
     "output_type": "execute_result"
    }
   ],
   "source": [
    "comb.TotalCount()"
   ]
  },
  {
   "cell_type": "markdown",
   "metadata": {},
   "source": [
    "Граф"
   ]
  },
  {
   "cell_type": "code",
   "execution_count": 39,
   "metadata": {},
   "outputs": [],
   "source": [
    "graph = simpl.Graph()"
   ]
  },
  {
   "cell_type": "markdown",
   "metadata": {},
   "source": [
    "Добавление рёбер"
   ]
  },
  {
   "cell_type": "code",
   "execution_count": 40,
   "metadata": {},
   "outputs": [],
   "source": [
    "graph.AddEdge(1, 2)\n",
    "graph.AddEdge(1, 3)\n",
    "graph.AddEdge(2, 3)\n",
    "graph.AddEdge(4, 5)"
   ]
  },
  {
   "cell_type": "markdown",
   "metadata": {},
   "source": [
    "Числа Бетти"
   ]
  },
  {
   "cell_type": "code",
   "execution_count": 41,
   "metadata": {},
   "outputs": [
    {
     "data": {
      "text/plain": [
       "2"
      ]
     },
     "execution_count": 41,
     "metadata": {},
     "output_type": "execute_result"
    }
   ],
   "source": [
    "# number of connected components -- |C|\n",
    "graph.BettiNumber(0)"
   ]
  },
  {
   "cell_type": "code",
   "execution_count": 42,
   "metadata": {},
   "outputs": [
    {
     "data": {
      "text/plain": [
       "1"
      ]
     },
     "execution_count": 42,
     "metadata": {},
     "output_type": "execute_result"
    }
   ],
   "source": [
    "# |E| - |V| + |C|, where E - edges, V -- vertices\n",
    "graph.BettiNumber(1)"
   ]
  },
  {
   "cell_type": "code",
   "execution_count": 43,
   "metadata": {},
   "outputs": [
    {
     "data": {
      "text/plain": [
       "0"
      ]
     },
     "execution_count": 43,
     "metadata": {},
     "output_type": "execute_result"
    }
   ],
   "source": [
    "graph.BettiNumber(2)"
   ]
  },
  {
   "cell_type": "code",
   "execution_count": 44,
   "metadata": {},
   "outputs": [
    {
     "data": {
      "text/plain": [
       "9"
      ]
     },
     "execution_count": 44,
     "metadata": {},
     "output_type": "execute_result"
    }
   ],
   "source": [
    "# |E| + |V|\n",
    "graph.TotalCount()"
   ]
  },
  {
   "cell_type": "markdown",
   "metadata": {},
   "source": [
    "Весовые функции фильтрации:"
   ]
  },
  {
   "cell_type": "code",
   "execution_count": 45,
   "metadata": {},
   "outputs": [],
   "source": [
    "K.Clear()"
   ]
  },
  {
   "cell_type": "code",
   "execution_count": 46,
   "metadata": {},
   "outputs": [],
   "source": [
    "def weight(a):\n",
    "    return len(a) - 1"
   ]
  },
  {
   "cell_type": "code",
   "execution_count": 47,
   "metadata": {},
   "outputs": [],
   "source": [
    "K.AddFunction(\"weight\", weight)"
   ]
  },
  {
   "cell_type": "code",
   "execution_count": 48,
   "metadata": {},
   "outputs": [],
   "source": [
    "K.AddSimplex([1, 2, 3, 4])\n",
    "K.AddSimplex([1, 5, 6])"
   ]
  },
  {
   "cell_type": "markdown",
   "metadata": {},
   "source": [
    "Фильтрация сверху"
   ]
  },
  {
   "cell_type": "code",
   "execution_count": 49,
   "metadata": {},
   "outputs": [
    {
     "data": {
      "text/plain": [
       "[[1, 2, 3], [1, 2, 4], [1, 3, 4], [1, 5, 6], [2, 3, 4]]"
      ]
     },
     "execution_count": 49,
     "metadata": {},
     "output_type": "execute_result"
    }
   ],
   "source": [
    "K.ThresholdAbove(\"weight\", 3)\n",
    "K.GetMaxSimplices()"
   ]
  },
  {
   "cell_type": "code",
   "execution_count": 50,
   "metadata": {},
   "outputs": [
    {
     "data": {
      "text/plain": [
       "[[1, 2], [1, 3], [1, 4], [1, 5], [1, 6], [2, 3], [2, 4], [3, 4], [5, 6]]"
      ]
     },
     "execution_count": 50,
     "metadata": {},
     "output_type": "execute_result"
    }
   ],
   "source": [
    "K.ThresholdAbove(\"weight\", 2)\n",
    "K.GetMaxSimplices()"
   ]
  },
  {
   "cell_type": "code",
   "execution_count": 51,
   "metadata": {},
   "outputs": [],
   "source": [
    "def inverse_weight(a):\n",
    "    return -(len(a) - 1)"
   ]
  },
  {
   "cell_type": "code",
   "execution_count": 52,
   "metadata": {},
   "outputs": [],
   "source": [
    "K = simpl.SimplicialComplex()\n",
    "K.AddFunction(\"inverse_weight\", inverse_weight)\n",
    "K.AddSimplex([1, 2, 3, 4])\n",
    "K.AddSimplex([1, 5, 6])"
   ]
  },
  {
   "cell_type": "markdown",
   "metadata": {},
   "source": [
    "Фильтрация снизу"
   ]
  },
  {
   "cell_type": "code",
   "execution_count": 53,
   "metadata": {},
   "outputs": [
    {
     "data": {
      "text/plain": [
       "[[1, 2, 3], [1, 2, 4], [1, 3, 4], [1, 5, 6], [2, 3, 4]]"
      ]
     },
     "execution_count": 53,
     "metadata": {},
     "output_type": "execute_result"
    }
   ],
   "source": [
    "K.ThresholdBelow(\"inverse_weight\", -3)\n",
    "K.GetMaxSimplices()"
   ]
  },
  {
   "cell_type": "code",
   "execution_count": 54,
   "metadata": {},
   "outputs": [
    {
     "data": {
      "text/plain": [
       "[[1, 2], [1, 3], [1, 4], [1, 5], [1, 6], [2, 3], [2, 4], [3, 4], [5, 6]]"
      ]
     },
     "execution_count": 54,
     "metadata": {},
     "output_type": "execute_result"
    }
   ],
   "source": [
    "K.ThresholdBelow(\"inverse_weight\", -2)\n",
    "K.GetMaxSimplices()"
   ]
  },
  {
   "cell_type": "markdown",
   "metadata": {},
   "source": [
    "Пример нетривиальной фильтрации"
   ]
  },
  {
   "cell_type": "code",
   "execution_count": 55,
   "metadata": {},
   "outputs": [],
   "source": [
    "def bad3(a):\n",
    "    if 3 in a:\n",
    "        return 10**9\n",
    "    return -10**9"
   ]
  },
  {
   "cell_type": "code",
   "execution_count": 56,
   "metadata": {},
   "outputs": [],
   "source": [
    "K.Clear()\n",
    "K.AddFunction(\"bad3\", bad3)\n",
    "K.AddFunction(\"weight\", weight)\n",
    "K.AddSimplex([1, 2, 3, 4])\n",
    "K.AddSimplex([1, 5, 6])"
   ]
  },
  {
   "cell_type": "code",
   "execution_count": 57,
   "metadata": {},
   "outputs": [
    {
     "data": {
      "text/plain": [
       "[[1, 2, 4], [1, 5, 6]]"
      ]
     },
     "execution_count": 57,
     "metadata": {},
     "output_type": "execute_result"
    }
   ],
   "source": [
    "K.ThresholdAbove(\"bad3\", 5)\n",
    "K.GetMaxSimplices()"
   ]
  },
  {
   "cell_type": "markdown",
   "metadata": {},
   "source": [
    "Матрица признаков"
   ]
  },
  {
   "cell_type": "code",
   "execution_count": 58,
   "metadata": {},
   "outputs": [
    {
     "data": {
      "text/plain": [
       "[[-1000000000.0, 2.0], [-1000000000.0, 2.0]]"
      ]
     },
     "execution_count": 58,
     "metadata": {},
     "output_type": "execute_result"
    }
   ],
   "source": [
    "K.FeaturesMatrix(2)"
   ]
  },
  {
   "cell_type": "markdown",
   "metadata": {},
   "source": [
    "Dowker complex"
   ]
  },
  {
   "cell_type": "code",
   "execution_count": 59,
   "metadata": {},
   "outputs": [
    {
     "data": {
      "text/plain": [
       "[[0, 2]]"
      ]
     },
     "execution_count": 59,
     "metadata": {},
     "output_type": "execute_result"
    }
   ],
   "source": [
    "K.Clear()\n",
    "K.BuildDowkerComplex([[1, 0, 0], [1, 0, 1], [0, 0, 1]], False)\n",
    "K.GetMaxSimplices()"
   ]
  },
  {
   "cell_type": "code",
   "execution_count": 60,
   "metadata": {},
   "outputs": [
    {
     "data": {
      "text/plain": [
       "[[0, 1], [1, 2]]"
      ]
     },
     "execution_count": 60,
     "metadata": {},
     "output_type": "execute_result"
    }
   ],
   "source": [
    "K.BuildDowkerComplex([[1, 0, 0], [1, 0, 1], [0, 0, 1]], on_column=True)\n",
    "K.GetMaxSimplices()"
   ]
  },
  {
   "cell_type": "markdown",
   "metadata": {},
   "source": [
    "Гиперграф"
   ]
  },
  {
   "cell_type": "code",
   "execution_count": 61,
   "metadata": {},
   "outputs": [
    {
     "data": {
      "text/plain": [
       "[[1, 2, 3], [4, 13]]"
      ]
     },
     "execution_count": 61,
     "metadata": {},
     "output_type": "execute_result"
    }
   ],
   "source": [
    "H = simpl.HyperGraph()\n",
    "H.AddEdge([1, 2, 3])\n",
    "H.AddEdge([13, 4])\n",
    "H.GetEdges()"
   ]
  },
  {
   "cell_type": "code",
   "execution_count": 62,
   "metadata": {},
   "outputs": [
    {
     "data": {
      "text/plain": [
       "3"
      ]
     },
     "execution_count": 62,
     "metadata": {},
     "output_type": "execute_result"
    }
   ],
   "source": [
    "H.BettiNumber(0)"
   ]
  },
  {
   "cell_type": "markdown",
   "metadata": {},
   "source": [
    "Кликовый комплекс"
   ]
  },
  {
   "cell_type": "code",
   "execution_count": 63,
   "metadata": {},
   "outputs": [
    {
     "data": {
      "text/plain": [
       "[[1], [2], [0, 1], [0, 2], [1, 2], [0, 1, 2]]"
      ]
     },
     "execution_count": 63,
     "metadata": {},
     "output_type": "execute_result"
    }
   ],
   "source": [
    "K.Clear()\n",
    "K = simpl.SimplicialComplex.CreateCliqueGraph([[0, 1, 1], [1, 0, 1], [1, 1, 0]], 2, 0, 1)\n",
    "K.GetAllSimplices()"
   ]
  },
  {
   "cell_type": "markdown",
   "metadata": {},
   "source": [
    "Help"
   ]
  },
  {
   "cell_type": "code",
   "execution_count": 64,
   "metadata": {},
   "outputs": [
    {
     "name": "stdout",
     "output_type": "stream",
     "text": [
      "Help on SimplicialComplex in module simpl object:\n",
      "\n",
      "class SimplicialComplex(pybind11_builtins.pybind11_object)\n",
      " |  Method resolution order:\n",
      " |      SimplicialComplex\n",
      " |      pybind11_builtins.pybind11_object\n",
      " |      builtins.object\n",
      " |\n",
      " |  Methods defined here:\n",
      " |\n",
      " |  AddFunction(...)\n",
      " |      AddFunction(self: simpl.SimplicialComplex, name: str, func: Callable[[list[int]], float]) -> None\n",
      " |\n",
      " |      Add a function on simplices with given name\n",
      " |\n",
      " |  AddSimplex(...)\n",
      " |      AddSimplex(self: simpl.SimplicialComplex, simplex: list[int]) -> None\n",
      " |\n",
      " |      Add a simplex to the simplicial complex\n",
      " |\n",
      " |  Adjacency(...)\n",
      " |      Adjacency(self: simpl.SimplicialComplex, node: list[int], k: int) -> list[list[int]]\n",
      " |\n",
      " |      Get all nodes k-adjacence to given node\n",
      " |\n",
      " |  AdjacencyMatrix(...)\n",
      " |      AdjacencyMatrix(self: simpl.SimplicialComplex, k: int, p: int, q: int, weighted: bool = False) -> list[list[float]]\n",
      " |\n",
      " |      Get all nodes adjacency matrix\n",
      " |\n",
      " |  BettiNumber(...)\n",
      " |      BettiNumber(self: simpl.SimplicialComplex, k: int) -> int\n",
      " |\n",
      " |      Get the k betti number of simplicial complex\n",
      " |\n",
      " |  Betweenness(...)\n",
      " |      Betweenness(self: simpl.SimplicialComplex, node: list[int], q: int, weighted: bool = False) -> float\n",
      " |\n",
      " |      Calculate betweenness for given node via nodes with rank=q\n",
      " |\n",
      " |  BetweennessAll(...)\n",
      " |      BetweennessAll(self: simpl.SimplicialComplex, k: int, q: int, weighted: bool = False) -> list[tuple[list[int], float]]\n",
      " |\n",
      " |      Calculate betweenness for all node with rank=k via nodes with rank=q\n",
      " |\n",
      " |  BoundaryMatrix(...)\n",
      " |      BoundaryMatrix(self: simpl.SimplicialComplex, k: int, p: int) -> scipy.sparse.csr_matrix[numpy.int32]\n",
      " |\n",
      " |      Get the boundary matrix. Should be: k > p\n",
      " |\n",
      " |  BuildDowkerComplex(...)\n",
      " |      BuildDowkerComplex(self: simpl.SimplicialComplex, binary: list[list[int]], on_column: bool = False) -> None\n",
      " |\n",
      " |      Build a Dowker complex from a binary matrix with flag on_column. If on_column=true then simplices is on column, otherwise on rows\n",
      " |\n",
      " |  Clear(...)\n",
      " |      Clear(self: simpl.SimplicialComplex) -> None\n",
      " |\n",
      " |      Clear the simplicial complex\n",
      " |\n",
      " |  Closeness(...)\n",
      " |      Closeness(self: simpl.SimplicialComplex, node: list[int], q: int, weighted: bool = False) -> float\n",
      " |\n",
      " |      Calculate closeness for given node via nodes with rank=q\n",
      " |\n",
      " |  ClosenessAll(...)\n",
      " |      ClosenessAll(self: simpl.SimplicialComplex, k: int, q: int, weighted: bool = False) -> list[tuple[list[int], float]]\n",
      " |\n",
      " |      Calculate closeness for all node with rank=k via nodes with rank=q\n",
      " |\n",
      " |  ClosenessEigen(...)\n",
      " |      ClosenessEigen(self: simpl.SimplicialComplex, p: int, max_rank: int, weighted: bool = False) -> list[tuple[list[int], float]]\n",
      " |\n",
      " |      Calculate eigen closeness for all node with rank=p via upper nodes with rank=max_rank\n",
      " |\n",
      " |  ClosenessSubgraph(...)\n",
      " |      ClosenessSubgraph(self: simpl.SimplicialComplex, p: int, max_rank: int, weighted: bool = False) -> list[tuple[list[int], float]]\n",
      " |\n",
      " |      Calculate subgraph closeness for all node with rank=p via upper nodes with rank=max_rank\n",
      " |\n",
      " |  Degree(...)\n",
      " |      Degree(self: simpl.SimplicialComplex, node: list[int], k: int, weighted: bool = False) -> float\n",
      " |\n",
      " |      Get sum of weights of all k-adjacence to given node.\n",
      " |\n",
      " |  DegreeAll(...)\n",
      " |      DegreeAll(self: simpl.SimplicialComplex, p: int, k: int, weighted: bool = False) -> list[float]\n",
      " |\n",
      " |      Get vector of degrees of all nodes with rank=p with k-adjacence\n",
      " |\n",
      " |  Dimension(...)\n",
      " |      Dimension(self: simpl.SimplicialComplex) -> int\n",
      " |\n",
      " |      Get the dimension of the simplicial complex - maximum dimension of simplices\n",
      " |\n",
      " |  EigenValues(...)\n",
      " |      EigenValues(self: simpl.SimplicialComplex, k: int, p: int, q: int, weighted: bool, normalize: bool, cnt: int, which: str) -> tuple[list[float], list[list[float]]]\n",
      " |\n",
      " |      Find cnt eigenvalues and eigenvectors of the Laplacian matrix. Should be: p < k < q\n",
      " |\n",
      " |  EigenValuesAll(...)\n",
      " |      EigenValuesAll(self: simpl.SimplicialComplex, k: int, p: int, q: int, weighted: bool, normalize: bool) -> tuple[list[float], list[list[float]]]\n",
      " |\n",
      " |      Get all the eigenvalues and eigenvectors of the Laplacian matrix. Should be: p < k < q\n",
      " |\n",
      " |  EulerCharacteristic(...)\n",
      " |      EulerCharacteristic(self: simpl.SimplicialComplex) -> int\n",
      " |\n",
      " |      Get the Euler characteristic of the simplicial complex\n",
      " |\n",
      " |  FVector(...)\n",
      " |      FVector(self: simpl.SimplicialComplex) -> list[tuple[int, int]]\n",
      " |\n",
      " |      Get the f-vector of the simplicial complex\n",
      " |\n",
      " |  FeaturesMatrix(...)\n",
      " |      FeaturesMatrix(self: simpl.SimplicialComplex, dim: int) -> list[list[float]]\n",
      " |\n",
      " |      Get the feature matrix with simplices on given dimension\n",
      " |\n",
      " |  GetAllSimplices(...)\n",
      " |      GetAllSimplices(self: simpl.SimplicialComplex) -> list[list[int]]\n",
      " |\n",
      " |      Get all simplices\n",
      " |\n",
      " |  GetMaxSimplices(...)\n",
      " |      GetMaxSimplices(self: simpl.SimplicialComplex) -> list[list[int]]\n",
      " |\n",
      " |      Get all maximum simplices of complex\n",
      " |\n",
      " |  GetSimplicesWithDimension(...)\n",
      " |      GetSimplicesWithDimension(self: simpl.SimplicialComplex, dim: int) -> list[list[int]]\n",
      " |\n",
      " |      Get all simplices with given dimension\n",
      " |\n",
      " |  HodgeDecomposition(...)\n",
      " |      HodgeDecomposition(self: simpl.SimplicialComplex, k: int, p: int, q: int, vec: list[float]) -> tuple[list[float], list[float], list[float]]\n",
      " |\n",
      " |      Decompose vector in gradient, harmonic and solenoidal components\n",
      " |\n",
      " |  Incidence(...)\n",
      " |      Incidence(self: simpl.SimplicialComplex, node: list[int], k: int) -> list[list[int]]\n",
      " |\n",
      " |      Get all nodes k-incidence to given node\n",
      " |\n",
      " |  LaplacianMatrix(...)\n",
      " |      LaplacianMatrix(self: simpl.SimplicialComplex, k: int, p: int, q: int, weighted: bool = False, normalize: bool = False) -> scipy.sparse.csr_matrix[numpy.float64]\n",
      " |\n",
      " |      Get the laplacian matrix. Should be: p < k < q\n",
      " |\n",
      " |  RemoveFunction(...)\n",
      " |      RemoveFunction(self: simpl.SimplicialComplex, name: str) -> None\n",
      " |\n",
      " |      Remove a function from simplicial complex by given name\n",
      " |\n",
      " |  RemoveSimplex(...)\n",
      " |      RemoveSimplex(self: simpl.SimplicialComplex, simplex: list[int]) -> None\n",
      " |\n",
      " |      Remove a simplex from the simplicial complex\n",
      " |\n",
      " |  ThresholdAbove(...)\n",
      " |      ThresholdAbove(self: simpl.SimplicialComplex, name: str, threshold: float) -> None\n",
      " |\n",
      " |      Threshold the simplicial complex by removing elements on which function with given name higher or equal threshold value. Function should me monotonically non-decreasing\n",
      " |\n",
      " |  ThresholdBelow(...)\n",
      " |      ThresholdBelow(self: simpl.SimplicialComplex, name: str, threshold: float) -> None\n",
      " |\n",
      " |      Threshold the simplicial complex by removing elements on which function with given name less or equal threshold value. Function should me monotonically non-increasing\n",
      " |\n",
      " |  TotalCountOfSimplices(...)\n",
      " |      TotalCountOfSimplices(self: simpl.SimplicialComplex) -> int\n",
      " |\n",
      " |      Get number of simplices in complex\n",
      " |\n",
      " |  UpdateWeight(...)\n",
      " |      UpdateWeight(self: simpl.SimplicialComplex, node: list[int], weight: float) -> None\n",
      " |\n",
      " |      Update the weight of a simplex\n",
      " |\n",
      " |  Weights(...)\n",
      " |      Weights(self: simpl.SimplicialComplex, rank: int) -> numpy.ndarray[numpy.float64[m, n]]\n",
      " |\n",
      " |      Get the weights of all nodes at a given rank\n",
      " |\n",
      " |  __init__(...)\n",
      " |      __init__(self: simpl.SimplicialComplex) -> None\n",
      " |\n",
      " |      Creating a new simplicial complex\n",
      " |\n",
      " |  ----------------------------------------------------------------------\n",
      " |  Static methods defined here:\n",
      " |\n",
      " |  CreateCliqueGraph(...) from builtins.PyCapsule\n",
      " |      CreateCliqueGraph(g: list[list[int]], k: int, method: int = 0, threads: int = 2) -> simpl.SimplicialComplex\n",
      " |\n",
      " |      Create simplicial complex from given graph using cliques with size <= k\n",
      " |\n",
      " |  ----------------------------------------------------------------------\n",
      " |  Static methods inherited from pybind11_builtins.pybind11_object:\n",
      " |\n",
      " |  __new__(*args, **kwargs) from pybind11_builtins.pybind11_type\n",
      " |      Create and return a new object.  See help(type) for accurate signature.\n",
      "\n"
     ]
    }
   ],
   "source": [
    "help(K)"
   ]
  },
  {
   "cell_type": "code",
   "execution_count": 65,
   "metadata": {},
   "outputs": [
    {
     "name": "stdout",
     "output_type": "stream",
     "text": [
      "Help on method AddSimplex in module simpl:\n",
      "\n",
      "AddSimplex(...) method of simpl.SimplicialComplex instance\n",
      "    AddSimplex(self: simpl.SimplicialComplex, simplex: list[int]) -> None\n",
      "\n",
      "    Add a simplex to the simplicial complex\n",
      "\n"
     ]
    }
   ],
   "source": [
    "help(K.AddSimplex)"
   ]
  },
  {
   "cell_type": "code",
   "execution_count": 66,
   "metadata": {},
   "outputs": [
    {
     "name": "stdout",
     "output_type": "stream",
     "text": [
      "Help on HyperGraph in module simpl object:\n",
      "\n",
      "class HyperGraph(pybind11_builtins.pybind11_object)\n",
      " |  Method resolution order:\n",
      " |      HyperGraph\n",
      " |      pybind11_builtins.pybind11_object\n",
      " |      builtins.object\n",
      " |\n",
      " |  Methods defined here:\n",
      " |\n",
      " |  AddEdge(...)\n",
      " |      AddEdge(self: simpl.HyperGraph, edge: list[int]) -> None\n",
      " |\n",
      " |      Add an hyperedge to the hypergraph\n",
      " |\n",
      " |  AddFunction(...)\n",
      " |      AddFunction(self: simpl.HyperGraph, name: str, func: Callable[[list[int]], float]) -> None\n",
      " |\n",
      " |      Add a function to the hypergraph with the given name\n",
      " |\n",
      " |  Adjacency(...)\n",
      " |      Adjacency(self: simpl.HyperGraph, node: list[int], k: int) -> list[list[int]]\n",
      " |\n",
      " |      Get all nodes with k-adjacency to the given node\n",
      " |\n",
      " |  AdjacencyMatrix(...)\n",
      " |      AdjacencyMatrix(self: simpl.HyperGraph, k: int, p: int, q: int, weighted: bool = False) -> list[list[float]]\n",
      " |\n",
      " |      Get all nodes adjacency matrix\n",
      " |\n",
      " |  BettiNumber(...)\n",
      " |      BettiNumber(self: simpl.HyperGraph, k: int) -> int\n",
      " |\n",
      " |      Get the k-th Betti number of the hypergraph\n",
      " |\n",
      " |  Betweenness(...)\n",
      " |      Betweenness(self: simpl.HyperGraph, node: list[int], q: int, weighted: bool = False) -> float\n",
      " |\n",
      " |      Calculate the betweenness centrality for the given node via nodes with rank=q\n",
      " |\n",
      " |  BetweennessAll(...)\n",
      " |      BetweennessAll(self: simpl.HyperGraph, k: int, q: int, weighted: bool = False) -> list[tuple[list[int], float]]\n",
      " |\n",
      " |      Calculate the betweenness centrality for all nodes with rank=k via nodes with rank=q\n",
      " |\n",
      " |  BoundaryMatrix(...)\n",
      " |      BoundaryMatrix(self: simpl.HyperGraph, k: int, p: int) -> scipy.sparse.csr_matrix[numpy.int32]\n",
      " |\n",
      " |      Get the boundary matrix of the hypergraph. Should be: k > p\n",
      " |\n",
      " |  BuildFromBinary(...)\n",
      " |      BuildFromBinary(self: simpl.HyperGraph, binary: list[list[int]], on_column: bool = False) -> None\n",
      " |\n",
      " |      Build from a binary matrix with flag on_column. If on_column=true then edges is on column, otherwise on rows\n",
      " |\n",
      " |  Clear(...)\n",
      " |      Clear(self: simpl.HyperGraph) -> None\n",
      " |\n",
      " |      Clear all elements in the hypergraph\n",
      " |\n",
      " |  Closeness(...)\n",
      " |      Closeness(self: simpl.HyperGraph, node: list[int], q: int, weighted: bool = False) -> float\n",
      " |\n",
      " |      Calculate the closeness centrality for the given node via nodes with rank=q\n",
      " |\n",
      " |  ClosenessAll(...)\n",
      " |      ClosenessAll(self: simpl.HyperGraph, k: int, q: int, weighted: bool = False) -> list[tuple[list[int], float]]\n",
      " |\n",
      " |      Calculate the closeness centrality for all nodes with rank=k via nodes with rank=q\n",
      " |\n",
      " |  ClosenessEigen(...)\n",
      " |      ClosenessEigen(self: simpl.HyperGraph, p: int, max_rank: int, weighted: bool = False) -> list[tuple[list[int], float]]\n",
      " |\n",
      " |      Calculate eigen closeness for all node with rank=p via upper nodes with rank=max_rank\n",
      " |\n",
      " |  ClosenessSubgraph(...)\n",
      " |      ClosenessSubgraph(self: simpl.HyperGraph, p: int, max_rank: int, weighted: bool = False) -> list[tuple[list[int], float]]\n",
      " |\n",
      " |      Calculate subgraph closeness for all node with rank=p via upper nodes with rank=max_rank\n",
      " |\n",
      " |  Degree(...)\n",
      " |      Degree(self: simpl.HyperGraph, node: list[int], k: int, weighted: bool = False) -> float\n",
      " |\n",
      " |      Get the sum of weights of all k-adjacent nodes to the given node\n",
      " |\n",
      " |  DegreeAll(...)\n",
      " |      DegreeAll(self: simpl.HyperGraph, rank: int, k: int, weighted: bool = False) -> list[float]\n",
      " |\n",
      " |      Get the degrees of all nodes with the specified rank and k-adjacency\n",
      " |\n",
      " |  Dimension(...)\n",
      " |      Dimension(self: simpl.HyperGraph) -> int\n",
      " |\n",
      " |      Get the dimension of the hypergraph\n",
      " |\n",
      " |  EigenValues(...)\n",
      " |      EigenValues(self: simpl.HyperGraph, k: int, p: int, q: int, weighted: bool, normalize: bool, cnt: int, which: str) -> tuple[list[float], list[list[float]]]\n",
      " |\n",
      " |      Find cnt eigenvalues and eigenvectors of the Laplacian matrix. Should be: p < k < q\n",
      " |\n",
      " |  EigenValuesAll(...)\n",
      " |      EigenValuesAll(self: simpl.HyperGraph, k: int, p: int, q: int, weighted: bool, normalize: bool) -> tuple[list[float], list[list[float]]]\n",
      " |\n",
      " |      Get all the eigenvalues and eigenvectors of the Laplacian matrix. Should be: p < k < q\n",
      " |\n",
      " |  EulerCharacteristic(...)\n",
      " |      EulerCharacteristic(self: simpl.HyperGraph) -> int\n",
      " |\n",
      " |      Get the Euler characteristic of the hypergraph\n",
      " |\n",
      " |  FVector(...)\n",
      " |      FVector(self: simpl.HyperGraph) -> list[tuple[int, int]]\n",
      " |\n",
      " |      Get the F-vector of the hypergraph\n",
      " |\n",
      " |  FeaturesMatrix(...)\n",
      " |      FeaturesMatrix(self: simpl.HyperGraph, dim: int) -> list[list[float]]\n",
      " |\n",
      " |      Get the feature matrix of the hypergraph for the specified dimension\n",
      " |\n",
      " |  GetAll(...)\n",
      " |      GetAll(self: simpl.HyperGraph) -> list[list[int]]\n",
      " |\n",
      " |      Get all elements in the hypergraph\n",
      " |\n",
      " |  GetEdges(...)\n",
      " |      GetEdges(self: simpl.HyperGraph) -> list[list[int]]\n",
      " |\n",
      " |      Get all edges in the hypergraph\n",
      " |\n",
      " |  GetElementsWithRank(...)\n",
      " |      GetElementsWithRank(self: simpl.HyperGraph, rank: int) -> list[list[int]]\n",
      " |\n",
      " |      Get all elements of the hypergraph with the specified rank\n",
      " |\n",
      " |  HodgeDecomposition(...)\n",
      " |      HodgeDecomposition(self: simpl.HyperGraph, k: int, p: int, q: int, vec: list[float]) -> tuple[list[float], list[float], list[float]]\n",
      " |\n",
      " |      Decompose vector in gradient, harmonic and solenoidal components\n",
      " |\n",
      " |  Incidence(...)\n",
      " |      Incidence(self: simpl.HyperGraph, node: list[int], k: int) -> list[list[int]]\n",
      " |\n",
      " |      Get all nodes with k-incidence to the given node\n",
      " |\n",
      " |  LaplacianMatrix(...)\n",
      " |      LaplacianMatrix(self: simpl.HyperGraph, k: int, p: int, q: int, weighted: bool = False, normalize: bool = False) -> scipy.sparse.csr_matrix[numpy.float64]\n",
      " |\n",
      " |      Get the Laplacian matrix of the hypergraph. Should be: p < k < q\n",
      " |\n",
      " |  RemoveEdge(...)\n",
      " |      RemoveEdge(self: simpl.HyperGraph, edge: list[int]) -> None\n",
      " |\n",
      " |      Remove an hyperedge from the hypergraph\n",
      " |\n",
      " |  RemoveFunction(...)\n",
      " |      RemoveFunction(self: simpl.HyperGraph, name: str) -> None\n",
      " |\n",
      " |      Remove a function from the hypergraph by given name\n",
      " |\n",
      " |  ThresholdAbove(...)\n",
      " |      ThresholdAbove(self: simpl.HyperGraph, name: str, threshold: float) -> None\n",
      " |\n",
      " |      Threshold the hypergraph by retaining elements above the given threshold for the specified function name. The function should be monotonically non-decreasing\n",
      " |\n",
      " |  ThresholdBelow(...)\n",
      " |      ThresholdBelow(self: simpl.HyperGraph, name: str, threshold: float) -> None\n",
      " |\n",
      " |      Threshold the hypergraph by retaining elements below the given threshold for the specified function name. The function should be monotonically non-increasing\n",
      " |\n",
      " |  TotalCount(...)\n",
      " |      TotalCount(self: simpl.HyperGraph) -> int\n",
      " |\n",
      " |      Get the total count of elements in the hypergraph\n",
      " |\n",
      " |  UpdateWeight(...)\n",
      " |      UpdateWeight(self: simpl.HyperGraph, node: list[int], weight: float) -> None\n",
      " |\n",
      " |      Update the weight of a hyperedge in the hypergraph\n",
      " |\n",
      " |  Weights(...)\n",
      " |      Weights(self: simpl.HyperGraph, rank: int) -> numpy.ndarray[numpy.float64[m, n]]\n",
      " |\n",
      " |      Get the weights of all nodes in the hypergraph with the specified rank\n",
      " |\n",
      " |  __init__(...)\n",
      " |      __init__(self: simpl.HyperGraph) -> None\n",
      " |\n",
      " |      Creating a new hypergraph\n",
      " |\n",
      " |  ----------------------------------------------------------------------\n",
      " |  Static methods inherited from pybind11_builtins.pybind11_object:\n",
      " |\n",
      " |  __new__(*args, **kwargs) from pybind11_builtins.pybind11_type\n",
      " |      Create and return a new object.  See help(type) for accurate signature.\n",
      "\n"
     ]
    }
   ],
   "source": [
    "H = simpl.HyperGraph()\n",
    "help(H)"
   ]
  },
  {
   "cell_type": "markdown",
   "metadata": {},
   "source": [
    "## Testing exp and eig centralities"
   ]
  },
  {
   "cell_type": "code",
   "execution_count": 67,
   "metadata": {},
   "outputs": [],
   "source": [
    "sc = simpl.SimplicialComplex()"
   ]
  },
  {
   "cell_type": "code",
   "execution_count": 68,
   "metadata": {},
   "outputs": [],
   "source": [
    "edges = [(1,2), (1,3), (1,4), (2,3), (2,4), (3,4), \n",
    "         (3,5), (4,5), (4,6), (5,6), (6,7), (6,8), (7,8), (6, 9)]\n",
    "triangles = [\n",
    "    (1,2,3), (1,2,4), (1,3,4), (2,3,4),\n",
    "    (3,4,5), (4,5,6), (6,7,8)\n",
    "]"
   ]
  },
  {
   "cell_type": "code",
   "execution_count": 69,
   "metadata": {},
   "outputs": [],
   "source": [
    "for edge in edges:\n",
    "    sc.AddSimplex(edge)"
   ]
  },
  {
   "cell_type": "code",
   "execution_count": 70,
   "metadata": {},
   "outputs": [],
   "source": [
    "for triangle in triangles:\n",
    "    sc.AddSimplex(triangle)"
   ]
  },
  {
   "cell_type": "code",
   "execution_count": 71,
   "metadata": {},
   "outputs": [
    {
     "data": {
      "text/plain": [
       "[[0.0, 0.0, 0.0, 0.0, 0.0, 0.0, 0.0, 0.0, 0.0, 0.0, 0.0, 0.0, 0.0, 0.0],\n",
       " [0.0, 0.0, 0.0, 0.0, 0.0, 0.0, 1.0, 0.0, 0.0, 0.0, 0.0, 0.0, 0.0, 0.0],\n",
       " [0.0, 0.0, 0.0, 0.0, 0.0, 0.0, 0.0, 1.0, 1.0, 0.0, 0.0, 0.0, 0.0, 0.0],\n",
       " [0.0, 0.0, 0.0, 0.0, 0.0, 0.0, 1.0, 0.0, 0.0, 0.0, 0.0, 0.0, 0.0, 0.0],\n",
       " [0.0, 0.0, 0.0, 0.0, 0.0, 0.0, 0.0, 1.0, 1.0, 0.0, 0.0, 0.0, 0.0, 0.0],\n",
       " [0.0, 0.0, 0.0, 0.0, 0.0, 0.0, 0.0, 0.0, 1.0, 0.0, 0.0, 0.0, 0.0, 0.0],\n",
       " [0.0, 1.0, 0.0, 1.0, 0.0, 0.0, 0.0, 0.0, 0.0, 1.0, 0.0, 0.0, 0.0, 0.0],\n",
       " [0.0, 0.0, 1.0, 0.0, 1.0, 0.0, 0.0, 0.0, 0.0, 0.0, 0.0, 0.0, 0.0, 0.0],\n",
       " [0.0, 0.0, 1.0, 0.0, 1.0, 1.0, 0.0, 0.0, 0.0, 0.0, 1.0, 1.0, 1.0, 0.0],\n",
       " [0.0, 0.0, 0.0, 0.0, 0.0, 0.0, 1.0, 0.0, 0.0, 0.0, 1.0, 1.0, 1.0, 0.0],\n",
       " [0.0, 0.0, 0.0, 0.0, 0.0, 0.0, 0.0, 0.0, 1.0, 1.0, 0.0, 0.0, 1.0, 0.0],\n",
       " [0.0, 0.0, 0.0, 0.0, 0.0, 0.0, 0.0, 0.0, 1.0, 1.0, 0.0, 0.0, 1.0, 0.0],\n",
       " [0.0, 0.0, 0.0, 0.0, 0.0, 0.0, 0.0, 0.0, 1.0, 1.0, 1.0, 1.0, 0.0, 0.0],\n",
       " [0.0, 0.0, 0.0, 0.0, 0.0, 0.0, 0.0, 0.0, 0.0, 0.0, 0.0, 0.0, 0.0, 0.0]]"
      ]
     },
     "execution_count": 71,
     "metadata": {},
     "output_type": "execute_result"
    }
   ],
   "source": [
    "sc.AdjacencyMatrix(1, 0, 2)"
   ]
  },
  {
   "cell_type": "code",
   "execution_count": 72,
   "metadata": {},
   "outputs": [
    {
     "data": {
      "text/plain": [
       "[([1, 2], 1.0),\n",
       " ([1, 3], 1.6445932159362215),\n",
       " ([1, 4], 2.7144722245343416),\n",
       " ([2, 3], 1.6445932159362215),\n",
       " ([2, 4], 2.7144722245343416),\n",
       " ([3, 4], 1.8953669259533783),\n",
       " ([3, 5], 3.1645035545752496),\n",
       " ([4, 5], 2.4149077088196016),\n",
       " ([4, 6], 8.883561153156622),\n",
       " ([5, 6], 6.361587353098786),\n",
       " ([6, 7], 5.602251936576013),\n",
       " ([6, 8], 5.602251936576011),\n",
       " ([6, 9], 7.821471071553865),\n",
       " ([7, 8], 1.0)]"
      ]
     },
     "execution_count": 72,
     "metadata": {},
     "output_type": "execute_result"
    }
   ],
   "source": [
    "sc.ClosenessSubgraph(1, 2)"
   ]
  },
  {
   "cell_type": "markdown",
   "metadata": {},
   "source": [
    "[([1, 2], 1.0),\n",
    " ([1, 3], 1.6445932159362215),\n",
    " ([1, 4], 2.7144722245343416),\n",
    " ([2, 3], 1.6445932159362215),\n",
    " ([2, 4], 2.7144722245343416),\n",
    " ([3, 4], 1.8953669259533783),\n",
    " ([3, 5], 3.1645035545752496),\n",
    " ([4, 5], 2.4149077088196016),\n",
    " ([4, 6], 8.883561153156622),\n",
    " ([5, 6], 6.361587353098786),\n",
    " ([6, 7], 5.602251936576013),\n",
    " ([6, 8], 5.602251936576011),\n",
    " ([6, 9], 7.821471071553865),\n",
    " ([7, 8], 1.0)]"
   ]
  },
  {
   "cell_type": "code",
   "execution_count": 73,
   "metadata": {},
   "outputs": [],
   "source": [
    "g = simpl.Graph()\n",
    "g.AddEdge(1, 2)\n",
    "g.UpdateWeight([1, 2], 3)"
   ]
  },
  {
   "cell_type": "code",
   "execution_count": 74,
   "metadata": {},
   "outputs": [
    {
     "data": {
      "text/plain": [
       "[3.0, 3.0]"
      ]
     },
     "execution_count": 74,
     "metadata": {},
     "output_type": "execute_result"
    }
   ],
   "source": [
    "g.DegreeAll(0, 1, True)"
   ]
  },
  {
   "cell_type": "code",
   "execution_count": 75,
   "metadata": {},
   "outputs": [
    {
     "data": {
      "text/plain": [
       "([0.0, 0.0], [1.0, 2.0], [0.0, 0.0])"
      ]
     },
     "execution_count": 75,
     "metadata": {},
     "output_type": "execute_result"
    }
   ],
   "source": [
    "g.HodgeDecomposition(0, -1, 1, [1, 2])"
   ]
  },
  {
   "cell_type": "code",
   "execution_count": null,
   "metadata": {},
   "outputs": [],
   "source": []
  }
 ],
 "metadata": {
  "kernelspec": {
   "display_name": "Python 3",
   "language": "python",
   "name": "python3"
  },
  "language_info": {
   "codemirror_mode": {
    "name": "ipython",
    "version": 3
   },
   "file_extension": ".py",
   "mimetype": "text/x-python",
   "name": "python",
   "nbconvert_exporter": "python",
   "pygments_lexer": "ipython3",
   "version": "3.12.0"
  }
 },
 "nbformat": 4,
 "nbformat_minor": 2
}
