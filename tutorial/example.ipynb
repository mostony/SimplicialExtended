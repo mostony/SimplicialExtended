{
 "cells": [
  {
   "cell_type": "markdown",
   "metadata": {},
   "source": [
    "### Пример работы библиотки"
   ]
  },
  {
   "cell_type": "code",
   "execution_count": 1,
   "metadata": {},
   "outputs": [],
   "source": [
    "# Для начала нужно загрузить библиотеку\n",
    "# Для этого нужно добавить её в путь поиска импортов в питоне\n",
    "import sys\n",
    "sys.path.append('../build')"
   ]
  },
  {
   "cell_type": "code",
   "execution_count": 2,
   "metadata": {},
   "outputs": [],
   "source": [
    "# теперь можно импортировать\n",
    "import simpl\n",
    "\n",
    "import numpy as np\n"
   ]
  },
  {
   "cell_type": "code",
   "execution_count": 3,
   "metadata": {},
   "outputs": [],
   "source": [
    "# Создание симплициального комплекса\n",
    "K = simpl.SimplicialComplex()"
   ]
  },
  {
   "cell_type": "markdown",
   "metadata": {},
   "source": [
    "Добавление симплексов"
   ]
  },
  {
   "cell_type": "code",
   "execution_count": 4,
   "metadata": {},
   "outputs": [],
   "source": [
    "K.AddSimplex([1, 2, 3])\n",
    "K.AddSimplex([3, 4])\n",
    "K.AddSimplex([4, 5, 6])\n",
    "K.AddSimplex([4, 5, 7])\n",
    "K.AddSimplex([6, 7])\n",
    "K.AddSimplex([2, 7])"
   ]
  },
  {
   "cell_type": "markdown",
   "metadata": {},
   "source": [
    "Получение списка максимальных симплексов"
   ]
  },
  {
   "cell_type": "code",
   "execution_count": 5,
   "metadata": {},
   "outputs": [
    {
     "data": {
      "text/plain": [
       "[[1, 2, 3], [2, 7], [3, 4], [4, 5, 6], [4, 5, 7], [6, 7]]"
      ]
     },
     "execution_count": 5,
     "metadata": {},
     "output_type": "execute_result"
    }
   ],
   "source": [
    "K.GetMaxSimplices()"
   ]
  },
  {
   "cell_type": "markdown",
   "metadata": {},
   "source": [
    "Удаление симплекса"
   ]
  },
  {
   "cell_type": "code",
   "execution_count": 6,
   "metadata": {},
   "outputs": [],
   "source": [
    "K.RemoveSimplex([1, 2])"
   ]
  },
  {
   "cell_type": "code",
   "execution_count": 7,
   "metadata": {},
   "outputs": [
    {
     "data": {
      "text/plain": [
       "[[1, 3], [2, 3], [2, 7], [3, 4], [4, 5, 6], [4, 5, 7], [6, 7]]"
      ]
     },
     "execution_count": 7,
     "metadata": {},
     "output_type": "execute_result"
    }
   ],
   "source": [
    "K.GetMaxSimplices()"
   ]
  },
  {
   "cell_type": "markdown",
   "metadata": {},
   "source": [
    "Получение всех симплексов"
   ]
  },
  {
   "cell_type": "code",
   "execution_count": 8,
   "metadata": {},
   "outputs": [
    {
     "data": {
      "text/plain": [
       "[[],\n",
       " [1],\n",
       " [2],\n",
       " [3],\n",
       " [4],\n",
       " [5],\n",
       " [6],\n",
       " [7],\n",
       " [1, 3],\n",
       " [2, 3],\n",
       " [2, 7],\n",
       " [3, 4],\n",
       " [4, 5],\n",
       " [4, 6],\n",
       " [4, 7],\n",
       " [5, 6],\n",
       " [5, 7],\n",
       " [6, 7],\n",
       " [4, 5, 6],\n",
       " [4, 5, 7]]"
      ]
     },
     "execution_count": 8,
     "metadata": {},
     "output_type": "execute_result"
    }
   ],
   "source": [
    "K.GetAllSimplices()"
   ]
  },
  {
   "cell_type": "markdown",
   "metadata": {},
   "source": [
    "Fvector "
   ]
  },
  {
   "cell_type": "code",
   "execution_count": 9,
   "metadata": {},
   "outputs": [
    {
     "data": {
      "text/plain": [
       "[(0, 7), (1, 10), (2, 2)]"
      ]
     },
     "execution_count": 9,
     "metadata": {},
     "output_type": "execute_result"
    }
   ],
   "source": [
    "K.FVector()"
   ]
  },
  {
   "cell_type": "markdown",
   "metadata": {},
   "source": [
    "Числа Бетти и Эйлерова характеристика"
   ]
  },
  {
   "cell_type": "code",
   "execution_count": 10,
   "metadata": {},
   "outputs": [
    {
     "data": {
      "text/plain": [
       "1"
      ]
     },
     "execution_count": 10,
     "metadata": {},
     "output_type": "execute_result"
    }
   ],
   "source": [
    "K.BettiNumber(0)"
   ]
  },
  {
   "cell_type": "code",
   "execution_count": 11,
   "metadata": {},
   "outputs": [
    {
     "data": {
      "text/plain": [
       "2"
      ]
     },
     "execution_count": 11,
     "metadata": {},
     "output_type": "execute_result"
    }
   ],
   "source": [
    "K.BettiNumber(1)"
   ]
  },
  {
   "cell_type": "code",
   "execution_count": 12,
   "metadata": {},
   "outputs": [
    {
     "data": {
      "text/plain": [
       "0"
      ]
     },
     "execution_count": 12,
     "metadata": {},
     "output_type": "execute_result"
    }
   ],
   "source": [
    "K.BettiNumber(2)"
   ]
  },
  {
   "cell_type": "code",
   "execution_count": 13,
   "metadata": {},
   "outputs": [
    {
     "data": {
      "text/plain": [
       "-1"
      ]
     },
     "execution_count": 13,
     "metadata": {},
     "output_type": "execute_result"
    }
   ],
   "source": [
    "K.EulerCharacteristic()"
   ]
  },
  {
   "cell_type": "markdown",
   "metadata": {},
   "source": [
    "Граничный оператор"
   ]
  },
  {
   "cell_type": "code",
   "execution_count": 14,
   "metadata": {},
   "outputs": [
    {
     "data": {
      "text/plain": [
       "matrix([[ 1,  0,  0,  0,  0,  0,  0,  0,  0,  0],\n",
       "        [ 0,  1,  1,  0,  0,  0,  0,  0,  0,  0],\n",
       "        [-1, -1,  0,  1,  0,  0,  0,  0,  0,  0],\n",
       "        [ 0,  0,  0, -1,  1,  1,  1,  0,  0,  0],\n",
       "        [ 0,  0,  0,  0, -1,  0,  0,  1,  1,  0],\n",
       "        [ 0,  0,  0,  0,  0, -1,  0, -1,  0,  1],\n",
       "        [ 0,  0, -1,  0,  0,  0, -1,  0, -1, -1]], dtype=int32)"
      ]
     },
     "execution_count": 14,
     "metadata": {},
     "output_type": "execute_result"
    }
   ],
   "source": [
    "# по умолчанию возвращается в разреженном виде\n",
    "B1 = K.BoundaryMatrix(1, 0)\n",
    "B1.todense()"
   ]
  },
  {
   "cell_type": "code",
   "execution_count": 15,
   "metadata": {},
   "outputs": [
    {
     "data": {
      "text/plain": [
       "matrix([[ 0,  0],\n",
       "        [ 0,  0],\n",
       "        [ 0,  0],\n",
       "        [ 0,  0],\n",
       "        [ 1,  1],\n",
       "        [-1,  0],\n",
       "        [ 0, -1],\n",
       "        [ 1,  0],\n",
       "        [ 0,  1],\n",
       "        [ 0,  0]], dtype=int32)"
      ]
     },
     "execution_count": 15,
     "metadata": {},
     "output_type": "execute_result"
    }
   ],
   "source": [
    "B2 = K.BoundaryMatrix(2, 1)\n",
    "B2.todense()"
   ]
  },
  {
   "cell_type": "code",
   "execution_count": 16,
   "metadata": {},
   "outputs": [
    {
     "data": {
      "text/plain": [
       "matrix([[ 0,  0],\n",
       "        [ 0,  0],\n",
       "        [ 0,  0],\n",
       "        [ 1,  1],\n",
       "        [-1, -1],\n",
       "        [ 1,  0],\n",
       "        [ 0,  1]], dtype=int32)"
      ]
     },
     "execution_count": 16,
     "metadata": {},
     "output_type": "execute_result"
    }
   ],
   "source": [
    "B3 = K.BoundaryMatrix(2, 0)\n",
    "B3.todense()"
   ]
  },
  {
   "cell_type": "markdown",
   "metadata": {},
   "source": [
    "Лапласиан"
   ]
  },
  {
   "cell_type": "code",
   "execution_count": 17,
   "metadata": {},
   "outputs": [
    {
     "data": {
      "text/plain": [
       "matrix([[ 2.,  1.,  0., -1.,  0.,  0.,  0.,  0.,  0.,  0.],\n",
       "        [ 1.,  2.,  1., -1.,  0.,  0.,  0.,  0.,  0.,  0.],\n",
       "        [ 0.,  1.,  2.,  0.,  0.,  0.,  1.,  0.,  1.,  1.],\n",
       "        [-1., -1.,  0.,  2., -1., -1., -1.,  0.,  0.,  0.],\n",
       "        [ 0.,  0.,  0., -1.,  4.,  0.,  0.,  0.,  0.,  0.],\n",
       "        [ 0.,  0.,  0., -1.,  0.,  3.,  1.,  0.,  0., -1.],\n",
       "        [ 0.,  0.,  1., -1.,  0.,  1.,  3.,  0.,  0.,  1.],\n",
       "        [ 0.,  0.,  0.,  0.,  0.,  0.,  0.,  3.,  1., -1.],\n",
       "        [ 0.,  0.,  1.,  0.,  0.,  0.,  0.,  1.,  3.,  1.],\n",
       "        [ 0.,  0.,  1.,  0.,  0., -1.,  1., -1.,  1.,  2.]])"
      ]
     },
     "execution_count": 17,
     "metadata": {},
     "output_type": "execute_result"
    }
   ],
   "source": [
    "K.LaplacianMatrix(1, 0, 2, 0).todense()"
   ]
  },
  {
   "cell_type": "code",
   "execution_count": 18,
   "metadata": {},
   "outputs": [
    {
     "data": {
      "text/plain": [
       "matrix([[ 2.,  1.,  0., -1.,  0.,  0.,  0.,  0.,  0.,  0.],\n",
       "        [ 1.,  2.,  1., -1.,  0.,  0.,  0.,  0.,  0.,  0.],\n",
       "        [ 0.,  1.,  2.,  0.,  0.,  0.,  1.,  0.,  1.,  1.],\n",
       "        [-1., -1.,  0.,  2., -1., -1., -1.,  0.,  0.,  0.],\n",
       "        [ 0.,  0.,  0., -1.,  4.,  0.,  0.,  0.,  0.,  0.],\n",
       "        [ 0.,  0.,  0., -1.,  0.,  3.,  1.,  0.,  0., -1.],\n",
       "        [ 0.,  0.,  1., -1.,  0.,  1.,  3.,  0.,  0.,  1.],\n",
       "        [ 0.,  0.,  0.,  0.,  0.,  0.,  0.,  3.,  1., -1.],\n",
       "        [ 0.,  0.,  1.,  0.,  0.,  0.,  0.,  1.,  3.,  1.],\n",
       "        [ 0.,  0.,  1.,  0.,  0., -1.,  1., -1.,  1.,  2.]])"
      ]
     },
     "execution_count": 18,
     "metadata": {},
     "output_type": "execute_result"
    }
   ],
   "source": [
    "K.LaplacianMatrix(1, 0, 2, 1).todense()"
   ]
  },
  {
   "cell_type": "code",
   "execution_count": 19,
   "metadata": {},
   "outputs": [
    {
     "data": {
      "text/plain": [
       "[5.548404181092106,\n",
       " 4.7702229822506546,\n",
       " 3.999999999999999,\n",
       " 3.999999999999997,\n",
       " 3.3547881423517167,\n",
       " 2.000000000000001,\n",
       " 1.6628331827684695,\n",
       " 0.6637515115370554,\n",
       " 5.555501473735949e-16]"
      ]
     },
     "execution_count": 19,
     "metadata": {},
     "output_type": "execute_result"
    }
   ],
   "source": [
    "# нахождение собственных чисел лапласиана.\n",
    "# последний параметр регулирует количество\n",
    "K.EigenValues(1, 0, 2, 1, 100)"
   ]
  },
  {
   "cell_type": "code",
   "execution_count": 20,
   "metadata": {},
   "outputs": [
    {
     "data": {
      "text/plain": [
       "[-3.2955250353482206e-16,\n",
       " 2.5555923642369156e-17,\n",
       " 0.6637515115370541,\n",
       " 1.6628331827684697,\n",
       " 2.0000000000000004,\n",
       " 3.354788142351716,\n",
       " 3.999999999999999,\n",
       " 4.0,\n",
       " 4.7702229822506546,\n",
       " 5.548404181092105]"
      ]
     },
     "execution_count": 20,
     "metadata": {},
     "output_type": "execute_result"
    }
   ],
   "source": [
    "# нахождение всех собственных чисел лапласиана.\n",
    "K.EigenValuesAll(k=1, p=0, q=2, weighted=True)"
   ]
  },
  {
   "cell_type": "markdown",
   "metadata": {},
   "source": [
    "Очищение объекта"
   ]
  },
  {
   "cell_type": "code",
   "execution_count": 21,
   "metadata": {},
   "outputs": [],
   "source": [
    "K.Clear()"
   ]
  },
  {
   "cell_type": "markdown",
   "metadata": {},
   "source": [
    "#### Центральность"
   ]
  },
  {
   "cell_type": "code",
   "execution_count": 22,
   "metadata": {},
   "outputs": [],
   "source": [
    "K.AddSimplex([1, 2, 3, 4])\n",
    "K.AddSimplex([1, 5, 6])"
   ]
  },
  {
   "cell_type": "markdown",
   "metadata": {},
   "source": [
    "У симплексов можно обновлять веса"
   ]
  },
  {
   "cell_type": "code",
   "execution_count": 23,
   "metadata": {},
   "outputs": [],
   "source": [
    "K.UpdateWeight([1, 5, 6], 100)\n",
    "K.UpdateWeight([1, 2, 3], 34)\n",
    "K.UpdateWeight([1, 2, 4], 89)\n",
    "K.UpdateWeight([2, 3, 4], 52)\n"
   ]
  },
  {
   "cell_type": "markdown",
   "metadata": {},
   "source": [
    "Получение матрицы весов для фиксированного ранга"
   ]
  },
  {
   "cell_type": "code",
   "execution_count": 24,
   "metadata": {},
   "outputs": [
    {
     "data": {
      "text/plain": [
       "array([[ 34.,   0.,   0.,   0.,   0.],\n",
       "       [  0.,  89.,   0.,   0.,   0.],\n",
       "       [  0.,   0.,   1.,   0.,   0.],\n",
       "       [  0.,   0.,   0., 100.,   0.],\n",
       "       [  0.,   0.,   0.,   0.,  52.]])"
      ]
     },
     "execution_count": 24,
     "metadata": {},
     "output_type": "execute_result"
    }
   ],
   "source": [
    "K.Weights(2)"
   ]
  },
  {
   "cell_type": "markdown",
   "metadata": {},
   "source": [
    "Вычисление невзвешенной closeness"
   ]
  },
  {
   "cell_type": "code",
   "execution_count": 25,
   "metadata": {},
   "outputs": [
    {
     "data": {
      "text/plain": [
       "[([1, 2], 0.5208333333333334),\n",
       " ([1, 3], 0.5208333333333334),\n",
       " ([1, 4], 0.5208333333333334),\n",
       " ([1, 5], 0.25),\n",
       " ([1, 6], 0.25),\n",
       " ([2, 3], 0.5208333333333334),\n",
       " ([2, 4], 0.5208333333333334),\n",
       " ([3, 4], 0.5208333333333334),\n",
       " ([5, 6], 0.25)]"
      ]
     },
     "execution_count": 25,
     "metadata": {},
     "output_type": "execute_result"
    }
   ],
   "source": [
    "K.ClosenessAll(1, 2, False)"
   ]
  },
  {
   "cell_type": "markdown",
   "metadata": {},
   "source": [
    "Вычисление взвешенной closeness"
   ]
  },
  {
   "cell_type": "code",
   "execution_count": 26,
   "metadata": {},
   "outputs": [
    {
     "data": {
      "text/plain": [
       "[([1, 2], 0.013950892857142858),\n",
       " ([1, 3], 0.025406504065040646),\n",
       " ([1, 4], 0.025),\n",
       " ([1, 5], 0.0025),\n",
       " ([1, 6], 0.0025),\n",
       " ([2, 3], 0.01644736842105263),\n",
       " ([2, 4], 0.01055743243243243),\n",
       " ([3, 4], 0.0252016129032258),\n",
       " ([5, 6], 0.0025)]"
      ]
     },
     "execution_count": 26,
     "metadata": {},
     "output_type": "execute_result"
    }
   ],
   "source": [
    "K.ClosenessAll(k=1, q=2, weighted=True)"
   ]
  },
  {
   "cell_type": "code",
   "execution_count": 27,
   "metadata": {},
   "outputs": [
    {
     "data": {
      "text/plain": [
       "[([1, 2], 0.017857142857142856),\n",
       " ([1, 3], 0.017857142857142856),\n",
       " ([1, 4], 0.017857142857142856),\n",
       " ([1, 5], 0.0),\n",
       " ([1, 6], 0.0),\n",
       " ([2, 3], 0.017857142857142856),\n",
       " ([2, 4], 0.017857142857142856),\n",
       " ([3, 4], 0.017857142857142856),\n",
       " ([5, 6], 0.0)]"
      ]
     },
     "execution_count": 27,
     "metadata": {},
     "output_type": "execute_result"
    }
   ],
   "source": [
    "K.BetweennessAll(1, 2, False)"
   ]
  },
  {
   "cell_type": "code",
   "execution_count": 28,
   "metadata": {},
   "outputs": [
    {
     "data": {
      "text/plain": [
       "[([1, 2], 0.0),\n",
       " ([1, 3], 0.08035714285714286),\n",
       " ([1, 4], 0.0),\n",
       " ([1, 5], 0.0),\n",
       " ([1, 6], 0.0),\n",
       " ([2, 3], 0.017857142857142856),\n",
       " ([2, 4], 0.0),\n",
       " ([3, 4], 0.05357142857142857),\n",
       " ([5, 6], 0.0)]"
      ]
     },
     "execution_count": 28,
     "metadata": {},
     "output_type": "execute_result"
    }
   ],
   "source": [
    "K.BetweennessAll(1, 2, True)"
   ]
  },
  {
   "cell_type": "markdown",
   "metadata": {},
   "source": [
    "Степень"
   ]
  },
  {
   "cell_type": "code",
   "execution_count": 29,
   "metadata": {},
   "outputs": [
    {
     "data": {
      "text/plain": [
       "[3.0, 3.0, 3.0, 0.0, 3.0]"
      ]
     },
     "execution_count": 29,
     "metadata": {},
     "output_type": "execute_result"
    }
   ],
   "source": [
    "K.DegreeAll(2, 3, False)"
   ]
  },
  {
   "cell_type": "code",
   "execution_count": 30,
   "metadata": {},
   "outputs": [
    {
     "data": {
      "text/plain": [
       "[142.0, 87.0, 175.0, 0.0, 124.0]"
      ]
     },
     "execution_count": 30,
     "metadata": {},
     "output_type": "execute_result"
    }
   ],
   "source": [
    "K.DegreeAll(2, 3, True)"
   ]
  },
  {
   "cell_type": "markdown",
   "metadata": {},
   "source": [
    "Комбинаторный комплекс:"
   ]
  },
  {
   "cell_type": "code",
   "execution_count": 31,
   "metadata": {},
   "outputs": [],
   "source": [
    "comb = simpl.CombinatorialComplex()\n",
    "\n",
    "comb.Build([[1], [2], [3], [4], [1, 2], [1, 4], [1, 2, 3], [2, 3, 4]])"
   ]
  },
  {
   "cell_type": "markdown",
   "metadata": {},
   "source": [
    "Инцидентность"
   ]
  },
  {
   "cell_type": "code",
   "execution_count": 32,
   "metadata": {},
   "outputs": [
    {
     "name": "stdout",
     "output_type": "stream",
     "text": [
      "[[1, 2], [1, 4]]\n",
      "[[1, 2, 3]]\n",
      "[]\n",
      "2\n",
      "1\n",
      "0\n"
     ]
    }
   ],
   "source": [
    "print(comb.Incidence([1], 1))\n",
    "print(comb.Incidence([1], 2))\n",
    "print(comb.Incidence([1], 3))\n",
    "\n",
    "print(comb.IncidenceDegree([1], 1))\n",
    "print(comb.IncidenceDegree([1], 2))\n",
    "print(comb.IncidenceDegree([1], 3))"
   ]
  },
  {
   "cell_type": "markdown",
   "metadata": {},
   "source": [
    "Смежность и степень"
   ]
  },
  {
   "cell_type": "code",
   "execution_count": 33,
   "metadata": {},
   "outputs": [
    {
     "name": "stdout",
     "output_type": "stream",
     "text": [
      "[[2], [4]]\n",
      "[[2], [3]]\n",
      "[]\n",
      "2.0\n",
      "2.0\n",
      "0.0\n",
      "[2.0, 1.0, 0.0, 1.0]\n",
      "[2.0, 3.0, 3.0, 2.0]\n",
      "[0.0, 0.0, 0.0, 0.0]\n"
     ]
    }
   ],
   "source": [
    "print(comb.Adjacency([1], 1))\n",
    "print(comb.Adjacency([1], 2))\n",
    "print(comb.Adjacency([1], 3))\n",
    "\n",
    "print(comb.Degree([1], 1, False))\n",
    "print(comb.Degree([1], 2, False))\n",
    "print(comb.Degree([1], 3, False))\n",
    "\n",
    "print(comb.DegreeAll(0, 1, False))\n",
    "print(comb.DegreeAll(0, 2, False))\n",
    "print(comb.DegreeAll(0, 3, False))"
   ]
  },
  {
   "cell_type": "markdown",
   "metadata": {},
   "source": [
    "Количество объектов в комплексе"
   ]
  },
  {
   "cell_type": "code",
   "execution_count": 34,
   "metadata": {},
   "outputs": [
    {
     "data": {
      "text/plain": [
       "8"
      ]
     },
     "execution_count": 34,
     "metadata": {},
     "output_type": "execute_result"
    }
   ],
   "source": [
    "comb.TotalCount()"
   ]
  },
  {
   "cell_type": "markdown",
   "metadata": {},
   "source": [
    "Граф"
   ]
  },
  {
   "cell_type": "code",
   "execution_count": 35,
   "metadata": {},
   "outputs": [],
   "source": [
    "graph = simpl.Graph()"
   ]
  },
  {
   "cell_type": "markdown",
   "metadata": {},
   "source": [
    "Добавление рёбер"
   ]
  },
  {
   "cell_type": "code",
   "execution_count": 36,
   "metadata": {},
   "outputs": [],
   "source": [
    "graph.AddEdge(1, 2)\n",
    "graph.AddEdge(1, 3)\n",
    "graph.AddEdge(2, 3)\n",
    "graph.AddEdge(4, 5)"
   ]
  },
  {
   "cell_type": "markdown",
   "metadata": {},
   "source": [
    "Числа Бетти"
   ]
  },
  {
   "cell_type": "code",
   "execution_count": 37,
   "metadata": {},
   "outputs": [
    {
     "data": {
      "text/plain": [
       "2"
      ]
     },
     "execution_count": 37,
     "metadata": {},
     "output_type": "execute_result"
    }
   ],
   "source": [
    "# number of connected components -- |C|\n",
    "graph.BettiNumber(0)"
   ]
  },
  {
   "cell_type": "code",
   "execution_count": 38,
   "metadata": {},
   "outputs": [
    {
     "data": {
      "text/plain": [
       "1"
      ]
     },
     "execution_count": 38,
     "metadata": {},
     "output_type": "execute_result"
    }
   ],
   "source": [
    "# |E| - |V| + |C|, where E - edges, V -- vertices\n",
    "graph.BettiNumber(1)"
   ]
  },
  {
   "cell_type": "code",
   "execution_count": 39,
   "metadata": {},
   "outputs": [
    {
     "data": {
      "text/plain": [
       "0"
      ]
     },
     "execution_count": 39,
     "metadata": {},
     "output_type": "execute_result"
    }
   ],
   "source": [
    "graph.BettiNumber(2)"
   ]
  },
  {
   "cell_type": "code",
   "execution_count": 40,
   "metadata": {},
   "outputs": [
    {
     "data": {
      "text/plain": [
       "9"
      ]
     },
     "execution_count": 40,
     "metadata": {},
     "output_type": "execute_result"
    }
   ],
   "source": [
    "# |E| + |V|\n",
    "graph.TotalCount()"
   ]
  },
  {
   "cell_type": "markdown",
   "metadata": {},
   "source": [
    "Весовые функции фильтрации:"
   ]
  },
  {
   "cell_type": "code",
   "execution_count": 41,
   "metadata": {},
   "outputs": [],
   "source": [
    "K.Clear()"
   ]
  },
  {
   "cell_type": "code",
   "execution_count": 42,
   "metadata": {},
   "outputs": [],
   "source": [
    "def weight(a):\n",
    "    return len(a) - 1"
   ]
  },
  {
   "cell_type": "code",
   "execution_count": 43,
   "metadata": {},
   "outputs": [],
   "source": [
    "K.AddFunction(\"weight\", weight)"
   ]
  },
  {
   "cell_type": "code",
   "execution_count": 44,
   "metadata": {},
   "outputs": [],
   "source": [
    "K.AddSimplex([1, 2, 3, 4])\n",
    "K.AddSimplex([1, 5, 6])"
   ]
  },
  {
   "cell_type": "markdown",
   "metadata": {},
   "source": [
    "Фильтрация сверху"
   ]
  },
  {
   "cell_type": "code",
   "execution_count": 45,
   "metadata": {},
   "outputs": [
    {
     "data": {
      "text/plain": [
       "[[1, 2, 3], [1, 2, 4], [1, 3, 4], [1, 5, 6], [2, 3, 4]]"
      ]
     },
     "execution_count": 45,
     "metadata": {},
     "output_type": "execute_result"
    }
   ],
   "source": [
    "K.ThresholdAbove(\"weight\", 3)\n",
    "K.GetMaxSimplices()"
   ]
  },
  {
   "cell_type": "code",
   "execution_count": 46,
   "metadata": {},
   "outputs": [
    {
     "data": {
      "text/plain": [
       "[[1, 2], [1, 3], [1, 4], [1, 5], [1, 6], [2, 3], [2, 4], [3, 4], [5, 6]]"
      ]
     },
     "execution_count": 46,
     "metadata": {},
     "output_type": "execute_result"
    }
   ],
   "source": [
    "K.ThresholdAbove(\"weight\", 2)\n",
    "K.GetMaxSimplices()"
   ]
  },
  {
   "cell_type": "code",
   "execution_count": 47,
   "metadata": {},
   "outputs": [],
   "source": [
    "def inverse_weight(a):\n",
    "    return -(len(a) - 1)"
   ]
  },
  {
   "cell_type": "code",
   "execution_count": 48,
   "metadata": {},
   "outputs": [],
   "source": [
    "K = simpl.SimplicialComplex()\n",
    "K.AddFunction(\"inverse_weight\", inverse_weight)\n",
    "K.AddSimplex([1, 2, 3, 4])\n",
    "K.AddSimplex([1, 5, 6])"
   ]
  },
  {
   "cell_type": "markdown",
   "metadata": {},
   "source": [
    "Фильтрация снизу"
   ]
  },
  {
   "cell_type": "code",
   "execution_count": 49,
   "metadata": {},
   "outputs": [
    {
     "data": {
      "text/plain": [
       "[[1, 2, 3], [1, 2, 4], [1, 3, 4], [1, 5, 6], [2, 3, 4]]"
      ]
     },
     "execution_count": 49,
     "metadata": {},
     "output_type": "execute_result"
    }
   ],
   "source": [
    "K.ThresholdBelow(\"inverse_weight\", -3)\n",
    "K.GetMaxSimplices()"
   ]
  },
  {
   "cell_type": "code",
   "execution_count": 50,
   "metadata": {},
   "outputs": [
    {
     "data": {
      "text/plain": [
       "[[1, 2], [1, 3], [1, 4], [1, 5], [1, 6], [2, 3], [2, 4], [3, 4], [5, 6]]"
      ]
     },
     "execution_count": 50,
     "metadata": {},
     "output_type": "execute_result"
    }
   ],
   "source": [
    "K.ThresholdBelow(\"inverse_weight\", -2)\n",
    "K.GetMaxSimplices()"
   ]
  },
  {
   "cell_type": "markdown",
   "metadata": {},
   "source": [
    "Пример нетривиальной фильтрации"
   ]
  },
  {
   "cell_type": "code",
   "execution_count": 51,
   "metadata": {},
   "outputs": [],
   "source": [
    "def bad3(a):\n",
    "    if 3 in a:\n",
    "        return 10**9\n",
    "    return -10**9"
   ]
  },
  {
   "cell_type": "code",
   "execution_count": 52,
   "metadata": {},
   "outputs": [],
   "source": [
    "K.Clear()\n",
    "K.AddFunction(\"bad3\", bad3)\n",
    "K.AddFunction(\"weight\", weight)\n",
    "K.AddSimplex([1, 2, 3, 4])\n",
    "K.AddSimplex([1, 5, 6])"
   ]
  },
  {
   "cell_type": "code",
   "execution_count": 53,
   "metadata": {},
   "outputs": [
    {
     "data": {
      "text/plain": [
       "[[1, 2, 4], [1, 5, 6]]"
      ]
     },
     "execution_count": 53,
     "metadata": {},
     "output_type": "execute_result"
    }
   ],
   "source": [
    "K.ThresholdAbove(\"bad3\", 5)\n",
    "K.GetMaxSimplices()"
   ]
  },
  {
   "cell_type": "markdown",
   "metadata": {},
   "source": [
    "Матрица признаков"
   ]
  },
  {
   "cell_type": "code",
   "execution_count": 54,
   "metadata": {},
   "outputs": [
    {
     "data": {
      "text/plain": [
       "[[-1000000000.0, 2.0], [-1000000000.0, 2.0]]"
      ]
     },
     "execution_count": 54,
     "metadata": {},
     "output_type": "execute_result"
    }
   ],
   "source": [
    "K.FeaturesMatrix(2)"
   ]
  },
  {
   "cell_type": "markdown",
   "metadata": {},
   "source": [
    "Dowker complex"
   ]
  },
  {
   "cell_type": "code",
   "execution_count": 55,
   "metadata": {},
   "outputs": [
    {
     "data": {
      "text/plain": [
       "[[0, 2]]"
      ]
     },
     "execution_count": 55,
     "metadata": {},
     "output_type": "execute_result"
    }
   ],
   "source": [
    "K.Clear()\n",
    "K.BuildDowkerComplex([[1, 0, 0], [1, 0, 1], [0, 0, 1]], False)\n",
    "K.GetMaxSimplices()"
   ]
  },
  {
   "cell_type": "code",
   "execution_count": 56,
   "metadata": {},
   "outputs": [
    {
     "data": {
      "text/plain": [
       "[[0, 1], [1, 2]]"
      ]
     },
     "execution_count": 56,
     "metadata": {},
     "output_type": "execute_result"
    }
   ],
   "source": [
    "K.BuildDowkerComplex([[1, 0, 0], [1, 0, 1], [0, 0, 1]], on_column=True)\n",
    "K.GetMaxSimplices()"
   ]
  },
  {
   "cell_type": "markdown",
   "metadata": {},
   "source": [
    "Гиперграф"
   ]
  },
  {
   "cell_type": "code",
   "execution_count": 57,
   "metadata": {},
   "outputs": [
    {
     "data": {
      "text/plain": [
       "[[1, 2, 3], [4, 13]]"
      ]
     },
     "execution_count": 57,
     "metadata": {},
     "output_type": "execute_result"
    }
   ],
   "source": [
    "H = simpl.HyperGraph()\n",
    "H.AddEdge([1, 2, 3])\n",
    "H.AddEdge([13, 4])\n",
    "H.GetEdges()"
   ]
  },
  {
   "cell_type": "code",
   "execution_count": 58,
   "metadata": {},
   "outputs": [
    {
     "data": {
      "text/plain": [
       "3"
      ]
     },
     "execution_count": 58,
     "metadata": {},
     "output_type": "execute_result"
    }
   ],
   "source": [
    "H.BettiNumber(0)"
   ]
  },
  {
   "cell_type": "markdown",
   "metadata": {},
   "source": [
    "Кликовый комплекс"
   ]
  },
  {
   "cell_type": "code",
   "execution_count": 59,
   "metadata": {},
   "outputs": [
    {
     "data": {
      "text/plain": [
       "[[1], [2], [0, 1], [0, 2], [1, 2], [0, 1, 2]]"
      ]
     },
     "execution_count": 59,
     "metadata": {},
     "output_type": "execute_result"
    }
   ],
   "source": [
    "K.Clear()\n",
    "K = simpl.SimplicialComplex.CreateCliqueGraph([[0, 1, 1], [1, 0, 1], [1, 1, 0]], 2, 0, 1)\n",
    "K.GetAllSimplices()"
   ]
  },
  {
   "cell_type": "markdown",
   "metadata": {},
   "source": [
    "Help"
   ]
  },
  {
   "cell_type": "code",
   "execution_count": 60,
   "metadata": {},
   "outputs": [
    {
     "name": "stdout",
     "output_type": "stream",
     "text": [
      "Help on method AddSimplex in module simpl:\n",
      "\n",
      "AddSimplex(...) method of simpl.SimplicialComplex instance\n",
      "    AddSimplex(self: simpl.SimplicialComplex, simplex: List[int]) -> None\n",
      "\n",
      "    Add a simplex to the simplicial complex\n",
      "\n"
     ]
    }
   ],
   "source": [
    "help(K.AddSimplex)"
   ]
  }
 ],
 "metadata": {
  "kernelspec": {
   "display_name": "Python 3",
   "language": "python",
   "name": "python3"
  },
  "language_info": {
   "codemirror_mode": {
    "name": "ipython",
    "version": 3
   },
   "file_extension": ".py",
   "mimetype": "text/x-python",
   "name": "python",
   "nbconvert_exporter": "python",
   "pygments_lexer": "ipython3",
   "version": "3.12.3"
  }
 },
 "nbformat": 4,
 "nbformat_minor": 2
}
