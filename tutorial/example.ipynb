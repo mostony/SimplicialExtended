{
 "cells": [
  {
   "cell_type": "markdown",
   "metadata": {},
   "source": [
    "### Пример работы библиотки"
   ]
  },
  {
   "cell_type": "code",
   "execution_count": 1,
   "metadata": {},
   "outputs": [],
   "source": [
    "# Для начала нужно загрузить библиотеку\n",
    "# Для этого нужно добавить её в путь поиска импортов в питоне\n",
    "import sys\n",
    "sys.path.append('../build')"
   ]
  },
  {
   "cell_type": "code",
   "execution_count": 2,
   "metadata": {},
   "outputs": [],
   "source": [
    "# теперь можно импортировать\n",
    "import simpl\n",
    "import numpy as np"
   ]
  },
  {
   "cell_type": "code",
   "execution_count": 3,
   "metadata": {},
   "outputs": [],
   "source": [
    "# Создание симплициального комплекса\n",
    "K = simpl.SimplicialComplex()"
   ]
  },
  {
   "cell_type": "markdown",
   "metadata": {},
   "source": [
    "Добавление симплексов"
   ]
  },
  {
   "cell_type": "code",
   "execution_count": 4,
   "metadata": {},
   "outputs": [],
   "source": [
    "K.AddSimplex([1, 2, 3])\n",
    "K.AddSimplex([3, 4])\n",
    "K.AddSimplex([4, 5, 6])\n",
    "K.AddSimplex([4, 5, 7])\n",
    "K.AddSimplex([6, 7])\n",
    "K.AddSimplex([2, 7])"
   ]
  },
  {
   "cell_type": "markdown",
   "metadata": {},
   "source": [
    "Получение списка максимальных симплексов"
   ]
  },
  {
   "cell_type": "code",
   "execution_count": 5,
   "metadata": {},
   "outputs": [
    {
     "data": {
      "text/plain": [
       "[[1, 2, 3], [2, 7], [3, 4], [4, 5, 6], [4, 5, 7], [6, 7]]"
      ]
     },
     "execution_count": 5,
     "metadata": {},
     "output_type": "execute_result"
    }
   ],
   "source": [
    "K.GetMaxSimplices()"
   ]
  },
  {
   "cell_type": "markdown",
   "metadata": {},
   "source": [
    "Удаление симплекса"
   ]
  },
  {
   "cell_type": "code",
   "execution_count": 6,
   "metadata": {},
   "outputs": [],
   "source": [
    "K.RemoveSimplex([1, 2])"
   ]
  },
  {
   "cell_type": "code",
   "execution_count": 7,
   "metadata": {},
   "outputs": [
    {
     "data": {
      "text/plain": [
       "[[1, 3], [2, 3], [2, 7], [3, 4], [4, 5, 6], [4, 5, 7], [6, 7]]"
      ]
     },
     "execution_count": 7,
     "metadata": {},
     "output_type": "execute_result"
    }
   ],
   "source": [
    "K.GetMaxSimplices()"
   ]
  },
  {
   "cell_type": "markdown",
   "metadata": {},
   "source": [
    "Получение всех симплексов"
   ]
  },
  {
   "cell_type": "code",
   "execution_count": 8,
   "metadata": {},
   "outputs": [
    {
     "data": {
      "text/plain": [
       "[[],\n",
       " [1],\n",
       " [2],\n",
       " [3],\n",
       " [4],\n",
       " [5],\n",
       " [6],\n",
       " [7],\n",
       " [1, 3],\n",
       " [2, 3],\n",
       " [2, 7],\n",
       " [3, 4],\n",
       " [4, 5],\n",
       " [4, 6],\n",
       " [4, 7],\n",
       " [5, 6],\n",
       " [5, 7],\n",
       " [6, 7],\n",
       " [4, 5, 6],\n",
       " [4, 5, 7]]"
      ]
     },
     "execution_count": 8,
     "metadata": {},
     "output_type": "execute_result"
    }
   ],
   "source": [
    "K.GetAllSimplices()"
   ]
  },
  {
   "cell_type": "markdown",
   "metadata": {},
   "source": [
    "Fvector "
   ]
  },
  {
   "cell_type": "code",
   "execution_count": 9,
   "metadata": {},
   "outputs": [
    {
     "data": {
      "text/plain": [
       "[(0, 7), (1, 10), (2, 2)]"
      ]
     },
     "execution_count": 9,
     "metadata": {},
     "output_type": "execute_result"
    }
   ],
   "source": [
    "K.FVector()"
   ]
  },
  {
   "cell_type": "markdown",
   "metadata": {},
   "source": [
    "Числа Бетти и Эйлерова характеристика"
   ]
  },
  {
   "cell_type": "code",
   "execution_count": 10,
   "metadata": {},
   "outputs": [
    {
     "data": {
      "text/plain": [
       "1"
      ]
     },
     "execution_count": 10,
     "metadata": {},
     "output_type": "execute_result"
    }
   ],
   "source": [
    "K.BettiNumber(0)"
   ]
  },
  {
   "cell_type": "code",
   "execution_count": 11,
   "metadata": {},
   "outputs": [
    {
     "data": {
      "text/plain": [
       "2"
      ]
     },
     "execution_count": 11,
     "metadata": {},
     "output_type": "execute_result"
    }
   ],
   "source": [
    "K.BettiNumber(1)"
   ]
  },
  {
   "cell_type": "code",
   "execution_count": 12,
   "metadata": {},
   "outputs": [
    {
     "data": {
      "text/plain": [
       "0"
      ]
     },
     "execution_count": 12,
     "metadata": {},
     "output_type": "execute_result"
    }
   ],
   "source": [
    "K.BettiNumber(2)"
   ]
  },
  {
   "cell_type": "code",
   "execution_count": 13,
   "metadata": {},
   "outputs": [
    {
     "data": {
      "text/plain": [
       "-1"
      ]
     },
     "execution_count": 13,
     "metadata": {},
     "output_type": "execute_result"
    }
   ],
   "source": [
    "K.EulerCharacteristic()"
   ]
  },
  {
   "cell_type": "markdown",
   "metadata": {},
   "source": [
    "Граничный оператор"
   ]
  },
  {
   "cell_type": "code",
   "execution_count": 14,
   "metadata": {},
   "outputs": [
    {
     "data": {
      "text/plain": [
       "matrix([[ 1,  0,  0,  0,  0,  0,  0,  0,  0,  0],\n",
       "        [ 0,  1,  1,  0,  0,  0,  0,  0,  0,  0],\n",
       "        [-1, -1,  0,  1,  0,  0,  0,  0,  0,  0],\n",
       "        [ 0,  0,  0, -1,  1,  1,  1,  0,  0,  0],\n",
       "        [ 0,  0,  0,  0, -1,  0,  0,  1,  1,  0],\n",
       "        [ 0,  0,  0,  0,  0, -1,  0, -1,  0,  1],\n",
       "        [ 0,  0, -1,  0,  0,  0, -1,  0, -1, -1]], dtype=int32)"
      ]
     },
     "execution_count": 14,
     "metadata": {},
     "output_type": "execute_result"
    }
   ],
   "source": [
    "# по умолчанию возвращается в разреженном виде\n",
    "B1 = K.BoundaryMatrix(1, 0)\n",
    "B1.todense()"
   ]
  },
  {
   "cell_type": "code",
   "execution_count": 15,
   "metadata": {},
   "outputs": [
    {
     "data": {
      "text/plain": [
       "matrix([[ 0,  0],\n",
       "        [ 0,  0],\n",
       "        [ 0,  0],\n",
       "        [ 0,  0],\n",
       "        [ 1,  1],\n",
       "        [-1,  0],\n",
       "        [ 0, -1],\n",
       "        [ 1,  0],\n",
       "        [ 0,  1],\n",
       "        [ 0,  0]], dtype=int32)"
      ]
     },
     "execution_count": 15,
     "metadata": {},
     "output_type": "execute_result"
    }
   ],
   "source": [
    "B2 = K.BoundaryMatrix(2, 1)\n",
    "B2.todense()"
   ]
  },
  {
   "cell_type": "code",
   "execution_count": 16,
   "metadata": {},
   "outputs": [
    {
     "data": {
      "text/plain": [
       "matrix([[ 0,  0],\n",
       "        [ 0,  0],\n",
       "        [ 0,  0],\n",
       "        [ 1,  1],\n",
       "        [-1, -1],\n",
       "        [ 1,  0],\n",
       "        [ 0,  1]], dtype=int32)"
      ]
     },
     "execution_count": 16,
     "metadata": {},
     "output_type": "execute_result"
    }
   ],
   "source": [
    "B3 = K.BoundaryMatrix(2, 0)\n",
    "B3.todense()"
   ]
  },
  {
   "cell_type": "markdown",
   "metadata": {},
   "source": [
    "Лапласиан"
   ]
  },
  {
   "cell_type": "code",
   "execution_count": 17,
   "metadata": {},
   "outputs": [
    {
     "data": {
      "text/plain": [
       "matrix([[ 2.,  1.,  0., -1.,  0.,  0.,  0.,  0.,  0.,  0.],\n",
       "        [ 1.,  2.,  1., -1.,  0.,  0.,  0.,  0.,  0.,  0.],\n",
       "        [ 0.,  1.,  2.,  0.,  0.,  0.,  1.,  0.,  1.,  1.],\n",
       "        [-1., -1.,  0.,  2., -1., -1., -1.,  0.,  0.,  0.],\n",
       "        [ 0.,  0.,  0., -1.,  4.,  0.,  0.,  0.,  0.,  0.],\n",
       "        [ 0.,  0.,  0., -1.,  0.,  3.,  1.,  0.,  0., -1.],\n",
       "        [ 0.,  0.,  1., -1.,  0.,  1.,  3.,  0.,  0.,  1.],\n",
       "        [ 0.,  0.,  0.,  0.,  0.,  0.,  0.,  3.,  1., -1.],\n",
       "        [ 0.,  0.,  1.,  0.,  0.,  0.,  0.,  1.,  3.,  1.],\n",
       "        [ 0.,  0.,  1.,  0.,  0., -1.,  1., -1.,  1.,  2.]])"
      ]
     },
     "execution_count": 17,
     "metadata": {},
     "output_type": "execute_result"
    }
   ],
   "source": [
    "K.LaplacianMatrix(1, 0, 2, 0).todense()"
   ]
  },
  {
   "cell_type": "code",
   "execution_count": 18,
   "metadata": {},
   "outputs": [
    {
     "data": {
      "text/plain": [
       "matrix([[ 2.,  1.,  0., -1.,  0.,  0.,  0.,  0.,  0.,  0.],\n",
       "        [ 1.,  2.,  1., -1.,  0.,  0.,  0.,  0.,  0.,  0.],\n",
       "        [ 0.,  1.,  2.,  0.,  0.,  0.,  1.,  0.,  1.,  1.],\n",
       "        [-1., -1.,  0.,  2., -1., -1., -1.,  0.,  0.,  0.],\n",
       "        [ 0.,  0.,  0., -1.,  4.,  0.,  0.,  0.,  0.,  0.],\n",
       "        [ 0.,  0.,  0., -1.,  0.,  3.,  1.,  0.,  0., -1.],\n",
       "        [ 0.,  0.,  1., -1.,  0.,  1.,  3.,  0.,  0.,  1.],\n",
       "        [ 0.,  0.,  0.,  0.,  0.,  0.,  0.,  3.,  1., -1.],\n",
       "        [ 0.,  0.,  1.,  0.,  0.,  0.,  0.,  1.,  3.,  1.],\n",
       "        [ 0.,  0.,  1.,  0.,  0., -1.,  1., -1.,  1.,  2.]])"
      ]
     },
     "execution_count": 18,
     "metadata": {},
     "output_type": "execute_result"
    }
   ],
   "source": [
    "K.LaplacianMatrix(1, 0, 2, 1).todense()"
   ]
  },
  {
   "cell_type": "code",
   "execution_count": 19,
   "metadata": {},
   "outputs": [
    {
     "data": {
      "text/plain": [
       "[5.548404181092106,\n",
       " 4.7702229822506546,\n",
       " 3.999999999999999,\n",
       " 3.999999999999997,\n",
       " 3.3547881423517167,\n",
       " 2.000000000000001,\n",
       " 1.6628331827684695,\n",
       " 0.6637515115370554,\n",
       " 5.555501473735949e-16]"
      ]
     },
     "execution_count": 19,
     "metadata": {},
     "output_type": "execute_result"
    }
   ],
   "source": [
    "# нахождение собственных чисел лапласиана.\n",
    "# последний параметр регулирует количество\n",
    "K.EigenValues(1, 0, 2, 1, 100)"
   ]
  },
  {
   "cell_type": "code",
   "execution_count": 20,
   "metadata": {},
   "outputs": [
    {
     "data": {
      "text/plain": [
       "[-3.2955250353482206e-16,\n",
       " 2.5555923642369156e-17,\n",
       " 0.6637515115370541,\n",
       " 1.6628331827684697,\n",
       " 2.0000000000000004,\n",
       " 3.354788142351716,\n",
       " 3.999999999999999,\n",
       " 4.0,\n",
       " 4.7702229822506546,\n",
       " 5.548404181092105]"
      ]
     },
     "execution_count": 20,
     "metadata": {},
     "output_type": "execute_result"
    }
   ],
   "source": [
    "# нахождение всех собственных чисел лапласиана.\n",
    "K.EigenValuesAll(k=1, p=0, q=2, weighted=True)"
   ]
  },
  {
   "cell_type": "markdown",
   "metadata": {},
   "source": [
    "Очищение объекта"
   ]
  },
  {
   "cell_type": "code",
   "execution_count": 21,
   "metadata": {},
   "outputs": [],
   "source": [
    "K.Clear()"
   ]
  },
  {
   "cell_type": "markdown",
   "metadata": {},
   "source": [
    "#### Центральность"
   ]
  },
  {
   "cell_type": "code",
   "execution_count": 22,
   "metadata": {},
   "outputs": [],
   "source": [
    "K.AddSimplex([1, 2, 3, 4])\n",
    "K.AddSimplex([1, 5, 6])"
   ]
  },
  {
   "cell_type": "markdown",
   "metadata": {},
   "source": [
    "У симплексов можно обновлять веса"
   ]
  },
  {
   "cell_type": "code",
   "execution_count": 23,
   "metadata": {},
   "outputs": [],
   "source": [
    "K.UpdateWeight([1, 5, 6], 100)\n",
    "K.UpdateWeight([1, 2, 3], 34)\n",
    "K.UpdateWeight([1, 2, 4], 89)\n",
    "K.UpdateWeight([2, 3, 4], 52)\n"
   ]
  },
  {
   "cell_type": "markdown",
   "metadata": {},
   "source": [
    "Получение матрицы весов для фиксированного ранга"
   ]
  },
  {
   "cell_type": "code",
   "execution_count": 24,
   "metadata": {},
   "outputs": [
    {
     "data": {
      "text/plain": [
       "array([[ 34.,   0.,   0.,   0.,   0.],\n",
       "       [  0.,  89.,   0.,   0.,   0.],\n",
       "       [  0.,   0.,   1.,   0.,   0.],\n",
       "       [  0.,   0.,   0., 100.,   0.],\n",
       "       [  0.,   0.,   0.,   0.,  52.]])"
      ]
     },
     "execution_count": 24,
     "metadata": {},
     "output_type": "execute_result"
    }
   ],
   "source": [
    "K.Weights(2)"
   ]
  },
  {
   "cell_type": "markdown",
   "metadata": {},
   "source": [
    "Вычисление невзвешенной closeness"
   ]
  },
  {
   "cell_type": "code",
   "execution_count": 25,
   "metadata": {},
   "outputs": [
    {
     "data": {
      "text/plain": [
       "[([1, 2], 0.5208333333333334),\n",
       " ([1, 3], 0.5208333333333334),\n",
       " ([1, 4], 0.5208333333333334),\n",
       " ([1, 5], 0.25),\n",
       " ([1, 6], 0.25),\n",
       " ([2, 3], 0.5208333333333334),\n",
       " ([2, 4], 0.5208333333333334),\n",
       " ([3, 4], 0.5208333333333334),\n",
       " ([5, 6], 0.25)]"
      ]
     },
     "execution_count": 25,
     "metadata": {},
     "output_type": "execute_result"
    }
   ],
   "source": [
    "K.ClosenessAll(1, 2, False)"
   ]
  },
  {
   "cell_type": "markdown",
   "metadata": {},
   "source": [
    "Вычисление взвешенной closeness"
   ]
  },
  {
   "cell_type": "code",
   "execution_count": 26,
   "metadata": {},
   "outputs": [
    {
     "data": {
      "text/plain": [
       "[([1, 2], 0.013950892857142858),\n",
       " ([1, 3], 0.025406504065040646),\n",
       " ([1, 4], 0.025),\n",
       " ([1, 5], 0.0025),\n",
       " ([1, 6], 0.0025),\n",
       " ([2, 3], 0.01644736842105263),\n",
       " ([2, 4], 0.01055743243243243),\n",
       " ([3, 4], 0.0252016129032258),\n",
       " ([5, 6], 0.0025)]"
      ]
     },
     "execution_count": 26,
     "metadata": {},
     "output_type": "execute_result"
    }
   ],
   "source": [
    "K.ClosenessAll(k=1, q=2, weighted=True)"
   ]
  },
  {
   "cell_type": "code",
   "execution_count": 27,
   "metadata": {},
   "outputs": [
    {
     "data": {
      "text/plain": [
       "[([1, 2], 0.017857142857142856),\n",
       " ([1, 3], 0.017857142857142856),\n",
       " ([1, 4], 0.017857142857142856),\n",
       " ([1, 5], 0.0),\n",
       " ([1, 6], 0.0),\n",
       " ([2, 3], 0.017857142857142856),\n",
       " ([2, 4], 0.017857142857142856),\n",
       " ([3, 4], 0.017857142857142856),\n",
       " ([5, 6], 0.0)]"
      ]
     },
     "execution_count": 27,
     "metadata": {},
     "output_type": "execute_result"
    }
   ],
   "source": [
    "K.BetweennessAll(1, 2, False)"
   ]
  },
  {
   "cell_type": "code",
   "execution_count": 28,
   "metadata": {},
   "outputs": [
    {
     "data": {
      "text/plain": [
       "[([1, 2], 0.0),\n",
       " ([1, 3], 0.08035714285714286),\n",
       " ([1, 4], 0.0),\n",
       " ([1, 5], 0.0),\n",
       " ([1, 6], 0.0),\n",
       " ([2, 3], 0.017857142857142856),\n",
       " ([2, 4], 0.0),\n",
       " ([3, 4], 0.05357142857142857),\n",
       " ([5, 6], 0.0)]"
      ]
     },
     "execution_count": 28,
     "metadata": {},
     "output_type": "execute_result"
    }
   ],
   "source": [
    "K.BetweennessAll(1, 2, True)"
   ]
  },
  {
   "cell_type": "markdown",
   "metadata": {},
   "source": [
    "Степень"
   ]
  },
  {
   "cell_type": "code",
   "execution_count": 29,
   "metadata": {},
   "outputs": [
    {
     "data": {
      "text/plain": [
       "[3.0, 3.0, 3.0, 0.0, 3.0]"
      ]
     },
     "execution_count": 29,
     "metadata": {},
     "output_type": "execute_result"
    }
   ],
   "source": [
    "K.DegreeAll(2, 3, False)"
   ]
  },
  {
   "cell_type": "code",
   "execution_count": 30,
   "metadata": {},
   "outputs": [
    {
     "data": {
      "text/plain": [
       "[142.0, 87.0, 175.0, 0.0, 124.0]"
      ]
     },
     "execution_count": 30,
     "metadata": {},
     "output_type": "execute_result"
    }
   ],
   "source": [
    "K.DegreeAll(2, 3, True)"
   ]
  },
  {
   "cell_type": "markdown",
   "metadata": {},
   "source": [
    "Комбинаторный комплекс:"
   ]
  },
  {
   "cell_type": "code",
   "execution_count": 31,
   "metadata": {},
   "outputs": [],
   "source": [
    "comb = simpl.CombinatorialComplex()\n",
    "\n",
    "comb.Build([[1], [2], [3], [4], [1, 2], [1, 4], [1, 2, 3], [2, 3, 4]])"
   ]
  },
  {
   "cell_type": "markdown",
   "metadata": {},
   "source": [
    "Инцидентность"
   ]
  },
  {
   "cell_type": "code",
   "execution_count": 32,
   "metadata": {},
   "outputs": [
    {
     "name": "stdout",
     "output_type": "stream",
     "text": [
      "[[1, 2], [1, 4]]\n",
      "[[1, 2, 3]]\n",
      "[]\n",
      "2\n",
      "1\n",
      "0\n"
     ]
    }
   ],
   "source": [
    "print(comb.Incidence([1], 1))\n",
    "print(comb.Incidence([1], 2))\n",
    "print(comb.Incidence([1], 3))\n",
    "\n",
    "print(comb.IncidenceDegree([1], 1))\n",
    "print(comb.IncidenceDegree([1], 2))\n",
    "print(comb.IncidenceDegree([1], 3))"
   ]
  },
  {
   "cell_type": "markdown",
   "metadata": {},
   "source": [
    "Смежность и степень"
   ]
  },
  {
   "cell_type": "code",
   "execution_count": 33,
   "metadata": {},
   "outputs": [
    {
     "name": "stdout",
     "output_type": "stream",
     "text": [
      "[[2], [4]]\n",
      "[[2], [3]]\n",
      "[]\n",
      "2.0\n",
      "2.0\n",
      "0.0\n",
      "[2.0, 1.0, 0.0, 1.0]\n",
      "[2.0, 3.0, 3.0, 2.0]\n",
      "[0.0, 0.0, 0.0, 0.0]\n"
     ]
    }
   ],
   "source": [
    "print(comb.Adjacency([1], 1))\n",
    "print(comb.Adjacency([1], 2))\n",
    "print(comb.Adjacency([1], 3))\n",
    "\n",
    "print(comb.Degree([1], 1, False))\n",
    "print(comb.Degree([1], 2, False))\n",
    "print(comb.Degree([1], 3, False))\n",
    "\n",
    "print(comb.DegreeAll(0, 1, False))\n",
    "print(comb.DegreeAll(0, 2, False))\n",
    "print(comb.DegreeAll(0, 3, False))"
   ]
  },
  {
   "cell_type": "markdown",
   "metadata": {},
   "source": [
    "Количество объектов в комплексе"
   ]
  },
  {
   "cell_type": "code",
   "execution_count": 34,
   "metadata": {},
   "outputs": [
    {
     "data": {
      "text/plain": [
       "8"
      ]
     },
     "execution_count": 34,
     "metadata": {},
     "output_type": "execute_result"
    }
   ],
   "source": [
    "comb.TotalCount()"
   ]
  },
  {
   "cell_type": "markdown",
   "metadata": {},
   "source": [
    "Граф"
   ]
  },
  {
   "cell_type": "code",
   "execution_count": 35,
   "metadata": {},
   "outputs": [],
   "source": [
    "graph = simpl.Graph()"
   ]
  },
  {
   "cell_type": "markdown",
   "metadata": {},
   "source": [
    "Добавление рёбер"
   ]
  },
  {
   "cell_type": "code",
   "execution_count": 36,
   "metadata": {},
   "outputs": [],
   "source": [
    "graph.AddEdge(1, 2)\n",
    "graph.AddEdge(1, 3)\n",
    "graph.AddEdge(2, 3)\n",
    "graph.AddEdge(4, 5)"
   ]
  },
  {
   "cell_type": "markdown",
   "metadata": {},
   "source": [
    "Числа Бетти"
   ]
  },
  {
   "cell_type": "code",
   "execution_count": 37,
   "metadata": {},
   "outputs": [
    {
     "data": {
      "text/plain": [
       "2"
      ]
     },
     "execution_count": 37,
     "metadata": {},
     "output_type": "execute_result"
    }
   ],
   "source": [
    "# number of connected components -- |C|\n",
    "graph.BettiNumber(0)"
   ]
  },
  {
   "cell_type": "code",
   "execution_count": 38,
   "metadata": {},
   "outputs": [
    {
     "data": {
      "text/plain": [
       "1"
      ]
     },
     "execution_count": 38,
     "metadata": {},
     "output_type": "execute_result"
    }
   ],
   "source": [
    "# |E| - |V| + |C|, where E - edges, V -- vertices\n",
    "graph.BettiNumber(1)"
   ]
  },
  {
   "cell_type": "code",
   "execution_count": 39,
   "metadata": {},
   "outputs": [
    {
     "data": {
      "text/plain": [
       "0"
      ]
     },
     "execution_count": 39,
     "metadata": {},
     "output_type": "execute_result"
    }
   ],
   "source": [
    "graph.BettiNumber(2)"
   ]
  },
  {
   "cell_type": "code",
   "execution_count": 40,
   "metadata": {},
   "outputs": [
    {
     "data": {
      "text/plain": [
       "9"
      ]
     },
     "execution_count": 40,
     "metadata": {},
     "output_type": "execute_result"
    }
   ],
   "source": [
    "# |E| + |V|\n",
    "graph.TotalCount()"
   ]
  },
  {
   "cell_type": "markdown",
   "metadata": {},
   "source": [
    "Весовые функции фильтрации:"
   ]
  },
  {
   "cell_type": "code",
   "execution_count": 41,
   "metadata": {},
   "outputs": [],
   "source": [
    "K.Clear()"
   ]
  },
  {
   "cell_type": "code",
   "execution_count": 42,
   "metadata": {},
   "outputs": [],
   "source": [
    "def weight(a):\n",
    "    return len(a) - 1"
   ]
  },
  {
   "cell_type": "code",
   "execution_count": 43,
   "metadata": {},
   "outputs": [],
   "source": [
    "K.AddFunction(\"weight\", weight)"
   ]
  },
  {
   "cell_type": "code",
   "execution_count": 44,
   "metadata": {},
   "outputs": [],
   "source": [
    "K.AddSimplex([1, 2, 3, 4])\n",
    "K.AddSimplex([1, 5, 6])"
   ]
  },
  {
   "cell_type": "markdown",
   "metadata": {},
   "source": [
    "Фильтрация сверху"
   ]
  },
  {
   "cell_type": "code",
   "execution_count": 45,
   "metadata": {},
   "outputs": [
    {
     "data": {
      "text/plain": [
       "[[1, 2, 3], [1, 2, 4], [1, 3, 4], [1, 5, 6], [2, 3, 4]]"
      ]
     },
     "execution_count": 45,
     "metadata": {},
     "output_type": "execute_result"
    }
   ],
   "source": [
    "K.ThresholdAbove(\"weight\", 3)\n",
    "K.GetMaxSimplices()"
   ]
  },
  {
   "cell_type": "code",
   "execution_count": 46,
   "metadata": {},
   "outputs": [
    {
     "data": {
      "text/plain": [
       "[[1, 2], [1, 3], [1, 4], [1, 5], [1, 6], [2, 3], [2, 4], [3, 4], [5, 6]]"
      ]
     },
     "execution_count": 46,
     "metadata": {},
     "output_type": "execute_result"
    }
   ],
   "source": [
    "K.ThresholdAbove(\"weight\", 2)\n",
    "K.GetMaxSimplices()"
   ]
  },
  {
   "cell_type": "code",
   "execution_count": 47,
   "metadata": {},
   "outputs": [],
   "source": [
    "def inverse_weight(a):\n",
    "    return -(len(a) - 1)"
   ]
  },
  {
   "cell_type": "code",
   "execution_count": 48,
   "metadata": {},
   "outputs": [],
   "source": [
    "K = simpl.SimplicialComplex()\n",
    "K.AddFunction(\"inverse_weight\", inverse_weight)\n",
    "K.AddSimplex([1, 2, 3, 4])\n",
    "K.AddSimplex([1, 5, 6])"
   ]
  },
  {
   "cell_type": "markdown",
   "metadata": {},
   "source": [
    "Фильтрация снизу"
   ]
  },
  {
   "cell_type": "code",
   "execution_count": 49,
   "metadata": {},
   "outputs": [
    {
     "data": {
      "text/plain": [
       "[[1, 2, 3], [1, 2, 4], [1, 3, 4], [1, 5, 6], [2, 3, 4]]"
      ]
     },
     "execution_count": 49,
     "metadata": {},
     "output_type": "execute_result"
    }
   ],
   "source": [
    "K.ThresholdBelow(\"inverse_weight\", -3)\n",
    "K.GetMaxSimplices()"
   ]
  },
  {
   "cell_type": "code",
   "execution_count": 50,
   "metadata": {},
   "outputs": [
    {
     "data": {
      "text/plain": [
       "[[1, 2], [1, 3], [1, 4], [1, 5], [1, 6], [2, 3], [2, 4], [3, 4], [5, 6]]"
      ]
     },
     "execution_count": 50,
     "metadata": {},
     "output_type": "execute_result"
    }
   ],
   "source": [
    "K.ThresholdBelow(\"inverse_weight\", -2)\n",
    "K.GetMaxSimplices()"
   ]
  },
  {
   "cell_type": "markdown",
   "metadata": {},
   "source": [
    "Пример нетривиальной фильтрации"
   ]
  },
  {
   "cell_type": "code",
   "execution_count": 51,
   "metadata": {},
   "outputs": [],
   "source": [
    "def bad3(a):\n",
    "    if 3 in a:\n",
    "        return 10**9\n",
    "    return -10**9"
   ]
  },
  {
   "cell_type": "code",
   "execution_count": 52,
   "metadata": {},
   "outputs": [],
   "source": [
    "K.Clear()\n",
    "K.AddFunction(\"bad3\", bad3)\n",
    "K.AddFunction(\"weight\", weight)\n",
    "K.AddSimplex([1, 2, 3, 4])\n",
    "K.AddSimplex([1, 5, 6])"
   ]
  },
  {
   "cell_type": "code",
   "execution_count": 53,
   "metadata": {},
   "outputs": [
    {
     "data": {
      "text/plain": [
       "[[1, 2, 4], [1, 5, 6]]"
      ]
     },
     "execution_count": 53,
     "metadata": {},
     "output_type": "execute_result"
    }
   ],
   "source": [
    "K.ThresholdAbove(\"bad3\", 5)\n",
    "K.GetMaxSimplices()"
   ]
  },
  {
   "cell_type": "markdown",
   "metadata": {},
   "source": [
    "Матрица признаков"
   ]
  },
  {
   "cell_type": "code",
   "execution_count": 54,
   "metadata": {},
   "outputs": [
    {
     "data": {
      "text/plain": [
       "[[-1000000000.0, 2.0], [-1000000000.0, 2.0]]"
      ]
     },
     "execution_count": 54,
     "metadata": {},
     "output_type": "execute_result"
    }
   ],
   "source": [
    "K.FeaturesMatrix(2)"
   ]
  },
  {
   "cell_type": "markdown",
   "metadata": {},
   "source": [
    "Dowker complex"
   ]
  },
  {
   "cell_type": "code",
   "execution_count": 55,
   "metadata": {},
   "outputs": [
    {
     "data": {
      "text/plain": [
       "[[0, 2]]"
      ]
     },
     "execution_count": 55,
     "metadata": {},
     "output_type": "execute_result"
    }
   ],
   "source": [
    "K.Clear()\n",
    "K.BuildDowkerComplex([[1, 0, 0], [1, 0, 1], [0, 0, 1]], False)\n",
    "K.GetMaxSimplices()"
   ]
  },
  {
   "cell_type": "code",
   "execution_count": 56,
   "metadata": {},
   "outputs": [
    {
     "data": {
      "text/plain": [
       "[[0, 1], [1, 2]]"
      ]
     },
     "execution_count": 56,
     "metadata": {},
     "output_type": "execute_result"
    }
   ],
   "source": [
    "K.BuildDowkerComplex([[1, 0, 0], [1, 0, 1], [0, 0, 1]], on_column=True)\n",
    "K.GetMaxSimplices()"
   ]
  },
  {
   "cell_type": "markdown",
   "metadata": {},
   "source": [
    "Гиперграф"
   ]
  },
  {
   "cell_type": "code",
   "execution_count": 57,
   "metadata": {},
   "outputs": [
    {
     "data": {
      "text/plain": [
       "[[1, 2, 3], [4, 13]]"
      ]
     },
     "execution_count": 57,
     "metadata": {},
     "output_type": "execute_result"
    }
   ],
   "source": [
    "H = simpl.HyperGraph()\n",
    "H.AddEdge([1, 2, 3])\n",
    "H.AddEdge([13, 4])\n",
    "H.GetEdges()"
   ]
  },
  {
   "cell_type": "code",
   "execution_count": 58,
   "metadata": {},
   "outputs": [
    {
     "data": {
      "text/plain": [
       "3"
      ]
     },
     "execution_count": 58,
     "metadata": {},
     "output_type": "execute_result"
    }
   ],
   "source": [
    "H.BettiNumber(0)"
   ]
  },
  {
   "cell_type": "markdown",
   "metadata": {},
   "source": [
    "Кликовый комплекс"
   ]
  },
  {
   "cell_type": "code",
   "execution_count": 59,
   "metadata": {},
   "outputs": [
    {
     "data": {
      "text/plain": [
       "[[1], [2], [0, 1], [0, 2], [1, 2], [0, 1, 2]]"
      ]
     },
     "execution_count": 59,
     "metadata": {},
     "output_type": "execute_result"
    }
   ],
   "source": [
    "K.Clear()\n",
    "K = simpl.SimplicialComplex.CreateCliqueGraph([[0, 1, 1], [1, 0, 1], [1, 1, 0]], 2, 0, 1)\n",
    "K.GetAllSimplices()"
   ]
  },
  {
   "cell_type": "markdown",
   "metadata": {},
   "source": [
    "Help"
   ]
  },
  {
   "cell_type": "code",
   "execution_count": 60,
   "metadata": {},
   "outputs": [
    {
     "name": "stdout",
     "output_type": "stream",
     "text": [
      "Help on SimplicialComplex in module simpl object:\n",
      "\n",
      "class SimplicialComplex(pybind11_builtins.pybind11_object)\n",
      " |  Method resolution order:\n",
      " |      SimplicialComplex\n",
      " |      pybind11_builtins.pybind11_object\n",
      " |      builtins.object\n",
      " |\n",
      " |  Methods defined here:\n",
      " |\n",
      " |  AddFunction(...)\n",
      " |      AddFunction(self: simpl.SimplicialComplex, name: str, func: Callable[[List[int]], float]) -> None\n",
      " |\n",
      " |      Add a function on simplices with given name\n",
      " |\n",
      " |  AddSimplex(...)\n",
      " |      AddSimplex(self: simpl.SimplicialComplex, simplex: List[int]) -> None\n",
      " |\n",
      " |      Add a simplex to the simplicial complex\n",
      " |\n",
      " |  Adjacency(...)\n",
      " |      Adjacency(self: simpl.SimplicialComplex, node: List[int], k: int) -> List[List[int]]\n",
      " |\n",
      " |      Get all nodes k-adjacence to given node\n",
      " |\n",
      " |  BettiNumber(...)\n",
      " |      BettiNumber(self: simpl.SimplicialComplex, k: int) -> int\n",
      " |\n",
      " |      Get the k betti number of simplicial complex\n",
      " |\n",
      " |  Betweenness(...)\n",
      " |      Betweenness(self: simpl.SimplicialComplex, node: List[int], q: int, weighted: bool = False) -> float\n",
      " |\n",
      " |      Calculate betweenness for given node via nodes with rank=q\n",
      " |\n",
      " |  BetweennessAll(...)\n",
      " |      BetweennessAll(self: simpl.SimplicialComplex, k: int, q: int, weighted: bool = False) -> List[Tuple[List[int], float]]\n",
      " |\n",
      " |      Calculate betweenness for all node with rank=k via nodes with rank=q\n",
      " |\n",
      " |  BoundaryMatrix(...)\n",
      " |      BoundaryMatrix(self: simpl.SimplicialComplex, k: int, p: int) -> scipy.sparse.csr_matrix[numpy.int32]\n",
      " |\n",
      " |      Get the boundary matrix. Should be: k > p\n",
      " |\n",
      " |  BuildDowkerComplex(...)\n",
      " |      BuildDowkerComplex(self: simpl.SimplicialComplex, binary: List[List[int]], on_column: bool = False) -> None\n",
      " |\n",
      " |      Build a Dowker complex from a binary matrix with flag on_column. If on_column=true then simplices is on column, otherwise on rows\n",
      " |\n",
      " |  Clear(...)\n",
      " |      Clear(self: simpl.SimplicialComplex) -> None\n",
      " |\n",
      " |      Clear the simplicial complex\n",
      " |\n",
      " |  Closeness(...)\n",
      " |      Closeness(self: simpl.SimplicialComplex, node: List[int], q: int, weighted: bool = False) -> float\n",
      " |\n",
      " |      Calculate closeness for given node via nodes with rank=q\n",
      " |\n",
      " |  ClosenessAll(...)\n",
      " |      ClosenessAll(self: simpl.SimplicialComplex, k: int, q: int, weighted: bool = False) -> List[Tuple[List[int], float]]\n",
      " |\n",
      " |      Calculate closeness for all node with rank=k via nodes with rank=q\n",
      " |\n",
      " |  Degree(...)\n",
      " |      Degree(self: simpl.SimplicialComplex, node: List[int], k: int, weighted: bool = False) -> float\n",
      " |\n",
      " |      Get sum of weights of all k-adjacence to given node.\n",
      " |\n",
      " |  DegreeAll(...)\n",
      " |      DegreeAll(self: simpl.SimplicialComplex, p: int, k: int, weighted: bool = False) -> List[float]\n",
      " |\n",
      " |      Get vector of degrees of all nodes with rank=p with k-adjacence\n",
      " |\n",
      " |  Dimension(...)\n",
      " |      Dimension(self: simpl.SimplicialComplex) -> int\n",
      " |\n",
      " |      Get the dimension of the simplicial complex - maximum dimension of simplices\n",
      " |\n",
      " |  EigenValues(...)\n",
      " |      EigenValues(self: simpl.SimplicialComplex, k: int, p: int, q: int, weighted: bool, cnt: int) -> List[float]\n",
      " |\n",
      " |      Get the cnt eigen values of laplacian matrix. Should be: p < k < q\n",
      " |\n",
      " |  EigenValuesAll(...)\n",
      " |      EigenValuesAll(self: simpl.SimplicialComplex, k: int, p: int, q: int, weighted: bool) -> List[float]\n",
      " |\n",
      " |      Get all eigen values of laplacian matrix. Should be: p < k < q\n",
      " |\n",
      " |  EulerCharacteristic(...)\n",
      " |      EulerCharacteristic(self: simpl.SimplicialComplex) -> int\n",
      " |\n",
      " |      Get the Euler characteristic of the simplicial complex\n",
      " |\n",
      " |  FVector(...)\n",
      " |      FVector(self: simpl.SimplicialComplex) -> List[Tuple[int, int]]\n",
      " |\n",
      " |      Get the f-vector of the simplicial complex\n",
      " |\n",
      " |  FeaturesMatrix(...)\n",
      " |      FeaturesMatrix(self: simpl.SimplicialComplex, dim: int) -> List[List[float]]\n",
      " |\n",
      " |      Get the feature matrix with simplices on given dimension\n",
      " |\n",
      " |  GetAllSimplices(...)\n",
      " |      GetAllSimplices(self: simpl.SimplicialComplex) -> List[List[int]]\n",
      " |\n",
      " |      Get all simplices\n",
      " |\n",
      " |  GetMaxSimplices(...)\n",
      " |      GetMaxSimplices(self: simpl.SimplicialComplex) -> List[List[int]]\n",
      " |\n",
      " |      Get all maximum simplices of complex\n",
      " |\n",
      " |  GetSimplicesWithDimension(...)\n",
      " |      GetSimplicesWithDimension(self: simpl.SimplicialComplex, dim: int) -> List[List[int]]\n",
      " |\n",
      " |      Get all simplices with given dimension\n",
      " |\n",
      " |  Incidence(...)\n",
      " |      Incidence(self: simpl.SimplicialComplex, node: List[int], k: int) -> List[List[int]]\n",
      " |\n",
      " |      Get all nodes k-incidence to given node\n",
      " |\n",
      " |  IncidenceDegree(...)\n",
      " |      IncidenceDegree(self: simpl.SimplicialComplex, node: List[int], k: int) -> int\n",
      " |\n",
      " |      Get number of nodes k-incidence to given node\n",
      " |\n",
      " |  LaplacianMatrix(...)\n",
      " |      LaplacianMatrix(self: simpl.SimplicialComplex, k: int, p: int, q: int, weighted: bool = False) -> scipy.sparse.csr_matrix[numpy.float64]\n",
      " |\n",
      " |      Get the laplacian matrix. Should be: p < k < q\n",
      " |\n",
      " |  RemoveFunction(...)\n",
      " |      RemoveFunction(self: simpl.SimplicialComplex, name: str) -> None\n",
      " |\n",
      " |      Remove a function from simplicial complex by given name\n",
      " |\n",
      " |  RemoveSimplex(...)\n",
      " |      RemoveSimplex(self: simpl.SimplicialComplex, simplex: List[int]) -> None\n",
      " |\n",
      " |      Remove a simplex from the simplicial complex\n",
      " |\n",
      " |  ThresholdAbove(...)\n",
      " |      ThresholdAbove(self: simpl.SimplicialComplex, name: str, threshold: float) -> None\n",
      " |\n",
      " |      Threshold the simplicial complex by removing elements on which function with given name higher or equal threshold value. Function should me monotonically non-decreasing\n",
      " |\n",
      " |  ThresholdBelow(...)\n",
      " |      ThresholdBelow(self: simpl.SimplicialComplex, name: str, threshold: float) -> None\n",
      " |\n",
      " |      Threshold the simplicial complex by removing elements on which function with given name less or equal threshold value. Function should me monotonically non-increasing\n",
      " |\n",
      " |  TotalCountOfSimplices(...)\n",
      " |      TotalCountOfSimplices(self: simpl.SimplicialComplex) -> int\n",
      " |\n",
      " |      Get number of simplices in complex\n",
      " |\n",
      " |  UpdateWeight(...)\n",
      " |      UpdateWeight(self: simpl.SimplicialComplex, node: List[int], weight: float) -> None\n",
      " |\n",
      " |      Update the weight of a simplex\n",
      " |\n",
      " |  Weights(...)\n",
      " |      Weights(self: simpl.SimplicialComplex, rank: int) -> numpy.ndarray[numpy.float64[m, n]]\n",
      " |\n",
      " |      Get the weights of all nodes at a given rank\n",
      " |\n",
      " |  __init__(...)\n",
      " |      __init__(self: simpl.SimplicialComplex) -> None\n",
      " |\n",
      " |      Creating a new simplicial complex\n",
      " |\n",
      " |  ----------------------------------------------------------------------\n",
      " |  Static methods defined here:\n",
      " |\n",
      " |  CreateCliqueGraph(...) method of builtins.PyCapsule instance\n",
      " |      CreateCliqueGraph(g: List[List[int]], k: int, method: int = 0, threads: int = 2) -> simpl.SimplicialComplex\n",
      " |\n",
      " |      Create simplicial complex from given graph using cliques with size <= k\n",
      " |\n",
      " |  ----------------------------------------------------------------------\n",
      " |  Static methods inherited from pybind11_builtins.pybind11_object:\n",
      " |\n",
      " |  __new__(*args, **kwargs) class method of pybind11_builtins.pybind11_object\n",
      " |      Create and return a new object.  See help(type) for accurate signature.\n",
      "\n"
     ]
    }
   ],
   "source": [
    "help(K)"
   ]
  },
  {
   "cell_type": "code",
   "execution_count": 61,
   "metadata": {},
   "outputs": [
    {
     "name": "stdout",
     "output_type": "stream",
     "text": [
      "Help on method AddSimplex in module simpl:\n",
      "\n",
      "AddSimplex(...) method of simpl.SimplicialComplex instance\n",
      "    AddSimplex(self: simpl.SimplicialComplex, simplex: List[int]) -> None\n",
      "\n",
      "    Add a simplex to the simplicial complex\n",
      "\n"
     ]
    }
   ],
   "source": [
    "help(K.AddSimplex)"
   ]
  },
  {
   "cell_type": "code",
   "execution_count": 62,
   "metadata": {},
   "outputs": [
    {
     "name": "stdout",
     "output_type": "stream",
     "text": [
      "Help on HyperGraph in module simpl object:\n",
      "\n",
      "class HyperGraph(pybind11_builtins.pybind11_object)\n",
      " |  Method resolution order:\n",
      " |      HyperGraph\n",
      " |      pybind11_builtins.pybind11_object\n",
      " |      builtins.object\n",
      " |\n",
      " |  Methods defined here:\n",
      " |\n",
      " |  AddEdge(...)\n",
      " |      AddEdge(self: simpl.HyperGraph, edge: List[int]) -> None\n",
      " |\n",
      " |      Add an hyperedge to the hypergraph\n",
      " |\n",
      " |  AddFunction(...)\n",
      " |      AddFunction(self: simpl.HyperGraph, name: str, func: Callable[[List[int]], float]) -> None\n",
      " |\n",
      " |      Add a function to the hypergraph with the given name\n",
      " |\n",
      " |  Adjacency(...)\n",
      " |      Adjacency(self: simpl.HyperGraph, node: List[int], k: int) -> List[List[int]]\n",
      " |\n",
      " |      Get all nodes with k-adjacency to the given node\n",
      " |\n",
      " |  BettiNumber(...)\n",
      " |      BettiNumber(self: simpl.HyperGraph, k: int) -> int\n",
      " |\n",
      " |      Get the k-th Betti number of the hypergraph\n",
      " |\n",
      " |  Betweenness(...)\n",
      " |      Betweenness(self: simpl.HyperGraph, node: List[int], q: int, weighted: bool = False) -> float\n",
      " |\n",
      " |      Calculate the betweenness centrality for the given node via nodes with rank=q\n",
      " |\n",
      " |  BetweennessAll(...)\n",
      " |      BetweennessAll(self: simpl.HyperGraph, k: int, q: int, weighted: bool = False) -> List[Tuple[List[int], float]]\n",
      " |\n",
      " |      Calculate the betweenness centrality for all nodes with rank=k via nodes with rank=q\n",
      " |\n",
      " |  BoundaryMatrix(...)\n",
      " |      BoundaryMatrix(self: simpl.HyperGraph, k: int, p: int) -> scipy.sparse.csr_matrix[numpy.int32]\n",
      " |\n",
      " |      Get the boundary matrix of the hypergraph. Should be: k > p\n",
      " |\n",
      " |  BuildFromBinary(...)\n",
      " |      BuildFromBinary(self: simpl.HyperGraph, binary: List[List[int]], on_column: bool = False) -> None\n",
      " |\n",
      " |      Build from a binary matrix with flag on_column. If on_column=true then edges is on column, otherwise on rows\n",
      " |\n",
      " |  Clear(...)\n",
      " |      Clear(self: simpl.HyperGraph) -> None\n",
      " |\n",
      " |      Clear all elements in the hypergraph\n",
      " |\n",
      " |  Closeness(...)\n",
      " |      Closeness(self: simpl.HyperGraph, node: List[int], q: int, weighted: bool = False) -> float\n",
      " |\n",
      " |      Calculate the closeness centrality for the given node via nodes with rank=q\n",
      " |\n",
      " |  ClosenessAll(...)\n",
      " |      ClosenessAll(self: simpl.HyperGraph, k: int, q: int, weighted: bool = False) -> List[Tuple[List[int], float]]\n",
      " |\n",
      " |      Calculate the closeness centrality for all nodes with rank=k via nodes with rank=q\n",
      " |\n",
      " |  Degree(...)\n",
      " |      Degree(self: simpl.HyperGraph, node: List[int], k: int, weighted: bool = False) -> float\n",
      " |\n",
      " |      Get the sum of weights of all k-adjacent nodes to the given node\n",
      " |\n",
      " |  DegreeAll(...)\n",
      " |      DegreeAll(self: simpl.HyperGraph, rank: int, k: int, weighted: bool = False) -> List[float]\n",
      " |\n",
      " |      Get the degrees of all nodes with the specified rank and k-adjacency\n",
      " |\n",
      " |  Dimension(...)\n",
      " |      Dimension(self: simpl.HyperGraph) -> int\n",
      " |\n",
      " |      Get the dimension of the hypergraph\n",
      " |\n",
      " |  EigenValues(...)\n",
      " |      EigenValues(self: simpl.HyperGraph, k: int, p: int, q: int, weighted: bool, cnt: int) -> List[float]\n",
      " |\n",
      " |      Get the cnt eigenvalues of the Laplacian matrix. Should be: p < k < q\n",
      " |\n",
      " |  EigenValuesAll(...)\n",
      " |      EigenValuesAll(self: simpl.HyperGraph, k: int, p: int, q: int, weighted: bool) -> List[float]\n",
      " |\n",
      " |      Get all the eigenvalues of the Laplacian matrix. Should be: p < k < q\n",
      " |\n",
      " |  EulerCharacteristic(...)\n",
      " |      EulerCharacteristic(self: simpl.HyperGraph) -> int\n",
      " |\n",
      " |      Get the Euler characteristic of the hypergraph\n",
      " |\n",
      " |  FVector(...)\n",
      " |      FVector(self: simpl.HyperGraph) -> List[Tuple[int, int]]\n",
      " |\n",
      " |      Get the F-vector of the hypergraph\n",
      " |\n",
      " |  FeaturesMatrix(...)\n",
      " |      FeaturesMatrix(self: simpl.HyperGraph, dim: int) -> List[List[float]]\n",
      " |\n",
      " |      Get the feature matrix of the hypergraph for the specified dimension\n",
      " |\n",
      " |  GetAll(...)\n",
      " |      GetAll(self: simpl.HyperGraph) -> List[List[int]]\n",
      " |\n",
      " |      Get all elements in the hypergraph\n",
      " |\n",
      " |  GetEdges(...)\n",
      " |      GetEdges(self: simpl.HyperGraph) -> List[List[int]]\n",
      " |\n",
      " |      Get all edges in the hypergraph\n",
      " |\n",
      " |  GetElementsWithRank(...)\n",
      " |      GetElementsWithRank(self: simpl.HyperGraph, rank: int) -> List[List[int]]\n",
      " |\n",
      " |      Get all elements of the hypergraph with the specified rank\n",
      " |\n",
      " |  Incidence(...)\n",
      " |      Incidence(self: simpl.HyperGraph, node: List[int], k: int) -> List[List[int]]\n",
      " |\n",
      " |      Get all nodes with k-incidence to the given node\n",
      " |\n",
      " |  IncidenceDegree(...)\n",
      " |      IncidenceDegree(self: simpl.HyperGraph, node: List[int], k: int) -> int\n",
      " |\n",
      " |      Get the number of nodes with k-incidence to the given node\n",
      " |\n",
      " |  LaplacianMatrix(...)\n",
      " |      LaplacianMatrix(self: simpl.HyperGraph, k: int, p: int, q: int, weighted: bool = False) -> scipy.sparse.csr_matrix[numpy.float64]\n",
      " |\n",
      " |      Get the Laplacian matrix of the hypergraph. Should be: p < k < q\n",
      " |\n",
      " |  RemoveEdge(...)\n",
      " |      RemoveEdge(self: simpl.HyperGraph, edge: List[int]) -> None\n",
      " |\n",
      " |      Remove an hyperedge from the hypergraph\n",
      " |\n",
      " |  RemoveFunction(...)\n",
      " |      RemoveFunction(self: simpl.HyperGraph, name: str) -> None\n",
      " |\n",
      " |      Remove a function from the hypergraph by given name\n",
      " |\n",
      " |  ThresholdAbove(...)\n",
      " |      ThresholdAbove(self: simpl.HyperGraph, name: str, threshold: float) -> None\n",
      " |\n",
      " |      Threshold the hypergraph by retaining elements above the given threshold for the specified function name. The function should be monotonically non-decreasing\n",
      " |\n",
      " |  ThresholdBelow(...)\n",
      " |      ThresholdBelow(self: simpl.HyperGraph, name: str, threshold: float) -> None\n",
      " |\n",
      " |      Threshold the hypergraph by retaining elements below the given threshold for the specified function name. The function should be monotonically non-increasing\n",
      " |\n",
      " |  TotalCount(...)\n",
      " |      TotalCount(self: simpl.HyperGraph) -> int\n",
      " |\n",
      " |      Get the total count of elements in the hypergraph\n",
      " |\n",
      " |  UpdateWeight(...)\n",
      " |      UpdateWeight(self: simpl.HyperGraph, node: List[int], weight: float) -> None\n",
      " |\n",
      " |      Update the weight of a hyperedge in the hypergraph\n",
      " |\n",
      " |  Weights(...)\n",
      " |      Weights(self: simpl.HyperGraph, rank: int) -> numpy.ndarray[numpy.float64[m, n]]\n",
      " |\n",
      " |      Get the weights of all nodes in the hypergraph with the specified rank\n",
      " |\n",
      " |  __init__(...)\n",
      " |      __init__(self: simpl.HyperGraph) -> None\n",
      " |\n",
      " |      Creating a new hypergraph\n",
      " |\n",
      " |  ----------------------------------------------------------------------\n",
      " |  Static methods inherited from pybind11_builtins.pybind11_object:\n",
      " |\n",
      " |  __new__(*args, **kwargs) class method of pybind11_builtins.pybind11_object\n",
      " |      Create and return a new object.  See help(type) for accurate signature.\n",
      "\n"
     ]
    }
   ],
   "source": [
    "H = simpl.HyperGraph()\n",
    "help(H)"
   ]
  }
 ],
 "metadata": {
  "kernelspec": {
   "display_name": "Python 3",
   "language": "python",
   "name": "python3"
  },
  "language_info": {
   "codemirror_mode": {
    "name": "ipython",
    "version": 3
   },
   "file_extension": ".py",
   "mimetype": "text/x-python",
   "name": "python",
   "nbconvert_exporter": "python",
   "pygments_lexer": "ipython3",
   "version": "3.12.3"
  }
 },
 "nbformat": 4,
 "nbformat_minor": 2
}
