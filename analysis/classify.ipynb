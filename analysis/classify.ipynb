{
 "cells": [
  {
   "cell_type": "markdown",
   "metadata": {},
   "source": [
    "## Dataset load"
   ]
  },
  {
   "cell_type": "code",
   "execution_count": 1,
   "metadata": {},
   "outputs": [],
   "source": [
    "from simpl_loader import load_simpl_module\n",
    "\n",
    "simpl = load_simpl_module()"
   ]
  },
  {
   "cell_type": "code",
   "execution_count": 2,
   "metadata": {},
   "outputs": [],
   "source": [
    "from network_builder import GraphBuilder, SimplicialComplexBuilder, HyperGraphBuilder"
   ]
  },
  {
   "cell_type": "code",
   "execution_count": 3,
   "metadata": {},
   "outputs": [],
   "source": [
    "import matplotlib.pyplot as plt"
   ]
  },
  {
   "cell_type": "code",
   "execution_count": 4,
   "metadata": {},
   "outputs": [],
   "source": [
    "from dataset_loader import DatasetLoader\n",
    "\n",
    "sets, true_labels = DatasetLoader.load_dataset(\"contact-high-school\")\n",
    "# sets, true_labels = DatasetLoader.load_dataset(\"contact-primary-school\")\n",
    "# sets, true_labels = DatasetLoader.load_dataset(\"house-bills\")\n",
    "# sets, true_labels = DatasetLoader.load_dataset(\"senate-bills\")"
   ]
  },
  {
   "cell_type": "code",
   "execution_count": 5,
   "metadata": {},
   "outputs": [
    {
     "name": "stdout",
     "output_type": "stream",
     "text": [
      "Number of sets: 7818\n",
      "Number of vertices: 327\n"
     ]
    }
   ],
   "source": [
    "print(f\"Number of sets: {len(sets)}\")\n",
    "print(f\"Number of vertices: {len(true_labels)}\")"
   ]
  },
  {
   "cell_type": "code",
   "execution_count": 6,
   "metadata": {},
   "outputs": [],
   "source": [
    "# Simplify model of contact dataset on 3 classes -- 123, 459, 678\n",
    "def compress_labels():\n",
    "    for i in range(len(true_labels)):\n",
    "        if true_labels[i] in [1, 2, 3]:\n",
    "            true_labels[i] = 0\n",
    "        elif true_labels[i] in [4, 5, 9]:\n",
    "            true_labels[i] = 1\n",
    "        elif true_labels[i] in [6, 7, 8]:\n",
    "            true_labels[i] = 2\n",
    "        else:\n",
    "            assert False\n",
    "\n",
    "    with open(\"./data/node-compact-labels-contact-high-school.txt\", \"w\") as f:\n",
    "        for i in range(len(true_labels)):\n",
    "            f.write(f\"{true_labels[i]+1}\\n\")\n",
    "\n",
    "\n",
    "# compress_labels()"
   ]
  },
  {
   "cell_type": "code",
   "execution_count": 7,
   "metadata": {},
   "outputs": [],
   "source": [
    "# labeled_hyper_edges = list(map(lambda row: list(map(lambda x: true_labels[x], row)), sets))"
   ]
  },
  {
   "cell_type": "markdown",
   "metadata": {},
   "source": [
    "## Dataset info"
   ]
  },
  {
   "cell_type": "code",
   "execution_count": 8,
   "metadata": {},
   "outputs": [
    {
     "name": "stdout",
     "output_type": "stream",
     "text": [
      "Number of edges: 7818\n",
      "Number of vertices: 327\n",
      "Number of classes: 9\n"
     ]
    }
   ],
   "source": [
    "E = len(sets)\n",
    "V = len(true_labels)\n",
    "K = len(set(true_labels))\n",
    "print(f\"Number of edges: {E}\")\n",
    "print(f\"Number of vertices: {V}\")\n",
    "print(f\"Number of classes: {K}\")\n",
    "num_eig = min(V, 2 * K + 10)"
   ]
  },
  {
   "cell_type": "code",
   "execution_count": 9,
   "metadata": {},
   "outputs": [],
   "source": [
    "RUN = 20  # number of attempts"
   ]
  },
  {
   "cell_type": "markdown",
   "metadata": {},
   "source": [
    "## ML prep"
   ]
  },
  {
   "cell_type": "code",
   "execution_count": 10,
   "metadata": {},
   "outputs": [],
   "source": [
    "import numpy as np\n",
    "\n",
    "from sklearn.preprocessing import StandardScaler\n",
    "from sklearn.linear_model import LogisticRegression\n",
    "from sklearn.model_selection import train_test_split\n",
    "from sklearn.metrics import accuracy_score"
   ]
  },
  {
   "cell_type": "code",
   "execution_count": 11,
   "metadata": {},
   "outputs": [],
   "source": [
    "np.random.seed(123)"
   ]
  },
  {
   "cell_type": "code",
   "execution_count": 12,
   "metadata": {},
   "outputs": [],
   "source": [
    "def solve(X, y, random_state=42) -> float:\n",
    "    X_train, X_test, y_train, y_test = train_test_split(\n",
    "        X, y, test_size=0.3, random_state=random_state\n",
    "    )\n",
    "    scaler = StandardScaler()\n",
    "    X_train_scaled = scaler.fit_transform(X_train)\n",
    "    X_test_scaled = scaler.transform(X_test)\n",
    "\n",
    "    clf = LogisticRegression(\n",
    "        max_iter=1000, multi_class=\"multinomial\", solver=\"lbfgs\", random_state=42\n",
    "    )\n",
    "    clf.fit(X_train_scaled, y_train)\n",
    "\n",
    "    y_pred = clf.predict(X_test_scaled).reshape(-1, 1)\n",
    "\n",
    "    accuracy = accuracy_score(y_test, y_pred)\n",
    "    return accuracy\n",
    "\n",
    "\n",
    "def mean_solve(X, y, n_iter=RUN, debug=True) -> float:\n",
    "    results = []\n",
    "    for it in range(n_iter):\n",
    "        results.append(solve(X, y, 42 + it))\n",
    "    mean_acc = np.mean(results)\n",
    "    if debug:\n",
    "        print(f\"Mean accuracy: {mean_acc:.5f}\")\n",
    "    return mean_acc"
   ]
  },
  {
   "cell_type": "code",
   "execution_count": 13,
   "metadata": {},
   "outputs": [],
   "source": [
    "y = np.array(true_labels)"
   ]
  },
  {
   "cell_type": "code",
   "execution_count": 14,
   "metadata": {},
   "outputs": [],
   "source": [
    "def iterate_eigenvalues(eigenvectors):\n",
    "    result = []\n",
    "    for i in range(1, num_eig + 1):\n",
    "        X = eigenvectors[:, :i]\n",
    "        result.append(mean_solve(X, y))\n",
    "    return result"
   ]
  },
  {
   "cell_type": "code",
   "execution_count": 15,
   "metadata": {},
   "outputs": [
    {
     "name": "stdout",
     "output_type": "stream",
     "text": [
      "Random score: 0.11116207951070337\n"
     ]
    }
   ],
   "source": [
    "random_scores = []\n",
    "# Random scorer\n",
    "for i in range(RUN):\n",
    "    y_pred = np.random.choice(1, size=len(y))\n",
    "    random_scores.append(accuracy_score(np.random.choice(K, size=len(y)), y))\n",
    "print(f\"Random score: {np.mean(random_scores)}\")"
   ]
  },
  {
   "cell_type": "markdown",
   "metadata": {},
   "source": [
    "## Graph"
   ]
  },
  {
   "cell_type": "code",
   "execution_count": 16,
   "metadata": {},
   "outputs": [],
   "source": [
    "graph_builder = GraphBuilder()\n",
    "graph = graph_builder.create_network(sets, True)"
   ]
  },
  {
   "cell_type": "code",
   "execution_count": 17,
   "metadata": {},
   "outputs": [],
   "source": [
    "# clos0 = graph.ClosenessAll(0, 1, False)\n",
    "# clos1 = graph.ClosenessAll(1, 2, False)"
   ]
  },
  {
   "cell_type": "code",
   "execution_count": 18,
   "metadata": {},
   "outputs": [],
   "source": [
    "# for s, w in clos0:\n",
    "#     graph.UpdateWeight(s, w)\n",
    "# for s, w in clos1:\n",
    "#     graph.UpdateWeight(s, w)"
   ]
  },
  {
   "cell_type": "code",
   "execution_count": 19,
   "metadata": {},
   "outputs": [],
   "source": [
    "# for simplex in graph.GetAll():\n",
    "#     if len(simplex) == 0:\n",
    "#         continue\n",
    "#     # w = 1 / max(len(simplex), 1)\n",
    "#     w = graph.Closeness(simplex, len(simplex))\n",
    "#     graph.UpdateWeight(simplex, w)"
   ]
  },
  {
   "cell_type": "code",
   "execution_count": 20,
   "metadata": {},
   "outputs": [
    {
     "data": {
      "text/plain": [
       "[(0, 327), (1, 5818)]"
      ]
     },
     "execution_count": 20,
     "metadata": {},
     "output_type": "execute_result"
    }
   ],
   "source": [
    "graph.FVector()"
   ]
  },
  {
   "cell_type": "code",
   "execution_count": 21,
   "metadata": {},
   "outputs": [],
   "source": [
    "results_graph_unweighted_norm = []\n",
    "results_graph_weighted_norm = []\n",
    "results_graph_unweighted = []\n",
    "results_graph_weighted = []"
   ]
  },
  {
   "cell_type": "code",
   "execution_count": 22,
   "metadata": {},
   "outputs": [
    {
     "name": "stdout",
     "output_type": "stream",
     "text": [
      "Mean accuracy: 0.10758\n",
      "Mean accuracy: 0.27273\n",
      "Mean accuracy: 0.44899\n",
      "Mean accuracy: 0.57222\n",
      "Mean accuracy: 0.68485\n",
      "Mean accuracy: 0.77475\n",
      "Mean accuracy: 0.85000\n",
      "Mean accuracy: 0.87980\n",
      "Mean accuracy: 0.89646\n",
      "Mean accuracy: 0.91465\n",
      "Mean accuracy: 0.94646\n",
      "Mean accuracy: 0.94596\n",
      "Mean accuracy: 0.95253\n",
      "Mean accuracy: 0.95000\n",
      "Mean accuracy: 0.96263\n",
      "Mean accuracy: 0.96364\n",
      "Mean accuracy: 0.97626\n",
      "Mean accuracy: 0.97727\n",
      "Mean accuracy: 0.97929\n",
      "Mean accuracy: 0.97677\n",
      "Mean accuracy: 0.97677\n",
      "Mean accuracy: 0.97525\n",
      "Mean accuracy: 0.97424\n",
      "Mean accuracy: 0.96970\n",
      "Mean accuracy: 0.97020\n",
      "Mean accuracy: 0.96970\n",
      "Mean accuracy: 0.96616\n",
      "Mean accuracy: 0.96566\n"
     ]
    }
   ],
   "source": [
    "results_graph_unweighted = iterate_eigenvalues(\n",
    "    np.array(graph.EigenValues(0, -1, 1, False, False, num_eig, \"sm\")[1])\n",
    ")"
   ]
  },
  {
   "cell_type": "code",
   "execution_count": 23,
   "metadata": {},
   "outputs": [
    {
     "name": "stdout",
     "output_type": "stream",
     "text": [
      "Mean accuracy: 0.14949\n",
      "Mean accuracy: 0.42980\n",
      "Mean accuracy: 0.62576\n",
      "Mean accuracy: 0.78485\n",
      "Mean accuracy: 0.90051\n",
      "Mean accuracy: 0.90707\n",
      "Mean accuracy: 0.96010\n",
      "Mean accuracy: 0.97778\n",
      "Mean accuracy: 0.98838\n",
      "Mean accuracy: 0.98939\n",
      "Mean accuracy: 0.99091\n",
      "Mean accuracy: 0.98939\n",
      "Mean accuracy: 0.98889\n",
      "Mean accuracy: 0.98788\n",
      "Mean accuracy: 0.98636\n",
      "Mean accuracy: 0.98737\n",
      "Mean accuracy: 0.98788\n",
      "Mean accuracy: 0.98737\n",
      "Mean accuracy: 0.98788\n",
      "Mean accuracy: 0.98737\n",
      "Mean accuracy: 0.98788\n",
      "Mean accuracy: 0.98939\n",
      "Mean accuracy: 0.98939\n",
      "Mean accuracy: 0.98788\n",
      "Mean accuracy: 0.98838\n",
      "Mean accuracy: 0.98788\n",
      "Mean accuracy: 0.98838\n",
      "Mean accuracy: 0.99040\n"
     ]
    }
   ],
   "source": [
    "results_graph_weighted = iterate_eigenvalues(\n",
    "    np.array(graph.EigenValues(0, -1, 1, True, False, num_eig, \"sm\")[1])\n",
    ")"
   ]
  },
  {
   "cell_type": "code",
   "execution_count": 24,
   "metadata": {},
   "outputs": [
    {
     "name": "stdout",
     "output_type": "stream",
     "text": [
      "Mean accuracy: 0.13434\n",
      "Mean accuracy: 0.42222\n",
      "Mean accuracy: 0.66162\n",
      "Mean accuracy: 0.75404\n",
      "Mean accuracy: 0.90707\n",
      "Mean accuracy: 0.96667\n",
      "Mean accuracy: 0.98030\n",
      "Mean accuracy: 0.98232\n",
      "Mean accuracy: 1.00000\n",
      "Mean accuracy: 0.99899\n",
      "Mean accuracy: 0.99949\n",
      "Mean accuracy: 0.99949\n",
      "Mean accuracy: 0.99949\n",
      "Mean accuracy: 0.99899\n",
      "Mean accuracy: 0.99798\n",
      "Mean accuracy: 0.99899\n",
      "Mean accuracy: 0.99949\n",
      "Mean accuracy: 0.99949\n",
      "Mean accuracy: 0.99848\n",
      "Mean accuracy: 0.99798\n",
      "Mean accuracy: 0.99747\n",
      "Mean accuracy: 0.99646\n",
      "Mean accuracy: 0.99495\n",
      "Mean accuracy: 0.99444\n",
      "Mean accuracy: 0.99545\n",
      "Mean accuracy: 0.99495\n",
      "Mean accuracy: 0.99495\n",
      "Mean accuracy: 0.99394\n"
     ]
    }
   ],
   "source": [
    "results_graph_unweighted_norm = iterate_eigenvalues(\n",
    "    np.array(graph.EigenValues(0, -1, 1, False, True, num_eig, \"sm\")[1])\n",
    ")"
   ]
  },
  {
   "cell_type": "code",
   "execution_count": 25,
   "metadata": {},
   "outputs": [
    {
     "name": "stdout",
     "output_type": "stream",
     "text": [
      "Mean accuracy: 0.13636\n",
      "Mean accuracy: 0.42576\n",
      "Mean accuracy: 0.61414\n",
      "Mean accuracy: 0.77020\n",
      "Mean accuracy: 0.84040\n",
      "Mean accuracy: 0.90202\n",
      "Mean accuracy: 0.94697\n",
      "Mean accuracy: 0.95354\n",
      "Mean accuracy: 0.95606\n",
      "Mean accuracy: 0.95556\n",
      "Mean accuracy: 0.95758\n",
      "Mean accuracy: 0.97273\n",
      "Mean accuracy: 0.97020\n",
      "Mean accuracy: 0.96970\n",
      "Mean accuracy: 0.97626\n",
      "Mean accuracy: 0.97576\n",
      "Mean accuracy: 0.97222\n",
      "Mean accuracy: 0.97222\n",
      "Mean accuracy: 0.97424\n",
      "Mean accuracy: 0.97576\n",
      "Mean accuracy: 0.97576\n",
      "Mean accuracy: 0.97424\n",
      "Mean accuracy: 0.97424\n",
      "Mean accuracy: 0.97525\n",
      "Mean accuracy: 0.97576\n",
      "Mean accuracy: 0.97475\n",
      "Mean accuracy: 0.97424\n",
      "Mean accuracy: 0.97222\n"
     ]
    }
   ],
   "source": [
    "results_graph_weighted_norm = iterate_eigenvalues(\n",
    "    np.array(graph.EigenValues(0, -1, 1, True, True, num_eig, \"sm\")[1])\n",
    ")"
   ]
  },
  {
   "cell_type": "code",
   "execution_count": 26,
   "metadata": {},
   "outputs": [],
   "source": [
    "# clos = np.array([val[1] for val in graph.ClosenessAll(0, 1, True)]).reshape(-1, 1)\n",
    "# betw = np.array([val[1] for val in graph.BetweennessAll(0, 1, True)]).reshape(-1, 1)"
   ]
  },
  {
   "cell_type": "code",
   "execution_count": 27,
   "metadata": {},
   "outputs": [],
   "source": [
    "# mean_solve(clos, y)\n",
    "# mean_solve(betw, y)"
   ]
  },
  {
   "cell_type": "markdown",
   "metadata": {},
   "source": [
    "### Feature evaluator"
   ]
  },
  {
   "cell_type": "markdown",
   "metadata": {},
   "source": [
    "### Hypergraph "
   ]
  },
  {
   "cell_type": "code",
   "execution_count": 28,
   "metadata": {},
   "outputs": [],
   "source": [
    "hyper_graph_builder = HyperGraphBuilder()\n",
    "hyper_graph = hyper_graph_builder.create_network(sets, True)"
   ]
  },
  {
   "cell_type": "code",
   "execution_count": 29,
   "metadata": {},
   "outputs": [
    {
     "data": {
      "text/plain": [
       "[(0, 327), (1, 7818)]"
      ]
     },
     "execution_count": 29,
     "metadata": {},
     "output_type": "execute_result"
    }
   ],
   "source": [
    "hyper_graph.FVector()"
   ]
  },
  {
   "cell_type": "code",
   "execution_count": 30,
   "metadata": {},
   "outputs": [],
   "source": [
    "results_hyper_graph_unweighted = []\n",
    "results_hyper_graph_weighted = []\n",
    "results_hyper_graph_unweighted_norm = []\n",
    "results_hyper_graph_weighted_norm = []"
   ]
  },
  {
   "cell_type": "code",
   "execution_count": 31,
   "metadata": {},
   "outputs": [
    {
     "name": "stdout",
     "output_type": "stream",
     "text": [
      "Mean accuracy: 0.21465\n",
      "Mean accuracy: 0.35303\n",
      "Mean accuracy: 0.46313\n",
      "Mean accuracy: 0.54798\n",
      "Mean accuracy: 0.61061\n",
      "Mean accuracy: 0.67222\n",
      "Mean accuracy: 0.67727\n",
      "Mean accuracy: 0.78535\n",
      "Mean accuracy: 0.81364\n",
      "Mean accuracy: 0.83333\n",
      "Mean accuracy: 0.83384\n",
      "Mean accuracy: 0.83939\n",
      "Mean accuracy: 0.86667\n",
      "Mean accuracy: 0.91263\n",
      "Mean accuracy: 0.91970\n",
      "Mean accuracy: 0.93384\n",
      "Mean accuracy: 0.93889\n",
      "Mean accuracy: 0.93889\n",
      "Mean accuracy: 0.94394\n",
      "Mean accuracy: 0.97273\n",
      "Mean accuracy: 0.96768\n",
      "Mean accuracy: 0.97020\n",
      "Mean accuracy: 0.97475\n",
      "Mean accuracy: 0.97273\n",
      "Mean accuracy: 0.97020\n",
      "Mean accuracy: 0.97374\n",
      "Mean accuracy: 0.97727\n",
      "Mean accuracy: 0.97929\n"
     ]
    }
   ],
   "source": [
    "results_hyper_graph_unweighted = iterate_eigenvalues(\n",
    "    np.array(hyper_graph.EigenValues(0, -1, 1, False, False, num_eig, \"sm\")[1])\n",
    ")"
   ]
  },
  {
   "cell_type": "code",
   "execution_count": 32,
   "metadata": {},
   "outputs": [
    {
     "name": "stdout",
     "output_type": "stream",
     "text": [
      "Mean accuracy: 0.12525\n",
      "Mean accuracy: 0.41061\n",
      "Mean accuracy: 0.58535\n",
      "Mean accuracy: 0.72828\n",
      "Mean accuracy: 0.84848\n",
      "Mean accuracy: 0.91616\n",
      "Mean accuracy: 0.97323\n",
      "Mean accuracy: 0.98434\n",
      "Mean accuracy: 0.99091\n",
      "Mean accuracy: 0.99141\n",
      "Mean accuracy: 0.99091\n",
      "Mean accuracy: 0.99141\n",
      "Mean accuracy: 0.99141\n",
      "Mean accuracy: 0.99040\n",
      "Mean accuracy: 0.99040\n",
      "Mean accuracy: 0.99091\n",
      "Mean accuracy: 0.99444\n",
      "Mean accuracy: 0.99444\n",
      "Mean accuracy: 0.99444\n",
      "Mean accuracy: 0.99495\n",
      "Mean accuracy: 0.99646\n",
      "Mean accuracy: 0.99596\n",
      "Mean accuracy: 0.99495\n",
      "Mean accuracy: 0.99545\n",
      "Mean accuracy: 0.99495\n",
      "Mean accuracy: 0.99596\n",
      "Mean accuracy: 0.99343\n",
      "Mean accuracy: 0.99394\n"
     ]
    }
   ],
   "source": [
    "results_hyper_graph_weighted = iterate_eigenvalues(\n",
    "    np.array(hyper_graph.EigenValues(0, -1, 1, True, False, num_eig, \"sm\")[1])\n",
    ")"
   ]
  },
  {
   "cell_type": "code",
   "execution_count": 33,
   "metadata": {},
   "outputs": [
    {
     "name": "stdout",
     "output_type": "stream",
     "text": [
      "Mean accuracy: 0.11465\n",
      "Mean accuracy: 0.41566\n",
      "Mean accuracy: 0.61313\n",
      "Mean accuracy: 0.81616\n",
      "Mean accuracy: 0.84798\n",
      "Mean accuracy: 0.92525\n",
      "Mean accuracy: 0.97273\n",
      "Mean accuracy: 0.98889\n",
      "Mean accuracy: 0.99091\n",
      "Mean accuracy: 0.99242\n",
      "Mean accuracy: 0.99141\n",
      "Mean accuracy: 0.99192\n",
      "Mean accuracy: 0.99192\n",
      "Mean accuracy: 0.99192\n",
      "Mean accuracy: 0.99495\n",
      "Mean accuracy: 0.99495\n",
      "Mean accuracy: 0.99545\n",
      "Mean accuracy: 0.99545\n",
      "Mean accuracy: 0.99596\n",
      "Mean accuracy: 0.99646\n",
      "Mean accuracy: 0.99596\n",
      "Mean accuracy: 0.99545\n",
      "Mean accuracy: 0.99545\n",
      "Mean accuracy: 0.99545\n",
      "Mean accuracy: 0.99495\n",
      "Mean accuracy: 0.99545\n",
      "Mean accuracy: 0.99444\n",
      "Mean accuracy: 0.99444\n"
     ]
    }
   ],
   "source": [
    "results_hyper_graph_unweighted_norm = iterate_eigenvalues(\n",
    "    np.array(hyper_graph.EigenValues(0, -1, 1, False, True, num_eig, \"sm\")[1])\n",
    ")"
   ]
  },
  {
   "cell_type": "code",
   "execution_count": 34,
   "metadata": {},
   "outputs": [
    {
     "name": "stdout",
     "output_type": "stream",
     "text": [
      "Mean accuracy: 0.13232\n",
      "Mean accuracy: 0.45758\n",
      "Mean accuracy: 0.60556\n",
      "Mean accuracy: 0.79192\n",
      "Mean accuracy: 0.86768\n",
      "Mean accuracy: 0.91717\n",
      "Mean accuracy: 0.95354\n",
      "Mean accuracy: 0.96515\n",
      "Mean accuracy: 0.96414\n",
      "Mean accuracy: 0.96667\n",
      "Mean accuracy: 0.96616\n",
      "Mean accuracy: 0.96616\n",
      "Mean accuracy: 0.96212\n",
      "Mean accuracy: 0.96616\n",
      "Mean accuracy: 0.95960\n",
      "Mean accuracy: 0.96364\n",
      "Mean accuracy: 0.96566\n",
      "Mean accuracy: 0.96919\n",
      "Mean accuracy: 0.96919\n",
      "Mean accuracy: 0.97071\n",
      "Mean accuracy: 0.97323\n",
      "Mean accuracy: 0.97424\n",
      "Mean accuracy: 0.97475\n",
      "Mean accuracy: 0.96869\n",
      "Mean accuracy: 0.97020\n",
      "Mean accuracy: 0.96970\n",
      "Mean accuracy: 0.96869\n",
      "Mean accuracy: 0.97071\n"
     ]
    }
   ],
   "source": [
    "results_hyper_graph_weighted_norm = iterate_eigenvalues(\n",
    "    np.array(hyper_graph.EigenValues(0, -1, 1, True, True, num_eig, \"sm\")[1])\n",
    ")"
   ]
  },
  {
   "cell_type": "markdown",
   "metadata": {},
   "source": [
    "## Hodge"
   ]
  },
  {
   "cell_type": "code",
   "execution_count": 35,
   "metadata": {},
   "outputs": [],
   "source": [
    "eigenvectors = np.array(graph.EigenValues(0, -1, 1, False, True, num_eig, \"sm\")[1])"
   ]
  },
  {
   "cell_type": "code",
   "execution_count": 36,
   "metadata": {},
   "outputs": [
    {
     "data": {
      "text/plain": [
       "(327, 28)"
      ]
     },
     "execution_count": 36,
     "metadata": {},
     "output_type": "execute_result"
    }
   ],
   "source": [
    "eigenvectors.shape"
   ]
  },
  {
   "cell_type": "code",
   "execution_count": 37,
   "metadata": {},
   "outputs": [],
   "source": [
    "# eig_decomposition = np.zeros((eigenvectors.shape[0], 0))\n",
    "# for i in range(eigenvectors.shape[1]):\n",
    "#     c1, c2, c3 = graph.HodgeDecomposition(0, -1, 1, list(eigenvectors[:, i]))\n",
    "\n",
    "#     c1 = np.array(c1).reshape(-1, 1)\n",
    "#     c2 = np.array(c2).reshape(-1, 1)\n",
    "#     c3 = np.array(c3).reshape(-1, 1)\n",
    "\n",
    "#     to_add = []\n",
    "#     for c in [c1, c2, c3]:\n",
    "#         if np.isfinite(c).all() and not np.all(c == c[0]):\n",
    "#             to_add.append(c)\n",
    "#         else:\n",
    "#             print(\"skip\")\n",
    "\n",
    "#     if len(to_add) > 0:\n",
    "#         eig_decomposition = np.hstack((eig_decomposition, *to_add))\n",
    "#     X = np.asarray(eig_decomposition)\n",
    "#     mean_solve(X, y)"
   ]
  },
  {
   "cell_type": "code",
   "execution_count": 38,
   "metadata": {},
   "outputs": [],
   "source": [
    "# eig_decomposition = np.asarray(eig_decomposition)"
   ]
  },
  {
   "cell_type": "code",
   "execution_count": 39,
   "metadata": {},
   "outputs": [],
   "source": [
    "# result = []\n",
    "# for i in range(3, 6 * K, +3):\n",
    "#     X = eig_decomposition[:, :i]\n",
    "#     result.append(mean_solve(X, y))"
   ]
  },
  {
   "cell_type": "markdown",
   "metadata": {},
   "source": [
    "## Simplicial complex"
   ]
  },
  {
   "cell_type": "code",
   "execution_count": 40,
   "metadata": {},
   "outputs": [],
   "source": [
    "simplicial_complex_builder = SimplicialComplexBuilder()\n",
    "simpl_complex = simplicial_complex_builder.create_network(sets, True)"
   ]
  },
  {
   "cell_type": "code",
   "execution_count": 41,
   "metadata": {},
   "outputs": [
    {
     "data": {
      "text/plain": [
       "[(0, 327), (1, 5818), (2, 2370), (3, 238), (4, 7)]"
      ]
     },
     "execution_count": 41,
     "metadata": {},
     "output_type": "execute_result"
    }
   ],
   "source": [
    "simpl_complex.FVector()"
   ]
  },
  {
   "cell_type": "code",
   "execution_count": 42,
   "metadata": {},
   "outputs": [],
   "source": [
    "results_simpl_complex_unweighted = []\n",
    "results_simpl_complex_weighted = []\n",
    "results_simpl_complex_unweighted_norm = []\n",
    "results_simpl_complex_weighted_norm = []"
   ]
  },
  {
   "cell_type": "code",
   "execution_count": 43,
   "metadata": {},
   "outputs": [
    {
     "name": "stdout",
     "output_type": "stream",
     "text": [
      "Mean accuracy: 0.10758\n",
      "Mean accuracy: 0.27273\n",
      "Mean accuracy: 0.44899\n",
      "Mean accuracy: 0.57222\n",
      "Mean accuracy: 0.68485\n",
      "Mean accuracy: 0.77475\n",
      "Mean accuracy: 0.85000\n",
      "Mean accuracy: 0.87980\n",
      "Mean accuracy: 0.89646\n",
      "Mean accuracy: 0.91465\n",
      "Mean accuracy: 0.94646\n",
      "Mean accuracy: 0.94596\n",
      "Mean accuracy: 0.95253\n",
      "Mean accuracy: 0.95000\n",
      "Mean accuracy: 0.96263\n",
      "Mean accuracy: 0.96364\n",
      "Mean accuracy: 0.97626\n",
      "Mean accuracy: 0.97727\n",
      "Mean accuracy: 0.97929\n",
      "Mean accuracy: 0.97677\n",
      "Mean accuracy: 0.97677\n",
      "Mean accuracy: 0.97525\n",
      "Mean accuracy: 0.97424\n",
      "Mean accuracy: 0.96970\n",
      "Mean accuracy: 0.97020\n",
      "Mean accuracy: 0.96970\n",
      "Mean accuracy: 0.96616\n",
      "Mean accuracy: 0.96566\n"
     ]
    }
   ],
   "source": [
    "results_simpl_complex_unweighted = iterate_eigenvalues(\n",
    "    np.array(simpl_complex.EigenValues(0, -1, 1, False, False, num_eig, \"sm\")[1])\n",
    ")"
   ]
  },
  {
   "cell_type": "code",
   "execution_count": 44,
   "metadata": {},
   "outputs": [
    {
     "name": "stdout",
     "output_type": "stream",
     "text": [
      "Mean accuracy: 0.12879\n",
      "Mean accuracy: 0.41515\n",
      "Mean accuracy: 0.63485\n",
      "Mean accuracy: 0.78434\n",
      "Mean accuracy: 0.82525\n",
      "Mean accuracy: 0.92828\n",
      "Mean accuracy: 0.96616\n",
      "Mean accuracy: 0.98030\n",
      "Mean accuracy: 0.98990\n",
      "Mean accuracy: 0.98939\n",
      "Mean accuracy: 0.98889\n",
      "Mean accuracy: 0.98788\n",
      "Mean accuracy: 0.98636\n",
      "Mean accuracy: 0.98586\n",
      "Mean accuracy: 0.98737\n",
      "Mean accuracy: 0.98788\n",
      "Mean accuracy: 0.98485\n",
      "Mean accuracy: 0.98586\n",
      "Mean accuracy: 0.98990\n",
      "Mean accuracy: 0.98889\n",
      "Mean accuracy: 0.98838\n",
      "Mean accuracy: 0.98838\n",
      "Mean accuracy: 0.98788\n",
      "Mean accuracy: 0.98687\n",
      "Mean accuracy: 0.98636\n",
      "Mean accuracy: 0.98535\n",
      "Mean accuracy: 0.98535\n",
      "Mean accuracy: 0.97929\n"
     ]
    }
   ],
   "source": [
    "results_simpl_complex_weighted = iterate_eigenvalues(\n",
    "    np.array(simpl_complex.EigenValues(0, -1, 1, True, False, num_eig, \"sm\")[1])\n",
    ")"
   ]
  },
  {
   "cell_type": "code",
   "execution_count": 45,
   "metadata": {},
   "outputs": [
    {
     "name": "stdout",
     "output_type": "stream",
     "text": [
      "Mean accuracy: 0.13434\n",
      "Mean accuracy: 0.42222\n",
      "Mean accuracy: 0.66162\n",
      "Mean accuracy: 0.75404\n",
      "Mean accuracy: 0.90707\n",
      "Mean accuracy: 0.96667\n",
      "Mean accuracy: 0.98030\n",
      "Mean accuracy: 0.98232\n",
      "Mean accuracy: 1.00000\n",
      "Mean accuracy: 0.99899\n",
      "Mean accuracy: 0.99949\n",
      "Mean accuracy: 0.99949\n",
      "Mean accuracy: 0.99949\n",
      "Mean accuracy: 0.99899\n",
      "Mean accuracy: 0.99798\n",
      "Mean accuracy: 0.99899\n",
      "Mean accuracy: 0.99949\n",
      "Mean accuracy: 0.99949\n",
      "Mean accuracy: 0.99848\n",
      "Mean accuracy: 0.99798\n",
      "Mean accuracy: 0.99747\n",
      "Mean accuracy: 0.99646\n",
      "Mean accuracy: 0.99495\n",
      "Mean accuracy: 0.99444\n",
      "Mean accuracy: 0.99545\n",
      "Mean accuracy: 0.99495\n",
      "Mean accuracy: 0.99495\n",
      "Mean accuracy: 0.99394\n"
     ]
    }
   ],
   "source": [
    "results_simpl_complex_unweighted_norm = iterate_eigenvalues(\n",
    "    np.array(simpl_complex.EigenValues(0, -1, 1, False, True, num_eig, \"sm\")[1])\n",
    ")"
   ]
  },
  {
   "cell_type": "code",
   "execution_count": 46,
   "metadata": {},
   "outputs": [
    {
     "name": "stdout",
     "output_type": "stream",
     "text": [
      "Mean accuracy: 0.13283\n",
      "Mean accuracy: 0.41818\n",
      "Mean accuracy: 0.61869\n",
      "Mean accuracy: 0.77929\n",
      "Mean accuracy: 0.84646\n",
      "Mean accuracy: 0.90354\n",
      "Mean accuracy: 0.92323\n",
      "Mean accuracy: 0.95455\n",
      "Mean accuracy: 0.95859\n",
      "Mean accuracy: 0.95808\n",
      "Mean accuracy: 0.96111\n",
      "Mean accuracy: 0.97071\n",
      "Mean accuracy: 0.97828\n",
      "Mean accuracy: 0.97828\n",
      "Mean accuracy: 0.97980\n",
      "Mean accuracy: 0.97778\n",
      "Mean accuracy: 0.97778\n",
      "Mean accuracy: 0.97576\n",
      "Mean accuracy: 0.97828\n",
      "Mean accuracy: 0.97677\n",
      "Mean accuracy: 0.97677\n",
      "Mean accuracy: 0.97727\n",
      "Mean accuracy: 0.97727\n",
      "Mean accuracy: 0.97525\n",
      "Mean accuracy: 0.97576\n",
      "Mean accuracy: 0.97576\n",
      "Mean accuracy: 0.97677\n",
      "Mean accuracy: 0.97576\n"
     ]
    }
   ],
   "source": [
    "results_simpl_complex_weighted_norm = iterate_eigenvalues(\n",
    "    np.array(simpl_complex.EigenValues(0, -1, 1, True, True, num_eig, \"sm\")[1])\n",
    ")"
   ]
  },
  {
   "cell_type": "code",
   "execution_count": 47,
   "metadata": {},
   "outputs": [
    {
     "data": {
      "image/png": "[encoded data removed]",
      "text/plain": [
       "<Figure size 1600x1200 with 4 Axes>"
      ]
     },
     "metadata": {},
     "output_type": "display_data"
    }
   ],
   "source": [
    "import matplotlib.pyplot as plt\n",
    "\n",
    "fig, axs = plt.subplots(2, 2, figsize=(16, 12))\n",
    "\n",
    "fig.suptitle(\n",
    "    \"Зависимость accuracy разных сетей от количества наименьших собственных векторов Лапласиана\"\n",
    ")\n",
    "iterations = [i for i in range(1, num_eig + 1)]\n",
    "\n",
    "# Graph\n",
    "axs[0, 0].plot(iterations, results_graph_unweighted, label=\"Невзвешенный\", color=\"blue\")\n",
    "axs[0, 0].plot(iterations, results_graph_weighted, label=\"Взвешенный\", color=\"orange\")\n",
    "axs[0, 0].plot(\n",
    "    iterations,\n",
    "    results_graph_unweighted_norm,\n",
    "    label=\"Невзвешенный (нормализованный)\",\n",
    "    color=\"green\",\n",
    ")\n",
    "axs[0, 0].plot(\n",
    "    iterations,\n",
    "    results_graph_weighted_norm,\n",
    "    label=\"Взвешенный (нормализованный)\",\n",
    "    color=\"red\",\n",
    ")\n",
    "axs[0, 0].set_title(\"Граф\")\n",
    "axs[0, 0].set_xlabel(\"Количество собственных векторов\")\n",
    "axs[0, 0].set_ylabel(\"Accuracy\")\n",
    "axs[0, 0].legend()\n",
    "\n",
    "# Hypergraph\n",
    "axs[0, 1].plot(\n",
    "    iterations, results_hyper_graph_unweighted, label=\"Невзвешенный\", color=\"blue\"\n",
    ")\n",
    "axs[0, 1].plot(\n",
    "    iterations, results_hyper_graph_weighted, label=\"Взвешенный\", color=\"orange\"\n",
    ")\n",
    "axs[0, 1].plot(\n",
    "    iterations,\n",
    "    results_hyper_graph_unweighted_norm,\n",
    "    label=\"Невзвешенный (нормализованный)\",\n",
    "    color=\"green\",\n",
    ")\n",
    "axs[0, 1].plot(\n",
    "    iterations,\n",
    "    results_hyper_graph_weighted_norm,\n",
    "    label=\"Взвешенный (нормализованный)\",\n",
    "    color=\"red\",\n",
    ")\n",
    "axs[0, 1].set_title(\"Гиперграф\")\n",
    "axs[0, 1].set_xlabel(\"Количество собственных векторов\")\n",
    "axs[0, 1].set_ylabel(\"Accuracy\")\n",
    "axs[0, 1].legend()\n",
    "\n",
    "# Simplicial Complex\n",
    "axs[1, 0].plot(\n",
    "    iterations, results_simpl_complex_unweighted, label=\"Невзвешенный\", color=\"blue\"\n",
    ")\n",
    "axs[1, 0].plot(\n",
    "    iterations, results_simpl_complex_weighted, label=\"Взвешенный\", color=\"orange\"\n",
    ")\n",
    "axs[1, 0].plot(\n",
    "    iterations,\n",
    "    results_simpl_complex_unweighted_norm,\n",
    "    label=\"Невзвешенный (нормализованный)\",\n",
    "    color=\"green\",\n",
    ")\n",
    "axs[1, 0].plot(\n",
    "    iterations,\n",
    "    results_simpl_complex_weighted_norm,\n",
    "    label=\"Взвешенный (нормализованный)\",\n",
    "    color=\"red\",\n",
    ")\n",
    "axs[1, 0].set_title(\"Симплициальный комплекс\")\n",
    "axs[1, 0].set_xlabel(\"Количество собственных векторов\")\n",
    "axs[1, 0].set_ylabel(\"Accuracy\")\n",
    "axs[1, 0].legend()\n",
    "\n",
    "# Comparison\n",
    "axs[1, 1].plot(\n",
    "    iterations,\n",
    "    results_simpl_complex_unweighted_norm,\n",
    "    label=\"Симплициальный комплекс\",\n",
    "    color=\"blue\",\n",
    ")\n",
    "axs[1, 1].plot(\n",
    "    iterations, results_hyper_graph_unweighted_norm, label=\"Гиперграф\", color=\"orange\"\n",
    ")\n",
    "axs[1, 1].plot(iterations, results_graph_unweighted_norm, label=\"Граф\", color=\"green\")\n",
    "axs[1, 1].set_title(\"Сравнение разных сетей, каждая невзвешенная, нормализованная\")\n",
    "axs[1, 1].set_xlabel(\"Количество собственных векторов\")\n",
    "axs[1, 1].set_ylabel(\"Accuracy\")\n",
    "axs[1, 1].legend()\n",
    "\n",
    "plt.tight_layout()\n",
    "plt.show()"
   ]
  },
  {
   "cell_type": "markdown",
   "metadata": {},
   "source": [
    "### Trying better"
   ]
  },
  {
   "cell_type": "code",
   "execution_count": 48,
   "metadata": {},
   "outputs": [],
   "source": [
    "eigenvectors = np.array(\n",
    "    simpl_complex.EigenValues(0, -1, 1, False, True, num_eig, \"sm\")[1]\n",
    ")"
   ]
  },
  {
   "cell_type": "code",
   "execution_count": 49,
   "metadata": {},
   "outputs": [],
   "source": [
    "clos1 = np.array(\n",
    "    [value for _, value in simpl_complex.ClosenessAll(0, 1, True)]\n",
    ").reshape(-1, 1)\n",
    "clos2 = np.array(\n",
    "    [value for _, value in simpl_complex.ClosenessAll(0, 2, True)]\n",
    ").reshape(-1, 1)\n",
    "centr_eig1 = np.array(\n",
    "    [value for _, value in simpl_complex.EigenCentrality(0, 1, True)]\n",
    ").reshape(-1, 1)\n",
    "centr_sub1 = np.array(\n",
    "    [value for _, value in simpl_complex.SubgraphCentrality(0, 2, True)]\n",
    ").reshape(-1, 1)\n",
    "centr_eig2 = np.array(\n",
    "    [value for _, value in simpl_complex.EigenCentrality(0, 2, True)]\n",
    ").reshape(-1, 1)\n",
    "centr_sub2 = np.array(\n",
    "    [value for _, value in simpl_complex.SubgraphCentrality(0, 1, True)]\n",
    ").reshape(-1, 1)\n",
    "# betw1 = np.array(\n",
    "#     [value for _, value in simpl_complex.BetweennessAll(0, 1, False)]\n",
    "# ).reshape(-1, 1)\n",
    "# betw2 = np.array(\n",
    "#     [value for _, value in simpl_complex.BetweennessAll(0, 2, False)]\n",
    "# ).reshape(-1, 1)"
   ]
  },
  {
   "cell_type": "code",
   "execution_count": 50,
   "metadata": {},
   "outputs": [],
   "source": [
    "deg1 = np.array(simpl_complex.DegreeAll(0, 1, True)).reshape(-1, 1)\n",
    "deg2 = np.array(simpl_complex.DegreeAll(0, 2, True)).reshape(-1, 1)\n",
    "# deg3 = np.array(simpl_complex.DegreeAll(0, 3, True)).reshape(-1, 1)\n",
    "# deg4 = np.array(simpl_complex.DegreeAll(0, 4, True)).reshape(-1, 1)"
   ]
  },
  {
   "cell_type": "code",
   "execution_count": 51,
   "metadata": {},
   "outputs": [
    {
     "name": "stdout",
     "output_type": "stream",
     "text": [
      "Mean accuracy: 0.09646\n",
      "Mean accuracy: 0.10152\n",
      "Mean accuracy: 0.10152\n",
      "Mean accuracy: 0.10000\n",
      "Mean accuracy: 0.09646\n",
      "Mean accuracy: 0.10202\n",
      "Mean accuracy: 0.10758\n",
      "Mean accuracy: 0.11010\n",
      "Mean accuracy: 0.10758\n",
      "Mean accuracy: 0.10505\n",
      "Mean accuracy: 0.24697\n",
      "Mean accuracy: 0.24949\n",
      "Mean accuracy: 0.33030\n",
      "Mean accuracy: 0.34747\n",
      "Mean accuracy: 0.44091\n",
      "Mean accuracy: 0.47677\n",
      "Mean accuracy: 0.50505\n",
      "Mean accuracy: 0.56313\n",
      "Mean accuracy: 0.57626\n",
      "Mean accuracy: 0.60354\n",
      "Mean accuracy: 0.62323\n",
      "Mean accuracy: 0.64798\n",
      "Mean accuracy: 0.69444\n",
      "Mean accuracy: 0.72172\n",
      "Mean accuracy: 0.73081\n",
      "Mean accuracy: 0.73485\n",
      "Mean accuracy: 0.72980\n",
      "Mean accuracy: 0.72929\n"
     ]
    }
   ],
   "source": [
    "eigenvectors2 = np.array(\n",
    "    simpl_complex.EigenValues(0, -1, 2, False, True, num_eig, \"sm\")[1]\n",
    ")\n",
    "# Only lapl(0, 2)\n",
    "for i in range(1, num_eig + 1):\n",
    "    X = eigenvectors2[:, :i]\n",
    "    mean_solve(X, y)"
   ]
  },
  {
   "cell_type": "code",
   "execution_count": 52,
   "metadata": {},
   "outputs": [],
   "source": [
    "# # Composition of Lapl1 and Lapl2\n",
    "# for i in range(1, num_eig + 1):\n",
    "#     for j in range(0, num_eig + 1):\n",
    "#         X = eigenvectors[:, :i]\n",
    "#         Y = eigenvectors2[:, :j]\n",
    "#         X = np.hstack((X, Y))\n",
    "#         mean_solve(X, y)"
   ]
  },
  {
   "cell_type": "code",
   "execution_count": 53,
   "metadata": {},
   "outputs": [
    {
     "name": "stdout",
     "output_type": "stream",
     "text": [
      "Mean accuracy: 0.26465\n",
      "Mean accuracy: 0.29646\n",
      "Mean accuracy: 0.15253\n",
      "Mean accuracy: 0.27172\n",
      "Mean accuracy: 0.15253\n",
      "Mean accuracy: 0.15152\n",
      "Mean accuracy: 0.13788\n",
      "Mean accuracy: 0.13081\n",
      "Mean accuracy: 0.15253\n",
      "Mean accuracy: 0.18737\n",
      "Mean accuracy: 0.13788\n",
      "Mean accuracy: 0.19848\n",
      "Mean accuracy: 0.13788\n",
      "Mean accuracy: 0.19141\n",
      "Mean accuracy: 0.14343\n",
      "Mean accuracy: 0.12525\n",
      "Mean accuracy: 0.15253\n",
      "Mean accuracy: 0.18838\n",
      "Mean accuracy: 0.13788\n",
      "Mean accuracy: 0.19798\n",
      "Mean accuracy: 0.13788\n",
      "Mean accuracy: 0.20455\n",
      "Mean accuracy: 0.14343\n",
      "Mean accuracy: 0.16212\n",
      "Mean accuracy: 0.13788\n",
      "Mean accuracy: 0.20859\n",
      "Mean accuracy: 0.14343\n",
      "Mean accuracy: 0.21162\n",
      "Mean accuracy: 0.14343\n",
      "Mean accuracy: 0.19848\n",
      "Mean accuracy: 0.14040\n"
     ]
    },
    {
     "data": {
      "text/plain": [
       "[(0.2964646464646465, (0, 0, 0, 1, 0)),\n",
       " (0.2717171717171717, (0, 0, 1, 0, 0)),\n",
       " (0.2646464646464647, (0, 0, 0, 0, 1)),\n",
       " (0.2116161616161616, (1, 1, 1, 0, 0)),\n",
       " (0.2085858585858586, (1, 1, 0, 1, 0)),\n",
       " (0.2045454545454545, (1, 0, 1, 1, 0)),\n",
       " (0.1984848484848485, (0, 1, 1, 0, 0)),\n",
       " (0.1984848484848485, (1, 1, 1, 1, 0)),\n",
       " (0.19797979797979798, (1, 0, 1, 0, 0)),\n",
       " (0.19141414141414143, (0, 1, 1, 1, 0)),\n",
       " (0.18838383838383838, (1, 0, 0, 1, 0)),\n",
       " (0.18737373737373736, (0, 1, 0, 1, 0)),\n",
       " (0.1621212121212121, (1, 1, 0, 0, 0)),\n",
       " (0.1525252525252525, (0, 0, 0, 1, 1)),\n",
       " (0.1525252525252525, (0, 0, 1, 0, 1)),\n",
       " (0.1525252525252525, (0, 1, 0, 0, 1)),\n",
       " (0.1525252525252525, (1, 0, 0, 0, 1)),\n",
       " (0.15151515151515152, (0, 0, 1, 1, 0)),\n",
       " (0.14343434343434344, (0, 1, 1, 1, 1)),\n",
       " (0.14343434343434344, (1, 0, 1, 1, 1)),\n",
       " (0.14343434343434344, (1, 1, 0, 1, 1)),\n",
       " (0.14343434343434344, (1, 1, 1, 0, 1)),\n",
       " (0.1404040404040404, (1, 1, 1, 1, 1)),\n",
       " (0.13787878787878788, (0, 0, 1, 1, 1)),\n",
       " (0.13787878787878788, (0, 1, 0, 1, 1)),\n",
       " (0.13787878787878788, (0, 1, 1, 0, 1)),\n",
       " (0.13787878787878788, (1, 0, 0, 1, 1)),\n",
       " (0.13787878787878788, (1, 0, 1, 0, 1)),\n",
       " (0.13787878787878788, (1, 1, 0, 0, 1)),\n",
       " (0.13080808080808082, (0, 1, 0, 0, 0)),\n",
       " (0.12525252525252525, (1, 0, 0, 0, 0))]"
      ]
     },
     "execution_count": 53,
     "metadata": {},
     "output_type": "execute_result"
    }
   ],
   "source": [
    "from itertools import product\n",
    "\n",
    "# List of your feature names\n",
    "features = [\n",
    "    clos1,\n",
    "    clos2,\n",
    "    centr_eig1,\n",
    "    centr_eig2,\n",
    "    centr_sub1,\n",
    "    # centr_sub2,\n",
    "    # betw1,\n",
    "    # betw2\n",
    "]\n",
    "\n",
    "feat_acc = []\n",
    "for mask in product([0, 1], repeat=len(features)):\n",
    "    selected = [f for f, m in zip(features, mask) if m]\n",
    "    if len(selected) == 0:\n",
    "        continue\n",
    "    X = np.array(selected).reshape(len(selected[0]), len(selected))\n",
    "    score = mean_solve(X, y)\n",
    "    feat_acc.append((score, mask))\n",
    "feat_acc.sort(key=lambda x: x[0], reverse=True)\n",
    "\n",
    "feat_acc"
   ]
  },
  {
   "cell_type": "code",
   "execution_count": 54,
   "metadata": {},
   "outputs": [
    {
     "name": "stdout",
     "output_type": "stream",
     "text": [
      "Mean accuracy: 0.12525\n",
      "Mean accuracy: 0.12677\n",
      "Mean accuracy: 0.13081\n",
      "Mean accuracy: 0.12929\n",
      "Mean accuracy: 0.27172\n",
      "Mean accuracy: 0.27172\n",
      "Mean accuracy: 0.29646\n",
      "Mean accuracy: 0.29596\n",
      "Mean accuracy: 0.26465\n",
      "Mean accuracy: 0.21010\n",
      "Mean accuracy: 0.23838\n",
      "Mean accuracy: 0.25909\n"
     ]
    }
   ],
   "source": [
    "for x in [\n",
    "    clos1,\n",
    "    clos2,\n",
    "    # betw1,\n",
    "    # betw2,\n",
    "    centr_eig1,\n",
    "    centr_eig2,\n",
    "    centr_sub1,\n",
    "    centr_sub2,\n",
    "]:\n",
    "    for it in range(0, 2):\n",
    "        X = x\n",
    "        if it == 1:\n",
    "            X = np.log1p(X)\n",
    "        mean_solve(X, y)"
   ]
  },
  {
   "cell_type": "code",
   "execution_count": 55,
   "metadata": {},
   "outputs": [
    {
     "name": "stdout",
     "output_type": "stream",
     "text": [
      "Mean accuracy: 0.48333\n"
     ]
    },
    {
     "data": {
      "text/plain": [
       "0.4833333333333334"
      ]
     },
     "execution_count": 55,
     "metadata": {},
     "output_type": "execute_result"
    }
   ],
   "source": [
    "mean_solve(np.hstack((clos1, clos2, centr_eig1, centr_eig2, centr_sub1, centr_sub2)), y)"
   ]
  },
  {
   "cell_type": "code",
   "execution_count": 56,
   "metadata": {},
   "outputs": [
    {
     "name": "stdout",
     "output_type": "stream",
     "text": [
      "Old: 0.13434343434343435\n",
      "New: 0.49848484848484853\n",
      "profit: 36.41\n",
      "Old: 0.4222222222222222\n",
      "New: 0.5823232323232324\n",
      "profit: 16.01\n",
      "Old: 0.6616161616161615\n",
      "New: 0.7227272727272728\n",
      "profit: 6.11\n",
      "Old: 0.7540404040404041\n",
      "New: 0.7893939393939393\n",
      "profit: 3.54\n",
      "Old: 0.9070707070707072\n",
      "New: 0.8833333333333332\n",
      "profit: -2.37\n",
      "Old: 0.9666666666666666\n",
      "New: 0.964141414141414\n",
      "profit: -0.25\n",
      "Old: 0.9803030303030302\n",
      "New: 0.9712121212121211\n",
      "profit: -0.91\n",
      "Old: 0.9823232323232322\n",
      "New: 0.9712121212121211\n",
      "profit: -1.11\n",
      "Old: 1.0\n",
      "New: 0.9929292929292929\n",
      "profit: -0.71\n",
      "Old: 0.998989898989899\n",
      "New: 0.9929292929292929\n",
      "profit: -0.61\n",
      "Old: 0.9994949494949494\n",
      "New: 0.9929292929292929\n",
      "profit: -0.66\n",
      "Old: 0.9994949494949494\n",
      "New: 0.9939393939393939\n",
      "profit: -0.56\n",
      "Old: 0.9994949494949494\n",
      "New: 0.9944444444444445\n",
      "profit: -0.51\n",
      "Old: 0.998989898989899\n",
      "New: 0.9934343434343434\n",
      "profit: -0.56\n",
      "Old: 0.997979797979798\n",
      "New: 0.994949494949495\n",
      "profit: -0.30\n",
      "Old: 0.998989898989899\n",
      "New: 0.9954545454545454\n",
      "profit: -0.35\n",
      "Old: 0.9994949494949494\n",
      "New: 0.9954545454545455\n",
      "profit: -0.40\n",
      "Old: 0.9994949494949494\n",
      "New: 0.9939393939393939\n",
      "profit: -0.56\n",
      "Old: 0.9984848484848484\n",
      "New: 0.9939393939393939\n",
      "profit: -0.45\n",
      "Old: 0.997979797979798\n",
      "New: 0.9919191919191919\n",
      "profit: -0.61\n",
      "Old: 0.9974747474747474\n",
      "New: 0.9924242424242424\n",
      "profit: -0.51\n",
      "Old: 0.9964646464646465\n",
      "New: 0.9904040404040405\n",
      "profit: -0.61\n",
      "Old: 0.994949494949495\n",
      "New: 0.990909090909091\n",
      "profit: -0.40\n",
      "Old: 0.9944444444444445\n",
      "New: 0.9893939393939395\n",
      "profit: -0.51\n",
      "Old: 0.9954545454545455\n",
      "New: 0.990909090909091\n",
      "profit: -0.45\n",
      "Old: 0.994949494949495\n",
      "New: 0.9904040404040405\n",
      "profit: -0.45\n",
      "Old: 0.994949494949495\n",
      "New: 0.98989898989899\n",
      "profit: -0.51\n",
      "Old: 0.9939393939393939\n",
      "New: 0.9888888888888889\n",
      "profit: -0.51\n"
     ]
    }
   ],
   "source": [
    "for i in range(1, num_eig + 1):\n",
    "    X = eigenvectors[:, :i]\n",
    "    old = mean_solve(X, y, debug=False)\n",
    "    print(f\"Old: {old}\")\n",
    "\n",
    "    X = np.hstack((X, clos1, clos2, centr_eig1, centr_eig2, centr_sub1, centr_sub2))\n",
    "    best_score = mean_solve(X, y, debug=False)\n",
    "    print(f\"New: {best_score}\")\n",
    "    print(f\"profit: {((best_score - old))*100:.2f}\")\n",
    "    # print(f\"Old: {old} vs new: {new}\")"
   ]
  },
  {
   "cell_type": "code",
   "execution_count": null,
   "metadata": {},
   "outputs": [],
   "source": []
  },
  {
   "cell_type": "markdown",
   "metadata": {},
   "source": [
    "## Hodge simpl"
   ]
  },
  {
   "cell_type": "code",
   "execution_count": 57,
   "metadata": {},
   "outputs": [],
   "source": [
    "# eigenvectors = np.array(\n",
    "#     simpl_complex.EigenValues(1, 0, 2, False, True, num_eig, \"sm\")[1]\n",
    "# )"
   ]
  },
  {
   "cell_type": "code",
   "execution_count": 58,
   "metadata": {},
   "outputs": [],
   "source": [
    "# edges = simpl_complex.GetSimplicesWithDimension(1)\n",
    "# assert len(edges) == len(eigenvectors[:, 0])"
   ]
  },
  {
   "cell_type": "code",
   "execution_count": 59,
   "metadata": {},
   "outputs": [],
   "source": [
    "# eigenvectors.shape"
   ]
  },
  {
   "cell_type": "code",
   "execution_count": 60,
   "metadata": {},
   "outputs": [],
   "source": [
    "# # edge_high = []\n",
    "# # edge_decompose_high = []\n",
    "\n",
    "# edge_prime = []\n",
    "# edge_decompose_prime = []"
   ]
  },
  {
   "cell_type": "code",
   "execution_count": 61,
   "metadata": {},
   "outputs": [],
   "source": [
    "# for i in range(1, 1 + eigenvectors.shape[1]):\n",
    "#     X = np.zeros((len(y), i))\n",
    "#     for col in range(i):\n",
    "#         for row, edge in enumerate(edges):\n",
    "#             for v in edge:\n",
    "#                 X[v][col] += eigenvectors[row][col]\n",
    "#     # edge_high.append(mean_solve(X, y))\n",
    "#     edge_prime.append(mean_solve(X, y))\n",
    "#     # edge_house.append(mean_solve(X, y))\n",
    "#     # edge_senate.append(mean_solve(X, y))"
   ]
  },
  {
   "cell_type": "code",
   "execution_count": 62,
   "metadata": {},
   "outputs": [],
   "source": [
    "# eig_decomposition = np.zeros((eigenvectors.shape[0], 0))\n",
    "# for i in range(eigenvectors.shape[1]):\n",
    "#     c1, c2, c3 = simpl_complex.HodgeDecomposition(1, 0, 2, list(eigenvectors[:, i]))\n",
    "\n",
    "#     c1 = np.array(c1).reshape(-1, 1)\n",
    "#     c2 = np.array(c2).reshape(-1, 1)\n",
    "#     c3 = np.array(c3).reshape(-1, 1)\n",
    "\n",
    "#     to_add = []\n",
    "#     for c in [c1, c2, c3]:\n",
    "#         if np.isfinite(c).all() and not np.all(c == c[0]):\n",
    "#             to_add.append(c)\n",
    "#         else:\n",
    "#             print(\"skip\")\n",
    "\n",
    "#     # to_add = [eigenvectors[:, i].reshape(-1, 1)]\n",
    "#     if len(to_add) > 0:\n",
    "#         eig_decomposition = np.hstack((eig_decomposition, *to_add))\n",
    "\n",
    "#     X = np.zeros((len(y), eig_decomposition.shape[1]))\n",
    "#     for col in range(eig_decomposition.shape[1]):\n",
    "#         for row, edge in enumerate(edges):\n",
    "#             for v in edge:\n",
    "#                 X[v][col] += eig_decomposition[row][col]\n",
    "#     # edge_decompose_high.append(mean_solve(X, y))\n",
    "#     edge_decompose_prime.append(mean_solve(X, y))"
   ]
  },
  {
   "cell_type": "code",
   "execution_count": 63,
   "metadata": {},
   "outputs": [],
   "source": [
    "# x1 = [i for i in range(1, len(edge_high) + 1)]\n",
    "# x2 = [i for i in range(1, len(edge_prime) + 1)]\n",
    "\n",
    "\n",
    "# # Create subplots: 1 row, 2 columns\n",
    "# fig, axs = plt.subplots(1, 2, figsize=(12, 8))\n",
    "\n",
    "# fig.suptitle(\"Зависимость accuracy от количества собственных векторов в L1 лапласиане\")\n",
    "\n",
    "# # First plot\n",
    "# axs[0].plot(x1, edge_high, label=\"Без разложения Ходжа\", color=\"blue\")\n",
    "# axs[0].plot(x1, edge_decompose_high, label=\"C разложениeм Ходжа\", color=\"red\")\n",
    "# axs[0].set_title(\"Старшая школа\")\n",
    "# axs[0].set_xlabel(\"Количество собственных векторов\")\n",
    "# axs[0].set_ylabel(\"Accuracy\")\n",
    "# axs[0].legend()\n",
    "\n",
    "# # Second plot\n",
    "# axs[1].plot(x2, edge_prime, label=\"Без разложения Ходжа\", color=\"blue\")\n",
    "# axs[1].plot(x2, edge_decompose_prime, label=\"C разложениeм Ходжа\", color=\"red\")\n",
    "# axs[1].set_title(\"Младшая школа\")\n",
    "# axs[1].set_xlabel(\"Количество собственных векторов\")\n",
    "# axs[1].set_ylabel(\"Accuracy\")\n",
    "# axs[1].legend()\n",
    "\n",
    "# # Show both plots\n",
    "# plt.tight_layout()\n",
    "# plt.show()"
   ]
  },
  {
   "cell_type": "markdown",
   "metadata": {},
   "source": [
    "## Testing"
   ]
  },
  {
   "cell_type": "code",
   "execution_count": null,
   "metadata": {},
   "outputs": [],
   "source": []
  },
  {
   "cell_type": "markdown",
   "metadata": {},
   "source": [
    "<!-- eigenvectors = np.array(graph.EigenValues(0, -1, 1, False, True, num_eig, \"sm\")[1])\n",
    "eigenvectors.shape\n",
    "eig_decomposition = np.zeros((eigenvectors.shape[0], 0))\n",
    "for i in range(eigenvectors.shape[1]):\n",
    "    c1, c2, c3 = graph.HodgeDecomposition(0, -1, 1, list(eigenvectors[:, i]))\n",
    "\n",
    "    c1 = np.array(c1).reshape(-1, 1)\n",
    "    c2 = np.array(c2).reshape(-1, 1)\n",
    "    c3 = np.array(c3).reshape(-1, 1)\n",
    "\n",
    "    to_add = []\n",
    "    for c in [c1, c2, c3]:\n",
    "        if np.isfinite(c).all() and not np.all(c == c[0]):\n",
    "            to_add.append(c)\n",
    "        else:\n",
    "            print(\"skip\")\n",
    "\n",
    "    if len(to_add) > 0:\n",
    "        eig_decomposition = np.hstack((eig_decomposition, *to_add))\n",
    "    X = np.asarray(eig_decomposition)\n",
    "    mean_solve(X, y) -->"
   ]
  }
 ],
 "metadata": {
  "kernelspec": {
   "display_name": "Python 3",
   "language": "python",
   "name": "python3"
  },
  "language_info": {
   "codemirror_mode": {
    "name": "ipython",
    "version": 3
   },
   "file_extension": ".py",
   "mimetype": "text/x-python",
   "name": "python",
   "nbconvert_exporter": "python",
   "pygments_lexer": "ipython3",
   "version": "3.12.0"
  }
 },
 "nbformat": 4,
 "nbformat_minor": 2
}
