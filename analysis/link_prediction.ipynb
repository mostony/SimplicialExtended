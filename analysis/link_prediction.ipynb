{
 "cells": [
  {
   "cell_type": "markdown",
   "id": "5a5ec072",
   "metadata": {},
   "source": [
    "# Link prediction"
   ]
  },
  {
   "cell_type": "code",
   "execution_count": 1,
   "id": "a82662d5",
   "metadata": {},
   "outputs": [],
   "source": [
    "from simpl_loader import load_simpl_module\n",
    "\n",
    "simpl = load_simpl_module()"
   ]
  },
  {
   "cell_type": "code",
   "execution_count": 2,
   "id": "f08efec6",
   "metadata": {},
   "outputs": [],
   "source": [
    "import matplotlib.pyplot as plt\n",
    "import numpy as np"
   ]
  },
  {
   "cell_type": "code",
   "execution_count": 3,
   "id": "38a00c25",
   "metadata": {},
   "outputs": [],
   "source": [
    "from dataset_loader import DatasetLoader\n",
    "\n",
    "sets = DatasetLoader.load_dataset(\"contact-high-school\", load_labels=False)\n",
    "# sets = DatasetLoader.load_dataset(\"contact-primary-school\", load_labels=False)\n",
    "# sets = DatasetLoader.load_dataset(\"email-Enron\", load_labels=False)\n",
    "# sets = DatasetLoader.load_dataset(\"email-Eu\", load_labels=False)"
   ]
  },
  {
   "cell_type": "code",
   "execution_count": 4,
   "id": "b9929f3f",
   "metadata": {},
   "outputs": [
    {
     "name": "stdout",
     "output_type": "stream",
     "text": [
      "Number of sets: 7818\n"
     ]
    }
   ],
   "source": [
    "print(f\"Number of sets: {len(sets)}\")"
   ]
  },
  {
   "cell_type": "code",
   "execution_count": 5,
   "id": "b1e65550",
   "metadata": {},
   "outputs": [],
   "source": [
    "RUN = 10"
   ]
  },
  {
   "cell_type": "code",
   "execution_count": 6,
   "id": "36f5af74",
   "metadata": {},
   "outputs": [],
   "source": [
    "from predictor import LinkPredictor"
   ]
  },
  {
   "cell_type": "code",
   "execution_count": 7,
   "id": "cbcc16f9",
   "metadata": {},
   "outputs": [
    {
     "name": "stdout",
     "output_type": "stream",
     "text": [
      "Divided sets on train/test!\n",
      "Using 8 node features\n",
      "Calculated node features!\n",
      "Test AUC-AP: 0.8582244202654742\n",
      "Test AUC-ROC: 0.9475929213501592\n",
      "Divided sets on train/test!\n",
      "Using 8 node features\n",
      "Calculated node features!\n",
      "Test AUC-AP: 0.8638707977737541\n",
      "Test AUC-ROC: 0.9485553475268752\n",
      "Divided sets on train/test!\n",
      "Using 8 node features\n",
      "Calculated node features!\n",
      "Test AUC-AP: 0.8534091009998567\n",
      "Test AUC-ROC: 0.9451479277766137\n",
      "Divided sets on train/test!\n",
      "Using 8 node features\n",
      "Calculated node features!\n",
      "Test AUC-AP: 0.8590208564180959\n",
      "Test AUC-ROC: 0.9481303734817584\n",
      "Divided sets on train/test!\n",
      "Using 8 node features\n",
      "Calculated node features!\n",
      "Test AUC-AP: 0.8602720665982085\n",
      "Test AUC-ROC: 0.9476894726401403\n",
      "Divided sets on train/test!\n",
      "Using 8 node features\n",
      "Calculated node features!\n",
      "Test AUC-AP: 0.8645915554946298\n",
      "Test AUC-ROC: 0.9470889557604063\n",
      "Divided sets on train/test!\n",
      "Using 8 node features\n",
      "Calculated node features!\n",
      "Test AUC-AP: 0.8598822149644879\n",
      "Test AUC-ROC: 0.9464399669780539\n",
      "Divided sets on train/test!\n",
      "Using 8 node features\n",
      "Calculated node features!\n",
      "Test AUC-AP: 0.8638147075555535\n",
      "Test AUC-ROC: 0.9509471447367267\n",
      "Divided sets on train/test!\n",
      "Using 8 node features\n",
      "Calculated node features!\n",
      "Test AUC-AP: 0.8616810810528132\n",
      "Test AUC-ROC: 0.9477329792995022\n",
      "Divided sets on train/test!\n",
      "Using 8 node features\n",
      "Calculated node features!\n",
      "Test AUC-AP: 0.8700718478336859\n",
      "Test AUC-ROC: 0.9499404958166404\n",
      "Mean AUC-AP: 0.861483864895656\n",
      "Mean AUC-ROC: 0.9479265585366876\n"
     ]
    }
   ],
   "source": [
    "auc_ap = []\n",
    "auc_roc = []\n",
    "for i in range(RUN):\n",
    "    pred = LinkPredictor(sets=sets, test_size=0.3, neg_ratio=5.0, random_state=42 + i)\n",
    "    pr, roc = pred.train()\n",
    "    auc_ap.append(pr)\n",
    "    auc_roc.append(roc)\n",
    "print(f\"Mean AUC-AP: {np.mean(auc_ap)}\")\n",
    "print(f\"Mean AUC-ROC: {np.mean(auc_roc)}\")"
   ]
  }
 ],
 "metadata": {
  "kernelspec": {
   "display_name": "Python 3",
   "language": "python",
   "name": "python3"
  },
  "language_info": {
   "codemirror_mode": {
    "name": "ipython",
    "version": 3
   },
   "file_extension": ".py",
   "mimetype": "text/x-python",
   "name": "python",
   "nbconvert_exporter": "python",
   "pygments_lexer": "ipython3",
   "version": "3.12.0"
  }
 },
 "nbformat": 4,
 "nbformat_minor": 5
}
