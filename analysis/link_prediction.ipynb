{
 "cells": [
  {
   "cell_type": "markdown",
   "id": "5a5ec072",
   "metadata": {},
   "source": [
    "# Link prediction"
   ]
  },
  {
   "cell_type": "code",
   "execution_count": 11,
   "id": "a82662d5",
   "metadata": {},
   "outputs": [],
   "source": [
    "from simpl_loader import load_simpl_module\n",
    "\n",
    "simpl = load_simpl_module()"
   ]
  },
  {
   "cell_type": "code",
   "execution_count": 12,
   "id": "0b162471",
   "metadata": {},
   "outputs": [],
   "source": [
    "from network_builder import GraphBuilder, SimplicialComplexBuilder, HyperGraphBuilder"
   ]
  },
  {
   "cell_type": "code",
   "execution_count": 13,
   "id": "f08efec6",
   "metadata": {},
   "outputs": [],
   "source": [
    "import matplotlib.pyplot as plt\n",
    "import numpy as np"
   ]
  },
  {
   "cell_type": "code",
   "execution_count": 14,
   "id": "38a00c25",
   "metadata": {},
   "outputs": [],
   "source": [
    "from dataset_loader import DatasetLoader\n",
    "\n",
    "# sets = DatasetLoader.load_dataset(\"contact-high-school\", load_labels=False)\n",
    "# sets = DatasetLoader.load_dataset(\"contact-primary-school\", load_labels=False)\n",
    "# sets = DatasetLoader.load_dataset(\"email-Enron\", load_labels=False)\n",
    "sets = DatasetLoader.load_dataset(\"email-Eu\", load_labels=False)\n",
    "# sets = DatasetLoader.load_dataset(\"house-bills\", load_labels=False)\n",
    "# sets = DatasetLoader.load_dataset(\"senate-bills\", load_labels=False)"
   ]
  },
  {
   "cell_type": "code",
   "execution_count": 15,
   "id": "b9929f3f",
   "metadata": {},
   "outputs": [
    {
     "name": "stdout",
     "output_type": "stream",
     "text": [
      "Number of sets: 232461\n"
     ]
    }
   ],
   "source": [
    "print(f\"Number of sets: {len(sets)}\")"
   ]
  },
  {
   "cell_type": "code",
   "execution_count": 16,
   "id": "b1e65550",
   "metadata": {},
   "outputs": [],
   "source": [
    "RUN = 10"
   ]
  },
  {
   "cell_type": "markdown",
   "id": "0b758bae",
   "metadata": {},
   "source": [
    "## Simplicial Complex\n"
   ]
  },
  {
   "cell_type": "code",
   "execution_count": 8,
   "id": "36f5af74",
   "metadata": {},
   "outputs": [],
   "source": [
    "from predictor import LinkPredictor"
   ]
  },
  {
   "cell_type": "code",
   "execution_count": null,
   "id": "014efc38",
   "metadata": {},
   "outputs": [],
   "source": [
    "RUN = 2"
   ]
  },
  {
   "cell_type": "code",
   "execution_count": null,
   "id": "cbcc16f9",
   "metadata": {},
   "outputs": [
    {
     "name": "stdout",
     "output_type": "stream",
     "text": [
      "Using 0 node features\n",
      "Calculated node features!\n",
      "Prepared edge features\n",
      "Train AUC-ROC: 0.952\n",
      "Train AP: 0.842\n",
      "Test AUC-ROC: 0.953\n",
      "Test AP: 0.900\n",
      "Yes Test AUC-ROC: 0.500\n",
      "Yes Test AP: 0.306\n"
     ]
    }
   ],
   "source": [
    "scores = []\n",
    "for i in range(RUN):\n",
    "    pred = LinkPredictor(sets=sets, test_size=0.3, neg_ratio=5.0, random_state=42 + i)\n",
    "    score = pred.train()\n",
    "    scores.append(score)\n",
    "np.mean(scores)"
   ]
  },
  {
   "cell_type": "code",
   "execution_count": null,
   "id": "9b7ef186",
   "metadata": {},
   "outputs": [],
   "source": []
  }
 ],
 "metadata": {
  "kernelspec": {
   "display_name": "Python 3",
   "language": "python",
   "name": "python3"
  },
  "language_info": {
   "codemirror_mode": {
    "name": "ipython",
    "version": 3
   },
   "file_extension": ".py",
   "mimetype": "text/x-python",
   "name": "python",
   "nbconvert_exporter": "python",
   "pygments_lexer": "ipython3",
   "version": "3.12.0"
  }
 },
 "nbformat": 4,
 "nbformat_minor": 5
}
