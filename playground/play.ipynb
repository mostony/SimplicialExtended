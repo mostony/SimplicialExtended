{
 "cells": [
  {
   "cell_type": "code",
   "execution_count": 58,
   "metadata": {},
   "outputs": [
    {
     "name": "stdout",
     "output_type": "stream",
     "text": [
      "Example of library!\n"
     ]
    }
   ],
   "source": [
    "print('Example of library!')"
   ]
  },
  {
   "cell_type": "code",
   "execution_count": 59,
   "metadata": {},
   "outputs": [],
   "source": [
    "# should run after cmake build\n",
    "import sys\n",
    "sys.path.append('../build')"
   ]
  },
  {
   "cell_type": "code",
   "execution_count": 60,
   "metadata": {},
   "outputs": [],
   "source": [
    "import simpl"
   ]
  },
  {
   "cell_type": "code",
   "execution_count": 61,
   "metadata": {},
   "outputs": [],
   "source": [
    "K = simpl.SimplicialComplex()"
   ]
  },
  {
   "cell_type": "markdown",
   "metadata": {},
   "source": [
    "Addition and removal симплексов"
   ]
  },
  {
   "cell_type": "code",
   "execution_count": 62,
   "metadata": {},
   "outputs": [],
   "source": [
    "K.AddSimplex([1, 2, 3])\n",
    "K.AddSimplex([3, 4])\n",
    "K.AddSimplex([4, 5, 6])\n",
    "K.AddSimplex([4, 5, 7])\n",
    "K.AddSimplex([6, 7])\n",
    "K.AddSimplex([2, 7])"
   ]
  },
  {
   "cell_type": "code",
   "execution_count": 63,
   "metadata": {},
   "outputs": [
    {
     "data": {
      "text/plain": [
       "[[1, 2, 3], [2, 7], [3, 4], [4, 5, 6], [4, 5, 7], [6, 7]]"
      ]
     },
     "execution_count": 63,
     "metadata": {},
     "output_type": "execute_result"
    }
   ],
   "source": [
    "K.GetMaxSimplices()"
   ]
  },
  {
   "cell_type": "code",
   "execution_count": 64,
   "metadata": {},
   "outputs": [],
   "source": [
    "K.RemoveSimplex([1, 2])"
   ]
  },
  {
   "cell_type": "code",
   "execution_count": 65,
   "metadata": {},
   "outputs": [
    {
     "data": {
      "text/plain": [
       "[[1, 3], [2, 3], [2, 7], [3, 4], [4, 5, 6], [4, 5, 7], [6, 7]]"
      ]
     },
     "execution_count": 65,
     "metadata": {},
     "output_type": "execute_result"
    }
   ],
   "source": [
    "K.GetMaxSimplices()"
   ]
  },
  {
   "cell_type": "code",
   "execution_count": 66,
   "metadata": {},
   "outputs": [
    {
     "data": {
      "text/plain": [
       "[(0, 7), (1, 10), (2, 2)]"
      ]
     },
     "execution_count": 66,
     "metadata": {},
     "output_type": "execute_result"
    }
   ],
   "source": [
    "K.FVector()"
   ]
  },
  {
   "cell_type": "code",
   "execution_count": 67,
   "metadata": {},
   "outputs": [
    {
     "data": {
      "text/plain": [
       "1"
      ]
     },
     "execution_count": 67,
     "metadata": {},
     "output_type": "execute_result"
    }
   ],
   "source": [
    "K.BettiNumber(0)"
   ]
  },
  {
   "cell_type": "code",
   "execution_count": 68,
   "metadata": {},
   "outputs": [
    {
     "data": {
      "text/plain": [
       "2"
      ]
     },
     "execution_count": 68,
     "metadata": {},
     "output_type": "execute_result"
    }
   ],
   "source": [
    "K.BettiNumber(1)"
   ]
  },
  {
   "cell_type": "code",
   "execution_count": 69,
   "metadata": {},
   "outputs": [
    {
     "data": {
      "text/plain": [
       "0"
      ]
     },
     "execution_count": 69,
     "metadata": {},
     "output_type": "execute_result"
    }
   ],
   "source": [
    "K.BettiNumber(2)"
   ]
  },
  {
   "cell_type": "code",
   "execution_count": 70,
   "metadata": {},
   "outputs": [
    {
     "data": {
      "text/plain": [
       "-1"
      ]
     },
     "execution_count": 70,
     "metadata": {},
     "output_type": "execute_result"
    }
   ],
   "source": [
    "K.EulerCharacteristic()"
   ]
  },
  {
   "cell_type": "markdown",
   "metadata": {},
   "source": [
    "Boundary"
   ]
  },
  {
   "cell_type": "code",
   "execution_count": 71,
   "metadata": {},
   "outputs": [
    {
     "data": {
      "text/plain": [
       "[[],\n",
       " [1],\n",
       " [2],\n",
       " [3],\n",
       " [4],\n",
       " [5],\n",
       " [6],\n",
       " [7],\n",
       " [1, 3],\n",
       " [2, 3],\n",
       " [2, 7],\n",
       " [3, 4],\n",
       " [4, 5],\n",
       " [4, 6],\n",
       " [4, 7],\n",
       " [5, 6],\n",
       " [5, 7],\n",
       " [6, 7],\n",
       " [4, 5, 6],\n",
       " [4, 5, 7]]"
      ]
     },
     "execution_count": 71,
     "metadata": {},
     "output_type": "execute_result"
    }
   ],
   "source": [
    "K.GetAll()"
   ]
  },
  {
   "cell_type": "code",
   "execution_count": 72,
   "metadata": {},
   "outputs": [
    {
     "data": {
      "text/plain": [
       "[[1, 0, 0, 0, 0, 0, 0, 0, 0, 0],\n",
       " [0, 1, 1, 0, 0, 0, 0, 0, 0, 0],\n",
       " [-1, -1, 0, 1, 0, 0, 0, 0, 0, 0],\n",
       " [0, 0, 0, -1, 1, 1, 1, 0, 0, 0],\n",
       " [0, 0, 0, 0, -1, 0, 0, 1, 1, 0],\n",
       " [0, 0, 0, 0, 0, -1, 0, -1, 0, 1],\n",
       " [0, 0, -1, 0, 0, 0, -1, 0, -1, -1]]"
      ]
     },
     "execution_count": 72,
     "metadata": {},
     "output_type": "execute_result"
    }
   ],
   "source": [
    "B1 = K.BoundaryMatrix(1, 0)\n",
    "B1"
   ]
  },
  {
   "cell_type": "code",
   "execution_count": 73,
   "metadata": {},
   "outputs": [
    {
     "data": {
      "text/plain": [
       "[[0, 0],\n",
       " [0, 0],\n",
       " [0, 0],\n",
       " [0, 0],\n",
       " [1, 1],\n",
       " [-1, 0],\n",
       " [0, -1],\n",
       " [1, 0],\n",
       " [0, 1],\n",
       " [0, 0]]"
      ]
     },
     "execution_count": 73,
     "metadata": {},
     "output_type": "execute_result"
    }
   ],
   "source": [
    "B2 = K.BoundaryMatrix(2, 1)\n",
    "B2"
   ]
  },
  {
   "cell_type": "code",
   "execution_count": 74,
   "metadata": {},
   "outputs": [
    {
     "data": {
      "text/plain": [
       "[[0, 0], [0, 0], [0, 0], [1, 1], [-1, -1], [1, 0], [0, 1]]"
      ]
     },
     "execution_count": 74,
     "metadata": {},
     "output_type": "execute_result"
    }
   ],
   "source": [
    "K.BoundaryMatrix(2, 0)"
   ]
  },
  {
   "cell_type": "code",
   "execution_count": 75,
   "metadata": {},
   "outputs": [
    {
     "data": {
      "text/plain": [
       "array([[ 2,  1,  0, -1,  0,  0,  0,  0,  0,  0],\n",
       "       [ 1,  2,  1, -1,  0,  0,  0,  0,  0,  0],\n",
       "       [ 0,  1,  2,  0,  0,  0,  1,  0,  1,  1],\n",
       "       [-1, -1,  0,  2, -1, -1, -1,  0,  0,  0],\n",
       "       [ 0,  0,  0, -1,  4,  0,  0,  0,  0,  0],\n",
       "       [ 0,  0,  0, -1,  0,  3,  1,  0,  0, -1],\n",
       "       [ 0,  0,  1, -1,  0,  1,  3,  0,  0,  1],\n",
       "       [ 0,  0,  0,  0,  0,  0,  0,  3,  1, -1],\n",
       "       [ 0,  0,  1,  0,  0,  0,  0,  1,  3,  1],\n",
       "       [ 0,  0,  1,  0,  0, -1,  1, -1,  1,  2]])"
      ]
     },
     "execution_count": 75,
     "metadata": {},
     "output_type": "execute_result"
    }
   ],
   "source": [
    "import numpy as np\n",
    "B1 = np.array(K.BoundaryMatrix(1, 0))\n",
    "B2 = np.array(K.BoundaryMatrix(2, 1))\n",
    "\n",
    "L1_upper = B2 @ B2.T\n",
    "L1_lower = B1.T @ B1\n",
    "\n",
    "L1 = L1_upper + L1_lower\n",
    "L1"
   ]
  },
  {
   "cell_type": "code",
   "execution_count": 76,
   "metadata": {},
   "outputs": [
    {
     "data": {
      "text/plain": [
       "array([[0., 0., 0., 0., 0., 0., 0., 0., 0., 0.],\n",
       "       [0., 0., 0., 0., 0., 0., 0., 0., 0., 0.],\n",
       "       [0., 0., 0., 0., 0., 0., 0., 0., 0., 0.],\n",
       "       [0., 0., 0., 0., 0., 0., 0., 0., 0., 0.],\n",
       "       [0., 0., 0., 0., 0., 0., 0., 0., 0., 0.],\n",
       "       [0., 0., 0., 0., 0., 0., 0., 0., 0., 0.],\n",
       "       [0., 0., 0., 0., 0., 0., 0., 0., 0., 0.],\n",
       "       [0., 0., 0., 0., 0., 0., 0., 0., 0., 0.],\n",
       "       [0., 0., 0., 0., 0., 0., 0., 0., 0., 0.],\n",
       "       [0., 0., 0., 0., 0., 0., 0., 0., 0., 0.]])"
      ]
     },
     "execution_count": 76,
     "metadata": {},
     "output_type": "execute_result"
    }
   ],
   "source": [
    "K.LaplacianMatrix(1, 0, 2, 0) - L1"
   ]
  },
  {
   "cell_type": "code",
   "execution_count": 77,
   "metadata": {},
   "outputs": [
    {
     "data": {
      "text/plain": [
       "[]"
      ]
     },
     "execution_count": 77,
     "metadata": {},
     "output_type": "execute_result"
    }
   ],
   "source": [
    "K.Weights(3)"
   ]
  },
  {
   "cell_type": "code",
   "execution_count": 78,
   "metadata": {},
   "outputs": [
    {
     "data": {
      "text/plain": [
       "array([[0., 0., 0., 0., 0., 0., 0., 0., 0., 0.],\n",
       "       [0., 0., 0., 0., 0., 0., 0., 0., 0., 0.],\n",
       "       [0., 0., 0., 0., 0., 0., 0., 0., 0., 0.],\n",
       "       [0., 0., 0., 0., 0., 0., 0., 0., 0., 0.],\n",
       "       [0., 0., 0., 0., 0., 0., 0., 0., 0., 0.],\n",
       "       [0., 0., 0., 0., 0., 0., 0., 0., 0., 0.],\n",
       "       [0., 0., 0., 0., 0., 0., 0., 0., 0., 0.],\n",
       "       [0., 0., 0., 0., 0., 0., 0., 0., 0., 0.],\n",
       "       [0., 0., 0., 0., 0., 0., 0., 0., 0., 0.],\n",
       "       [0., 0., 0., 0., 0., 0., 0., 0., 0., 0.]])"
      ]
     },
     "execution_count": 78,
     "metadata": {},
     "output_type": "execute_result"
    }
   ],
   "source": [
    "K.LaplacianMatrix(1, 0, 2, 1) - L1"
   ]
  },
  {
   "cell_type": "code",
   "execution_count": 79,
   "metadata": {},
   "outputs": [
    {
     "data": {
      "text/plain": [
       "array([-4.84814023e-16,  1.83226048e-15,  6.63751512e-01,  1.66283318e+00,\n",
       "        2.00000000e+00,  3.35478814e+00,  4.00000000e+00,  4.00000000e+00,\n",
       "        4.77022298e+00,  5.54840418e+00])"
      ]
     },
     "execution_count": 79,
     "metadata": {},
     "output_type": "execute_result"
    }
   ],
   "source": [
    "np.linalg.eigh(L1)[0]"
   ]
  },
  {
   "cell_type": "code",
   "execution_count": 80,
   "metadata": {},
   "outputs": [
    {
     "data": {
      "text/plain": [
       "[-4.5144157831232065e-16,\n",
       " 4.1120552396043855e-16,\n",
       " 0.6637515115370547,\n",
       " 1.6628331827684684,\n",
       " 1.999999999999999,\n",
       " 3.354788142351714,\n",
       " 4.000000000000001,\n",
       " 4.000000000000002,\n",
       " 4.770222982250656,\n",
       " 5.548404181092106]"
      ]
     },
     "execution_count": 80,
     "metadata": {},
     "output_type": "execute_result"
    }
   ],
   "source": [
    "K.EigenValues(1, 0, 2, 1)"
   ]
  },
  {
   "cell_type": "markdown",
   "metadata": {},
   "source": [
    "Centrality:"
   ]
  },
  {
   "cell_type": "code",
   "execution_count": 81,
   "metadata": {},
   "outputs": [],
   "source": [
    "K.Clear()"
   ]
  },
  {
   "cell_type": "code",
   "execution_count": 82,
   "metadata": {},
   "outputs": [],
   "source": [
    "K.AddSimplex([1, 2, 3, 4])\n",
    "K.AddSimplex([1, 5, 6])"
   ]
  },
  {
   "cell_type": "code",
   "execution_count": 83,
   "metadata": {},
   "outputs": [],
   "source": [
    "K.UpdateWeight([1, 5, 6], 100)\n",
    "K.UpdateWeight([1, 2, 3], 100)"
   ]
  },
  {
   "cell_type": "code",
   "execution_count": 84,
   "metadata": {},
   "outputs": [
    {
     "data": {
      "text/plain": [
       "[[100.0, 0.0, 0.0, 0.0, 0.0],\n",
       " [0.0, 1.0, 0.0, 0.0, 0.0],\n",
       " [0.0, 0.0, 1.0, 0.0, 0.0],\n",
       " [0.0, 0.0, 0.0, 100.0, 0.0],\n",
       " [0.0, 0.0, 0.0, 0.0, 1.0]]"
      ]
     },
     "execution_count": 84,
     "metadata": {},
     "output_type": "execute_result"
    }
   ],
   "source": [
    "K.Weights(2)"
   ]
  },
  {
   "cell_type": "code",
   "execution_count": 85,
   "metadata": {},
   "outputs": [
    {
     "data": {
      "text/plain": [
       "[([1, 2], 0.5208333333333334),\n",
       " ([1, 3], 0.5208333333333334),\n",
       " ([1, 4], 0.5208333333333334),\n",
       " ([1, 5], 0.25),\n",
       " ([1, 6], 0.25),\n",
       " ([2, 3], 0.5208333333333334),\n",
       " ([2, 4], 0.5208333333333334),\n",
       " ([3, 4], 0.5208333333333334),\n",
       " ([5, 6], 0.25)]"
      ]
     },
     "execution_count": 85,
     "metadata": {},
     "output_type": "execute_result"
    }
   ],
   "source": [
    "K.ClosenessAll(1, 2, False)"
   ]
  },
  {
   "cell_type": "code",
   "execution_count": 86,
   "metadata": {},
   "outputs": [
    {
     "data": {
      "text/plain": [
       "[([1, 2], 0.017857142857142856),\n",
       " ([1, 3], 0.017857142857142856),\n",
       " ([1, 4], 0.017857142857142856),\n",
       " ([1, 5], 0.0),\n",
       " ([1, 6], 0.0),\n",
       " ([2, 3], 0.017857142857142856),\n",
       " ([2, 4], 0.017857142857142856),\n",
       " ([3, 4], 0.017857142857142856),\n",
       " ([5, 6], 0.0),\n",
       " ([1, 2], 0.017857142857142856),\n",
       " ([1, 3], 0.017857142857142856),\n",
       " ([1, 4], 0.017857142857142856),\n",
       " ([1, 5], 0.0),\n",
       " ([1, 6], 0.0),\n",
       " ([2, 3], 0.017857142857142856),\n",
       " ([2, 4], 0.017857142857142856),\n",
       " ([3, 4], 0.017857142857142856),\n",
       " ([5, 6], 0.0)]"
      ]
     },
     "execution_count": 86,
     "metadata": {},
     "output_type": "execute_result"
    }
   ],
   "source": [
    "K.BetweennessAll(1, 2, True)"
   ]
  },
  {
   "cell_type": "code",
   "execution_count": 87,
   "metadata": {},
   "outputs": [
    {
     "data": {
      "text/plain": [
       "[([1, 2], 0.5208333333333334),\n",
       " ([1, 3], 0.5208333333333334),\n",
       " ([1, 4], 0.5208333333333334),\n",
       " ([1, 5], 0.25),\n",
       " ([1, 6], 0.25),\n",
       " ([2, 3], 0.5208333333333334),\n",
       " ([2, 4], 0.5208333333333334),\n",
       " ([3, 4], 0.5208333333333334),\n",
       " ([5, 6], 0.25)]"
      ]
     },
     "execution_count": 87,
     "metadata": {},
     "output_type": "execute_result"
    }
   ],
   "source": [
    "K.ClosenessAll(1, 2, True)"
   ]
  },
  {
   "cell_type": "markdown",
   "metadata": {},
   "source": [
    "Комбинаторный комплекс:"
   ]
  },
  {
   "cell_type": "code",
   "execution_count": 88,
   "metadata": {},
   "outputs": [],
   "source": [
    "comb = simpl.CombinatorialComplex()\n",
    "\n",
    "comb.Build([[1], [2], [3], [4], [1, 2], [1, 4], [1, 2, 3], [2, 3, 4]])"
   ]
  },
  {
   "cell_type": "code",
   "execution_count": 89,
   "metadata": {},
   "outputs": [
    {
     "name": "stdout",
     "output_type": "stream",
     "text": [
      "[[1, 2], [1, 4]]\n",
      "[[1, 2, 3]]\n",
      "[]\n",
      "2\n",
      "1\n",
      "0\n"
     ]
    }
   ],
   "source": [
    "print(comb.Incidence([1], 1))\n",
    "print(comb.Incidence([1], 2))\n",
    "print(comb.Incidence([1], 3))\n",
    "\n",
    "print(comb.IncidenceDegree([1], 1))\n",
    "print(comb.IncidenceDegree([1], 2))\n",
    "print(comb.IncidenceDegree([1], 3))"
   ]
  },
  {
   "cell_type": "code",
   "execution_count": 90,
   "metadata": {},
   "outputs": [
    {
     "name": "stdout",
     "output_type": "stream",
     "text": [
      "[[2], [4]]\n",
      "[[2], [3]]\n",
      "[]\n",
      "2.0\n",
      "2.0\n",
      "0.0\n",
      "[2.0, 1.0, 0.0, 1.0]\n",
      "[2.0, 3.0, 3.0, 2.0]\n",
      "[0.0, 0.0, 0.0, 0.0]\n"
     ]
    }
   ],
   "source": [
    "print(comb.Adjacency([1], 1))\n",
    "print(comb.Adjacency([1], 2))\n",
    "print(comb.Adjacency([1], 3))\n",
    "\n",
    "print(comb.Degree([1], 1, False))\n",
    "print(comb.Degree([1], 2, False))\n",
    "print(comb.Degree([1], 3, False))\n",
    "\n",
    "print(comb.DegreeAll(0, 1, False))\n",
    "print(comb.DegreeAll(0, 2, False))\n",
    "print(comb.DegreeAll(0, 3, False))"
   ]
  },
  {
   "cell_type": "code",
   "execution_count": 91,
   "metadata": {},
   "outputs": [
    {
     "data": {
      "text/plain": [
       "8"
      ]
     },
     "execution_count": 91,
     "metadata": {},
     "output_type": "execute_result"
    }
   ],
   "source": [
    "comb.TotalCount()"
   ]
  },
  {
   "cell_type": "markdown",
   "metadata": {},
   "source": [
    "Граф:"
   ]
  },
  {
   "cell_type": "code",
   "execution_count": 92,
   "metadata": {},
   "outputs": [],
   "source": [
    "graph = simpl.Graph()"
   ]
  },
  {
   "cell_type": "code",
   "execution_count": 93,
   "metadata": {},
   "outputs": [],
   "source": [
    "graph.AddEdge(1, 2)\n",
    "graph.AddEdge(1, 3)\n",
    "graph.AddEdge(2, 3)\n",
    "graph.AddEdge(4, 5)"
   ]
  },
  {
   "cell_type": "code",
   "execution_count": 94,
   "metadata": {},
   "outputs": [
    {
     "data": {
      "text/plain": [
       "2"
      ]
     },
     "execution_count": 94,
     "metadata": {},
     "output_type": "execute_result"
    }
   ],
   "source": [
    "# number of connected components -- |C|\n",
    "graph.BettiNumber(0)"
   ]
  },
  {
   "cell_type": "code",
   "execution_count": 95,
   "metadata": {},
   "outputs": [
    {
     "data": {
      "text/plain": [
       "1"
      ]
     },
     "execution_count": 95,
     "metadata": {},
     "output_type": "execute_result"
    }
   ],
   "source": [
    "# |E| - |V| + |C|, where E - edges, V -- vertices\n",
    "graph.BettiNumber(1)"
   ]
  },
  {
   "cell_type": "code",
   "execution_count": 96,
   "metadata": {},
   "outputs": [
    {
     "data": {
      "text/plain": [
       "0"
      ]
     },
     "execution_count": 96,
     "metadata": {},
     "output_type": "execute_result"
    }
   ],
   "source": [
    "graph.BettiNumber(2)"
   ]
  },
  {
   "cell_type": "code",
   "execution_count": 97,
   "metadata": {},
   "outputs": [
    {
     "data": {
      "text/plain": [
       "9"
      ]
     },
     "execution_count": 97,
     "metadata": {},
     "output_type": "execute_result"
    }
   ],
   "source": [
    "# |E| + |V|\n",
    "graph.TotalCount()"
   ]
  },
  {
   "cell_type": "markdown",
   "metadata": {},
   "source": [
    "Весовые функции:"
   ]
  },
  {
   "cell_type": "code",
   "execution_count": 98,
   "metadata": {},
   "outputs": [],
   "source": [
    "K.Clear()"
   ]
  },
  {
   "cell_type": "code",
   "execution_count": 99,
   "metadata": {},
   "outputs": [],
   "source": [
    "def weight(a):\n",
    "    return len(a) - 1"
   ]
  },
  {
   "cell_type": "code",
   "execution_count": 100,
   "metadata": {},
   "outputs": [],
   "source": [
    "K.AddFunction(\"weight\", weight)"
   ]
  },
  {
   "cell_type": "code",
   "execution_count": 101,
   "metadata": {},
   "outputs": [],
   "source": [
    "K.AddSimplex([1, 2, 3, 4])\n",
    "K.AddSimplex([1, 5, 6])"
   ]
  },
  {
   "cell_type": "code",
   "execution_count": 102,
   "metadata": {},
   "outputs": [
    {
     "data": {
      "text/plain": [
       "[[1, 2, 3], [1, 2, 4], [1, 3, 4], [1, 5, 6], [2, 3, 4]]"
      ]
     },
     "execution_count": 102,
     "metadata": {},
     "output_type": "execute_result"
    }
   ],
   "source": [
    "K.ThresholdAbove(\"weight\", 3)\n",
    "K.GetMaxSimplices()"
   ]
  },
  {
   "cell_type": "code",
   "execution_count": 103,
   "metadata": {},
   "outputs": [
    {
     "data": {
      "text/plain": [
       "[[1, 2], [1, 3], [1, 4], [1, 5], [1, 6], [2, 3], [2, 4], [3, 4], [5, 6]]"
      ]
     },
     "execution_count": 103,
     "metadata": {},
     "output_type": "execute_result"
    }
   ],
   "source": [
    "K.ThresholdAbove(\"weight\", 2)\n",
    "K.GetMaxSimplices()"
   ]
  },
  {
   "cell_type": "code",
   "execution_count": 104,
   "metadata": {},
   "outputs": [],
   "source": [
    "def inverse_weight(a):\n",
    "    return -(len(a) - 1)\n",
    "K = simpl.SimplicialComplex()\n",
    "K.AddFunction(\"inverse_weight\", inverse_weight)\n",
    "K.AddSimplex([1, 2, 3, 4])\n",
    "K.AddSimplex([1, 5, 6])"
   ]
  },
  {
   "cell_type": "code",
   "execution_count": 105,
   "metadata": {},
   "outputs": [
    {
     "data": {
      "text/plain": [
       "[[1, 2, 3], [1, 2, 4], [1, 3, 4], [1, 5, 6], [2, 3, 4]]"
      ]
     },
     "execution_count": 105,
     "metadata": {},
     "output_type": "execute_result"
    }
   ],
   "source": [
    "K.ThresholdBelow(\"inverse_weight\", -3)\n",
    "K.GetMaxSimplices()"
   ]
  },
  {
   "cell_type": "code",
   "execution_count": 106,
   "metadata": {},
   "outputs": [
    {
     "data": {
      "text/plain": [
       "[[1, 2], [1, 3], [1, 4], [1, 5], [1, 6], [2, 3], [2, 4], [3, 4], [5, 6]]"
      ]
     },
     "execution_count": 106,
     "metadata": {},
     "output_type": "execute_result"
    }
   ],
   "source": [
    "K.ThresholdBelow(\"inverse_weight\", -2)\n",
    "K.GetMaxSimplices()"
   ]
  },
  {
   "cell_type": "code",
   "execution_count": 107,
   "metadata": {},
   "outputs": [],
   "source": [
    "def bad3(a):\n",
    "    if 3 in a:\n",
    "        return 10**9\n",
    "    return -10**9"
   ]
  },
  {
   "cell_type": "code",
   "execution_count": 108,
   "metadata": {},
   "outputs": [],
   "source": [
    "K.Clear()\n",
    "K.AddFunction(\"bad3\", bad3)\n",
    "K.AddFunction(\"weight\", weight)\n",
    "K.AddSimplex([1, 2, 3, 4])\n",
    "K.AddSimplex([1, 5, 6])"
   ]
  },
  {
   "cell_type": "code",
   "execution_count": 109,
   "metadata": {},
   "outputs": [
    {
     "data": {
      "text/plain": [
       "[[1000000000.0, 2.0],\n",
       " [-1000000000.0, 2.0],\n",
       " [1000000000.0, 2.0],\n",
       " [-1000000000.0, 2.0],\n",
       " [1000000000.0, 2.0]]"
      ]
     },
     "execution_count": 109,
     "metadata": {},
     "output_type": "execute_result"
    }
   ],
   "source": [
    "K.FeaturesMatrix(2)"
   ]
  },
  {
   "cell_type": "code",
   "execution_count": 110,
   "metadata": {},
   "outputs": [
    {
     "data": {
      "text/plain": [
       "[[1, 2, 4], [1, 5, 6]]"
      ]
     },
     "execution_count": 110,
     "metadata": {},
     "output_type": "execute_result"
    }
   ],
   "source": [
    "K.ThresholdAbove(\"bad3\", 5)\n",
    "K.GetMaxSimplices()"
   ]
  },
  {
   "cell_type": "markdown",
   "metadata": {},
   "source": [
    "Dowker complex"
   ]
  },
  {
   "cell_type": "code",
   "execution_count": 111,
   "metadata": {},
   "outputs": [
    {
     "data": {
      "text/plain": [
       "[[0, 2]]"
      ]
     },
     "execution_count": 111,
     "metadata": {},
     "output_type": "execute_result"
    }
   ],
   "source": [
    "K.Clear()\n",
    "K.BuildFromDowkerComplex([[1, 0, 0], [1, 0, 1], [0, 0, 1]], False)\n",
    "K.GetMaxSimplices()"
   ]
  },
  {
   "cell_type": "code",
   "execution_count": 112,
   "metadata": {},
   "outputs": [
    {
     "data": {
      "text/plain": [
       "[[0, 1], [1, 2]]"
      ]
     },
     "execution_count": 112,
     "metadata": {},
     "output_type": "execute_result"
    }
   ],
   "source": [
    "K.BuildFromDowkerComplex([[1, 0, 0], [1, 0, 1], [0, 0, 1]], True)\n",
    "K.GetMaxSimplices()"
   ]
  },
  {
   "cell_type": "code",
   "execution_count": 113,
   "metadata": {},
   "outputs": [
    {
     "data": {
      "text/plain": [
       "[[1, 2, 3], [4, 13]]"
      ]
     },
     "execution_count": 113,
     "metadata": {},
     "output_type": "execute_result"
    }
   ],
   "source": [
    "H = simpl.HyperGraph()\n",
    "H.AddEdge([1, 2, 3])\n",
    "H.AddEdge([13, 4])\n",
    "H.GetEdges()"
   ]
  },
  {
   "cell_type": "code",
   "execution_count": 114,
   "metadata": {},
   "outputs": [],
   "source": [
    "K.Clear()"
   ]
  },
  {
   "cell_type": "code",
   "execution_count": null,
   "metadata": {},
   "outputs": [],
   "source": []
  }
 ],
 "metadata": {
  "kernelspec": {
   "display_name": "Python 3",
   "language": "python",
   "name": "python3"
  },
  "language_info": {
   "codemirror_mode": {
    "name": "ipython",
    "version": 3
   },
   "file_extension": ".py",
   "mimetype": "text/x-python",
   "name": "python",
   "nbconvert_exporter": "python",
   "pygments_lexer": "ipython3",
   "version": "3.12.2"
  }
 },
 "nbformat": 4,
 "nbformat_minor": 2
}
