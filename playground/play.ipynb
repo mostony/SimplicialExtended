{
 "cells": [
  {
   "cell_type": "code",
   "execution_count": 30,
   "metadata": {},
   "outputs": [
    {
     "name": "stdout",
     "output_type": "stream",
     "text": [
      "Example of library!\n"
     ]
    }
   ],
   "source": [
    "print('Example of library!')"
   ]
  },
  {
   "cell_type": "code",
   "execution_count": 31,
   "metadata": {},
   "outputs": [],
   "source": [
    "# should run after build\n",
    "import sys\n",
    "sys.path.append('../build')"
   ]
  },
  {
   "cell_type": "code",
   "execution_count": 32,
   "metadata": {},
   "outputs": [],
   "source": [
    "import simpl"
   ]
  },
  {
   "cell_type": "code",
   "execution_count": 33,
   "metadata": {},
   "outputs": [],
   "source": [
    "K = simpl.SimplicialComplex()"
   ]
  },
  {
   "cell_type": "code",
   "execution_count": 34,
   "metadata": {},
   "outputs": [],
   "source": [
    "K.AddComplex([1, 2, 3])\n",
    "K.AddComplex([3, 4])\n",
    "K.AddComplex([4, 5, 6])\n",
    "K.AddComplex([4, 5, 7])\n",
    "K.AddComplex([6, 7])\n",
    "K.AddComplex([2, 7])"
   ]
  },
  {
   "cell_type": "code",
   "execution_count": 35,
   "metadata": {},
   "outputs": [
    {
     "data": {
      "text/plain": [
       "[[1, 2, 3], [2, 7], [3, 4], [4, 5, 6], [4, 5, 7], [6, 7]]"
      ]
     },
     "execution_count": 35,
     "metadata": {},
     "output_type": "execute_result"
    }
   ],
   "source": [
    "K.GetMaxSimplices()"
   ]
  },
  {
   "cell_type": "code",
   "execution_count": 36,
   "metadata": {},
   "outputs": [],
   "source": [
    "K.RemoveComplex([1, 2])"
   ]
  },
  {
   "cell_type": "code",
   "execution_count": 37,
   "metadata": {},
   "outputs": [
    {
     "data": {
      "text/plain": [
       "[[1, 3], [2, 3], [2, 7], [3, 4], [4, 5, 6], [4, 5, 7], [6, 7]]"
      ]
     },
     "execution_count": 37,
     "metadata": {},
     "output_type": "execute_result"
    }
   ],
   "source": [
    "K.GetMaxSimplices()"
   ]
  },
  {
   "cell_type": "code",
   "execution_count": 38,
   "metadata": {},
   "outputs": [
    {
     "data": {
      "text/plain": [
       "1"
      ]
     },
     "execution_count": 38,
     "metadata": {},
     "output_type": "execute_result"
    }
   ],
   "source": [
    "K.BettiNumber(0)"
   ]
  },
  {
   "cell_type": "code",
   "execution_count": 39,
   "metadata": {},
   "outputs": [
    {
     "data": {
      "text/plain": [
       "2"
      ]
     },
     "execution_count": 39,
     "metadata": {},
     "output_type": "execute_result"
    }
   ],
   "source": [
    "K.BettiNumber(1)"
   ]
  },
  {
   "cell_type": "code",
   "execution_count": 40,
   "metadata": {},
   "outputs": [
    {
     "data": {
      "text/plain": [
       "0"
      ]
     },
     "execution_count": 40,
     "metadata": {},
     "output_type": "execute_result"
    }
   ],
   "source": [
    "K.BettiNumber(2)"
   ]
  },
  {
   "cell_type": "code",
   "execution_count": 41,
   "metadata": {},
   "outputs": [],
   "source": [
    "comb = simpl.CombinatorialComplex()\n",
    "\n",
    "comb.Build([[1], [2], [3], [4], [1, 2], [1, 4], [1, 2, 3], [2, 3, 4]])"
   ]
  },
  {
   "cell_type": "code",
   "execution_count": 42,
   "metadata": {},
   "outputs": [
    {
     "name": "stdout",
     "output_type": "stream",
     "text": [
      "[[1, 2], [1, 4]]\n",
      "[[1, 2, 3]]\n",
      "[]\n",
      "2\n",
      "1\n",
      "0\n"
     ]
    }
   ],
   "source": [
    "print(comb.Incidence([1], 1))\n",
    "print(comb.Incidence([1], 2))\n",
    "print(comb.Incidence([1], 3))\n",
    "\n",
    "print(comb.IncidenceDegree([1], 1))\n",
    "print(comb.IncidenceDegree([1], 2))\n",
    "print(comb.IncidenceDegree([1], 3))"
   ]
  },
  {
   "cell_type": "code",
   "execution_count": 43,
   "metadata": {},
   "outputs": [
    {
     "name": "stdout",
     "output_type": "stream",
     "text": [
      "[[1], [2], [4]]\n",
      "[[1], [3], [2]]\n",
      "[]\n",
      "3\n",
      "3\n",
      "0\n"
     ]
    }
   ],
   "source": [
    "print(comb.Adjacency([1], 1))\n",
    "print(comb.Adjacency([1], 2))\n",
    "print(comb.Adjacency([1], 3))\n",
    "\n",
    "print(comb.Degree([1], 1))\n",
    "print(comb.Degree([1], 2))\n",
    "print(comb.Degree([1], 3))"
   ]
  },
  {
   "cell_type": "code",
   "execution_count": 44,
   "metadata": {},
   "outputs": [],
   "source": [
    "graph = simpl.Graph()"
   ]
  },
  {
   "cell_type": "code",
   "execution_count": 45,
   "metadata": {},
   "outputs": [],
   "source": [
    "graph.AddEdge(1, 2)\n",
    "graph.AddEdge(1, 3)\n",
    "graph.AddEdge(2, 3)\n",
    "graph.AddEdge(4, 5)"
   ]
  },
  {
   "cell_type": "code",
   "execution_count": 46,
   "metadata": {},
   "outputs": [
    {
     "data": {
      "text/plain": [
       "2"
      ]
     },
     "execution_count": 46,
     "metadata": {},
     "output_type": "execute_result"
    }
   ],
   "source": [
    "# number of connected components -- |C|\n",
    "graph.BettiNumber(0)"
   ]
  },
  {
   "cell_type": "code",
   "execution_count": 47,
   "metadata": {},
   "outputs": [
    {
     "data": {
      "text/plain": [
       "1"
      ]
     },
     "execution_count": 47,
     "metadata": {},
     "output_type": "execute_result"
    }
   ],
   "source": [
    "# |E| - |V| + |C|, where E - edges, V -- vertices\n",
    "graph.BettiNumber(1)"
   ]
  },
  {
   "cell_type": "code",
   "execution_count": 48,
   "metadata": {},
   "outputs": [
    {
     "data": {
      "text/plain": [
       "0"
      ]
     },
     "execution_count": 48,
     "metadata": {},
     "output_type": "execute_result"
    }
   ],
   "source": [
    "graph.BettiNumber(2)"
   ]
  }
 ],
 "metadata": {
  "kernelspec": {
   "display_name": "Python 3",
   "language": "python",
   "name": "python3"
  },
  "language_info": {
   "codemirror_mode": {
    "name": "ipython",
    "version": 3
   },
   "file_extension": ".py",
   "mimetype": "text/x-python",
   "name": "python",
   "nbconvert_exporter": "python",
   "pygments_lexer": "ipython3",
   "version": "3.12.2"
  }
 },
 "nbformat": 4,
 "nbformat_minor": 2
}
